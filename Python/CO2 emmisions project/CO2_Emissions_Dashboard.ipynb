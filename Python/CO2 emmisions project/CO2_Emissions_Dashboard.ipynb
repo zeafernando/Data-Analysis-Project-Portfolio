{
 "cells": [
  {
   "cell_type": "code",
   "execution_count": 32,
   "id": "0aa72760-34c2-4021-bee7-8bac49c5432a",
   "metadata": {},
   "outputs": [],
   "source": [
    "#Importing libraries\n",
    "import warnings\n",
    "warnings.simplefilter(action='ignore', category=FutureWarning)\n",
    "import pandas as pd\n",
    "import numpy as np\n",
    "import panel as pn\n",
    "pn.extension('tabulator')\n",
    "import hvplot.pandas\n"
   ]
  },
  {
   "cell_type": "markdown",
   "id": "020226d5-915e-4256-9d54-2a78441ab8d3",
   "metadata": {},
   "source": [
    "**0. Data reading and cleaning**"
   ]
  },
  {
   "cell_type": "code",
   "execution_count": 33,
   "id": "86a6998b-3d47-4f02-b633-5a87bc8ba6a2",
   "metadata": {},
   "outputs": [
    {
     "data": {
      "text/html": [
       "<div>\n",
       "<style scoped>\n",
       "    .dataframe tbody tr th:only-of-type {\n",
       "        vertical-align: middle;\n",
       "    }\n",
       "\n",
       "    .dataframe tbody tr th {\n",
       "        vertical-align: top;\n",
       "    }\n",
       "\n",
       "    .dataframe thead th {\n",
       "        text-align: right;\n",
       "    }\n",
       "</style>\n",
       "<table border=\"1\" class=\"dataframe\">\n",
       "  <thead>\n",
       "    <tr style=\"text-align: right;\">\n",
       "      <th></th>\n",
       "      <th>Country Name</th>\n",
       "      <th>2000</th>\n",
       "      <th>2001</th>\n",
       "      <th>2002</th>\n",
       "      <th>2003</th>\n",
       "      <th>2004</th>\n",
       "      <th>2005</th>\n",
       "      <th>2006</th>\n",
       "      <th>2007</th>\n",
       "      <th>2008</th>\n",
       "      <th>2009</th>\n",
       "      <th>2010</th>\n",
       "      <th>2011</th>\n",
       "      <th>2012</th>\n",
       "      <th>2013</th>\n",
       "      <th>2014</th>\n",
       "      <th>2015</th>\n",
       "      <th>2016</th>\n",
       "      <th>2017</th>\n",
       "      <th>2018</th>\n",
       "    </tr>\n",
       "  </thead>\n",
       "  <tbody>\n",
       "    <tr>\n",
       "      <th>0</th>\n",
       "      <td>Aruba</td>\n",
       "      <td>NaN</td>\n",
       "      <td>NaN</td>\n",
       "      <td>NaN</td>\n",
       "      <td>NaN</td>\n",
       "      <td>NaN</td>\n",
       "      <td>NaN</td>\n",
       "      <td>NaN</td>\n",
       "      <td>NaN</td>\n",
       "      <td>NaN</td>\n",
       "      <td>NaN</td>\n",
       "      <td>NaN</td>\n",
       "      <td>NaN</td>\n",
       "      <td>NaN</td>\n",
       "      <td>NaN</td>\n",
       "      <td>NaN</td>\n",
       "      <td>NaN</td>\n",
       "      <td>NaN</td>\n",
       "      <td>NaN</td>\n",
       "      <td>NaN</td>\n",
       "    </tr>\n",
       "    <tr>\n",
       "      <th>1</th>\n",
       "      <td>Africa Eastern and Southern</td>\n",
       "      <td>0.900399</td>\n",
       "      <td>0.971981</td>\n",
       "      <td>0.975749</td>\n",
       "      <td>1.009963</td>\n",
       "      <td>1.057182</td>\n",
       "      <td>1.032998</td>\n",
       "      <td>1.023646</td>\n",
       "      <td>1.045968</td>\n",
       "      <td>1.086449</td>\n",
       "      <td>1.021954</td>\n",
       "      <td>1.048876</td>\n",
       "      <td>1.005338</td>\n",
       "      <td>1.021646</td>\n",
       "      <td>1.031833</td>\n",
       "      <td>1.041145</td>\n",
       "      <td>0.987393</td>\n",
       "      <td>0.971016</td>\n",
       "      <td>0.959978</td>\n",
       "      <td>0.933541</td>\n",
       "    </tr>\n",
       "    <tr>\n",
       "      <th>2</th>\n",
       "      <td>Afghanistan</td>\n",
       "      <td>0.037055</td>\n",
       "      <td>0.037488</td>\n",
       "      <td>0.048671</td>\n",
       "      <td>0.057008</td>\n",
       "      <td>0.045700</td>\n",
       "      <td>0.063927</td>\n",
       "      <td>0.073393</td>\n",
       "      <td>0.087083</td>\n",
       "      <td>0.158356</td>\n",
       "      <td>0.211306</td>\n",
       "      <td>0.297065</td>\n",
       "      <td>0.407074</td>\n",
       "      <td>0.335351</td>\n",
       "      <td>0.263716</td>\n",
       "      <td>0.234037</td>\n",
       "      <td>0.232176</td>\n",
       "      <td>0.208857</td>\n",
       "      <td>0.203328</td>\n",
       "      <td>0.200151</td>\n",
       "    </tr>\n",
       "    <tr>\n",
       "      <th>3</th>\n",
       "      <td>Africa Western and Central</td>\n",
       "      <td>0.447244</td>\n",
       "      <td>0.474140</td>\n",
       "      <td>0.474875</td>\n",
       "      <td>0.474592</td>\n",
       "      <td>0.474318</td>\n",
       "      <td>0.509458</td>\n",
       "      <td>0.487953</td>\n",
       "      <td>0.475148</td>\n",
       "      <td>0.475025</td>\n",
       "      <td>0.426770</td>\n",
       "      <td>0.472819</td>\n",
       "      <td>0.497023</td>\n",
       "      <td>0.490867</td>\n",
       "      <td>0.504655</td>\n",
       "      <td>0.507671</td>\n",
       "      <td>0.480743</td>\n",
       "      <td>0.472959</td>\n",
       "      <td>0.476438</td>\n",
       "      <td>0.515544</td>\n",
       "    </tr>\n",
       "    <tr>\n",
       "      <th>4</th>\n",
       "      <td>Angola</td>\n",
       "      <td>0.754476</td>\n",
       "      <td>0.761843</td>\n",
       "      <td>0.777423</td>\n",
       "      <td>0.993848</td>\n",
       "      <td>1.028354</td>\n",
       "      <td>0.937037</td>\n",
       "      <td>1.009434</td>\n",
       "      <td>1.123635</td>\n",
       "      <td>1.155993</td>\n",
       "      <td>1.205902</td>\n",
       "      <td>1.221515</td>\n",
       "      <td>1.216317</td>\n",
       "      <td>1.204799</td>\n",
       "      <td>1.261542</td>\n",
       "      <td>1.285365</td>\n",
       "      <td>1.260921</td>\n",
       "      <td>1.227703</td>\n",
       "      <td>1.034317</td>\n",
       "      <td>0.887380</td>\n",
       "    </tr>\n",
       "  </tbody>\n",
       "</table>\n",
       "</div>"
      ],
      "text/plain": [
       "                  Country Name      2000      2001      2002      2003  \\\n",
       "0                        Aruba       NaN       NaN       NaN       NaN   \n",
       "1  Africa Eastern and Southern  0.900399  0.971981  0.975749  1.009963   \n",
       "2                  Afghanistan  0.037055  0.037488  0.048671  0.057008   \n",
       "3   Africa Western and Central  0.447244  0.474140  0.474875  0.474592   \n",
       "4                       Angola  0.754476  0.761843  0.777423  0.993848   \n",
       "\n",
       "       2004      2005      2006      2007      2008      2009      2010  \\\n",
       "0       NaN       NaN       NaN       NaN       NaN       NaN       NaN   \n",
       "1  1.057182  1.032998  1.023646  1.045968  1.086449  1.021954  1.048876   \n",
       "2  0.045700  0.063927  0.073393  0.087083  0.158356  0.211306  0.297065   \n",
       "3  0.474318  0.509458  0.487953  0.475148  0.475025  0.426770  0.472819   \n",
       "4  1.028354  0.937037  1.009434  1.123635  1.155993  1.205902  1.221515   \n",
       "\n",
       "       2011      2012      2013      2014      2015      2016      2017  \\\n",
       "0       NaN       NaN       NaN       NaN       NaN       NaN       NaN   \n",
       "1  1.005338  1.021646  1.031833  1.041145  0.987393  0.971016  0.959978   \n",
       "2  0.407074  0.335351  0.263716  0.234037  0.232176  0.208857  0.203328   \n",
       "3  0.497023  0.490867  0.504655  0.507671  0.480743  0.472959  0.476438   \n",
       "4  1.216317  1.204799  1.261542  1.285365  1.260921  1.227703  1.034317   \n",
       "\n",
       "       2018  \n",
       "0       NaN  \n",
       "1  0.933541  \n",
       "2  0.200151  \n",
       "3  0.515544  \n",
       "4  0.887380  "
      ]
     },
     "execution_count": 33,
     "metadata": {},
     "output_type": "execute_result"
    }
   ],
   "source": [
    "#Reading the dataset\n",
    "df = pd.read_csv('CO2_Emissions_1960-2018.csv')\n",
    "\n",
    "#Defining the countries\n",
    "country = df[df.columns[0]]\n",
    "\n",
    "#Selecting the values from 2000 to 2018\n",
    "years = df[df.columns[41:,]]\n",
    "\n",
    "#Making a dataframe with emissions by country since 2000 to 2018\n",
    "df_2 =  pd.concat([country, years], axis=1)\n",
    "df_2.head()"
   ]
  },
  {
   "cell_type": "code",
   "execution_count": 34,
   "id": "9254f436-3956-432a-9b0e-5a1c8442adad",
   "metadata": {},
   "outputs": [
    {
     "name": "stdout",
     "output_type": "stream",
     "text": [
      "<class 'pandas.core.frame.DataFrame'>\n",
      "RangeIndex: 266 entries, 0 to 265\n",
      "Data columns (total 20 columns):\n",
      " #   Column        Non-Null Count  Dtype  \n",
      "---  ------        --------------  -----  \n",
      " 0   Country Name  266 non-null    object \n",
      " 1   2000          239 non-null    float64\n",
      " 2   2001          239 non-null    float64\n",
      " 3   2002          239 non-null    float64\n",
      " 4   2003          239 non-null    float64\n",
      " 5   2004          239 non-null    float64\n",
      " 6   2005          239 non-null    float64\n",
      " 7   2006          239 non-null    float64\n",
      " 8   2007          239 non-null    float64\n",
      " 9   2008          239 non-null    float64\n",
      " 10  2009          239 non-null    float64\n",
      " 11  2010          239 non-null    float64\n",
      " 12  2011          239 non-null    float64\n",
      " 13  2012          239 non-null    float64\n",
      " 14  2013          239 non-null    float64\n",
      " 15  2014          239 non-null    float64\n",
      " 16  2015          239 non-null    float64\n",
      " 17  2016          239 non-null    float64\n",
      " 18  2017          239 non-null    float64\n",
      " 19  2018          239 non-null    float64\n",
      "dtypes: float64(19), object(1)\n",
      "memory usage: 41.7+ KB\n"
     ]
    }
   ],
   "source": [
    "#Checking the dataframe to look for countries with NaN Values\n",
    "df_2.info()\n",
    "\n",
    "#Countries without CO2 emissions information since 2000 to 2018\n",
    "countries_nan_value = df_2[df_2.isna().any(axis=1)]\n",
    "countries_no_info = countries_nan_value[countries_nan_value.columns[0]].tolist()"
   ]
  },
  {
   "cell_type": "code",
   "execution_count": 35,
   "id": "720ca148-aa46-46a6-b979-8afda73acf58",
   "metadata": {},
   "outputs": [
    {
     "name": "stdout",
     "output_type": "stream",
     "text": [
      "<class 'pandas.core.frame.DataFrame'>\n",
      "Int64Index: 239 entries, 1 to 265\n",
      "Data columns (total 20 columns):\n",
      " #   Column        Non-Null Count  Dtype  \n",
      "---  ------        --------------  -----  \n",
      " 0   Country Name  239 non-null    object \n",
      " 1   2000          239 non-null    float64\n",
      " 2   2001          239 non-null    float64\n",
      " 3   2002          239 non-null    float64\n",
      " 4   2003          239 non-null    float64\n",
      " 5   2004          239 non-null    float64\n",
      " 6   2005          239 non-null    float64\n",
      " 7   2006          239 non-null    float64\n",
      " 8   2007          239 non-null    float64\n",
      " 9   2008          239 non-null    float64\n",
      " 10  2009          239 non-null    float64\n",
      " 11  2010          239 non-null    float64\n",
      " 12  2011          239 non-null    float64\n",
      " 13  2012          239 non-null    float64\n",
      " 14  2013          239 non-null    float64\n",
      " 15  2014          239 non-null    float64\n",
      " 16  2015          239 non-null    float64\n",
      " 17  2016          239 non-null    float64\n",
      " 18  2017          239 non-null    float64\n",
      " 19  2018          239 non-null    float64\n",
      "dtypes: float64(19), object(1)\n",
      "memory usage: 39.2+ KB\n"
     ]
    }
   ],
   "source": [
    "#Cleaning the dataframe\n",
    "clean_df = df_2.dropna()\n",
    "clean_df.info()"
   ]
  },
  {
   "cell_type": "code",
   "execution_count": 36,
   "id": "b59852a5-a63c-41cb-a8d6-9b1b128bf062",
   "metadata": {},
   "outputs": [
    {
     "data": {
      "text/html": [
       "<div>\n",
       "<style scoped>\n",
       "    .dataframe tbody tr th:only-of-type {\n",
       "        vertical-align: middle;\n",
       "    }\n",
       "\n",
       "    .dataframe tbody tr th {\n",
       "        vertical-align: top;\n",
       "    }\n",
       "\n",
       "    .dataframe thead th {\n",
       "        text-align: right;\n",
       "    }\n",
       "</style>\n",
       "<table border=\"1\" class=\"dataframe\">\n",
       "  <thead>\n",
       "    <tr style=\"text-align: right;\">\n",
       "      <th></th>\n",
       "      <th>Country</th>\n",
       "      <th>Year</th>\n",
       "      <th>CO2</th>\n",
       "    </tr>\n",
       "  </thead>\n",
       "  <tbody>\n",
       "    <tr>\n",
       "      <th>0</th>\n",
       "      <td>Africa Eastern and Southern</td>\n",
       "      <td>2000.0</td>\n",
       "      <td>0.900399</td>\n",
       "    </tr>\n",
       "    <tr>\n",
       "      <th>0</th>\n",
       "      <td>Africa Eastern and Southern</td>\n",
       "      <td>2001.0</td>\n",
       "      <td>0.971981</td>\n",
       "    </tr>\n",
       "    <tr>\n",
       "      <th>0</th>\n",
       "      <td>Africa Eastern and Southern</td>\n",
       "      <td>2002.0</td>\n",
       "      <td>0.975749</td>\n",
       "    </tr>\n",
       "    <tr>\n",
       "      <th>0</th>\n",
       "      <td>Africa Eastern and Southern</td>\n",
       "      <td>2003.0</td>\n",
       "      <td>1.009963</td>\n",
       "    </tr>\n",
       "    <tr>\n",
       "      <th>0</th>\n",
       "      <td>Africa Eastern and Southern</td>\n",
       "      <td>2004.0</td>\n",
       "      <td>1.057182</td>\n",
       "    </tr>\n",
       "  </tbody>\n",
       "</table>\n",
       "</div>"
      ],
      "text/plain": [
       "                       Country    Year       CO2\n",
       "0  Africa Eastern and Southern  2000.0  0.900399\n",
       "0  Africa Eastern and Southern  2001.0  0.971981\n",
       "0  Africa Eastern and Southern  2002.0  0.975749\n",
       "0  Africa Eastern and Southern  2003.0  1.009963\n",
       "0  Africa Eastern and Southern  2004.0  1.057182"
      ]
     },
     "execution_count": 36,
     "metadata": {},
     "output_type": "execute_result"
    }
   ],
   "source": [
    "#Transforming the dataset to the format Country, Year, CO2\n",
    "Year_list = years.columns.tolist()\n",
    "countries = clean_df[clean_df.columns[0]].tolist()\n",
    "data = pd.DataFrame({'Country': [], 'Year': [], 'CO2': []})\n",
    "for i in range(0,len(countries)):\n",
    "    for i_y in range(0,len(Year_list)):\n",
    "        data_i = pd.DataFrame({'Country': [countries[i]], 'Year': [int(Year_list[i_y])], \n",
    "                               'CO2': [clean_df[clean_df['Country Name']==countries[i]].iloc[0][i_y+1]]})\n",
    "        data = data.append(data_i)\n",
    "data.head()"
   ]
  },
  {
   "cell_type": "markdown",
   "id": "efb24487-5b23-42b1-bf58-9e6ea10481bd",
   "metadata": {},
   "source": [
    "**1. CO2 emissions by country over the years**"
   ]
  },
  {
   "cell_type": "code",
   "execution_count": 37,
   "id": "d3f4301f-6e04-4067-aa32-00d8eda19148",
   "metadata": {},
   "outputs": [],
   "source": [
    "#Making dataframe interactive\n",
    "idf = data.interactive()"
   ]
  },
  {
   "cell_type": "code",
   "execution_count": 38,
   "id": "02f4b8f1-26a0-471b-aaf5-79289f0ba5e1",
   "metadata": {},
   "outputs": [
    {
     "data": {},
     "metadata": {},
     "output_type": "display_data"
    },
    {
     "data": {
      "application/vnd.holoviews_exec.v0+json": "",
      "text/html": [
       "<div id='1920'>\n",
       "  <div class=\"bk-root\" id=\"168695bd-afef-4fd4-90ba-bba9771b7b53\" data-root-id=\"1920\"></div>\n",
       "</div>\n",
       "<script type=\"application/javascript\">(function(root) {\n",
       "  function embed_document(root) {\n",
       "    var docs_json = {\"7548298e-918b-4cc6-8844-aebdad935891\":{\"defs\":[{\"extends\":null,\"module\":null,\"name\":\"ReactiveHTML1\",\"overrides\":[],\"properties\":[]},{\"extends\":null,\"module\":null,\"name\":\"FlexBox1\",\"overrides\":[],\"properties\":[{\"default\":\"flex-start\",\"kind\":null,\"name\":\"align_content\"},{\"default\":\"flex-start\",\"kind\":null,\"name\":\"align_items\"},{\"default\":\"row\",\"kind\":null,\"name\":\"flex_direction\"},{\"default\":\"wrap\",\"kind\":null,\"name\":\"flex_wrap\"},{\"default\":\"flex-start\",\"kind\":null,\"name\":\"justify_content\"}]},{\"extends\":null,\"module\":null,\"name\":\"GridStack1\",\"overrides\":[],\"properties\":[{\"default\":\"warn\",\"kind\":null,\"name\":\"mode\"},{\"default\":null,\"kind\":null,\"name\":\"ncols\"},{\"default\":null,\"kind\":null,\"name\":\"nrows\"},{\"default\":true,\"kind\":null,\"name\":\"allow_resize\"},{\"default\":true,\"kind\":null,\"name\":\"allow_drag\"},{\"default\":[],\"kind\":null,\"name\":\"state\"}]},{\"extends\":null,\"module\":null,\"name\":\"click1\",\"overrides\":[],\"properties\":[{\"default\":\"\",\"kind\":null,\"name\":\"terminal_output\"},{\"default\":\"\",\"kind\":null,\"name\":\"debug_name\"},{\"default\":0,\"kind\":null,\"name\":\"clears\"}]},{\"extends\":null,\"module\":null,\"name\":\"NotificationAreaBase1\",\"overrides\":[],\"properties\":[{\"default\":\"bottom-right\",\"kind\":null,\"name\":\"position\"},{\"default\":0,\"kind\":null,\"name\":\"_clear\"}]},{\"extends\":null,\"module\":null,\"name\":\"NotificationArea1\",\"overrides\":[],\"properties\":[{\"default\":[],\"kind\":null,\"name\":\"notifications\"},{\"default\":\"bottom-right\",\"kind\":null,\"name\":\"position\"},{\"default\":0,\"kind\":null,\"name\":\"_clear\"},{\"default\":[{\"background\":\"#ffc107\",\"icon\":{\"className\":\"fas fa-exclamation-triangle\",\"color\":\"white\",\"tagName\":\"i\"},\"type\":\"warning\"},{\"background\":\"#007bff\",\"icon\":{\"className\":\"fas fa-info-circle\",\"color\":\"white\",\"tagName\":\"i\"},\"type\":\"info\"}],\"kind\":null,\"name\":\"types\"}]},{\"extends\":null,\"module\":null,\"name\":\"Notification\",\"overrides\":[],\"properties\":[{\"default\":null,\"kind\":null,\"name\":\"background\"},{\"default\":3000,\"kind\":null,\"name\":\"duration\"},{\"default\":null,\"kind\":null,\"name\":\"icon\"},{\"default\":\"\",\"kind\":null,\"name\":\"message\"},{\"default\":null,\"kind\":null,\"name\":\"notification_type\"},{\"default\":false,\"kind\":null,\"name\":\"_destroyed\"}]},{\"extends\":null,\"module\":null,\"name\":\"TemplateActions1\",\"overrides\":[],\"properties\":[{\"default\":0,\"kind\":null,\"name\":\"open_modal\"},{\"default\":0,\"kind\":null,\"name\":\"close_modal\"}]},{\"extends\":null,\"module\":null,\"name\":\"MaterialTemplateActions1\",\"overrides\":[],\"properties\":[{\"default\":0,\"kind\":null,\"name\":\"open_modal\"},{\"default\":0,\"kind\":null,\"name\":\"close_modal\"}]}],\"roots\":{\"references\":[{\"attributes\":{\"end\":2018,\"margin\":[5,10,5,10],\"start\":2000,\"title\":\"Year slider\",\"value\":2000},\"id\":\"1920\",\"type\":\"Slider\"},{\"attributes\":{\"client_comm_id\":\"566aa565d2f04847b190f90756e18a36\",\"comm_id\":\"f238a8b7adf9443f9a4f900697e93e23\",\"plot_id\":\"1920\"},\"id\":\"1921\",\"type\":\"panel.models.comm_manager.CommManager\"}],\"root_ids\":[\"1920\",\"1921\"]},\"title\":\"Bokeh Application\",\"version\":\"2.4.3\"}};\n",
       "    var render_items = [{\"docid\":\"7548298e-918b-4cc6-8844-aebdad935891\",\"root_ids\":[\"1920\"],\"roots\":{\"1920\":\"168695bd-afef-4fd4-90ba-bba9771b7b53\"}}];\n",
       "    root.Bokeh.embed.embed_items_notebook(docs_json, render_items);\n",
       "    for (const render_item of render_items) {\n",
       "      for (const root_id of render_item.root_ids) {\n",
       "\tconst id_el = document.getElementById(root_id)\n",
       "\tif (id_el.children.length && (id_el.children[0].className === 'bk-root')) {\n",
       "\t  const root_el = id_el.children[0]\n",
       "\t  root_el.id = root_el.id + '-rendered'\n",
       "\t}\n",
       "      }\n",
       "    }\n",
       "  }\n",
       "  if (root.Bokeh !== undefined && root.Bokeh.Panel !== undefined && ( root['Tabulator'] !== undefined) && ( root['Plotly'] !== undefined) && ( root['Tabulator'] !== undefined) && ( root['Plotly'] !== undefined) && ( root['Tabulator'] !== undefined)) {\n",
       "    embed_document(root);\n",
       "  } else {\n",
       "    var attempts = 0;\n",
       "    var timer = setInterval(function(root) {\n",
       "      if (root.Bokeh !== undefined && root.Bokeh.Panel !== undefined && (root['Tabulator'] !== undefined) && (root['Plotly'] !== undefined) && (root['Tabulator'] !== undefined) && (root['Plotly'] !== undefined) && (root['Tabulator'] !== undefined)) {\n",
       "        clearInterval(timer);\n",
       "        embed_document(root);\n",
       "      } else if (document.readyState == \"complete\") {\n",
       "        attempts++;\n",
       "        if (attempts > 200) {\n",
       "          clearInterval(timer);\n",
       "          console.log(\"Bokeh: ERROR: Unable to run BokehJS code because BokehJS library is missing\");\n",
       "        }\n",
       "      }\n",
       "    }, 25, root)\n",
       "  }\n",
       "})(window);</script>"
      ],
      "text/plain": [
       "IntSlider(end=2018, name='Year slider', start=2000, value=2000)"
      ]
     },
     "execution_count": 38,
     "metadata": {
      "application/vnd.holoviews_exec.v0+json": {
       "id": "1920"
      }
     },
     "output_type": "execute_result"
    }
   ],
   "source": [
    "#Define panel widget\n",
    "year_slider = pn.widgets.IntSlider(name='Year slider', start=2000, end=2018, step=1, value=2000)\n",
    "year_slider"
   ]
  },
  {
   "cell_type": "code",
   "execution_count": 39,
   "id": "e9d5db80-d624-476a-91c6-1b5bf6ec607b",
   "metadata": {},
   "outputs": [
    {
     "data": {},
     "metadata": {},
     "output_type": "display_data"
    },
    {
     "data": {
      "application/vnd.holoviews_exec.v0+json": "",
      "text/html": [
       "<div id='1922'>\n",
       "  <div class=\"bk-root\" id=\"af850329-a302-4b1b-8bd6-3dff9ec231eb\" data-root-id=\"1922\"></div>\n",
       "</div>\n",
       "<script type=\"application/javascript\">(function(root) {\n",
       "  function embed_document(root) {\n",
       "    var docs_json = {\"e587ee07-330a-4f3b-9458-f726a7d93a48\":{\"defs\":[{\"extends\":null,\"module\":null,\"name\":\"ReactiveHTML1\",\"overrides\":[],\"properties\":[]},{\"extends\":null,\"module\":null,\"name\":\"FlexBox1\",\"overrides\":[],\"properties\":[{\"default\":\"flex-start\",\"kind\":null,\"name\":\"align_content\"},{\"default\":\"flex-start\",\"kind\":null,\"name\":\"align_items\"},{\"default\":\"row\",\"kind\":null,\"name\":\"flex_direction\"},{\"default\":\"wrap\",\"kind\":null,\"name\":\"flex_wrap\"},{\"default\":\"flex-start\",\"kind\":null,\"name\":\"justify_content\"}]},{\"extends\":null,\"module\":null,\"name\":\"GridStack1\",\"overrides\":[],\"properties\":[{\"default\":\"warn\",\"kind\":null,\"name\":\"mode\"},{\"default\":null,\"kind\":null,\"name\":\"ncols\"},{\"default\":null,\"kind\":null,\"name\":\"nrows\"},{\"default\":true,\"kind\":null,\"name\":\"allow_resize\"},{\"default\":true,\"kind\":null,\"name\":\"allow_drag\"},{\"default\":[],\"kind\":null,\"name\":\"state\"}]},{\"extends\":null,\"module\":null,\"name\":\"click1\",\"overrides\":[],\"properties\":[{\"default\":\"\",\"kind\":null,\"name\":\"terminal_output\"},{\"default\":\"\",\"kind\":null,\"name\":\"debug_name\"},{\"default\":0,\"kind\":null,\"name\":\"clears\"}]},{\"extends\":null,\"module\":null,\"name\":\"NotificationAreaBase1\",\"overrides\":[],\"properties\":[{\"default\":\"bottom-right\",\"kind\":null,\"name\":\"position\"},{\"default\":0,\"kind\":null,\"name\":\"_clear\"}]},{\"extends\":null,\"module\":null,\"name\":\"NotificationArea1\",\"overrides\":[],\"properties\":[{\"default\":[],\"kind\":null,\"name\":\"notifications\"},{\"default\":\"bottom-right\",\"kind\":null,\"name\":\"position\"},{\"default\":0,\"kind\":null,\"name\":\"_clear\"},{\"default\":[{\"background\":\"#ffc107\",\"icon\":{\"className\":\"fas fa-exclamation-triangle\",\"color\":\"white\",\"tagName\":\"i\"},\"type\":\"warning\"},{\"background\":\"#007bff\",\"icon\":{\"className\":\"fas fa-info-circle\",\"color\":\"white\",\"tagName\":\"i\"},\"type\":\"info\"}],\"kind\":null,\"name\":\"types\"}]},{\"extends\":null,\"module\":null,\"name\":\"Notification\",\"overrides\":[],\"properties\":[{\"default\":null,\"kind\":null,\"name\":\"background\"},{\"default\":3000,\"kind\":null,\"name\":\"duration\"},{\"default\":null,\"kind\":null,\"name\":\"icon\"},{\"default\":\"\",\"kind\":null,\"name\":\"message\"},{\"default\":null,\"kind\":null,\"name\":\"notification_type\"},{\"default\":false,\"kind\":null,\"name\":\"_destroyed\"}]},{\"extends\":null,\"module\":null,\"name\":\"TemplateActions1\",\"overrides\":[],\"properties\":[{\"default\":0,\"kind\":null,\"name\":\"open_modal\"},{\"default\":0,\"kind\":null,\"name\":\"close_modal\"}]},{\"extends\":null,\"module\":null,\"name\":\"MaterialTemplateActions1\",\"overrides\":[],\"properties\":[{\"default\":0,\"kind\":null,\"name\":\"open_modal\"},{\"default\":0,\"kind\":null,\"name\":\"close_modal\"}]}],\"roots\":{\"references\":[{\"attributes\":{\"margin\":[5,10,5,10],\"options\":[\"Africa Eastern and Southern\",\"Afghanistan\",\"Africa Western and Central\",\"Angola\",\"Albania\",\"Andorra\",\"Arab World\",\"United Arab Emirates\",\"Argentina\",\"Armenia\",\"Antigua and Barbuda\",\"Australia\",\"Austria\",\"Azerbaijan\",\"Burundi\",\"Belgium\",\"Benin\",\"Burkina Faso\",\"Bangladesh\",\"Bulgaria\",\"Bahrain\",\"Bahamas, The\",\"Bosnia and Herzegovina\",\"Belarus\",\"Belize\",\"Bolivia\",\"Brazil\",\"Barbados\",\"Brunei Darussalam\",\"Bhutan\",\"Botswana\",\"Central African Republic\",\"Canada\",\"Central Europe and the Baltics\",\"Switzerland\",\"Chile\",\"China\",\"Cote d'Ivoire\",\"Cameroon\",\"Congo, Dem. Rep.\",\"Congo, Rep.\",\"Colombia\",\"Comoros\",\"Cabo Verde\",\"Costa Rica\",\"Caribbean small states\",\"Cuba\",\"Cyprus\",\"Czech Republic\",\"Germany\",\"Djibouti\",\"Dominica\",\"Denmark\",\"Dominican Republic\",\"Algeria\",\"East Asia & Pacific (excluding high income)\",\"Early-demographic dividend\",\"East Asia & Pacific\",\"Europe & Central Asia (excluding high income)\",\"Europe & Central Asia\",\"Ecuador\",\"Egypt, Arab Rep.\",\"Euro area\",\"Eritrea\",\"Spain\",\"Estonia\",\"Ethiopia\",\"European Union\",\"Fragile and conflict affected situations\",\"Finland\",\"Fiji\",\"France\",\"Micronesia, Fed. Sts.\",\"Gabon\",\"United Kingdom\",\"Georgia\",\"Ghana\",\"Guinea\",\"Gambia, The\",\"Guinea-Bissau\",\"Equatorial Guinea\",\"Greece\",\"Grenada\",\"Guatemala\",\"Guyana\",\"High income\",\"Honduras\",\"Heavily indebted poor countries (HIPC)\",\"Croatia\",\"Haiti\",\"Hungary\",\"IBRD only\",\"IDA & IBRD total\",\"IDA total\",\"IDA blend\",\"Indonesia\",\"IDA only\",\"India\",\"Ireland\",\"Iran, Islamic Rep.\",\"Iraq\",\"Iceland\",\"Israel\",\"Italy\",\"Jamaica\",\"Jordan\",\"Japan\",\"Kazakhstan\",\"Kenya\",\"Kyrgyz Republic\",\"Cambodia\",\"Kiribati\",\"St. Kitts and Nevis\",\"Korea, Rep.\",\"Kuwait\",\"Latin America & Caribbean (excluding high income)\",\"Lao PDR\",\"Lebanon\",\"Liberia\",\"Libya\",\"St. Lucia\",\"Latin America & Caribbean\",\"Least developed countries: UN classification\",\"Low income\",\"Liechtenstein\",\"Sri Lanka\",\"Lower middle income\",\"Low & middle income\",\"Lesotho\",\"Late-demographic dividend\",\"Lithuania\",\"Luxembourg\",\"Latvia\",\"Morocco\",\"Moldova\",\"Madagascar\",\"Maldives\",\"Middle East & North Africa\",\"Mexico\",\"Marshall Islands\",\"Middle income\",\"North Macedonia\",\"Mali\",\"Malta\",\"Myanmar\",\"Middle East & North Africa (excluding high income)\",\"Montenegro\",\"Mongolia\",\"Mozambique\",\"Mauritania\",\"Mauritius\",\"Malawi\",\"Malaysia\",\"North America\",\"Namibia\",\"Niger\",\"Nigeria\",\"Nicaragua\",\"Netherlands\",\"Norway\",\"Nepal\",\"Nauru\",\"New Zealand\",\"OECD members\",\"Oman\",\"Other small states\",\"Pakistan\",\"Panama\",\"Peru\",\"Philippines\",\"Palau\",\"Papua New Guinea\",\"Poland\",\"Pre-demographic dividend\",\"Korea, Dem. People's Rep.\",\"Portugal\",\"Paraguay\",\"Pacific island small states\",\"Post-demographic dividend\",\"Qatar\",\"Romania\",\"Russian Federation\",\"Rwanda\",\"South Asia\",\"Saudi Arabia\",\"Sudan\",\"Senegal\",\"Singapore\",\"Solomon Islands\",\"Sierra Leone\",\"El Salvador\",\"Somalia\",\"Serbia\",\"Sub-Saharan Africa (excluding high income)\",\"South Sudan\",\"Sub-Saharan Africa\",\"Small states\",\"Sao Tome and Principe\",\"Suriname\",\"Slovak Republic\",\"Slovenia\",\"Sweden\",\"Eswatini\",\"Seychelles\",\"Syrian Arab Republic\",\"Chad\",\"East Asia & Pacific (IDA & IBRD countries)\",\"Europe & Central Asia (IDA & IBRD countries)\",\"Togo\",\"Thailand\",\"Tajikistan\",\"Turkmenistan\",\"Latin America & the Caribbean (IDA & IBRD countries)\",\"Timor-Leste\",\"Middle East & North Africa (IDA & IBRD countries)\",\"Tonga\",\"South Asia (IDA & IBRD)\",\"Sub-Saharan Africa (IDA & IBRD countries)\",\"Trinidad and Tobago\",\"Tunisia\",\"Turkey\",\"Tuvalu\",\"Tanzania\",\"Uganda\",\"Ukraine\",\"Upper middle income\",\"Uruguay\",\"United States\",\"Uzbekistan\",\"St. Vincent and the Grenadines\",\"Venezuela, RB\",\"Vietnam\",\"Vanuatu\",\"World\",\"Samoa\",\"Yemen, Rep.\",\"South Africa\",\"Zambia\",\"Zimbabwe\"],\"title\":\"Select country or region\",\"value\":\"Africa Eastern and Southern\"},\"id\":\"1922\",\"type\":\"panel.models.widgets.CustomSelect\"},{\"attributes\":{\"client_comm_id\":\"b667b6a7a1a1411e83a49225be735768\",\"comm_id\":\"1c2a67583e7a433f9a42204deb61c388\",\"plot_id\":\"1922\"},\"id\":\"1923\",\"type\":\"panel.models.comm_manager.CommManager\"}],\"root_ids\":[\"1922\",\"1923\"]},\"title\":\"Bokeh Application\",\"version\":\"2.4.3\"}};\n",
       "    var render_items = [{\"docid\":\"e587ee07-330a-4f3b-9458-f726a7d93a48\",\"root_ids\":[\"1922\"],\"roots\":{\"1922\":\"af850329-a302-4b1b-8bd6-3dff9ec231eb\"}}];\n",
       "    root.Bokeh.embed.embed_items_notebook(docs_json, render_items);\n",
       "    for (const render_item of render_items) {\n",
       "      for (const root_id of render_item.root_ids) {\n",
       "\tconst id_el = document.getElementById(root_id)\n",
       "\tif (id_el.children.length && (id_el.children[0].className === 'bk-root')) {\n",
       "\t  const root_el = id_el.children[0]\n",
       "\t  root_el.id = root_el.id + '-rendered'\n",
       "\t}\n",
       "      }\n",
       "    }\n",
       "  }\n",
       "  if (root.Bokeh !== undefined && root.Bokeh.Panel !== undefined && ( root['Tabulator'] !== undefined) && ( root['Plotly'] !== undefined) && ( root['Tabulator'] !== undefined) && ( root['Plotly'] !== undefined) && ( root['Tabulator'] !== undefined)) {\n",
       "    embed_document(root);\n",
       "  } else {\n",
       "    var attempts = 0;\n",
       "    var timer = setInterval(function(root) {\n",
       "      if (root.Bokeh !== undefined && root.Bokeh.Panel !== undefined && (root['Tabulator'] !== undefined) && (root['Plotly'] !== undefined) && (root['Tabulator'] !== undefined) && (root['Plotly'] !== undefined) && (root['Tabulator'] !== undefined)) {\n",
       "        clearInterval(timer);\n",
       "        embed_document(root);\n",
       "      } else if (document.readyState == \"complete\") {\n",
       "        attempts++;\n",
       "        if (attempts > 200) {\n",
       "          clearInterval(timer);\n",
       "          console.log(\"Bokeh: ERROR: Unable to run BokehJS code because BokehJS library is missing\");\n",
       "        }\n",
       "      }\n",
       "    }, 25, root)\n",
       "  }\n",
       "})(window);</script>"
      ],
      "text/plain": [
       "Select(options=['Africa Eastern and South...], value='Africa Eastern a...)"
      ]
     },
     "execution_count": 39,
     "metadata": {
      "application/vnd.holoviews_exec.v0+json": {
       "id": "1922"
      }
     },
     "output_type": "execute_result"
    }
   ],
   "source": [
    "country_button = pn.widgets.Select(name='Select country or region', options=countries)\n",
    "country_button"
   ]
  },
  {
   "cell_type": "code",
   "execution_count": 40,
   "id": "03f1f274-809b-464a-b0bd-3c135a3001bc",
   "metadata": {},
   "outputs": [
    {
     "data": {},
     "metadata": {},
     "output_type": "display_data"
    },
    {
     "data": {},
     "metadata": {},
     "output_type": "display_data"
    },
    {
     "data": {
      "application/vnd.holoviews_exec.v0+json": "",
      "text/html": [
       "<div id='1924'>\n",
       "  <div class=\"bk-root\" id=\"b66cab81-610c-49b4-8f44-ea0dc068b913\" data-root-id=\"1924\"></div>\n",
       "</div>\n",
       "<script type=\"application/javascript\">(function(root) {\n",
       "  function embed_document(root) {\n",
       "    var docs_json = {\"6d416e79-ce77-4ca2-8f29-c70132f15b63\":{\"defs\":[{\"extends\":null,\"module\":null,\"name\":\"ReactiveHTML1\",\"overrides\":[],\"properties\":[]},{\"extends\":null,\"module\":null,\"name\":\"FlexBox1\",\"overrides\":[],\"properties\":[{\"default\":\"flex-start\",\"kind\":null,\"name\":\"align_content\"},{\"default\":\"flex-start\",\"kind\":null,\"name\":\"align_items\"},{\"default\":\"row\",\"kind\":null,\"name\":\"flex_direction\"},{\"default\":\"wrap\",\"kind\":null,\"name\":\"flex_wrap\"},{\"default\":\"flex-start\",\"kind\":null,\"name\":\"justify_content\"}]},{\"extends\":null,\"module\":null,\"name\":\"GridStack1\",\"overrides\":[],\"properties\":[{\"default\":\"warn\",\"kind\":null,\"name\":\"mode\"},{\"default\":null,\"kind\":null,\"name\":\"ncols\"},{\"default\":null,\"kind\":null,\"name\":\"nrows\"},{\"default\":true,\"kind\":null,\"name\":\"allow_resize\"},{\"default\":true,\"kind\":null,\"name\":\"allow_drag\"},{\"default\":[],\"kind\":null,\"name\":\"state\"}]},{\"extends\":null,\"module\":null,\"name\":\"click1\",\"overrides\":[],\"properties\":[{\"default\":\"\",\"kind\":null,\"name\":\"terminal_output\"},{\"default\":\"\",\"kind\":null,\"name\":\"debug_name\"},{\"default\":0,\"kind\":null,\"name\":\"clears\"}]},{\"extends\":null,\"module\":null,\"name\":\"NotificationAreaBase1\",\"overrides\":[],\"properties\":[{\"default\":\"bottom-right\",\"kind\":null,\"name\":\"position\"},{\"default\":0,\"kind\":null,\"name\":\"_clear\"}]},{\"extends\":null,\"module\":null,\"name\":\"NotificationArea1\",\"overrides\":[],\"properties\":[{\"default\":[],\"kind\":null,\"name\":\"notifications\"},{\"default\":\"bottom-right\",\"kind\":null,\"name\":\"position\"},{\"default\":0,\"kind\":null,\"name\":\"_clear\"},{\"default\":[{\"background\":\"#ffc107\",\"icon\":{\"className\":\"fas fa-exclamation-triangle\",\"color\":\"white\",\"tagName\":\"i\"},\"type\":\"warning\"},{\"background\":\"#007bff\",\"icon\":{\"className\":\"fas fa-info-circle\",\"color\":\"white\",\"tagName\":\"i\"},\"type\":\"info\"}],\"kind\":null,\"name\":\"types\"}]},{\"extends\":null,\"module\":null,\"name\":\"Notification\",\"overrides\":[],\"properties\":[{\"default\":null,\"kind\":null,\"name\":\"background\"},{\"default\":3000,\"kind\":null,\"name\":\"duration\"},{\"default\":null,\"kind\":null,\"name\":\"icon\"},{\"default\":\"\",\"kind\":null,\"name\":\"message\"},{\"default\":null,\"kind\":null,\"name\":\"notification_type\"},{\"default\":false,\"kind\":null,\"name\":\"_destroyed\"}]},{\"extends\":null,\"module\":null,\"name\":\"TemplateActions1\",\"overrides\":[],\"properties\":[{\"default\":0,\"kind\":null,\"name\":\"open_modal\"},{\"default\":0,\"kind\":null,\"name\":\"close_modal\"}]},{\"extends\":null,\"module\":null,\"name\":\"MaterialTemplateActions1\",\"overrides\":[],\"properties\":[{\"default\":0,\"kind\":null,\"name\":\"open_modal\"},{\"default\":0,\"kind\":null,\"name\":\"close_modal\"}]}],\"roots\":{\"references\":[{\"attributes\":{},\"id\":\"1973\",\"type\":\"BasicTickFormatter\"},{\"attributes\":{\"overlay\":{\"id\":\"1955\"}},\"id\":\"1953\",\"type\":\"BoxZoomTool\"},{\"attributes\":{\"client_comm_id\":\"dc3ec5e8150e4e0b85777fa7da317624\",\"comm_id\":\"c678a0b8dc3a458fbc12e777182be618\",\"plot_id\":\"1924\"},\"id\":\"2022\",\"type\":\"panel.models.comm_manager.CommManager\"},{\"attributes\":{\"line_color\":\"#30a2da\",\"line_width\":2,\"x\":{\"field\":\"Year\"},\"y\":{\"field\":\"CO2\"}},\"id\":\"1971\",\"type\":\"Line\"},{\"attributes\":{\"data\":{\"CO2\":{\"__ndarray__\":\"Us2x4BHQ7D8QS1lzdxrvPzmN9z9WOe8//d6n2s4o8D+5uGUvN+rwP3FMJ1wph/A/2HUmKNpg8D8vWDW3SLzwP0KrUjAYYvE/4Cxt++tZ8D+Y+Ra8McjwP3bE3mndFfA/EhM/0qlY8D+eDS9qY4LwP1GqAHGHqPA/NoNGjrmY7z+57u0ZkRLvP1KCY9EjuO4/LCgLzJHf7T8=\",\"dtype\":\"float64\",\"order\":\"little\",\"shape\":[19]},\"Year\":{\"__ndarray__\":\"AAAAAABAn0AAAAAAAESfQAAAAAAASJ9AAAAAAABMn0AAAAAAAFCfQAAAAAAAVJ9AAAAAAABYn0AAAAAAAFyfQAAAAAAAYJ9AAAAAAABkn0AAAAAAAGifQAAAAAAAbJ9AAAAAAABwn0AAAAAAAHSfQAAAAAAAeJ9AAAAAAAB8n0AAAAAAAICfQAAAAAAAhJ9AAAAAAACIn0A=\",\"dtype\":\"float64\",\"order\":\"little\",\"shape\":[19]}},\"selected\":{\"id\":\"1964\"},\"selection_policy\":{\"id\":\"1989\"}},\"id\":\"1963\",\"type\":\"ColumnDataSource\"},{\"attributes\":{\"source\":{\"id\":\"1963\"}},\"id\":\"1970\",\"type\":\"CDSView\"},{\"attributes\":{},\"id\":\"1943\",\"type\":\"BasicTicker\"},{\"attributes\":{\"margin\":[5,5,5,5],\"name\":\"HSpacer03616\",\"sizing_mode\":\"stretch_width\"},\"id\":\"1929\",\"type\":\"Spacer\"},{\"attributes\":{\"line_color\":\"#30a2da\",\"line_width\":2,\"x\":{\"field\":\"Year\"},\"y\":{\"field\":\"CO2\"}},\"id\":\"1966\",\"type\":\"Line\"},{\"attributes\":{\"line_alpha\":0.1,\"line_color\":\"#30a2da\",\"line_width\":2,\"x\":{\"field\":\"Year\"},\"y\":{\"field\":\"CO2\"}},\"id\":\"1967\",\"type\":\"Line\"},{\"attributes\":{},\"id\":\"1952\",\"type\":\"WheelZoomTool\"},{\"attributes\":{},\"id\":\"1947\",\"type\":\"BasicTicker\"},{\"attributes\":{},\"id\":\"1964\",\"type\":\"Selection\"},{\"attributes\":{\"axis\":{\"id\":\"1942\"},\"coordinates\":null,\"grid_line_color\":null,\"group\":null,\"ticker\":null},\"id\":\"1945\",\"type\":\"Grid\"},{\"attributes\":{},\"id\":\"1940\",\"type\":\"LinearScale\"},{\"attributes\":{\"children\":[{\"id\":\"1927\"},{\"id\":\"1929\"}],\"margin\":[0,0,0,0],\"name\":\"Row03617\"},\"id\":\"1926\",\"type\":\"Row\"},{\"attributes\":{},\"id\":\"1950\",\"type\":\"SaveTool\"},{\"attributes\":{},\"id\":\"1976\",\"type\":\"BasicTickFormatter\"},{\"attributes\":{},\"id\":\"1954\",\"type\":\"ResetTool\"},{\"attributes\":{\"axis\":{\"id\":\"1946\"},\"coordinates\":null,\"dimension\":1,\"grid_line_color\":null,\"group\":null,\"ticker\":null},\"id\":\"1949\",\"type\":\"Grid\"},{\"attributes\":{\"line_alpha\":0.2,\"line_color\":\"#30a2da\",\"line_width\":2,\"x\":{\"field\":\"Year\"},\"y\":{\"field\":\"CO2\"}},\"id\":\"1968\",\"type\":\"Line\"},{\"attributes\":{\"end\":2018.0,\"reset_end\":2018.0,\"reset_start\":2000.0,\"start\":2000.0,\"tags\":[[[\"Year\",\"Year\",null]]]},\"id\":\"1930\",\"type\":\"Range1d\"},{\"attributes\":{\"bottom_units\":\"screen\",\"coordinates\":null,\"fill_alpha\":0.5,\"fill_color\":\"lightgrey\",\"group\":null,\"left_units\":\"screen\",\"level\":\"overlay\",\"line_alpha\":1.0,\"line_color\":\"black\",\"line_dash\":[4,4],\"line_width\":2,\"right_units\":\"screen\",\"syncable\":false,\"top_units\":\"screen\"},\"id\":\"1955\",\"type\":\"BoxAnnotation\"},{\"attributes\":{\"coordinates\":null,\"group\":null,\"text\":\"CO2 Emissions from 2000 to 2018\",\"text_color\":\"black\",\"text_font_size\":\"12pt\"},\"id\":\"1934\",\"type\":\"Title\"},{\"attributes\":{\"axis_label\":\"CO2 Emissions [metric tons per capita]\",\"coordinates\":null,\"formatter\":{\"id\":\"1976\"},\"group\":null,\"major_label_policy\":{\"id\":\"1977\"},\"ticker\":{\"id\":\"1947\"}},\"id\":\"1946\",\"type\":\"LinearAxis\"},{\"attributes\":{\"end\":1.1050538194197836,\"reset_end\":1.1050538194197836,\"reset_start\":0.8817941797886192,\"start\":0.8817941797886192,\"tags\":[[[\"CO2\",\"CO2\",null]]]},\"id\":\"1931\",\"type\":\"Range1d\"},{\"attributes\":{},\"id\":\"1977\",\"type\":\"AllLabels\"},{\"attributes\":{\"below\":[{\"id\":\"1942\"}],\"center\":[{\"id\":\"1945\"},{\"id\":\"1949\"}],\"height\":300,\"left\":[{\"id\":\"1946\"}],\"margin\":[5,5,5,5],\"min_border_bottom\":10,\"min_border_left\":10,\"min_border_right\":10,\"min_border_top\":10,\"renderers\":[{\"id\":\"1969\"}],\"sizing_mode\":\"fixed\",\"title\":{\"id\":\"1934\"},\"toolbar\":{\"id\":\"1956\"},\"width\":700,\"x_range\":{\"id\":\"1930\"},\"x_scale\":{\"id\":\"1938\"},\"y_range\":{\"id\":\"1931\"},\"y_scale\":{\"id\":\"1940\"}},\"id\":\"1933\",\"subtype\":\"Figure\",\"type\":\"Plot\"},{\"attributes\":{},\"id\":\"1951\",\"type\":\"PanTool\"},{\"attributes\":{\"active_drag\":{\"id\":\"1951\"},\"active_scroll\":{\"id\":\"1952\"},\"tools\":[{\"id\":\"1932\"},{\"id\":\"1950\"},{\"id\":\"1951\"},{\"id\":\"1952\"},{\"id\":\"1953\"},{\"id\":\"1954\"}]},\"id\":\"1956\",\"type\":\"Toolbar\"},{\"attributes\":{\"children\":[{\"id\":\"1926\"},{\"id\":\"1933\"}],\"margin\":[0,0,0,0],\"name\":\"Column03623\"},\"id\":\"1925\",\"type\":\"Column\"},{\"attributes\":{},\"id\":\"1938\",\"type\":\"LinearScale\"},{\"attributes\":{},\"id\":\"1989\",\"type\":\"UnionRenderers\"},{\"attributes\":{\"children\":[{\"id\":\"1928\"}],\"margin\":[0,0,0,0],\"name\":\"Column03612\"},\"id\":\"1927\",\"type\":\"Column\"},{\"attributes\":{\"axis_label\":\"Year\",\"coordinates\":null,\"formatter\":{\"id\":\"1973\"},\"group\":null,\"major_label_policy\":{\"id\":\"1974\"},\"ticker\":{\"id\":\"1943\"}},\"id\":\"1942\",\"type\":\"LinearAxis\"},{\"attributes\":{\"children\":[{\"id\":\"1925\"}],\"margin\":[0,0,0,0],\"name\":\"Row03624\"},\"id\":\"1924\",\"type\":\"Row\"},{\"attributes\":{\"callback\":null,\"renderers\":[{\"id\":\"1969\"}],\"tags\":[\"hv_created\"],\"tooltips\":[[\"Year\",\"@{Year}\"],[\"CO2\",\"@{CO2}\"]]},\"id\":\"1932\",\"type\":\"HoverTool\"},{\"attributes\":{\"margin\":[5,10,5,10],\"options\":[\"Africa Eastern and Southern\",\"Afghanistan\",\"Africa Western and Central\",\"Angola\",\"Albania\",\"Andorra\",\"Arab World\",\"United Arab Emirates\",\"Argentina\",\"Armenia\",\"Antigua and Barbuda\",\"Australia\",\"Austria\",\"Azerbaijan\",\"Burundi\",\"Belgium\",\"Benin\",\"Burkina Faso\",\"Bangladesh\",\"Bulgaria\",\"Bahrain\",\"Bahamas, The\",\"Bosnia and Herzegovina\",\"Belarus\",\"Belize\",\"Bolivia\",\"Brazil\",\"Barbados\",\"Brunei Darussalam\",\"Bhutan\",\"Botswana\",\"Central African Republic\",\"Canada\",\"Central Europe and the Baltics\",\"Switzerland\",\"Chile\",\"China\",\"Cote d'Ivoire\",\"Cameroon\",\"Congo, Dem. Rep.\",\"Congo, Rep.\",\"Colombia\",\"Comoros\",\"Cabo Verde\",\"Costa Rica\",\"Caribbean small states\",\"Cuba\",\"Cyprus\",\"Czech Republic\",\"Germany\",\"Djibouti\",\"Dominica\",\"Denmark\",\"Dominican Republic\",\"Algeria\",\"East Asia & Pacific (excluding high income)\",\"Early-demographic dividend\",\"East Asia & Pacific\",\"Europe & Central Asia (excluding high income)\",\"Europe & Central Asia\",\"Ecuador\",\"Egypt, Arab Rep.\",\"Euro area\",\"Eritrea\",\"Spain\",\"Estonia\",\"Ethiopia\",\"European Union\",\"Fragile and conflict affected situations\",\"Finland\",\"Fiji\",\"France\",\"Micronesia, Fed. Sts.\",\"Gabon\",\"United Kingdom\",\"Georgia\",\"Ghana\",\"Guinea\",\"Gambia, The\",\"Guinea-Bissau\",\"Equatorial Guinea\",\"Greece\",\"Grenada\",\"Guatemala\",\"Guyana\",\"High income\",\"Honduras\",\"Heavily indebted poor countries (HIPC)\",\"Croatia\",\"Haiti\",\"Hungary\",\"IBRD only\",\"IDA & IBRD total\",\"IDA total\",\"IDA blend\",\"Indonesia\",\"IDA only\",\"India\",\"Ireland\",\"Iran, Islamic Rep.\",\"Iraq\",\"Iceland\",\"Israel\",\"Italy\",\"Jamaica\",\"Jordan\",\"Japan\",\"Kazakhstan\",\"Kenya\",\"Kyrgyz Republic\",\"Cambodia\",\"Kiribati\",\"St. Kitts and Nevis\",\"Korea, Rep.\",\"Kuwait\",\"Latin America & Caribbean (excluding high income)\",\"Lao PDR\",\"Lebanon\",\"Liberia\",\"Libya\",\"St. Lucia\",\"Latin America & Caribbean\",\"Least developed countries: UN classification\",\"Low income\",\"Liechtenstein\",\"Sri Lanka\",\"Lower middle income\",\"Low & middle income\",\"Lesotho\",\"Late-demographic dividend\",\"Lithuania\",\"Luxembourg\",\"Latvia\",\"Morocco\",\"Moldova\",\"Madagascar\",\"Maldives\",\"Middle East & North Africa\",\"Mexico\",\"Marshall Islands\",\"Middle income\",\"North Macedonia\",\"Mali\",\"Malta\",\"Myanmar\",\"Middle East & North Africa (excluding high income)\",\"Montenegro\",\"Mongolia\",\"Mozambique\",\"Mauritania\",\"Mauritius\",\"Malawi\",\"Malaysia\",\"North America\",\"Namibia\",\"Niger\",\"Nigeria\",\"Nicaragua\",\"Netherlands\",\"Norway\",\"Nepal\",\"Nauru\",\"New Zealand\",\"OECD members\",\"Oman\",\"Other small states\",\"Pakistan\",\"Panama\",\"Peru\",\"Philippines\",\"Palau\",\"Papua New Guinea\",\"Poland\",\"Pre-demographic dividend\",\"Korea, Dem. People's Rep.\",\"Portugal\",\"Paraguay\",\"Pacific island small states\",\"Post-demographic dividend\",\"Qatar\",\"Romania\",\"Russian Federation\",\"Rwanda\",\"South Asia\",\"Saudi Arabia\",\"Sudan\",\"Senegal\",\"Singapore\",\"Solomon Islands\",\"Sierra Leone\",\"El Salvador\",\"Somalia\",\"Serbia\",\"Sub-Saharan Africa (excluding high income)\",\"South Sudan\",\"Sub-Saharan Africa\",\"Small states\",\"Sao Tome and Principe\",\"Suriname\",\"Slovak Republic\",\"Slovenia\",\"Sweden\",\"Eswatini\",\"Seychelles\",\"Syrian Arab Republic\",\"Chad\",\"East Asia & Pacific (IDA & IBRD countries)\",\"Europe & Central Asia (IDA & IBRD countries)\",\"Togo\",\"Thailand\",\"Tajikistan\",\"Turkmenistan\",\"Latin America & the Caribbean (IDA & IBRD countries)\",\"Timor-Leste\",\"Middle East & North Africa (IDA & IBRD countries)\",\"Tonga\",\"South Asia (IDA & IBRD)\",\"Sub-Saharan Africa (IDA & IBRD countries)\",\"Trinidad and Tobago\",\"Tunisia\",\"Turkey\",\"Tuvalu\",\"Tanzania\",\"Uganda\",\"Ukraine\",\"Upper middle income\",\"Uruguay\",\"United States\",\"Uzbekistan\",\"St. Vincent and the Grenadines\",\"Venezuela, RB\",\"Vietnam\",\"Vanuatu\",\"World\",\"Samoa\",\"Yemen, Rep.\",\"South Africa\",\"Zambia\",\"Zimbabwe\"],\"title\":\"Select country or region\",\"value\":\"Africa Eastern and Southern\"},\"id\":\"1928\",\"type\":\"panel.models.widgets.CustomSelect\"},{\"attributes\":{},\"id\":\"1974\",\"type\":\"AllLabels\"},{\"attributes\":{\"coordinates\":null,\"data_source\":{\"id\":\"1963\"},\"glyph\":{\"id\":\"1966\"},\"group\":null,\"hover_glyph\":null,\"muted_glyph\":{\"id\":\"1968\"},\"nonselection_glyph\":{\"id\":\"1967\"},\"selection_glyph\":{\"id\":\"1971\"},\"view\":{\"id\":\"1970\"}},\"id\":\"1969\",\"type\":\"GlyphRenderer\"}],\"root_ids\":[\"1924\",\"2022\"]},\"title\":\"Bokeh Application\",\"version\":\"2.4.3\"}};\n",
       "    var render_items = [{\"docid\":\"6d416e79-ce77-4ca2-8f29-c70132f15b63\",\"root_ids\":[\"1924\"],\"roots\":{\"1924\":\"b66cab81-610c-49b4-8f44-ea0dc068b913\"}}];\n",
       "    root.Bokeh.embed.embed_items_notebook(docs_json, render_items);\n",
       "    for (const render_item of render_items) {\n",
       "      for (const root_id of render_item.root_ids) {\n",
       "\tconst id_el = document.getElementById(root_id)\n",
       "\tif (id_el.children.length && (id_el.children[0].className === 'bk-root')) {\n",
       "\t  const root_el = id_el.children[0]\n",
       "\t  root_el.id = root_el.id + '-rendered'\n",
       "\t}\n",
       "      }\n",
       "    }\n",
       "  }\n",
       "  if (root.Bokeh !== undefined && root.Bokeh.Panel !== undefined && ( root['Tabulator'] !== undefined) && ( root['Plotly'] !== undefined) && ( root['Tabulator'] !== undefined) && ( root['Plotly'] !== undefined) && ( root['Tabulator'] !== undefined)) {\n",
       "    embed_document(root);\n",
       "  } else {\n",
       "    var attempts = 0;\n",
       "    var timer = setInterval(function(root) {\n",
       "      if (root.Bokeh !== undefined && root.Bokeh.Panel !== undefined && (root['Tabulator'] !== undefined) && (root['Plotly'] !== undefined) && (root['Tabulator'] !== undefined) && (root['Plotly'] !== undefined) && (root['Tabulator'] !== undefined)) {\n",
       "        clearInterval(timer);\n",
       "        embed_document(root);\n",
       "      } else if (document.readyState == \"complete\") {\n",
       "        attempts++;\n",
       "        if (attempts > 200) {\n",
       "          clearInterval(timer);\n",
       "          console.log(\"Bokeh: ERROR: Unable to run BokehJS code because BokehJS library is missing\");\n",
       "        }\n",
       "      }\n",
       "    }, 25, root)\n",
       "  }\n",
       "})(window);</script>"
      ],
      "text/plain": [
       "<hvplot.interactive.Interactive at 0x23716ee3e10>"
      ]
     },
     "execution_count": 40,
     "metadata": {
      "application/vnd.holoviews_exec.v0+json": {
       "id": "1924"
      }
     },
     "output_type": "execute_result"
    }
   ],
   "source": [
    "co2_pipeline = (\n",
    "    idf[\n",
    "        (idf.Country == country_button)\n",
    "    ]\n",
    "    .groupby(['Year'])['CO2'].sum()\n",
    "    .to_frame()\n",
    "    .reset_index()\n",
    "    .sort_values(by='Year')\n",
    "    .reset_index(drop=True)\n",
    ")\n",
    "\n",
    "co2_plot = co2_pipeline.hvplot(x='Year',y='CO2',title='CO2 Emissions from 2000 to 2018',\n",
    "                               ylabel='CO2 Emissions [metric tons per capita]')\n",
    "co2_plot"
   ]
  },
  {
   "cell_type": "markdown",
   "id": "6fd41c1e-df01-4a96-a110-d7db60406391",
   "metadata": {},
   "source": [
    "**2. Countries with max CO2 emissions level per year**"
   ]
  },
  {
   "cell_type": "code",
   "execution_count": 41,
   "id": "73f9e9d2-c6d6-4407-be78-2d478baa20a9",
   "metadata": {},
   "outputs": [
    {
     "name": "stdout",
     "output_type": "stream",
     "text": [
      "<class 'hvplot.interactive.Interactive'>\n"
     ]
    }
   ],
   "source": [
    "#Creating the pipeline with the 5 countries with the highest CO2 emissions per year\n",
    "largest_co2_pipeline = (\n",
    "    idf[\n",
    "        (idf.Year == year_slider)\n",
    "    ]\n",
    "    .groupby(['Country'])['CO2'].sum().nlargest()\n",
    "    .to_frame()\n",
    "    .reset_index()\n",
    "    .sort_values(by='CO2')\n",
    "    .reset_index(drop=True)\n",
    ")\n",
    "print(type(largest_co2_pipeline))"
   ]
  },
  {
   "cell_type": "code",
   "execution_count": 45,
   "id": "628181a5-5da8-4022-b896-a86bb6603d3c",
   "metadata": {},
   "outputs": [
    {
     "data": {},
     "metadata": {},
     "output_type": "display_data"
    },
    {
     "data": {},
     "metadata": {},
     "output_type": "display_data"
    },
    {
     "data": {
      "application/vnd.holoviews_exec.v0+json": "",
      "text/html": [
       "<div id='2240'>\n",
       "  <div class=\"bk-root\" id=\"abe02640-5dc5-448a-b301-9b10a3544399\" data-root-id=\"2240\"></div>\n",
       "</div>\n",
       "<script type=\"application/javascript\">(function(root) {\n",
       "  function embed_document(root) {\n",
       "    var docs_json = {\"2ff016c6-4c44-419e-8ca6-a080cdc5164c\":{\"defs\":[{\"extends\":null,\"module\":null,\"name\":\"ReactiveHTML1\",\"overrides\":[],\"properties\":[]},{\"extends\":null,\"module\":null,\"name\":\"FlexBox1\",\"overrides\":[],\"properties\":[{\"default\":\"flex-start\",\"kind\":null,\"name\":\"align_content\"},{\"default\":\"flex-start\",\"kind\":null,\"name\":\"align_items\"},{\"default\":\"row\",\"kind\":null,\"name\":\"flex_direction\"},{\"default\":\"wrap\",\"kind\":null,\"name\":\"flex_wrap\"},{\"default\":\"flex-start\",\"kind\":null,\"name\":\"justify_content\"}]},{\"extends\":null,\"module\":null,\"name\":\"GridStack1\",\"overrides\":[],\"properties\":[{\"default\":\"warn\",\"kind\":null,\"name\":\"mode\"},{\"default\":null,\"kind\":null,\"name\":\"ncols\"},{\"default\":null,\"kind\":null,\"name\":\"nrows\"},{\"default\":true,\"kind\":null,\"name\":\"allow_resize\"},{\"default\":true,\"kind\":null,\"name\":\"allow_drag\"},{\"default\":[],\"kind\":null,\"name\":\"state\"}]},{\"extends\":null,\"module\":null,\"name\":\"click1\",\"overrides\":[],\"properties\":[{\"default\":\"\",\"kind\":null,\"name\":\"terminal_output\"},{\"default\":\"\",\"kind\":null,\"name\":\"debug_name\"},{\"default\":0,\"kind\":null,\"name\":\"clears\"}]},{\"extends\":null,\"module\":null,\"name\":\"NotificationAreaBase1\",\"overrides\":[],\"properties\":[{\"default\":\"bottom-right\",\"kind\":null,\"name\":\"position\"},{\"default\":0,\"kind\":null,\"name\":\"_clear\"}]},{\"extends\":null,\"module\":null,\"name\":\"NotificationArea1\",\"overrides\":[],\"properties\":[{\"default\":[],\"kind\":null,\"name\":\"notifications\"},{\"default\":\"bottom-right\",\"kind\":null,\"name\":\"position\"},{\"default\":0,\"kind\":null,\"name\":\"_clear\"},{\"default\":[{\"background\":\"#ffc107\",\"icon\":{\"className\":\"fas fa-exclamation-triangle\",\"color\":\"white\",\"tagName\":\"i\"},\"type\":\"warning\"},{\"background\":\"#007bff\",\"icon\":{\"className\":\"fas fa-info-circle\",\"color\":\"white\",\"tagName\":\"i\"},\"type\":\"info\"}],\"kind\":null,\"name\":\"types\"}]},{\"extends\":null,\"module\":null,\"name\":\"Notification\",\"overrides\":[],\"properties\":[{\"default\":null,\"kind\":null,\"name\":\"background\"},{\"default\":3000,\"kind\":null,\"name\":\"duration\"},{\"default\":null,\"kind\":null,\"name\":\"icon\"},{\"default\":\"\",\"kind\":null,\"name\":\"message\"},{\"default\":null,\"kind\":null,\"name\":\"notification_type\"},{\"default\":false,\"kind\":null,\"name\":\"_destroyed\"}]},{\"extends\":null,\"module\":null,\"name\":\"TemplateActions1\",\"overrides\":[],\"properties\":[{\"default\":0,\"kind\":null,\"name\":\"open_modal\"},{\"default\":0,\"kind\":null,\"name\":\"close_modal\"}]},{\"extends\":null,\"module\":null,\"name\":\"MaterialTemplateActions1\",\"overrides\":[],\"properties\":[{\"default\":0,\"kind\":null,\"name\":\"open_modal\"},{\"default\":0,\"kind\":null,\"name\":\"close_modal\"}]}],\"roots\":{\"references\":[{\"attributes\":{\"children\":[{\"id\":\"2241\"}],\"margin\":[0,0,0,0],\"name\":\"Row04331\"},\"id\":\"2240\",\"type\":\"Row\"},{\"attributes\":{\"end\":38.29766977989119,\"reset_end\":38.29766977989119,\"reset_start\":0.0,\"tags\":[[[\"CO2\",\"CO2\",null]]]},\"id\":\"2247\",\"type\":\"Range1d\"},{\"attributes\":{\"fill_alpha\":{\"value\":0.1},\"fill_color\":{\"value\":\"#30a2da\"},\"hatch_alpha\":{\"value\":0.1},\"hatch_color\":{\"value\":\"#30a2da\"},\"line_alpha\":{\"value\":0.1},\"top\":{\"field\":\"CO2\"},\"width\":{\"value\":0.8},\"x\":{\"field\":\"Country\"}},\"id\":\"2282\",\"type\":\"VBar\"},{\"attributes\":{},\"id\":\"2262\",\"type\":\"BasicTicker\"},{\"attributes\":{},\"id\":\"2256\",\"type\":\"LinearScale\"},{\"attributes\":{\"client_comm_id\":\"846093a4d93d415897b9c22d4bec4954\",\"comm_id\":\"af8c13f100964d4d86fff542ab226108\",\"plot_id\":\"2240\"},\"id\":\"2337\",\"type\":\"panel.models.comm_manager.CommManager\"},{\"attributes\":{},\"id\":\"2267\",\"type\":\"WheelZoomTool\"},{\"attributes\":{\"fill_color\":{\"value\":\"#30a2da\"},\"hatch_color\":{\"value\":\"#30a2da\"},\"top\":{\"field\":\"CO2\"},\"width\":{\"value\":0.8},\"x\":{\"field\":\"Country\"}},\"id\":\"2281\",\"type\":\"VBar\"},{\"attributes\":{\"callback\":null,\"renderers\":[{\"id\":\"2284\"}],\"tags\":[\"hv_created\"],\"tooltips\":[[\"Country\",\"@{Country}\"],[\"CO2\",\"@{CO2}\"]]},\"id\":\"2248\",\"type\":\"HoverTool\"},{\"attributes\":{\"below\":[{\"id\":\"2258\"}],\"center\":[{\"id\":\"2260\"},{\"id\":\"2264\"}],\"height\":300,\"left\":[{\"id\":\"2261\"}],\"margin\":[5,5,5,5],\"min_border_bottom\":10,\"min_border_left\":10,\"min_border_right\":10,\"min_border_top\":10,\"renderers\":[{\"id\":\"2284\"}],\"sizing_mode\":\"fixed\",\"title\":{\"id\":\"2250\"},\"toolbar\":{\"id\":\"2271\"},\"width\":700,\"x_range\":{\"id\":\"2246\"},\"x_scale\":{\"id\":\"2254\"},\"y_range\":{\"id\":\"2247\"},\"y_scale\":{\"id\":\"2256\"}},\"id\":\"2249\",\"subtype\":\"Figure\",\"type\":\"Plot\"},{\"attributes\":{\"axis_label\":\"Country\",\"coordinates\":null,\"formatter\":{\"id\":\"2288\"},\"group\":null,\"major_label_policy\":{\"id\":\"2289\"},\"ticker\":{\"id\":\"2259\"}},\"id\":\"2258\",\"type\":\"CategoricalAxis\"},{\"attributes\":{\"axis\":{\"id\":\"2258\"},\"coordinates\":null,\"grid_line_color\":null,\"group\":null,\"ticker\":null},\"id\":\"2260\",\"type\":\"Grid\"},{\"attributes\":{\"children\":[{\"id\":\"2243\"},{\"id\":\"2245\"}],\"margin\":[0,0,0,0],\"name\":\"Row04324\"},\"id\":\"2242\",\"type\":\"Row\"},{\"attributes\":{},\"id\":\"2269\",\"type\":\"ResetTool\"},{\"attributes\":{},\"id\":\"2304\",\"type\":\"UnionRenderers\"},{\"attributes\":{},\"id\":\"2279\",\"type\":\"Selection\"},{\"attributes\":{\"coordinates\":null,\"group\":null,\"text\":\"5 countries with the highest CO2 emissiones per year\",\"text_color\":\"black\",\"text_font_size\":\"12pt\"},\"id\":\"2250\",\"type\":\"Title\"},{\"attributes\":{\"bottom\":{\"value\":0},\"fill_alpha\":{\"value\":1.0},\"fill_color\":{\"value\":\"#30a2da\"},\"hatch_alpha\":{\"value\":1.0},\"hatch_color\":{\"value\":\"#30a2da\"},\"hatch_scale\":{\"value\":12.0},\"hatch_weight\":{\"value\":1.0},\"line_alpha\":{\"value\":1.0},\"line_cap\":{\"value\":\"butt\"},\"line_color\":{\"value\":\"black\"},\"line_dash\":{\"value\":[]},\"line_dash_offset\":{\"value\":0},\"line_join\":{\"value\":\"bevel\"},\"line_width\":{\"value\":1},\"top\":{\"field\":\"CO2\"},\"width\":{\"value\":0.8},\"x\":{\"field\":\"Country\"}},\"id\":\"2286\",\"type\":\"VBar\"},{\"attributes\":{},\"id\":\"2265\",\"type\":\"SaveTool\"},{\"attributes\":{\"bottom_units\":\"screen\",\"coordinates\":null,\"fill_alpha\":0.5,\"fill_color\":\"lightgrey\",\"group\":null,\"left_units\":\"screen\",\"level\":\"overlay\",\"line_alpha\":1.0,\"line_color\":\"black\",\"line_dash\":[4,4],\"line_width\":2,\"right_units\":\"screen\",\"syncable\":false,\"top_units\":\"screen\"},\"id\":\"2270\",\"type\":\"BoxAnnotation\"},{\"attributes\":{},\"id\":\"2254\",\"type\":\"CategoricalScale\"},{\"attributes\":{\"source\":{\"id\":\"2278\"}},\"id\":\"2285\",\"type\":\"CDSView\"},{\"attributes\":{\"data\":{\"CO2\":{\"__ndarray__\":\"ljR6m9B4NECx3v5rixA3QNVq+VDK5DdAOvJHIHv5OkDiTFbLrFZCQA==\",\"dtype\":\"float64\",\"order\":\"little\",\"shape\":[5]},\"Country\":[\"United States\",\"Kuwait\",\"Bahrain\",\"United Arab Emirates\",\"Qatar\"]},\"selected\":{\"id\":\"2279\"},\"selection_policy\":{\"id\":\"2304\"}},\"id\":\"2278\",\"type\":\"ColumnDataSource\"},{\"attributes\":{},\"id\":\"2292\",\"type\":\"AllLabels\"},{\"attributes\":{\"active_drag\":{\"id\":\"2266\"},\"active_scroll\":{\"id\":\"2267\"},\"tools\":[{\"id\":\"2248\"},{\"id\":\"2265\"},{\"id\":\"2266\"},{\"id\":\"2267\"},{\"id\":\"2268\"},{\"id\":\"2269\"}]},\"id\":\"2271\",\"type\":\"Toolbar\"},{\"attributes\":{\"end\":2018,\"margin\":[5,10,5,10],\"start\":2000,\"title\":\"Year slider\",\"value\":2000},\"id\":\"2244\",\"type\":\"Slider\"},{\"attributes\":{\"coordinates\":null,\"data_source\":{\"id\":\"2278\"},\"glyph\":{\"id\":\"2281\"},\"group\":null,\"hover_glyph\":null,\"muted_glyph\":{\"id\":\"2283\"},\"nonselection_glyph\":{\"id\":\"2282\"},\"selection_glyph\":{\"id\":\"2286\"},\"view\":{\"id\":\"2285\"}},\"id\":\"2284\",\"type\":\"GlyphRenderer\"},{\"attributes\":{\"fill_alpha\":{\"value\":0.2},\"fill_color\":{\"value\":\"#30a2da\"},\"hatch_alpha\":{\"value\":0.2},\"hatch_color\":{\"value\":\"#30a2da\"},\"line_alpha\":{\"value\":0.2},\"top\":{\"field\":\"CO2\"},\"width\":{\"value\":0.8},\"x\":{\"field\":\"Country\"}},\"id\":\"2283\",\"type\":\"VBar\"},{\"attributes\":{},\"id\":\"2291\",\"type\":\"BasicTickFormatter\"},{\"attributes\":{\"children\":[{\"id\":\"2244\"}],\"margin\":[0,0,0,0],\"name\":\"Column04319\"},\"id\":\"2243\",\"type\":\"Column\"},{\"attributes\":{},\"id\":\"2266\",\"type\":\"PanTool\"},{\"attributes\":{\"axis_label\":\"CO2\",\"coordinates\":null,\"formatter\":{\"id\":\"2291\"},\"group\":null,\"major_label_policy\":{\"id\":\"2292\"},\"ticker\":{\"id\":\"2262\"}},\"id\":\"2261\",\"type\":\"LinearAxis\"},{\"attributes\":{\"margin\":[5,5,5,5],\"name\":\"HSpacer04323\",\"sizing_mode\":\"stretch_width\"},\"id\":\"2245\",\"type\":\"Spacer\"},{\"attributes\":{\"factors\":[\"United States\",\"Kuwait\",\"Bahrain\",\"United Arab Emirates\",\"Qatar\"],\"tags\":[[[\"Country\",\"Country\",null]]]},\"id\":\"2246\",\"type\":\"FactorRange\"},{\"attributes\":{\"overlay\":{\"id\":\"2270\"}},\"id\":\"2268\",\"type\":\"BoxZoomTool\"},{\"attributes\":{},\"id\":\"2259\",\"type\":\"CategoricalTicker\"},{\"attributes\":{\"children\":[{\"id\":\"2242\"},{\"id\":\"2249\"}],\"margin\":[0,0,0,0],\"name\":\"Column04330\"},\"id\":\"2241\",\"type\":\"Column\"},{\"attributes\":{},\"id\":\"2289\",\"type\":\"AllLabels\"},{\"attributes\":{},\"id\":\"2288\",\"type\":\"CategoricalTickFormatter\"},{\"attributes\":{\"axis\":{\"id\":\"2261\"},\"coordinates\":null,\"dimension\":1,\"grid_line_color\":null,\"group\":null,\"ticker\":null},\"id\":\"2264\",\"type\":\"Grid\"}],\"root_ids\":[\"2240\",\"2337\"]},\"title\":\"Bokeh Application\",\"version\":\"2.4.3\"}};\n",
       "    var render_items = [{\"docid\":\"2ff016c6-4c44-419e-8ca6-a080cdc5164c\",\"root_ids\":[\"2240\"],\"roots\":{\"2240\":\"abe02640-5dc5-448a-b301-9b10a3544399\"}}];\n",
       "    root.Bokeh.embed.embed_items_notebook(docs_json, render_items);\n",
       "    for (const render_item of render_items) {\n",
       "      for (const root_id of render_item.root_ids) {\n",
       "\tconst id_el = document.getElementById(root_id)\n",
       "\tif (id_el.children.length && (id_el.children[0].className === 'bk-root')) {\n",
       "\t  const root_el = id_el.children[0]\n",
       "\t  root_el.id = root_el.id + '-rendered'\n",
       "\t}\n",
       "      }\n",
       "    }\n",
       "  }\n",
       "  if (root.Bokeh !== undefined && root.Bokeh.Panel !== undefined && ( root['Tabulator'] !== undefined) && ( root['Plotly'] !== undefined) && ( root['Tabulator'] !== undefined) && ( root['Plotly'] !== undefined) && ( root['Tabulator'] !== undefined) && ( root['Plotly'] !== undefined)) {\n",
       "    embed_document(root);\n",
       "  } else {\n",
       "    var attempts = 0;\n",
       "    var timer = setInterval(function(root) {\n",
       "      if (root.Bokeh !== undefined && root.Bokeh.Panel !== undefined && (root['Tabulator'] !== undefined) && (root['Plotly'] !== undefined) && (root['Tabulator'] !== undefined) && (root['Plotly'] !== undefined) && (root['Tabulator'] !== undefined) && (root['Plotly'] !== undefined)) {\n",
       "        clearInterval(timer);\n",
       "        embed_document(root);\n",
       "      } else if (document.readyState == \"complete\") {\n",
       "        attempts++;\n",
       "        if (attempts > 200) {\n",
       "          clearInterval(timer);\n",
       "          console.log(\"Bokeh: ERROR: Unable to run BokehJS code because BokehJS library is missing\");\n",
       "        }\n",
       "      }\n",
       "    }, 25, root)\n",
       "  }\n",
       "})(window);</script>"
      ],
      "text/plain": [
       "<hvplot.interactive.Interactive at 0x2371a6c7310>"
      ]
     },
     "execution_count": 45,
     "metadata": {
      "application/vnd.holoviews_exec.v0+json": {
       "id": "2240"
      }
     },
     "output_type": "execute_result"
    }
   ],
   "source": [
    "larg_co2_plot = largest_co2_pipeline.hvplot(\n",
    "    kind = 'bar',\n",
    "    x = 'Country',\n",
    "    y = 'CO2',\n",
    "    title = '5 countries with the highest CO2 emissiones per year'\n",
    ")\n",
    "\n",
    "larg_co2_plot"
   ]
  },
  {
   "cell_type": "markdown",
   "id": "1aabfef7-407e-4372-9f1f-3da777a1f7ce",
   "metadata": {},
   "source": [
    "**3. Geomap plot for the CO2 emissions over the years**"
   ]
  },
  {
   "cell_type": "code",
   "execution_count": 43,
   "id": "f0d053ee-6e5a-4b42-8e91-b647ca66c1c5",
   "metadata": {},
   "outputs": [
    {
     "name": "stderr",
     "output_type": "stream",
     "text": [
      "C:\\Users\\zeama\\AppData\\Local\\Temp\\ipykernel_16164\\331250328.py:27: SettingWithCopyWarning:\n",
      "\n",
      "\n",
      "A value is trying to be set on a copy of a slice from a DataFrame.\n",
      "Try using .loc[row_indexer,col_indexer] = value instead\n",
      "\n",
      "See the caveats in the documentation: https://pandas.pydata.org/pandas-docs/stable/user_guide/indexing.html#returning-a-view-versus-a-copy\n",
      "\n"
     ]
    },
    {
     "data": {
      "text/html": [
       "<div>\n",
       "<style scoped>\n",
       "    .dataframe tbody tr th:only-of-type {\n",
       "        vertical-align: middle;\n",
       "    }\n",
       "\n",
       "    .dataframe tbody tr th {\n",
       "        vertical-align: top;\n",
       "    }\n",
       "\n",
       "    .dataframe thead th {\n",
       "        text-align: right;\n",
       "    }\n",
       "</style>\n",
       "<table border=\"1\" class=\"dataframe\">\n",
       "  <thead>\n",
       "    <tr style=\"text-align: right;\">\n",
       "      <th></th>\n",
       "      <th>Country</th>\n",
       "      <th>Year</th>\n",
       "      <th>CO2</th>\n",
       "      <th>iso_alpha</th>\n",
       "    </tr>\n",
       "  </thead>\n",
       "  <tbody>\n",
       "    <tr>\n",
       "      <th>0</th>\n",
       "      <td>Afghanistan</td>\n",
       "      <td>2000.0</td>\n",
       "      <td>0.037055</td>\n",
       "      <td>AFG</td>\n",
       "    </tr>\n",
       "    <tr>\n",
       "      <th>0</th>\n",
       "      <td>Afghanistan</td>\n",
       "      <td>2001.0</td>\n",
       "      <td>0.037488</td>\n",
       "      <td>AFG</td>\n",
       "    </tr>\n",
       "    <tr>\n",
       "      <th>0</th>\n",
       "      <td>Afghanistan</td>\n",
       "      <td>2002.0</td>\n",
       "      <td>0.048671</td>\n",
       "      <td>AFG</td>\n",
       "    </tr>\n",
       "    <tr>\n",
       "      <th>0</th>\n",
       "      <td>Afghanistan</td>\n",
       "      <td>2003.0</td>\n",
       "      <td>0.057008</td>\n",
       "      <td>AFG</td>\n",
       "    </tr>\n",
       "    <tr>\n",
       "      <th>0</th>\n",
       "      <td>Afghanistan</td>\n",
       "      <td>2004.0</td>\n",
       "      <td>0.045700</td>\n",
       "      <td>AFG</td>\n",
       "    </tr>\n",
       "    <tr>\n",
       "      <th>0</th>\n",
       "      <td>Afghanistan</td>\n",
       "      <td>2005.0</td>\n",
       "      <td>0.063927</td>\n",
       "      <td>AFG</td>\n",
       "    </tr>\n",
       "    <tr>\n",
       "      <th>0</th>\n",
       "      <td>Afghanistan</td>\n",
       "      <td>2006.0</td>\n",
       "      <td>0.073393</td>\n",
       "      <td>AFG</td>\n",
       "    </tr>\n",
       "    <tr>\n",
       "      <th>0</th>\n",
       "      <td>Afghanistan</td>\n",
       "      <td>2007.0</td>\n",
       "      <td>0.087083</td>\n",
       "      <td>AFG</td>\n",
       "    </tr>\n",
       "    <tr>\n",
       "      <th>0</th>\n",
       "      <td>Afghanistan</td>\n",
       "      <td>2008.0</td>\n",
       "      <td>0.158356</td>\n",
       "      <td>AFG</td>\n",
       "    </tr>\n",
       "    <tr>\n",
       "      <th>0</th>\n",
       "      <td>Afghanistan</td>\n",
       "      <td>2009.0</td>\n",
       "      <td>0.211306</td>\n",
       "      <td>AFG</td>\n",
       "    </tr>\n",
       "  </tbody>\n",
       "</table>\n",
       "</div>"
      ],
      "text/plain": [
       "       Country    Year       CO2 iso_alpha\n",
       "0  Afghanistan  2000.0  0.037055       AFG\n",
       "0  Afghanistan  2001.0  0.037488       AFG\n",
       "0  Afghanistan  2002.0  0.048671       AFG\n",
       "0  Afghanistan  2003.0  0.057008       AFG\n",
       "0  Afghanistan  2004.0  0.045700       AFG\n",
       "0  Afghanistan  2005.0  0.063927       AFG\n",
       "0  Afghanistan  2006.0  0.073393       AFG\n",
       "0  Afghanistan  2007.0  0.087083       AFG\n",
       "0  Afghanistan  2008.0  0.158356       AFG\n",
       "0  Afghanistan  2009.0  0.211306       AFG"
      ]
     },
     "execution_count": 43,
     "metadata": {},
     "output_type": "execute_result"
    }
   ],
   "source": [
    "#Reading the dataframe with countries available with iso_alpha and iso_num\n",
    "df_countries= px.data.gapminder()\n",
    "\n",
    "#Getting a lists of countries available in the dataframe\n",
    "av_countries = df_countries['country'].unique().tolist()\n",
    "\n",
    "#Creating a filter to match the countries in the main dataframe\n",
    "filter1 = data['Country'].isin(av_countries)\n",
    "\n",
    "#Creating the new dataframe\n",
    "new_df = data[filter1]\n",
    "\n",
    "#Indexing the iso code for the available countries\n",
    "\n",
    "#Getting the exact country\n",
    "filter2 = new_df['Country'].unique().tolist()\n",
    "\n",
    "#Computing the iso code for every country\n",
    "iso_code = pd.DataFrame({'iso_alpha': []})\n",
    "for i in range(0,len(filter2)):\n",
    "    for i_c in range (0,len(Year_list)):\n",
    "        iso_count = df_countries[df_countries['country']==filter2[i]]['iso_alpha'].iloc[0]\n",
    "        iso_code_i = pd.DataFrame({'iso_alpha': [iso_count]})\n",
    "        iso_code = iso_code.append(iso_code_i)\n",
    "\n",
    "#Indexing the iso codes in the dataframe\n",
    "new_df['iso_alpha'] = iso_code.loc[0,:]\n",
    "\n",
    "new_df.head(10)"
   ]
  },
  {
   "cell_type": "code",
   "execution_count": 44,
   "id": "70c589f3-3a0f-4124-96f5-ae0e01dcc340",
   "metadata": {},
   "outputs": [
    {
     "data": {},
     "metadata": {},
     "output_type": "display_data"
    },
    {
     "data": {
      "application/vnd.holoviews_exec.v0+json": "",
      "text/html": [
       "<div id='2222'>\n",
       "  <div class=\"bk-root\" id=\"9cf271ba-c35c-433f-a6ac-844f6836f08e\" data-root-id=\"2222\"></div>\n",
       "</div>\n",
       "<script type=\"application/javascript\">(function(root) {\n",
       "  function embed_document(root) {\n",
       "    var docs_json = {\"c8a02dc8-9ea5-4b07-9dd1-20a31eea33a5\":{\"defs\":[{\"extends\":null,\"module\":null,\"name\":\"ReactiveHTML1\",\"overrides\":[],\"properties\":[]},{\"extends\":null,\"module\":null,\"name\":\"FlexBox1\",\"overrides\":[],\"properties\":[{\"default\":\"flex-start\",\"kind\":null,\"name\":\"align_content\"},{\"default\":\"flex-start\",\"kind\":null,\"name\":\"align_items\"},{\"default\":\"row\",\"kind\":null,\"name\":\"flex_direction\"},{\"default\":\"wrap\",\"kind\":null,\"name\":\"flex_wrap\"},{\"default\":\"flex-start\",\"kind\":null,\"name\":\"justify_content\"}]},{\"extends\":null,\"module\":null,\"name\":\"GridStack1\",\"overrides\":[],\"properties\":[{\"default\":\"warn\",\"kind\":null,\"name\":\"mode\"},{\"default\":null,\"kind\":null,\"name\":\"ncols\"},{\"default\":null,\"kind\":null,\"name\":\"nrows\"},{\"default\":true,\"kind\":null,\"name\":\"allow_resize\"},{\"default\":true,\"kind\":null,\"name\":\"allow_drag\"},{\"default\":[],\"kind\":null,\"name\":\"state\"}]},{\"extends\":null,\"module\":null,\"name\":\"click1\",\"overrides\":[],\"properties\":[{\"default\":\"\",\"kind\":null,\"name\":\"terminal_output\"},{\"default\":\"\",\"kind\":null,\"name\":\"debug_name\"},{\"default\":0,\"kind\":null,\"name\":\"clears\"}]},{\"extends\":null,\"module\":null,\"name\":\"NotificationAreaBase1\",\"overrides\":[],\"properties\":[{\"default\":\"bottom-right\",\"kind\":null,\"name\":\"position\"},{\"default\":0,\"kind\":null,\"name\":\"_clear\"}]},{\"extends\":null,\"module\":null,\"name\":\"NotificationArea1\",\"overrides\":[],\"properties\":[{\"default\":[],\"kind\":null,\"name\":\"notifications\"},{\"default\":\"bottom-right\",\"kind\":null,\"name\":\"position\"},{\"default\":0,\"kind\":null,\"name\":\"_clear\"},{\"default\":[{\"background\":\"#ffc107\",\"icon\":{\"className\":\"fas fa-exclamation-triangle\",\"color\":\"white\",\"tagName\":\"i\"},\"type\":\"warning\"},{\"background\":\"#007bff\",\"icon\":{\"className\":\"fas fa-info-circle\",\"color\":\"white\",\"tagName\":\"i\"},\"type\":\"info\"}],\"kind\":null,\"name\":\"types\"}]},{\"extends\":null,\"module\":null,\"name\":\"Notification\",\"overrides\":[],\"properties\":[{\"default\":null,\"kind\":null,\"name\":\"background\"},{\"default\":3000,\"kind\":null,\"name\":\"duration\"},{\"default\":null,\"kind\":null,\"name\":\"icon\"},{\"default\":\"\",\"kind\":null,\"name\":\"message\"},{\"default\":null,\"kind\":null,\"name\":\"notification_type\"},{\"default\":false,\"kind\":null,\"name\":\"_destroyed\"}]},{\"extends\":null,\"module\":null,\"name\":\"TemplateActions1\",\"overrides\":[],\"properties\":[{\"default\":0,\"kind\":null,\"name\":\"open_modal\"},{\"default\":0,\"kind\":null,\"name\":\"close_modal\"}]},{\"extends\":null,\"module\":null,\"name\":\"MaterialTemplateActions1\",\"overrides\":[],\"properties\":[{\"default\":0,\"kind\":null,\"name\":\"open_modal\"},{\"default\":0,\"kind\":null,\"name\":\"close_modal\"}]}],\"roots\":{\"references\":[{\"attributes\":{},\"id\":\"2223\",\"type\":\"UnionRenderers\"},{\"attributes\":{\"data\":[{\"coloraxis\":\"coloraxis\",\"geo\":\"geo\",\"hovertemplate\":\"<b>%{hovertext}</b><br><br>Year=2000.0<br>iso_alpha=%{location}<br>CO2=%{z}<extra></extra>\",\"name\":\"\",\"type\":\"choropleth\"}],\"data_sources\":[{\"id\":\"2221\"}],\"frames\":[{\"data\":[{\"coloraxis\":\"coloraxis\",\"geo\":\"geo\",\"hovertemplate\":\"<b>%{hovertext}</b><br><br>Year=2000.0<br>iso_alpha=%{location}<br>CO2=%{z}<extra></extra>\",\"hovertext\":[\"Afghanistan\",\"Angola\",\"Albania\",\"Argentina\",\"Australia\",\"Austria\",\"Burundi\",\"Belgium\",\"Benin\",\"Burkina Faso\",\"Bangladesh\",\"Bulgaria\",\"Bahrain\",\"Bosnia and Herzegovina\",\"Bolivia\",\"Brazil\",\"Botswana\",\"Central African Republic\",\"Canada\",\"Switzerland\",\"Chile\",\"China\",\"Cote d'Ivoire\",\"Cameroon\",\"Congo, Dem. Rep.\",\"Congo, Rep.\",\"Colombia\",\"Comoros\",\"Costa Rica\",\"Cuba\",\"Czech Republic\",\"Germany\",\"Djibouti\",\"Denmark\",\"Dominican Republic\",\"Algeria\",\"Ecuador\",\"Eritrea\",\"Spain\",\"Ethiopia\",\"Finland\",\"France\",\"Gabon\",\"United Kingdom\",\"Ghana\",\"Guinea\",\"Guinea-Bissau\",\"Equatorial Guinea\",\"Greece\",\"Guatemala\",\"Honduras\",\"Croatia\",\"Haiti\",\"Hungary\",\"Indonesia\",\"India\",\"Ireland\",\"Iraq\",\"Iceland\",\"Israel\",\"Italy\",\"Jamaica\",\"Jordan\",\"Japan\",\"Kenya\",\"Cambodia\",\"Korea, Rep.\",\"Kuwait\",\"Lebanon\",\"Liberia\",\"Libya\",\"Sri Lanka\",\"Lesotho\",\"Morocco\",\"Madagascar\",\"Mexico\",\"Mali\",\"Myanmar\",\"Montenegro\",\"Mongolia\",\"Mozambique\",\"Mauritania\",\"Mauritius\",\"Malawi\",\"Malaysia\",\"Namibia\",\"Niger\",\"Nigeria\",\"Nicaragua\",\"Netherlands\",\"Norway\",\"Nepal\",\"New Zealand\",\"Oman\",\"Pakistan\",\"Panama\",\"Peru\",\"Philippines\",\"Poland\",\"Portugal\",\"Paraguay\",\"Romania\",\"Rwanda\",\"Saudi Arabia\",\"Sudan\",\"Senegal\",\"Singapore\",\"Sierra Leone\",\"El Salvador\",\"Somalia\",\"Serbia\",\"Sao Tome and Principe\",\"Slovak Republic\",\"Slovenia\",\"Sweden\",\"Chad\",\"Togo\",\"Thailand\",\"Trinidad and Tobago\",\"Tunisia\",\"Turkey\",\"Tanzania\",\"Uganda\",\"Uruguay\",\"United States\",\"Vietnam\",\"Yemen, Rep.\",\"South Africa\",\"Zambia\",\"Zimbabwe\"],\"locations\":[\"AFG\",\"AGO\",\"ALB\",\"ARG\",\"AUS\",\"AUT\",\"BDI\",\"BEL\",\"BEN\",\"BFA\",\"BGD\",\"BGR\",\"BHR\",\"BIH\",\"BOL\",\"BRA\",\"BWA\",\"CAF\",\"CAN\",\"CHE\",\"CHL\",\"CHN\",\"CIV\",\"CMR\",\"COD\",\"COG\",\"COL\",\"COM\",\"CRI\",\"CUB\",\"CZE\",\"DEU\",\"DJI\",\"DNK\",\"DOM\",\"DZA\",\"ECU\",\"ERI\",\"ESP\",\"ETH\",\"FIN\",\"FRA\",\"GAB\",\"GBR\",\"GHA\",\"GIN\",\"GNB\",\"GNQ\",\"GRC\",\"GTM\",\"HND\",\"HRV\",\"HTI\",\"HUN\",\"IDN\",\"IND\",\"IRL\",\"IRQ\",\"ISL\",\"ISR\",\"ITA\",\"JAM\",\"JOR\",\"JPN\",\"KEN\",\"KHM\",\"KOR\",\"KWT\",\"LBN\",\"LBR\",\"LBY\",\"LKA\",\"LSO\",\"MAR\",\"MDG\",\"MEX\",\"MLI\",\"MMR\",\"MNE\",\"MNG\",\"MOZ\",\"MRT\",\"MUS\",\"MWI\",\"MYS\",\"NAM\",\"NER\",\"NGA\",\"NIC\",\"NLD\",\"NOR\",\"NPL\",\"NZL\",\"OMN\",\"PAK\",\"PAN\",\"PER\",\"PHL\",\"POL\",\"PRT\",\"PRY\",\"ROU\",\"RWA\",\"SAU\",\"SDN\",\"SEN\",\"SGP\",\"SLE\",\"SLV\",\"SOM\",\"SRB\",\"STP\",\"SVK\",\"SVN\",\"SWE\",\"TCD\",\"TGO\",\"THA\",\"TTO\",\"TUN\",\"TUR\",\"TZA\",\"UGA\",\"URY\",\"USA\",\"VNM\",\"YEM\",\"ZAF\",\"ZMB\",\"ZWE\"],\"name\":\"\",\"type\":\"choropleth\",\"z\":[0.0370549371204185,0.7544763717456949,1.026213108529,3.57762821285442,17.689656972797998,7.92978551259517,0.0407595638789372,11.4405560297525,0.22283892124989,0.0904552405502056,0.169593941656331,5.30343792027879,23.8937121018342,3.71883377372856,0.950314019388782,1.7888288436811102,2.45233315463147,0.0659264409253765,16.783045409055,6.08414239482201,3.247220927693609,2.64847997655715,0.38469345462015,0.431869549097251,0.0195304912364351,0.9144918175365,1.46909037138943,0.184380058927867,1.24925265668089,2.53450727156428,12.0106526893106,10.0968832733247,0.515624107238666,9.87149637726758,2.2027271556477,2.53171179217169,1.6851819826998002,0.279181805372767,7.230107062082441,0.0537562894292379,10.6448561099446,6.12747793966756,3.80182015192627,9.00148361810467,0.297735601449257,0.180809114720956,0.124864210171439,3.87673628295226,8.74159526062281,0.812786389641685,0.7665970543812389,4.0395658126957406,0.173680811531272,5.35012781840238,1.32459428585239,0.889827520407466,11.2005390555071,3.17351707870965,7.93015771412315,9.06344410876133,7.66216803916005,3.78950826044996,3.17618660437931,9.32609603998644,0.257472675125765,0.1612473171037909,9.6938590023326,23.0646274087182,4.07778339293437,0.150959452642089,7.44135801144218,0.582076330710102,0.860879425227703,1.15615681112155,0.1046502379746409,3.88756928789929,0.128808906779624,0.205480780291003,0.0,3.75404028585765,0.0807365659012219,0.425820379078989,2.047396814992,0.0789326086841477,5.2448339355802505,1.08103108075804,0.0591268934615451,0.6220772255188921,0.743690955968367,10.1911944689003,7.588566115048269,0.134496749710613,7.64704357518729,9.93838991910398,0.6910743563339979,1.74238276783443,1.07445427700074,0.938432506399362,7.72923671676787,5.99228486035527,0.661256138692464,3.9602599851864495,0.0655432883168584,11.824520515064002,0.203482901331801,0.414381656324306,10.5712995424152,0.0872491858560345,0.956193433006167,0.0552283806249824,5.85257783502782,0.351459258842715,7.06475749343072,7.31048179292834,6.00533649890911,0.0610365149155291,0.257899125295518,2.59147197943521,11.3324373657923,2.15587679344383,3.42535307765333,0.0880618649228308,0.0562364083894743,1.64471008821791,20.471933095298105,0.629580043080995,0.7978599202680029,6.33187638428488,0.173772088976686,1.1530548125225502]}],\"name\":\"2000.0\"},{\"data\":[{\"coloraxis\":\"coloraxis\",\"geo\":\"geo\",\"hovertemplate\":\"<b>%{hovertext}</b><br><br>Year=2001.0<br>iso_alpha=%{location}<br>CO2=%{z}<extra></extra>\",\"hovertext\":[\"Afghanistan\",\"Angola\",\"Albania\",\"Argentina\",\"Australia\",\"Austria\",\"Burundi\",\"Belgium\",\"Benin\",\"Burkina Faso\",\"Bangladesh\",\"Bulgaria\",\"Bahrain\",\"Bosnia and Herzegovina\",\"Bolivia\",\"Brazil\",\"Botswana\",\"Central African Republic\",\"Canada\",\"Switzerland\",\"Chile\",\"China\",\"Cote d'Ivoire\",\"Cameroon\",\"Congo, Dem. Rep.\",\"Congo, Rep.\",\"Colombia\",\"Comoros\",\"Costa Rica\",\"Cuba\",\"Czech Republic\",\"Germany\",\"Djibouti\",\"Denmark\",\"Dominican Republic\",\"Algeria\",\"Ecuador\",\"Eritrea\",\"Spain\",\"Ethiopia\",\"Finland\",\"France\",\"Gabon\",\"United Kingdom\",\"Ghana\",\"Guinea\",\"Guinea-Bissau\",\"Equatorial Guinea\",\"Greece\",\"Guatemala\",\"Honduras\",\"Croatia\",\"Haiti\",\"Hungary\",\"Indonesia\",\"India\",\"Ireland\",\"Iraq\",\"Iceland\",\"Israel\",\"Italy\",\"Jamaica\",\"Jordan\",\"Japan\",\"Kenya\",\"Cambodia\",\"Korea, Rep.\",\"Kuwait\",\"Lebanon\",\"Liberia\",\"Libya\",\"Sri Lanka\",\"Lesotho\",\"Morocco\",\"Madagascar\",\"Mexico\",\"Mali\",\"Myanmar\",\"Montenegro\",\"Mongolia\",\"Mozambique\",\"Mauritania\",\"Mauritius\",\"Malawi\",\"Malaysia\",\"Namibia\",\"Niger\",\"Nigeria\",\"Nicaragua\",\"Netherlands\",\"Norway\",\"Nepal\",\"New Zealand\",\"Oman\",\"Pakistan\",\"Panama\",\"Peru\",\"Philippines\",\"Poland\",\"Portugal\",\"Paraguay\",\"Romania\",\"Rwanda\",\"Saudi Arabia\",\"Sudan\",\"Senegal\",\"Singapore\",\"Sierra Leone\",\"El Salvador\",\"Somalia\",\"Serbia\",\"Sao Tome and Principe\",\"Slovak Republic\",\"Slovenia\",\"Sweden\",\"Chad\",\"Togo\",\"Thailand\",\"Trinidad and Tobago\",\"Tunisia\",\"Turkey\",\"Tanzania\",\"Uganda\",\"Uruguay\",\"United States\",\"Vietnam\",\"Yemen, Rep.\",\"South Africa\",\"Zambia\",\"Zimbabwe\"],\"locations\":[\"AFG\",\"AGO\",\"ALB\",\"ARG\",\"AUS\",\"AUT\",\"BDI\",\"BEL\",\"BEN\",\"BFA\",\"BGD\",\"BGR\",\"BHR\",\"BIH\",\"BOL\",\"BRA\",\"BWA\",\"CAF\",\"CAN\",\"CHE\",\"CHL\",\"CHN\",\"CIV\",\"CMR\",\"COD\",\"COG\",\"COL\",\"COM\",\"CRI\",\"CUB\",\"CZE\",\"DEU\",\"DJI\",\"DNK\",\"DOM\",\"DZA\",\"ECU\",\"ERI\",\"ESP\",\"ETH\",\"FIN\",\"FRA\",\"GAB\",\"GBR\",\"GHA\",\"GIN\",\"GNB\",\"GNQ\",\"GRC\",\"GTM\",\"HND\",\"HRV\",\"HTI\",\"HUN\",\"IDN\",\"IND\",\"IRL\",\"IRQ\",\"ISL\",\"ISR\",\"ITA\",\"JAM\",\"JOR\",\"JPN\",\"KEN\",\"KHM\",\"KOR\",\"KWT\",\"LBN\",\"LBR\",\"LBY\",\"LKA\",\"LSO\",\"MAR\",\"MDG\",\"MEX\",\"MLI\",\"MMR\",\"MNE\",\"MNG\",\"MOZ\",\"MRT\",\"MUS\",\"MWI\",\"MYS\",\"NAM\",\"NER\",\"NGA\",\"NIC\",\"NLD\",\"NOR\",\"NPL\",\"NZL\",\"OMN\",\"PAK\",\"PAN\",\"PER\",\"PHL\",\"POL\",\"PRT\",\"PRY\",\"ROU\",\"RWA\",\"SAU\",\"SDN\",\"SEN\",\"SGP\",\"SLE\",\"SLV\",\"SOM\",\"SRB\",\"STP\",\"SVK\",\"SVN\",\"SWE\",\"TCD\",\"TGO\",\"THA\",\"TTO\",\"TUN\",\"TUR\",\"TZA\",\"UGA\",\"URY\",\"USA\",\"VNM\",\"YEM\",\"ZAF\",\"ZMB\",\"ZWE\"],\"name\":\"\",\"type\":\"choropleth\",\"z\":[0.0374878650392429,0.7618428050969469,1.0522280929869,3.34990858910446,17.769535878019898,8.44410916140459,0.0321812151810745,11.5043206822099,0.260007167154086,0.0853943153674019,0.198172463991475,5.76591100519881,23.4965235466992,3.66394586733001,0.919554269086054,1.80342619486481,2.310897523936,0.0671679004066613,16.3418845783401,6.24632253984659,3.08518010181932,2.7729291976255097,0.371446624989089,0.39739065636004,0.0163126969732348,0.929168751340147,1.45469157408658,0.197879095872422,1.34355492735136,2.43535952140483,12.0118180158673,10.2914483528674,0.518404024997988,10.0489234216052,2.2061733545197297,2.3773101154147995,1.8134430174700704,0.2947714699958439,7.21632868721128,0.0645545380358419,11.7752324206131,6.14204323283934,3.64067637089748,9.20979383630894,0.314320105113502,0.1865254490808099,0.1222389282090769,4.32193166598592,8.89420235364475,0.8263442941179201,0.866421244826651,4.46548805691265,0.185856117163696,5.52633914093009,1.40760916401274,0.88733015496834,11.6159279176192,3.48229428914477,7.57979843350832,8.99984469638143,7.662604586996549,3.7686384970909,3.11462112406964,9.20667877844104,0.231669148205512,0.173311468680884,9.93283451583575,24.1623412652566,4.23202311000328,0.152339528925553,7.61126305263639,0.573718095655674,0.8694635557227901,1.2675819052065,0.102700134118996,3.81622185820532,0.142836826314766,0.1802007105582939,0.0,3.70723352760835,0.0773794850192219,0.436648096787861,2.14831390795018,0.0769769001944629,5.34688873878253,1.34893047908417,0.0561636929976809,0.6790593550191372,0.7637939140201271,10.4323895157601,7.705343072757,0.142522031256848,8.17420435510888,11.015447334789,0.6837312542824828,2.0131788774165,0.9836081845305672,0.8995533975310971,7.67620311149769,5.92315416740891,0.6668580045618979,4.2522197526926,0.0631746475279882,11.7249516876337,0.217724902047926,0.443399240063523,10.2150501255192,0.0904488344615949,0.990382825985688,0.0555149232277596,6.153183482813799,0.3453992815694939,7.17251421163602,7.7206509844081,5.90155531274871,0.0599213025877129,0.233083150833835,2.70431524229377,12.1340613245865,2.2105562484461,3.08105762872315,0.0910258170446802,0.0553528820031544,1.4885109507796002,20.1750046772639,0.692572065516921,0.841594455388211,7.03513388873587,0.171152850999659,1.16572539233369]}],\"name\":\"2001.0\"},{\"data\":[{\"coloraxis\":\"coloraxis\",\"geo\":\"geo\",\"hovertemplate\":\"<b>%{hovertext}</b><br><br>Year=2002.0<br>iso_alpha=%{location}<br>CO2=%{z}<extra></extra>\",\"hovertext\":[\"Afghanistan\",\"Angola\",\"Albania\",\"Argentina\",\"Australia\",\"Austria\",\"Burundi\",\"Belgium\",\"Benin\",\"Burkina Faso\",\"Bangladesh\",\"Bulgaria\",\"Bahrain\",\"Bosnia and Herzegovina\",\"Bolivia\",\"Brazil\",\"Botswana\",\"Central African Republic\",\"Canada\",\"Switzerland\",\"Chile\",\"China\",\"Cote d'Ivoire\",\"Cameroon\",\"Congo, Dem. Rep.\",\"Congo, Rep.\",\"Colombia\",\"Comoros\",\"Costa Rica\",\"Cuba\",\"Czech Republic\",\"Germany\",\"Djibouti\",\"Denmark\",\"Dominican Republic\",\"Algeria\",\"Ecuador\",\"Eritrea\",\"Spain\",\"Ethiopia\",\"Finland\",\"France\",\"Gabon\",\"United Kingdom\",\"Ghana\",\"Guinea\",\"Guinea-Bissau\",\"Equatorial Guinea\",\"Greece\",\"Guatemala\",\"Honduras\",\"Croatia\",\"Haiti\",\"Hungary\",\"Indonesia\",\"India\",\"Ireland\",\"Iraq\",\"Iceland\",\"Israel\",\"Italy\",\"Jamaica\",\"Jordan\",\"Japan\",\"Kenya\",\"Cambodia\",\"Korea, Rep.\",\"Kuwait\",\"Lebanon\",\"Liberia\",\"Libya\",\"Sri Lanka\",\"Lesotho\",\"Morocco\",\"Madagascar\",\"Mexico\",\"Mali\",\"Myanmar\",\"Montenegro\",\"Mongolia\",\"Mozambique\",\"Mauritania\",\"Mauritius\",\"Malawi\",\"Malaysia\",\"Namibia\",\"Niger\",\"Nigeria\",\"Nicaragua\",\"Netherlands\",\"Norway\",\"Nepal\",\"New Zealand\",\"Oman\",\"Pakistan\",\"Panama\",\"Peru\",\"Philippines\",\"Poland\",\"Portugal\",\"Paraguay\",\"Romania\",\"Rwanda\",\"Saudi Arabia\",\"Sudan\",\"Senegal\",\"Singapore\",\"Sierra Leone\",\"El Salvador\",\"Somalia\",\"Serbia\",\"Sao Tome and Principe\",\"Slovak Republic\",\"Slovenia\",\"Sweden\",\"Chad\",\"Togo\",\"Thailand\",\"Trinidad and Tobago\",\"Tunisia\",\"Turkey\",\"Tanzania\",\"Uganda\",\"Uruguay\",\"United States\",\"Vietnam\",\"Yemen, Rep.\",\"South Africa\",\"Zambia\",\"Zimbabwe\"],\"locations\":[\"AFG\",\"AGO\",\"ALB\",\"ARG\",\"AUS\",\"AUT\",\"BDI\",\"BEL\",\"BEN\",\"BFA\",\"BGD\",\"BGR\",\"BHR\",\"BIH\",\"BOL\",\"BRA\",\"BWA\",\"CAF\",\"CAN\",\"CHE\",\"CHL\",\"CHN\",\"CIV\",\"CMR\",\"COD\",\"COG\",\"COL\",\"COM\",\"CRI\",\"CUB\",\"CZE\",\"DEU\",\"DJI\",\"DNK\",\"DOM\",\"DZA\",\"ECU\",\"ERI\",\"ESP\",\"ETH\",\"FIN\",\"FRA\",\"GAB\",\"GBR\",\"GHA\",\"GIN\",\"GNB\",\"GNQ\",\"GRC\",\"GTM\",\"HND\",\"HRV\",\"HTI\",\"HUN\",\"IDN\",\"IND\",\"IRL\",\"IRQ\",\"ISL\",\"ISR\",\"ITA\",\"JAM\",\"JOR\",\"JPN\",\"KEN\",\"KHM\",\"KOR\",\"KWT\",\"LBN\",\"LBR\",\"LBY\",\"LKA\",\"LSO\",\"MAR\",\"MDG\",\"MEX\",\"MLI\",\"MMR\",\"MNE\",\"MNG\",\"MOZ\",\"MRT\",\"MUS\",\"MWI\",\"MYS\",\"NAM\",\"NER\",\"NGA\",\"NIC\",\"NLD\",\"NOR\",\"NPL\",\"NZL\",\"OMN\",\"PAK\",\"PAN\",\"PER\",\"PHL\",\"POL\",\"PRT\",\"PRY\",\"ROU\",\"RWA\",\"SAU\",\"SDN\",\"SEN\",\"SGP\",\"SLE\",\"SLV\",\"SOM\",\"SRB\",\"STP\",\"SVK\",\"SVN\",\"SWE\",\"TCD\",\"TGO\",\"THA\",\"TTO\",\"TUN\",\"TUR\",\"TZA\",\"UGA\",\"URY\",\"USA\",\"VNM\",\"YEM\",\"ZAF\",\"ZMB\",\"ZWE\"],\"name\":\"\",\"type\":\"choropleth\",\"z\":[0.0486708995010525,0.777423085629899,1.22910118288698,3.1174247964060497,17.9574992112521,8.58331713469893,0.0328156515144871,10.7279886303644,0.290594072977493,0.0829733955568723,0.207053126231595,5.56706695192302,23.4241096933917,3.87296978312167,0.9413436531133772,1.76720718153163,2.36413969660403,0.0657526349053386,16.7560164628412,5.980985216657309,3.10435589779484,2.9743283348953504,0.3702513164958739,0.3802512653900129,0.0176452883972003,0.8458253684777801,1.3805381985231495,0.193158671068343,1.34603876884271,2.31792668065756,11.6241028169694,10.1005600841669,0.535513229184935,10.0410514941505,2.39198420533975,2.52424179354584,1.79480829446421,0.274076513295331,7.548593755513611,0.065153462065359,12.1985971613264,6.00547532632575,3.36099230775202,8.930869498290551,0.366485340388818,0.189842229460556,0.119573934157809,6.121010711009309,8.86074161288612,0.861904464763913,0.8846534561303531,4.71389581174541,0.209043758455991,5.4761439756313095,1.4080930800777798,0.903241997603391,11.2005578915484,3.1850733369051896,7.790681093338621,9.29680365296804,7.77212964817281,3.80638603884445,3.1725351357796097,9.47051669347562,0.219840478771083,0.174873329593734,9.69550969911975,24.983727119112803,4.026584062713329,0.148773757102707,7.88270391931293,0.596984358170471,0.8867728954908579,1.29928043900537,0.0668053593645188,3.82299161357153,0.120514182367226,0.176721546148756,0.0,3.92917498376146,0.0836702036069106,0.457147464613367,2.16665656667118,0.0734185369683249,5.631518426813249,1.1504067741135802,0.0574241746587445,0.6696160619329611,0.7778785145355991,10.3722048688182,7.595591075588139,0.112838401455979,7.99797391414461,11.5381650291666,0.6840535515635789,1.71789933617956,1.01656900470404,0.896451384780187,7.51444584728516,6.29676809092376,0.683302367805396,4.30685061215354,0.0617059731738028,12.2405897055774,0.262673966633996,0.445365254936602,9.90672781043834,0.106730678223115,0.996286735347834,0.0599915696057449,6.6310750505367695,0.4069175991861649,7.082131900243111,7.7812818057387005,6.052689547670701,0.058763357299174,0.257839077628804,2.85332586181609,12.5429647434643,2.20133982882228,3.1947019647156103,0.101033570597137,0.0611906079092198,1.36197755533147,19.4494784745785,0.8129083567494191,0.8208772173715401,7.1812230453599,0.174995606881119,1.04481293874928]}],\"name\":\"2002.0\"},{\"data\":[{\"coloraxis\":\"coloraxis\",\"geo\":\"geo\",\"hovertemplate\":\"<b>%{hovertext}</b><br><br>Year=2003.0<br>iso_alpha=%{location}<br>CO2=%{z}<extra></extra>\",\"hovertext\":[\"Afghanistan\",\"Angola\",\"Albania\",\"Argentina\",\"Australia\",\"Austria\",\"Burundi\",\"Belgium\",\"Benin\",\"Burkina Faso\",\"Bangladesh\",\"Bulgaria\",\"Bahrain\",\"Bosnia and Herzegovina\",\"Bolivia\",\"Brazil\",\"Botswana\",\"Central African Republic\",\"Canada\",\"Switzerland\",\"Chile\",\"China\",\"Cote d'Ivoire\",\"Cameroon\",\"Congo, Dem. Rep.\",\"Congo, Rep.\",\"Colombia\",\"Comoros\",\"Costa Rica\",\"Cuba\",\"Czech Republic\",\"Germany\",\"Djibouti\",\"Denmark\",\"Dominican Republic\",\"Algeria\",\"Ecuador\",\"Eritrea\",\"Spain\",\"Ethiopia\",\"Finland\",\"France\",\"Gabon\",\"United Kingdom\",\"Ghana\",\"Guinea\",\"Guinea-Bissau\",\"Equatorial Guinea\",\"Greece\",\"Guatemala\",\"Honduras\",\"Croatia\",\"Haiti\",\"Hungary\",\"Indonesia\",\"India\",\"Ireland\",\"Iraq\",\"Iceland\",\"Israel\",\"Italy\",\"Jamaica\",\"Jordan\",\"Japan\",\"Kenya\",\"Cambodia\",\"Korea, Rep.\",\"Kuwait\",\"Lebanon\",\"Liberia\",\"Libya\",\"Sri Lanka\",\"Lesotho\",\"Morocco\",\"Madagascar\",\"Mexico\",\"Mali\",\"Myanmar\",\"Montenegro\",\"Mongolia\",\"Mozambique\",\"Mauritania\",\"Mauritius\",\"Malawi\",\"Malaysia\",\"Namibia\",\"Niger\",\"Nigeria\",\"Nicaragua\",\"Netherlands\",\"Norway\",\"Nepal\",\"New Zealand\",\"Oman\",\"Pakistan\",\"Panama\",\"Peru\",\"Philippines\",\"Poland\",\"Portugal\",\"Paraguay\",\"Romania\",\"Rwanda\",\"Saudi Arabia\",\"Sudan\",\"Senegal\",\"Singapore\",\"Sierra Leone\",\"El Salvador\",\"Somalia\",\"Serbia\",\"Sao Tome and Principe\",\"Slovak Republic\",\"Slovenia\",\"Sweden\",\"Chad\",\"Togo\",\"Thailand\",\"Trinidad and Tobago\",\"Tunisia\",\"Turkey\",\"Tanzania\",\"Uganda\",\"Uruguay\",\"United States\",\"Vietnam\",\"Yemen, Rep.\",\"South Africa\",\"Zambia\",\"Zimbabwe\"],\"locations\":[\"AFG\",\"AGO\",\"ALB\",\"ARG\",\"AUS\",\"AUT\",\"BDI\",\"BEL\",\"BEN\",\"BFA\",\"BGD\",\"BGR\",\"BHR\",\"BIH\",\"BOL\",\"BRA\",\"BWA\",\"CAF\",\"CAN\",\"CHE\",\"CHL\",\"CHN\",\"CIV\",\"CMR\",\"COD\",\"COG\",\"COL\",\"COM\",\"CRI\",\"CUB\",\"CZE\",\"DEU\",\"DJI\",\"DNK\",\"DOM\",\"DZA\",\"ECU\",\"ERI\",\"ESP\",\"ETH\",\"FIN\",\"FRA\",\"GAB\",\"GBR\",\"GHA\",\"GIN\",\"GNB\",\"GNQ\",\"GRC\",\"GTM\",\"HND\",\"HRV\",\"HTI\",\"HUN\",\"IDN\",\"IND\",\"IRL\",\"IRQ\",\"ISL\",\"ISR\",\"ITA\",\"JAM\",\"JOR\",\"JPN\",\"KEN\",\"KHM\",\"KOR\",\"KWT\",\"LBN\",\"LBR\",\"LBY\",\"LKA\",\"LSO\",\"MAR\",\"MDG\",\"MEX\",\"MLI\",\"MMR\",\"MNE\",\"MNG\",\"MOZ\",\"MRT\",\"MUS\",\"MWI\",\"MYS\",\"NAM\",\"NER\",\"NGA\",\"NIC\",\"NLD\",\"NOR\",\"NPL\",\"NZL\",\"OMN\",\"PAK\",\"PAN\",\"PER\",\"PHL\",\"POL\",\"PRT\",\"PRY\",\"ROU\",\"RWA\",\"SAU\",\"SDN\",\"SEN\",\"SGP\",\"SLE\",\"SLV\",\"SOM\",\"SRB\",\"STP\",\"SVK\",\"SVN\",\"SWE\",\"TCD\",\"TGO\",\"THA\",\"TTO\",\"TUN\",\"TUR\",\"TZA\",\"UGA\",\"URY\",\"USA\",\"VNM\",\"YEM\",\"ZAF\",\"ZMB\",\"ZWE\"],\"name\":\"\",\"type\":\"choropleth\",\"z\":[0.0570080382600792,0.993848349116355,1.35214448140818,3.3701021737474104,17.692029313308602,9.16834402049986,0.0246050135465073,11.1313145272907,0.31646596342079,0.0869247478234043,0.2124019629176,6.1592264865516295,23.063844213748897,3.94983864404113,1.02292658059561,1.7015086427618602,2.2601645422849703,0.0618367843841507,17.2342155682583,6.10982339421946,3.14896563324525,3.42541136293077,0.292620070679963,0.363076457533238,0.0208067646019686,0.8629507927259709,1.35040432098527,0.2400495187864469,1.39287372182823,2.2468237899722903,12.0433612013657,10.1358011982818,0.53973005598712,11.0081041462375,2.11517847326825,2.59854905872488,1.7921149634269398,0.265285439443408,7.55339626091952,0.0695574281160353,13.755957685899196,6.054152566444019,3.3258936350426502,9.08804728145118,0.343609357509296,0.194216972575535,0.155848568180242,7.514526628511509,9.170878297814712,0.848950177256609,0.9526727113304592,5.02161198624622,0.203368318676582,5.74852668706375,1.52226772382139,0.913962074164491,11.064623456251098,2.8107388160339903,7.702377375043611,9.40101947770453,8.06445942307569,3.90855963487631,3.1854776081719,9.51925335504784,0.188299582964003,0.1851251045120669,9.70113586037681,25.7352567002803,3.967297256526221,0.155993311786757,7.87823956573606,0.6455460237381989,0.901724424097842,1.28295164430684,0.0897035436777261,3.94835053048563,0.116835181944091,0.225757980342108,0.0,3.77111632739447,0.0988045324070331,0.4549988625028439,2.26641502591955,0.0733322150170543,5.82254513282233,1.20801676109952,0.0600886323139429,0.6723242892069801,0.8559904688390179,10.5058136976433,8.131693120592,0.120410448118248,8.30353595550258,11.596017708757698,0.690167048447839,1.72324820757257,0.984209645860984,0.900279668260729,7.7922615016999295,5.78650308672459,0.6994517824747559,4.61752547912737,0.0595992128229459,12.3843076292118,0.263063950982259,0.425936800085757,9.28836359058682,0.111515429313253,1.08607249659038,0.0590907442295851,7.098369634163929,0.465410059506,7.13518173125489,7.72648445458385,6.16193223013165,0.0810760671664011,0.343299074086754,2.95662886493631,11.9355170447286,2.199032666947,3.3161141327924297,0.1034735805805189,0.0623543453492338,1.3509199644608798,19.5087047137039,0.856118923496674,0.91651298833221,7.55813407176488,0.185666542888971,0.8495922166002808]}],\"name\":\"2003.0\"},{\"data\":[{\"coloraxis\":\"coloraxis\",\"geo\":\"geo\",\"hovertemplate\":\"<b>%{hovertext}</b><br><br>Year=2004.0<br>iso_alpha=%{location}<br>CO2=%{z}<extra></extra>\",\"hovertext\":[\"Afghanistan\",\"Angola\",\"Albania\",\"Argentina\",\"Australia\",\"Austria\",\"Burundi\",\"Belgium\",\"Benin\",\"Burkina Faso\",\"Bangladesh\",\"Bulgaria\",\"Bahrain\",\"Bosnia and Herzegovina\",\"Bolivia\",\"Brazil\",\"Botswana\",\"Central African Republic\",\"Canada\",\"Switzerland\",\"Chile\",\"China\",\"Cote d'Ivoire\",\"Cameroon\",\"Congo, Dem. Rep.\",\"Congo, Rep.\",\"Colombia\",\"Comoros\",\"Costa Rica\",\"Cuba\",\"Czech Republic\",\"Germany\",\"Djibouti\",\"Denmark\",\"Dominican Republic\",\"Algeria\",\"Ecuador\",\"Eritrea\",\"Spain\",\"Ethiopia\",\"Finland\",\"France\",\"Gabon\",\"United Kingdom\",\"Ghana\",\"Guinea\",\"Guinea-Bissau\",\"Equatorial Guinea\",\"Greece\",\"Guatemala\",\"Honduras\",\"Croatia\",\"Haiti\",\"Hungary\",\"Indonesia\",\"India\",\"Ireland\",\"Iraq\",\"Iceland\",\"Israel\",\"Italy\",\"Jamaica\",\"Jordan\",\"Japan\",\"Kenya\",\"Cambodia\",\"Korea, Rep.\",\"Kuwait\",\"Lebanon\",\"Liberia\",\"Libya\",\"Sri Lanka\",\"Lesotho\",\"Morocco\",\"Madagascar\",\"Mexico\",\"Mali\",\"Myanmar\",\"Montenegro\",\"Mongolia\",\"Mozambique\",\"Mauritania\",\"Mauritius\",\"Malawi\",\"Malaysia\",\"Namibia\",\"Niger\",\"Nigeria\",\"Nicaragua\",\"Netherlands\",\"Norway\",\"Nepal\",\"New Zealand\",\"Oman\",\"Pakistan\",\"Panama\",\"Peru\",\"Philippines\",\"Poland\",\"Portugal\",\"Paraguay\",\"Romania\",\"Rwanda\",\"Saudi Arabia\",\"Sudan\",\"Senegal\",\"Singapore\",\"Sierra Leone\",\"El Salvador\",\"Somalia\",\"Serbia\",\"Sao Tome and Principe\",\"Slovak Republic\",\"Slovenia\",\"Sweden\",\"Chad\",\"Togo\",\"Thailand\",\"Trinidad and Tobago\",\"Tunisia\",\"Turkey\",\"Tanzania\",\"Uganda\",\"Uruguay\",\"United States\",\"Vietnam\",\"Yemen, Rep.\",\"South Africa\",\"Zambia\",\"Zimbabwe\"],\"locations\":[\"AFG\",\"AGO\",\"ALB\",\"ARG\",\"AUS\",\"AUT\",\"BDI\",\"BEL\",\"BEN\",\"BFA\",\"BGD\",\"BGR\",\"BHR\",\"BIH\",\"BOL\",\"BRA\",\"BWA\",\"CAF\",\"CAN\",\"CHE\",\"CHL\",\"CHN\",\"CIV\",\"CMR\",\"COD\",\"COG\",\"COL\",\"COM\",\"CRI\",\"CUB\",\"CZE\",\"DEU\",\"DJI\",\"DNK\",\"DOM\",\"DZA\",\"ECU\",\"ERI\",\"ESP\",\"ETH\",\"FIN\",\"FRA\",\"GAB\",\"GBR\",\"GHA\",\"GIN\",\"GNB\",\"GNQ\",\"GRC\",\"GTM\",\"HND\",\"HRV\",\"HTI\",\"HUN\",\"IDN\",\"IND\",\"IRL\",\"IRQ\",\"ISL\",\"ISR\",\"ITA\",\"JAM\",\"JOR\",\"JPN\",\"KEN\",\"KHM\",\"KOR\",\"KWT\",\"LBN\",\"LBR\",\"LBY\",\"LKA\",\"LSO\",\"MAR\",\"MDG\",\"MEX\",\"MLI\",\"MMR\",\"MNE\",\"MNG\",\"MOZ\",\"MRT\",\"MUS\",\"MWI\",\"MYS\",\"NAM\",\"NER\",\"NGA\",\"NIC\",\"NLD\",\"NOR\",\"NPL\",\"NZL\",\"OMN\",\"PAK\",\"PAN\",\"PER\",\"PHL\",\"POL\",\"PRT\",\"PRY\",\"ROU\",\"RWA\",\"SAU\",\"SDN\",\"SEN\",\"SGP\",\"SLE\",\"SLV\",\"SOM\",\"SRB\",\"STP\",\"SVK\",\"SVN\",\"SWE\",\"TCD\",\"TGO\",\"THA\",\"TTO\",\"TUN\",\"TUR\",\"TZA\",\"UGA\",\"URY\",\"USA\",\"VNM\",\"YEM\",\"ZAF\",\"ZMB\",\"ZWE\"],\"name\":\"\",\"type\":\"choropleth\",\"z\":[0.0456996082249427,1.02835366708572,1.41727335767255,3.6851842085505098,18.1478978904379,9.275613726244089,0.0224350812879083,10.9412245516012,0.326451486534908,0.0867191135679651,0.222868792353146,6.11388569962394,21.606418540307494,4.13634366347749,1.03869823544797,1.77580703557726,2.24861274187455,0.0606078512925761,16.8202561907387,6.12750985334168,3.41742714255136,3.95180062882163,0.301605526348109,0.378925661158648,0.0220468237225858,0.8147061873231719,1.33615511929106,0.251159519782998,1.40586525089251,2.21948275652114,12.1054013292601,9.9474939848219,0.518403989637104,9.971277761238133,1.92212464638478,2.5966475808430203,1.86961391957718,0.250017556379878,7.817921366239769,0.0717946568288141,12.945251227388802,6.02743954575417,3.2722996510531903,9.04048907859009,0.31120242222666,0.198303130198105,0.159879161806848,10.112295295760198,9.11444225135943,0.8476508794910121,1.04490582322857,4.90405612600474,0.184589904236526,5.579220879959591,1.53686533554733,0.962435743168246,11.0214035361851,2.86123217753336,7.94319247861843,9.275958290497869,8.189430910220901,3.8788748840832894,3.3296052984091498,9.47934033077387,0.208501314161614,0.182145528920386,10.084746183951,27.0347893976727,3.91300608376153,0.17859113282269,7.96649762887679,0.663841668758688,0.932225231598148,1.40028974076742,0.0926810504661239,3.96297432479841,0.1196532191000819,0.2164132726692539,0.0,3.82952370499208,0.0959290474612227,0.4797148656492179,2.26862669461091,0.0739726920459115,6.251129635534969,1.24755141825105,0.0601862849322341,0.6549639736560079,0.838780748304265,10.5737831228393,8.15782539291929,0.110545762857623,8.04159021406728,11.253211990559098,0.757349942359063,1.71593426962374,1.1330634204918502,0.900950417695346,7.90472592192251,5.92625178834401,0.6927774547530821,4.50918964738911,0.0599042729717911,12.718367421751198,0.281655747900432,0.4986084292021359,9.508806085635891,0.104895201412589,1.10893437548817,0.0572542575697285,7.71121390049814,0.4553260134256129,6.96910808818602,7.866752928875741,5.95872744531597,0.0790979871000428,0.325544051779793,3.21269369265038,12.3787414300276,2.27792523815444,3.3516920299419803,0.136437451213579,0.0659923269938445,1.64384254517406,19.603572883438694,1.01682077512924,0.94165351081182,8.03461755689857,0.182673844681001,0.812817998402817]}],\"name\":\"2004.0\"},{\"data\":[{\"coloraxis\":\"coloraxis\",\"geo\":\"geo\",\"hovertemplate\":\"<b>%{hovertext}</b><br><br>Year=2005.0<br>iso_alpha=%{location}<br>CO2=%{z}<extra></extra>\",\"hovertext\":[\"Afghanistan\",\"Angola\",\"Albania\",\"Argentina\",\"Australia\",\"Austria\",\"Burundi\",\"Belgium\",\"Benin\",\"Burkina Faso\",\"Bangladesh\",\"Bulgaria\",\"Bahrain\",\"Bosnia and Herzegovina\",\"Bolivia\",\"Brazil\",\"Botswana\",\"Central African Republic\",\"Canada\",\"Switzerland\",\"Chile\",\"China\",\"Cote d'Ivoire\",\"Cameroon\",\"Congo, Dem. Rep.\",\"Congo, Rep.\",\"Colombia\",\"Comoros\",\"Costa Rica\",\"Cuba\",\"Czech Republic\",\"Germany\",\"Djibouti\",\"Denmark\",\"Dominican Republic\",\"Algeria\",\"Ecuador\",\"Eritrea\",\"Spain\",\"Ethiopia\",\"Finland\",\"France\",\"Gabon\",\"United Kingdom\",\"Ghana\",\"Guinea\",\"Guinea-Bissau\",\"Equatorial Guinea\",\"Greece\",\"Guatemala\",\"Honduras\",\"Croatia\",\"Haiti\",\"Hungary\",\"Indonesia\",\"India\",\"Ireland\",\"Iraq\",\"Iceland\",\"Israel\",\"Italy\",\"Jamaica\",\"Jordan\",\"Japan\",\"Kenya\",\"Cambodia\",\"Korea, Rep.\",\"Kuwait\",\"Lebanon\",\"Liberia\",\"Libya\",\"Sri Lanka\",\"Lesotho\",\"Morocco\",\"Madagascar\",\"Mexico\",\"Mali\",\"Myanmar\",\"Montenegro\",\"Mongolia\",\"Mozambique\",\"Mauritania\",\"Mauritius\",\"Malawi\",\"Malaysia\",\"Namibia\",\"Niger\",\"Nigeria\",\"Nicaragua\",\"Netherlands\",\"Norway\",\"Nepal\",\"New Zealand\",\"Oman\",\"Pakistan\",\"Panama\",\"Peru\",\"Philippines\",\"Poland\",\"Portugal\",\"Paraguay\",\"Romania\",\"Rwanda\",\"Saudi Arabia\",\"Sudan\",\"Senegal\",\"Singapore\",\"Sierra Leone\",\"El Salvador\",\"Somalia\",\"Serbia\",\"Sao Tome and Principe\",\"Slovak Republic\",\"Slovenia\",\"Sweden\",\"Chad\",\"Togo\",\"Thailand\",\"Trinidad and Tobago\",\"Tunisia\",\"Turkey\",\"Tanzania\",\"Uganda\",\"Uruguay\",\"United States\",\"Vietnam\",\"Yemen, Rep.\",\"South Africa\",\"Zambia\",\"Zimbabwe\"],\"locations\":[\"AFG\",\"AGO\",\"ALB\",\"ARG\",\"AUS\",\"AUT\",\"BDI\",\"BEL\",\"BEN\",\"BFA\",\"BGD\",\"BGR\",\"BHR\",\"BIH\",\"BOL\",\"BRA\",\"BWA\",\"CAF\",\"CAN\",\"CHE\",\"CHL\",\"CHN\",\"CIV\",\"CMR\",\"COD\",\"COG\",\"COL\",\"COM\",\"CRI\",\"CUB\",\"CZE\",\"DEU\",\"DJI\",\"DNK\",\"DOM\",\"DZA\",\"ECU\",\"ERI\",\"ESP\",\"ETH\",\"FIN\",\"FRA\",\"GAB\",\"GBR\",\"GHA\",\"GIN\",\"GNB\",\"GNQ\",\"GRC\",\"GTM\",\"HND\",\"HRV\",\"HTI\",\"HUN\",\"IDN\",\"IND\",\"IRL\",\"IRQ\",\"ISL\",\"ISR\",\"ITA\",\"JAM\",\"JOR\",\"JPN\",\"KEN\",\"KHM\",\"KOR\",\"KWT\",\"LBN\",\"LBR\",\"LBY\",\"LKA\",\"LSO\",\"MAR\",\"MDG\",\"MEX\",\"MLI\",\"MMR\",\"MNE\",\"MNG\",\"MOZ\",\"MRT\",\"MUS\",\"MWI\",\"MYS\",\"NAM\",\"NER\",\"NGA\",\"NIC\",\"NLD\",\"NOR\",\"NPL\",\"NZL\",\"OMN\",\"PAK\",\"PAN\",\"PER\",\"PHL\",\"POL\",\"PRT\",\"PRY\",\"ROU\",\"RWA\",\"SAU\",\"SDN\",\"SEN\",\"SGP\",\"SLE\",\"SLV\",\"SOM\",\"SRB\",\"STP\",\"SVK\",\"SVN\",\"SWE\",\"TCD\",\"TGO\",\"THA\",\"TTO\",\"TUN\",\"TUR\",\"TZA\",\"UGA\",\"URY\",\"USA\",\"VNM\",\"YEM\",\"ZAF\",\"ZMB\",\"ZWE\"],\"name\":\"\",\"type\":\"choropleth\",\"z\":[0.0639269698296666,0.937036691701652,1.35149180454706,3.76212392773554,18.117853570518,9.26611381933193,0.0217247938418899,10.555782313639302,0.348273908158166,0.0856806414276332,0.235263647224499,6.25149171455386,23.2804780258155,4.3103768804450695,1.090735668172,1.77572199746423,2.37899767491886,0.0594297713439548,17.0566372965331,6.1650250130595,3.44318038637897,4.46347375203265,0.316543402704283,0.372742791458923,0.0271967817117304,1.33047180683316,1.35786825329582,0.2288984263233189,1.4630717880557298,2.29630178200477,11.7517835290136,9.72687792088563,0.548995975731824,9.27587983390141,2.05116660375396,2.68448722945473,1.96371446246409,0.212265177225503,8.029202013004559,0.0661459604269021,10.5716708195961,6.027601800816081,3.32961777713854,8.9501524191421,0.3218021212169,0.2019850520084069,0.156141839246772,10.7934737507788,9.27888290077084,0.889692632819834,0.942487862284692,4.98127093172039,0.185964791318685,5.54769895901335,1.52194445037097,0.991399582912634,11.245424785223902,3.2772114128971,7.717349545384081,8.80073880607783,8.173783296052799,3.8540145985401497,3.4462788946723903,9.49981608007952,0.2274409126665939,0.198894702959425,9.96335735008564,29.6229929045774,3.67756521346798,0.208196477812781,8.47271288057579,0.7152728873509671,0.9518489666176552,1.46081686291598,0.0932554902670172,4.07895088239964,0.12915336680519,0.226353740927643,3.2722246732252205,4.37772049006721,0.0834393525457566,0.479465960892772,2.40992498294327,0.0720737845469054,6.47746268433045,1.30525672800513,0.0557819700048604,0.708889857599409,0.790631276784933,10.2923626588156,7.86669063227904,0.1239099613509679,8.287573477829651,11.0980410583716,0.75899537558035,2.1379956050978004,1.12502126236357,0.904707422079525,7.89588592508223,6.233261260952481,0.635291835040466,4.49396883678159,0.0576908719466258,12.9731159600566,0.325045491829048,0.511265745204088,8.650271627906099,0.0850215272735775,1.13018173454476,0.0555190958887535,6.92267156795218,0.508026823816297,7.16943675810428,7.963112742280081,5.56061793405047,0.0792343583948307,0.3118516270546789,3.30361647940084,15.171650994950198,2.28955261508663,3.46094288183632,0.147723076344508,0.0805502266784518,1.62863556765476,19.478026004217803,1.0979014360775,0.963823496763582,7.887120032656241,0.1931471720723699,0.8702710683227379]}],\"name\":\"2005.0\"},{\"data\":[{\"coloraxis\":\"coloraxis\",\"geo\":\"geo\",\"hovertemplate\":\"<b>%{hovertext}</b><br><br>Year=2006.0<br>iso_alpha=%{location}<br>CO2=%{z}<extra></extra>\",\"hovertext\":[\"Afghanistan\",\"Angola\",\"Albania\",\"Argentina\",\"Australia\",\"Austria\",\"Burundi\",\"Belgium\",\"Benin\",\"Burkina Faso\",\"Bangladesh\",\"Bulgaria\",\"Bahrain\",\"Bosnia and Herzegovina\",\"Bolivia\",\"Brazil\",\"Botswana\",\"Central African Republic\",\"Canada\",\"Switzerland\",\"Chile\",\"China\",\"Cote d'Ivoire\",\"Cameroon\",\"Congo, Dem. Rep.\",\"Congo, Rep.\",\"Colombia\",\"Comoros\",\"Costa Rica\",\"Cuba\",\"Czech Republic\",\"Germany\",\"Djibouti\",\"Denmark\",\"Dominican Republic\",\"Algeria\",\"Ecuador\",\"Eritrea\",\"Spain\",\"Ethiopia\",\"Finland\",\"France\",\"Gabon\",\"United Kingdom\",\"Ghana\",\"Guinea\",\"Guinea-Bissau\",\"Equatorial Guinea\",\"Greece\",\"Guatemala\",\"Honduras\",\"Croatia\",\"Haiti\",\"Hungary\",\"Indonesia\",\"India\",\"Ireland\",\"Iraq\",\"Iceland\",\"Israel\",\"Italy\",\"Jamaica\",\"Jordan\",\"Japan\",\"Kenya\",\"Cambodia\",\"Korea, Rep.\",\"Kuwait\",\"Lebanon\",\"Liberia\",\"Libya\",\"Sri Lanka\",\"Lesotho\",\"Morocco\",\"Madagascar\",\"Mexico\",\"Mali\",\"Myanmar\",\"Montenegro\",\"Mongolia\",\"Mozambique\",\"Mauritania\",\"Mauritius\",\"Malawi\",\"Malaysia\",\"Namibia\",\"Niger\",\"Nigeria\",\"Nicaragua\",\"Netherlands\",\"Norway\",\"Nepal\",\"New Zealand\",\"Oman\",\"Pakistan\",\"Panama\",\"Peru\",\"Philippines\",\"Poland\",\"Portugal\",\"Paraguay\",\"Romania\",\"Rwanda\",\"Saudi Arabia\",\"Sudan\",\"Senegal\",\"Singapore\",\"Sierra Leone\",\"El Salvador\",\"Somalia\",\"Serbia\",\"Sao Tome and Principe\",\"Slovak Republic\",\"Slovenia\",\"Sweden\",\"Chad\",\"Togo\",\"Thailand\",\"Trinidad and Tobago\",\"Tunisia\",\"Turkey\",\"Tanzania\",\"Uganda\",\"Uruguay\",\"United States\",\"Vietnam\",\"Yemen, Rep.\",\"South Africa\",\"Zambia\",\"Zimbabwe\"],\"locations\":[\"AFG\",\"AGO\",\"ALB\",\"ARG\",\"AUS\",\"AUT\",\"BDI\",\"BEL\",\"BEN\",\"BFA\",\"BGD\",\"BGR\",\"BHR\",\"BIH\",\"BOL\",\"BRA\",\"BWA\",\"CAF\",\"CAN\",\"CHE\",\"CHL\",\"CHN\",\"CIV\",\"CMR\",\"COD\",\"COG\",\"COL\",\"COM\",\"CRI\",\"CUB\",\"CZE\",\"DEU\",\"DJI\",\"DNK\",\"DOM\",\"DZA\",\"ECU\",\"ERI\",\"ESP\",\"ETH\",\"FIN\",\"FRA\",\"GAB\",\"GBR\",\"GHA\",\"GIN\",\"GNB\",\"GNQ\",\"GRC\",\"GTM\",\"HND\",\"HRV\",\"HTI\",\"HUN\",\"IDN\",\"IND\",\"IRL\",\"IRQ\",\"ISL\",\"ISR\",\"ITA\",\"JAM\",\"JOR\",\"JPN\",\"KEN\",\"KHM\",\"KOR\",\"KWT\",\"LBN\",\"LBR\",\"LBY\",\"LKA\",\"LSO\",\"MAR\",\"MDG\",\"MEX\",\"MLI\",\"MMR\",\"MNE\",\"MNG\",\"MOZ\",\"MRT\",\"MUS\",\"MWI\",\"MYS\",\"NAM\",\"NER\",\"NGA\",\"NIC\",\"NLD\",\"NOR\",\"NPL\",\"NZL\",\"OMN\",\"PAK\",\"PAN\",\"PER\",\"PHL\",\"POL\",\"PRT\",\"PRY\",\"ROU\",\"RWA\",\"SAU\",\"SDN\",\"SEN\",\"SGP\",\"SLE\",\"SLV\",\"SOM\",\"SRB\",\"STP\",\"SVK\",\"SVN\",\"SWE\",\"TCD\",\"TGO\",\"THA\",\"TTO\",\"TUN\",\"TUR\",\"TZA\",\"UGA\",\"URY\",\"USA\",\"VNM\",\"YEM\",\"ZAF\",\"ZMB\",\"ZWE\"],\"name\":\"\",\"type\":\"choropleth\",\"z\":[0.0733929460601948,1.0094340395153198,1.35336220283257,3.954453814005421,18.1206789094546,8.96156938002267,0.0249742042758467,10.3005719211244,0.46611292127085,0.101235265478276,0.2547523844432889,6.442554698565531,23.476064326503,4.75643898612161,1.18780911907456,1.77490938079997,2.22777683667672,0.0631362954778628,16.611928080946697,6.077017782358849,3.4883350503931405,4.906034995652241,0.3001879933973569,0.381371992051878,0.0282795202930833,1.32171188122857,1.33608324511565,0.239453280270486,1.5096350848398798,2.33544420193121,11.7786032783779,9.88340709166992,0.5411841108345061,10.7057362589181,2.2042198878559702,2.7867774588317205,2.0705039674938703,0.178191486627586,7.698212588016861,0.0687992699123402,12.7262797867484,5.8408041976332,2.8248903606909503,8.90169773868215,0.376691475427226,0.2041381817798939,0.159700112225624,11.6763161987217,9.13763086911301,0.8710900280247299,1.05183255297313,5.014892746938821,0.18405989908381,5.5066986914392,1.5877496926084298,1.04183979629495,11.1873129646707,3.05631087938833,7.66997386283585,9.12003629300934,8.02576652003813,4.37842677244597,3.3664093764098,9.309524926869711,0.247018257225636,0.2188799947765589,10.0527904658571,29.3512847875076,3.40983579003983,0.20725631388338,8.38645433892419,0.630077908803407,0.9648566057249158,1.4994470484671998,0.0868631875664881,4.18100922223476,0.143145186027394,0.207094984936325,3.54457135888785,4.8537353049451,0.0882348420605815,0.469165540883599,2.67423881438838,0.0716835214152208,6.590348185482661,1.2884780639146,0.0530261343191575,0.646843667742506,0.8179540737830849,10.0152323786571,8.01600282534061,0.10051143054735,8.19911102614348,14.5383924769244,0.8076934459030061,2.20834968465415,1.1059689407055802,0.805678319760766,8.23491259480184,5.74494824699723,0.647702128724626,4.6683552139875095,0.0563950804912609,13.4029637061132,0.392902190347593,0.489357485043408,8.44510737009996,0.108075838359718,1.1892630763423,0.0538837953218461,7.253524860930259,0.494816794081991,7.04999428630347,8.12709156755701,5.3851630498524,0.0784154569488622,0.272433180556739,3.31380615305229,17.0588199165945,2.35952378595051,3.7972966430132,0.153228935711763,0.0909998521252403,1.90352868509471,18.9576435024889,1.13168019705606,0.938241021889004,7.827679844017251,0.1790772396278539,0.8086876915594392]}],\"name\":\"2006.0\"},{\"data\":[{\"coloraxis\":\"coloraxis\",\"geo\":\"geo\",\"hovertemplate\":\"<b>%{hovertext}</b><br><br>Year=2007.0<br>iso_alpha=%{location}<br>CO2=%{z}<extra></extra>\",\"hovertext\":[\"Afghanistan\",\"Angola\",\"Albania\",\"Argentina\",\"Australia\",\"Austria\",\"Burundi\",\"Belgium\",\"Benin\",\"Burkina Faso\",\"Bangladesh\",\"Bulgaria\",\"Bahrain\",\"Bosnia and Herzegovina\",\"Bolivia\",\"Brazil\",\"Botswana\",\"Central African Republic\",\"Canada\",\"Switzerland\",\"Chile\",\"China\",\"Cote d'Ivoire\",\"Cameroon\",\"Congo, Dem. Rep.\",\"Congo, Rep.\",\"Colombia\",\"Comoros\",\"Costa Rica\",\"Cuba\",\"Czech Republic\",\"Germany\",\"Djibouti\",\"Denmark\",\"Dominican Republic\",\"Algeria\",\"Ecuador\",\"Eritrea\",\"Spain\",\"Ethiopia\",\"Finland\",\"France\",\"Gabon\",\"United Kingdom\",\"Ghana\",\"Guinea\",\"Guinea-Bissau\",\"Equatorial Guinea\",\"Greece\",\"Guatemala\",\"Honduras\",\"Croatia\",\"Haiti\",\"Hungary\",\"Indonesia\",\"India\",\"Ireland\",\"Iraq\",\"Iceland\",\"Israel\",\"Italy\",\"Jamaica\",\"Jordan\",\"Japan\",\"Kenya\",\"Cambodia\",\"Korea, Rep.\",\"Kuwait\",\"Lebanon\",\"Liberia\",\"Libya\",\"Sri Lanka\",\"Lesotho\",\"Morocco\",\"Madagascar\",\"Mexico\",\"Mali\",\"Myanmar\",\"Montenegro\",\"Mongolia\",\"Mozambique\",\"Mauritania\",\"Mauritius\",\"Malawi\",\"Malaysia\",\"Namibia\",\"Niger\",\"Nigeria\",\"Nicaragua\",\"Netherlands\",\"Norway\",\"Nepal\",\"New Zealand\",\"Oman\",\"Pakistan\",\"Panama\",\"Peru\",\"Philippines\",\"Poland\",\"Portugal\",\"Paraguay\",\"Romania\",\"Rwanda\",\"Saudi Arabia\",\"Sudan\",\"Senegal\",\"Singapore\",\"Sierra Leone\",\"El Salvador\",\"Somalia\",\"Serbia\",\"Sao Tome and Principe\",\"Slovak Republic\",\"Slovenia\",\"Sweden\",\"Chad\",\"Togo\",\"Thailand\",\"Trinidad and Tobago\",\"Tunisia\",\"Turkey\",\"Tanzania\",\"Uganda\",\"Uruguay\",\"United States\",\"Vietnam\",\"Yemen, Rep.\",\"South Africa\",\"Zambia\",\"Zimbabwe\"],\"locations\":[\"AFG\",\"AGO\",\"ALB\",\"ARG\",\"AUS\",\"AUT\",\"BDI\",\"BEL\",\"BEN\",\"BFA\",\"BGD\",\"BGR\",\"BHR\",\"BIH\",\"BOL\",\"BRA\",\"BWA\",\"CAF\",\"CAN\",\"CHE\",\"CHL\",\"CHN\",\"CIV\",\"CMR\",\"COD\",\"COG\",\"COL\",\"COM\",\"CRI\",\"CUB\",\"CZE\",\"DEU\",\"DJI\",\"DNK\",\"DOM\",\"DZA\",\"ECU\",\"ERI\",\"ESP\",\"ETH\",\"FIN\",\"FRA\",\"GAB\",\"GBR\",\"GHA\",\"GIN\",\"GNB\",\"GNQ\",\"GRC\",\"GTM\",\"HND\",\"HRV\",\"HTI\",\"HUN\",\"IDN\",\"IND\",\"IRL\",\"IRQ\",\"ISL\",\"ISR\",\"ITA\",\"JAM\",\"JOR\",\"JPN\",\"KEN\",\"KHM\",\"KOR\",\"KWT\",\"LBN\",\"LBR\",\"LBY\",\"LKA\",\"LSO\",\"MAR\",\"MDG\",\"MEX\",\"MLI\",\"MMR\",\"MNE\",\"MNG\",\"MOZ\",\"MRT\",\"MUS\",\"MWI\",\"MYS\",\"NAM\",\"NER\",\"NGA\",\"NIC\",\"NLD\",\"NOR\",\"NPL\",\"NZL\",\"OMN\",\"PAK\",\"PAN\",\"PER\",\"PHL\",\"POL\",\"PRT\",\"PRY\",\"ROU\",\"RWA\",\"SAU\",\"SDN\",\"SEN\",\"SGP\",\"SLE\",\"SLV\",\"SOM\",\"SRB\",\"STP\",\"SVK\",\"SVN\",\"SWE\",\"TCD\",\"TGO\",\"THA\",\"TTO\",\"TUN\",\"TUR\",\"TZA\",\"UGA\",\"URY\",\"USA\",\"VNM\",\"YEM\",\"ZAF\",\"ZMB\",\"ZWE\"],\"name\":\"\",\"type\":\"choropleth\",\"z\":[0.0870831291861248,1.1236352782253,1.42086728796502,4.12329277901139,18.5028519848662,8.58780201813347,0.0241661839789393,9.84311621822562,0.519232293173456,0.1178779526760719,0.266296779341981,6.9738426562203095,22.212054166135697,5.0202097326160295,1.25962003415202,1.84883593997795,2.30343734703736,0.061934195393811,17.3708402727049,5.76603434962006,3.91646780338606,5.30259468770037,0.2894959900893259,0.4335225474169289,0.0299382312701678,1.3234874125511498,1.35330057182951,0.187025422989165,1.72545864279964,2.41753774314141,12.0042785450927,9.52515567357219,0.583520390933831,9.77764464230849,2.20369604157083,2.9420221444239,2.06903006137003,0.170196293057994,7.842252303352059,0.0752407738851992,12.3092165968325,5.6690313848081,2.7503030426500694,8.62913806968256,0.3940960321018,0.208023421335996,0.1629420245192319,9.18842477540082,9.44112367383257,0.920826915926573,1.1026417298028302,5.310637492265469,0.214842318376095,5.35612354287783,1.63520707646083,1.1292167893743998,10.688933839091302,2.77558411768276,7.63883093790722,9.27424409130792,7.860768047535941,4.34212631975173,3.37154632319205,9.58086264951055,0.242081743848372,0.263158798864294,10.3012022232192,27.451791634751395,3.15689208274539,0.184868992877055,7.74755782048093,0.684909276483814,0.986448413277596,1.53159111234332,0.0885068685446589,4.235667944114899,0.151632188656813,0.212004966639547,3.4097828293079,5.01962550201074,0.102891486070961,0.5370783934611331,2.74275388624025,0.07345331307421,7.048555882484701,1.30574587992321,0.0558377556381833,0.6158946143292591,0.835410530036676,10.0496310027973,8.06939167192062,0.101961195161081,7.905203844879019,15.4412866057847,0.871590791925153,2.16581139315239,1.2038943918851002,0.8339533363289741,8.22049833475689,5.57717924484993,0.658505642309738,4.61811440530859,0.0582288153056382,13.7993119522419,0.4147015852817899,0.5305004381762489,8.34459494063439,0.0901556537361755,1.24962945129311,0.0559560625776503,7.1231372041131,0.481067006620685,6.9251381771592495,8.07681597049138,5.152987092827661,0.0813456718694927,0.2533629711706719,3.38686928833165,16.8672857197447,2.37949003802041,4.15295056668079,0.145275179212051,0.0997072033536891,1.75583244015988,19.0560269540732,1.23367488028624,0.9693403702213,8.08025021943305,0.1583625250920619,0.796349845625624]}],\"name\":\"2007.0\"},{\"data\":[{\"coloraxis\":\"coloraxis\",\"geo\":\"geo\",\"hovertemplate\":\"<b>%{hovertext}</b><br><br>Year=2008.0<br>iso_alpha=%{location}<br>CO2=%{z}<extra></extra>\",\"hovertext\":[\"Afghanistan\",\"Angola\",\"Albania\",\"Argentina\",\"Australia\",\"Austria\",\"Burundi\",\"Belgium\",\"Benin\",\"Burkina Faso\",\"Bangladesh\",\"Bulgaria\",\"Bahrain\",\"Bosnia and Herzegovina\",\"Bolivia\",\"Brazil\",\"Botswana\",\"Central African Republic\",\"Canada\",\"Switzerland\",\"Chile\",\"China\",\"Cote d'Ivoire\",\"Cameroon\",\"Congo, Dem. Rep.\",\"Congo, Rep.\",\"Colombia\",\"Comoros\",\"Costa Rica\",\"Cuba\",\"Czech Republic\",\"Germany\",\"Djibouti\",\"Denmark\",\"Dominican Republic\",\"Algeria\",\"Ecuador\",\"Eritrea\",\"Spain\",\"Ethiopia\",\"Finland\",\"France\",\"Gabon\",\"United Kingdom\",\"Ghana\",\"Guinea\",\"Guinea-Bissau\",\"Equatorial Guinea\",\"Greece\",\"Guatemala\",\"Honduras\",\"Croatia\",\"Haiti\",\"Hungary\",\"Indonesia\",\"India\",\"Ireland\",\"Iraq\",\"Iceland\",\"Israel\",\"Italy\",\"Jamaica\",\"Jordan\",\"Japan\",\"Kenya\",\"Cambodia\",\"Korea, Rep.\",\"Kuwait\",\"Lebanon\",\"Liberia\",\"Libya\",\"Sri Lanka\",\"Lesotho\",\"Morocco\",\"Madagascar\",\"Mexico\",\"Mali\",\"Myanmar\",\"Montenegro\",\"Mongolia\",\"Mozambique\",\"Mauritania\",\"Mauritius\",\"Malawi\",\"Malaysia\",\"Namibia\",\"Niger\",\"Nigeria\",\"Nicaragua\",\"Netherlands\",\"Norway\",\"Nepal\",\"New Zealand\",\"Oman\",\"Pakistan\",\"Panama\",\"Peru\",\"Philippines\",\"Poland\",\"Portugal\",\"Paraguay\",\"Romania\",\"Rwanda\",\"Saudi Arabia\",\"Sudan\",\"Senegal\",\"Singapore\",\"Sierra Leone\",\"El Salvador\",\"Somalia\",\"Serbia\",\"Sao Tome and Principe\",\"Slovak Republic\",\"Slovenia\",\"Sweden\",\"Chad\",\"Togo\",\"Thailand\",\"Trinidad and Tobago\",\"Tunisia\",\"Turkey\",\"Tanzania\",\"Uganda\",\"Uruguay\",\"United States\",\"Vietnam\",\"Yemen, Rep.\",\"South Africa\",\"Zambia\",\"Zimbabwe\"],\"locations\":[\"AFG\",\"AGO\",\"ALB\",\"ARG\",\"AUS\",\"AUT\",\"BDI\",\"BEL\",\"BEN\",\"BFA\",\"BGD\",\"BGR\",\"BHR\",\"BIH\",\"BOL\",\"BRA\",\"BWA\",\"CAF\",\"CAN\",\"CHE\",\"CHL\",\"CHN\",\"CIV\",\"CMR\",\"COD\",\"COG\",\"COL\",\"COM\",\"CRI\",\"CUB\",\"CZE\",\"DEU\",\"DJI\",\"DNK\",\"DOM\",\"DZA\",\"ECU\",\"ERI\",\"ESP\",\"ETH\",\"FIN\",\"FRA\",\"GAB\",\"GBR\",\"GHA\",\"GIN\",\"GNB\",\"GNQ\",\"GRC\",\"GTM\",\"HND\",\"HRV\",\"HTI\",\"HUN\",\"IDN\",\"IND\",\"IRL\",\"IRQ\",\"ISL\",\"ISR\",\"ITA\",\"JAM\",\"JOR\",\"JPN\",\"KEN\",\"KHM\",\"KOR\",\"KWT\",\"LBN\",\"LBR\",\"LBY\",\"LKA\",\"LSO\",\"MAR\",\"MDG\",\"MEX\",\"MLI\",\"MMR\",\"MNE\",\"MNG\",\"MOZ\",\"MRT\",\"MUS\",\"MWI\",\"MYS\",\"NAM\",\"NER\",\"NGA\",\"NIC\",\"NLD\",\"NOR\",\"NPL\",\"NZL\",\"OMN\",\"PAK\",\"PAN\",\"PER\",\"PHL\",\"POL\",\"PRT\",\"PRY\",\"ROU\",\"RWA\",\"SAU\",\"SDN\",\"SEN\",\"SGP\",\"SLE\",\"SLV\",\"SOM\",\"SRB\",\"STP\",\"SVK\",\"SVN\",\"SWE\",\"TCD\",\"TGO\",\"THA\",\"TTO\",\"TUN\",\"TUR\",\"TZA\",\"UGA\",\"URY\",\"USA\",\"VNM\",\"YEM\",\"ZAF\",\"ZMB\",\"ZWE\"],\"name\":\"\",\"type\":\"choropleth\",\"z\":[0.158356377673251,1.1559928457501798,1.41484755272088,4.19534263823654,18.2830412439057,8.49967361637859,0.0246120404070635,9.98415215425847,0.5001773617426409,0.13002285611201,0.288141373384069,6.67728964769189,22.222321905180603,5.5297167671613705,1.3393054148159098,1.9380268626479,2.2916671016832004,0.0608419401277868,16.5488028165328,5.8789109108323805,4.08480718064214,5.43161049480808,0.324397640507023,0.4264342708966039,0.0309545275507296,1.34862708018249,1.35577986581937,0.1825853167931319,1.68491883374041,2.34137746146094,11.3928284018176,9.615747987729211,0.57572568998274,9.12330865198018,2.17168835235992,2.9941892170951,2.08314127798103,0.146925246393638,7.05399426114393,0.0829753053430935,10.6636072314539,5.564428999658389,2.71972120552795,8.3228443641371,0.3632685889120239,0.206391015891492,0.152045425644258,10.431683508763,9.064040547251038,0.8180912286718559,1.08383019325381,5.04442879501033,0.210437492290006,5.28282594428397,1.6018193079616498,1.18590477170691,10.3239883605106,3.03109952501149,6.868002041497849,9.125985113835382,7.56424830065774,3.4581067620366,3.05194576413264,9.05507445554141,0.2490451343165,0.28378326305376,10.4615850531615,27.4509508623838,3.91626414425116,0.149673089028048,8.49516566150718,0.641013323469434,1.01150906080629,1.5911566443616203,0.0890156845636201,4.30816070189315,0.148084348277949,0.160826308348055,4.36002457173699,4.92800065656015,0.100553962553345,0.54607723898494,2.78911777873696,0.0801287946538651,7.38471059795375,1.4485788756091598,0.0563900666143725,0.6091051456827379,0.7869519832248659,10.0567975870496,7.774402648204401,0.11212536020272,8.068453918024321,14.5694805732989,0.8282018144657349,2.07610252419939,1.3500303424221,0.8440961459062819,8.08692097119955,5.38350512593225,0.6873534851781589,4.63582527403638,0.055645778711227,14.7648370214846,0.438887767051561,0.533124526227228,7.93900726454293,0.0896700289666801,1.12691822764955,0.0543993834268593,6.98618354656499,0.525940557029488,6.8875990313117095,8.60330596502476,5.00562006942356,0.0849458970639926,0.258078642315659,3.431634405505529,16.0827844975347,2.38035225180459,4.07846720977687,0.1457449266907799,0.104496181518937,2.3202057588405096,18.2948056259689,1.36381412686027,1.00538325406062,8.56899406245209,0.169669201872183,0.613915542830989]}],\"name\":\"2008.0\"},{\"data\":[{\"coloraxis\":\"coloraxis\",\"geo\":\"geo\",\"hovertemplate\":\"<b>%{hovertext}</b><br><br>Year=2009.0<br>iso_alpha=%{location}<br>CO2=%{z}<extra></extra>\",\"hovertext\":[\"Afghanistan\",\"Angola\",\"Albania\",\"Argentina\",\"Australia\",\"Austria\",\"Burundi\",\"Belgium\",\"Benin\",\"Burkina Faso\",\"Bangladesh\",\"Bulgaria\",\"Bahrain\",\"Bosnia and Herzegovina\",\"Bolivia\",\"Brazil\",\"Botswana\",\"Central African Republic\",\"Canada\",\"Switzerland\",\"Chile\",\"China\",\"Cote d'Ivoire\",\"Cameroon\",\"Congo, Dem. Rep.\",\"Congo, Rep.\",\"Colombia\",\"Comoros\",\"Costa Rica\",\"Cuba\",\"Czech Republic\",\"Germany\",\"Djibouti\",\"Denmark\",\"Dominican Republic\",\"Algeria\",\"Ecuador\",\"Eritrea\",\"Spain\",\"Ethiopia\",\"Finland\",\"France\",\"Gabon\",\"United Kingdom\",\"Ghana\",\"Guinea\",\"Guinea-Bissau\",\"Equatorial Guinea\",\"Greece\",\"Guatemala\",\"Honduras\",\"Croatia\",\"Haiti\",\"Hungary\",\"Indonesia\",\"India\",\"Ireland\",\"Iraq\",\"Iceland\",\"Israel\",\"Italy\",\"Jamaica\",\"Jordan\",\"Japan\",\"Kenya\",\"Cambodia\",\"Korea, Rep.\",\"Kuwait\",\"Lebanon\",\"Liberia\",\"Libya\",\"Sri Lanka\",\"Lesotho\",\"Morocco\",\"Madagascar\",\"Mexico\",\"Mali\",\"Myanmar\",\"Montenegro\",\"Mongolia\",\"Mozambique\",\"Mauritania\",\"Mauritius\",\"Malawi\",\"Malaysia\",\"Namibia\",\"Niger\",\"Nigeria\",\"Nicaragua\",\"Netherlands\",\"Norway\",\"Nepal\",\"New Zealand\",\"Oman\",\"Pakistan\",\"Panama\",\"Peru\",\"Philippines\",\"Poland\",\"Portugal\",\"Paraguay\",\"Romania\",\"Rwanda\",\"Saudi Arabia\",\"Sudan\",\"Senegal\",\"Singapore\",\"Sierra Leone\",\"El Salvador\",\"Somalia\",\"Serbia\",\"Sao Tome and Principe\",\"Slovak Republic\",\"Slovenia\",\"Sweden\",\"Chad\",\"Togo\",\"Thailand\",\"Trinidad and Tobago\",\"Tunisia\",\"Turkey\",\"Tanzania\",\"Uganda\",\"Uruguay\",\"United States\",\"Vietnam\",\"Yemen, Rep.\",\"South Africa\",\"Zambia\",\"Zimbabwe\"],\"locations\":[\"AFG\",\"AGO\",\"ALB\",\"ARG\",\"AUS\",\"AUT\",\"BDI\",\"BEL\",\"BEN\",\"BFA\",\"BGD\",\"BGR\",\"BHR\",\"BIH\",\"BOL\",\"BRA\",\"BWA\",\"CAF\",\"CAN\",\"CHE\",\"CHL\",\"CHN\",\"CIV\",\"CMR\",\"COD\",\"COG\",\"COL\",\"COM\",\"CRI\",\"CUB\",\"CZE\",\"DEU\",\"DJI\",\"DNK\",\"DOM\",\"DZA\",\"ECU\",\"ERI\",\"ESP\",\"ETH\",\"FIN\",\"FRA\",\"GAB\",\"GBR\",\"GHA\",\"GIN\",\"GNB\",\"GNQ\",\"GRC\",\"GTM\",\"HND\",\"HRV\",\"HTI\",\"HUN\",\"IDN\",\"IND\",\"IRL\",\"IRQ\",\"ISL\",\"ISR\",\"ITA\",\"JAM\",\"JOR\",\"JPN\",\"KEN\",\"KHM\",\"KOR\",\"KWT\",\"LBN\",\"LBR\",\"LBY\",\"LKA\",\"LSO\",\"MAR\",\"MDG\",\"MEX\",\"MLI\",\"MMR\",\"MNE\",\"MNG\",\"MOZ\",\"MRT\",\"MUS\",\"MWI\",\"MYS\",\"NAM\",\"NER\",\"NGA\",\"NIC\",\"NLD\",\"NOR\",\"NPL\",\"NZL\",\"OMN\",\"PAK\",\"PAN\",\"PER\",\"PHL\",\"POL\",\"PRT\",\"PRY\",\"ROU\",\"RWA\",\"SAU\",\"SDN\",\"SEN\",\"SGP\",\"SLE\",\"SLV\",\"SOM\",\"SRB\",\"STP\",\"SVK\",\"SVN\",\"SWE\",\"TCD\",\"TGO\",\"THA\",\"TTO\",\"TUN\",\"TUR\",\"TZA\",\"UGA\",\"URY\",\"USA\",\"VNM\",\"YEM\",\"ZAF\",\"ZMB\",\"ZWE\"],\"name\":\"\",\"type\":\"choropleth\",\"z\":[0.211306250868557,1.20590158910291,1.47565225025013,3.88906040211758,18.2074249597772,7.721144201177401,0.0238161554747209,9.23170144231094,0.525450061952798,0.127467638080145,0.306664813200526,5.7720906721967005,20.867877560492,5.51132310566671,1.40316587403475,1.8094606429673896,2.09368337262189,0.0599406633540997,15.4866819144667,5.63932761445853,3.8712121104448505,5.79534426032481,0.295625731243706,0.44416546967694,0.0307452987075509,1.31229796883292,1.4069256765589602,0.1930929177973739,1.59265996112582,2.413885954666509,10.6444543513097,8.9699549000494,0.5556763547631128,8.67086298533703,2.04975891577256,3.19155421416758,2.19501121262897,0.15064488833047,6.2008570378595,0.0813056557305241,10.1482129836065,5.3144144218630895,2.67699220804054,7.4686553963492,0.411651295524548,0.21275592179012,0.1549948784301039,10.7144164358704,8.5297429543864,0.84641708433957,0.999904303637198,4.71989447133582,0.203101720485901,4.77318872753214,1.65321047741763,1.28808099727395,9.04445608136042,3.711021204903561,6.624824567738051,8.779523351501549,6.71897026103485,2.81847416821927,2.99713139998532,8.60004529586792,0.2862954826582439,0.3356132089695999,10.6553045778627,26.6001096758253,4.554307414919429,0.143841620786073,8.77243463346107,0.610728507176781,1.0552047976644798,1.58288271756721,0.082162018151972,4.10585136636662,0.172136787435139,0.151839690083053,2.83036872426386,5.1013653258254,0.1096322741341469,0.5864311040700091,2.74163900310158,0.0792742947932148,6.526762285308571,1.45600346749869,0.0681683437446803,0.481062882519591,0.764071180105327,9.71181075725506,7.75566888657588,0.144326279163254,7.2793194812439,14.8564800746544,0.826887882628638,2.43070058658114,1.44759100608374,0.8388324815284529,7.79154679293554,5.32727897067508,0.7089586743608421,3.95335958726769,0.0572435005627241,15.0065885468896,0.443408062786582,0.539112314687235,7.78534970816467,0.0876810514074004,1.08482450690017,0.0520580377140855,6.42961902970533,0.5117212597440259,6.2824822339793895,7.61398050369938,4.611489038841151,0.0839090038859384,0.4511393668690929,3.3095630039849104,15.284789930662,2.38369148400803,4.03567478745441,0.137670599526441,0.108560363509761,2.28977369751582,16.8188684811099,1.5124193025211798,1.13916643394807,8.00403938323371,0.186906807357802,0.6186654643535339]}],\"name\":\"2009.0\"},{\"data\":[{\"coloraxis\":\"coloraxis\",\"geo\":\"geo\",\"hovertemplate\":\"<b>%{hovertext}</b><br><br>Year=2010.0<br>iso_alpha=%{location}<br>CO2=%{z}<extra></extra>\",\"hovertext\":[\"Afghanistan\",\"Angola\",\"Albania\",\"Argentina\",\"Australia\",\"Austria\",\"Burundi\",\"Belgium\",\"Benin\",\"Burkina Faso\",\"Bangladesh\",\"Bulgaria\",\"Bahrain\",\"Bosnia and Herzegovina\",\"Bolivia\",\"Brazil\",\"Botswana\",\"Central African Republic\",\"Canada\",\"Switzerland\",\"Chile\",\"China\",\"Cote d'Ivoire\",\"Cameroon\",\"Congo, Dem. Rep.\",\"Congo, Rep.\",\"Colombia\",\"Comoros\",\"Costa Rica\",\"Cuba\",\"Czech Republic\",\"Germany\",\"Djibouti\",\"Denmark\",\"Dominican Republic\",\"Algeria\",\"Ecuador\",\"Eritrea\",\"Spain\",\"Ethiopia\",\"Finland\",\"France\",\"Gabon\",\"United Kingdom\",\"Ghana\",\"Guinea\",\"Guinea-Bissau\",\"Equatorial Guinea\",\"Greece\",\"Guatemala\",\"Honduras\",\"Croatia\",\"Haiti\",\"Hungary\",\"Indonesia\",\"India\",\"Ireland\",\"Iraq\",\"Iceland\",\"Israel\",\"Italy\",\"Jamaica\",\"Jordan\",\"Japan\",\"Kenya\",\"Cambodia\",\"Korea, Rep.\",\"Kuwait\",\"Lebanon\",\"Liberia\",\"Libya\",\"Sri Lanka\",\"Lesotho\",\"Morocco\",\"Madagascar\",\"Mexico\",\"Mali\",\"Myanmar\",\"Montenegro\",\"Mongolia\",\"Mozambique\",\"Mauritania\",\"Mauritius\",\"Malawi\",\"Malaysia\",\"Namibia\",\"Niger\",\"Nigeria\",\"Nicaragua\",\"Netherlands\",\"Norway\",\"Nepal\",\"New Zealand\",\"Oman\",\"Pakistan\",\"Panama\",\"Peru\",\"Philippines\",\"Poland\",\"Portugal\",\"Paraguay\",\"Romania\",\"Rwanda\",\"Saudi Arabia\",\"Sudan\",\"Senegal\",\"Singapore\",\"Sierra Leone\",\"El Salvador\",\"Somalia\",\"Serbia\",\"Sao Tome and Principe\",\"Slovak Republic\",\"Slovenia\",\"Sweden\",\"Chad\",\"Togo\",\"Thailand\",\"Trinidad and Tobago\",\"Tunisia\",\"Turkey\",\"Tanzania\",\"Uganda\",\"Uruguay\",\"United States\",\"Vietnam\",\"Yemen, Rep.\",\"South Africa\",\"Zambia\",\"Zimbabwe\"],\"locations\":[\"AFG\",\"AGO\",\"ALB\",\"ARG\",\"AUS\",\"AUT\",\"BDI\",\"BEL\",\"BEN\",\"BFA\",\"BGD\",\"BGR\",\"BHR\",\"BIH\",\"BOL\",\"BRA\",\"BWA\",\"CAF\",\"CAN\",\"CHE\",\"CHL\",\"CHN\",\"CIV\",\"CMR\",\"COD\",\"COG\",\"COL\",\"COM\",\"CRI\",\"CUB\",\"CZE\",\"DEU\",\"DJI\",\"DNK\",\"DOM\",\"DZA\",\"ECU\",\"ERI\",\"ESP\",\"ETH\",\"FIN\",\"FRA\",\"GAB\",\"GBR\",\"GHA\",\"GIN\",\"GNB\",\"GNQ\",\"GRC\",\"GTM\",\"HND\",\"HRV\",\"HTI\",\"HUN\",\"IDN\",\"IND\",\"IRL\",\"IRQ\",\"ISL\",\"ISR\",\"ITA\",\"JAM\",\"JOR\",\"JPN\",\"KEN\",\"KHM\",\"KOR\",\"KWT\",\"LBN\",\"LBR\",\"LBY\",\"LKA\",\"LSO\",\"MAR\",\"MDG\",\"MEX\",\"MLI\",\"MMR\",\"MNE\",\"MNG\",\"MOZ\",\"MRT\",\"MUS\",\"MWI\",\"MYS\",\"NAM\",\"NER\",\"NGA\",\"NIC\",\"NLD\",\"NOR\",\"NPL\",\"NZL\",\"OMN\",\"PAK\",\"PAN\",\"PER\",\"PHL\",\"POL\",\"PRT\",\"PRY\",\"ROU\",\"RWA\",\"SAU\",\"SDN\",\"SEN\",\"SGP\",\"SLE\",\"SLV\",\"SOM\",\"SRB\",\"STP\",\"SVK\",\"SVN\",\"SWE\",\"TCD\",\"TGO\",\"THA\",\"TTO\",\"TUN\",\"TUR\",\"TZA\",\"UGA\",\"URY\",\"USA\",\"VNM\",\"YEM\",\"ZAF\",\"ZMB\",\"ZWE\"],\"name\":\"\",\"type\":\"choropleth\",\"z\":[0.297065211570221,1.2215147407886202,1.57225093811545,4.12224508735352,17.5814449601144,8.36501501063443,0.0368850314318101,9.771847058065529,0.552218690776448,0.133929621329696,0.342739973529334,6.064417500191669,20.9370245248472,5.62410571591573,1.49672635891359,2.0322038162317697,1.69593368446374,0.061548772272962,15.7339140263037,5.77770297392596,4.08614642223947,6.33216591101925,0.3029278217483089,0.4419593774930879,0.0319063981512999,1.16525626980409,1.4302551910933,0.231986266413028,1.55329336424773,2.69556833777948,10.8769849566706,9.451565374244302,0.618904681537835,8.68470675054793,2.1289067475926298,3.14474752533191,2.3082897112099703,0.157706965948227,5.8666424257502605,0.0738247695725838,11.6587537047727,5.3506589250195,2.9369280840515604,7.67592642970483,0.4499666540406969,0.245286380679753,0.157624804364631,10.088593107541,7.87494961264114,0.802962926184845,0.987079359617537,4.53039942245556,0.247253128304875,4.78798898762533,1.72407358088346,1.34921446581292,8.90978486476885,4.042434704323791,6.16272744709015,9.248911275512882,6.8368363621512005,2.6614822321154104,2.7817786885731297,9.02693839306629,0.300732674252934,0.3437625439266699,11.588543852829002,26.1540888617339,4.21557242143449,0.187595227063464,9.23411987123542,0.6450581879994699,1.08239479849166,1.6590719140582202,0.0884092202779548,4.11015715509391,0.184725561605576,0.163633689228044,4.16513299366512,5.26121897038937,0.115589412298807,0.592410279892393,2.9270633397312897,0.0715287460618783,7.05862884140643,1.47719759098806,0.0832117298169797,0.57241745455453,0.774374156301328,10.3012904779748,8.561636831155361,0.171767831934949,7.15517043234422,15.2789719326568,0.7837273500942679,2.52286016024966,1.56988088610595,0.889356817830437,8.2470283334079,4.81788690166555,0.8066559357953091,3.8277519523881,0.0567766520063375,16.017742011478,0.459400595408646,0.5544976105727789,8.35379925511136,0.0919628233272586,1.0575889526910098,0.0523086983719374,6.399288151195459,0.5544097753531589,6.57525241921064,7.71752962901674,5.132155400769831,0.0861770793399739,0.4095505315280719,3.50502102595918,17.0312857641942,2.58010041141506,4.108009911431131,0.155818272328488,0.118723958593524,1.86945211062036,17.4341958733314,1.69880622599295,1.03606785860105,8.30017911837692,0.194032244337162,0.772579157468171]}],\"name\":\"2010.0\"},{\"data\":[{\"coloraxis\":\"coloraxis\",\"geo\":\"geo\",\"hovertemplate\":\"<b>%{hovertext}</b><br><br>Year=2011.0<br>iso_alpha=%{location}<br>CO2=%{z}<extra></extra>\",\"hovertext\":[\"Afghanistan\",\"Angola\",\"Albania\",\"Argentina\",\"Australia\",\"Austria\",\"Burundi\",\"Belgium\",\"Benin\",\"Burkina Faso\",\"Bangladesh\",\"Bulgaria\",\"Bahrain\",\"Bosnia and Herzegovina\",\"Bolivia\",\"Brazil\",\"Botswana\",\"Central African Republic\",\"Canada\",\"Switzerland\",\"Chile\",\"China\",\"Cote d'Ivoire\",\"Cameroon\",\"Congo, Dem. Rep.\",\"Congo, Rep.\",\"Colombia\",\"Comoros\",\"Costa Rica\",\"Cuba\",\"Czech Republic\",\"Germany\",\"Djibouti\",\"Denmark\",\"Dominican Republic\",\"Algeria\",\"Ecuador\",\"Eritrea\",\"Spain\",\"Ethiopia\",\"Finland\",\"France\",\"Gabon\",\"United Kingdom\",\"Ghana\",\"Guinea\",\"Guinea-Bissau\",\"Equatorial Guinea\",\"Greece\",\"Guatemala\",\"Honduras\",\"Croatia\",\"Haiti\",\"Hungary\",\"Indonesia\",\"India\",\"Ireland\",\"Iraq\",\"Iceland\",\"Israel\",\"Italy\",\"Jamaica\",\"Jordan\",\"Japan\",\"Kenya\",\"Cambodia\",\"Korea, Rep.\",\"Kuwait\",\"Lebanon\",\"Liberia\",\"Libya\",\"Sri Lanka\",\"Lesotho\",\"Morocco\",\"Madagascar\",\"Mexico\",\"Mali\",\"Myanmar\",\"Montenegro\",\"Mongolia\",\"Mozambique\",\"Mauritania\",\"Mauritius\",\"Malawi\",\"Malaysia\",\"Namibia\",\"Niger\",\"Nigeria\",\"Nicaragua\",\"Netherlands\",\"Norway\",\"Nepal\",\"New Zealand\",\"Oman\",\"Pakistan\",\"Panama\",\"Peru\",\"Philippines\",\"Poland\",\"Portugal\",\"Paraguay\",\"Romania\",\"Rwanda\",\"Saudi Arabia\",\"Sudan\",\"Senegal\",\"Singapore\",\"Sierra Leone\",\"El Salvador\",\"Somalia\",\"Serbia\",\"Sao Tome and Principe\",\"Slovak Republic\",\"Slovenia\",\"Sweden\",\"Chad\",\"Togo\",\"Thailand\",\"Trinidad and Tobago\",\"Tunisia\",\"Turkey\",\"Tanzania\",\"Uganda\",\"Uruguay\",\"United States\",\"Vietnam\",\"Yemen, Rep.\",\"South Africa\",\"Zambia\",\"Zimbabwe\"],\"locations\":[\"AFG\",\"AGO\",\"ALB\",\"ARG\",\"AUS\",\"AUT\",\"BDI\",\"BEL\",\"BEN\",\"BFA\",\"BGD\",\"BGR\",\"BHR\",\"BIH\",\"BOL\",\"BRA\",\"BWA\",\"CAF\",\"CAN\",\"CHE\",\"CHL\",\"CHN\",\"CIV\",\"CMR\",\"COD\",\"COG\",\"COL\",\"COM\",\"CRI\",\"CUB\",\"CZE\",\"DEU\",\"DJI\",\"DNK\",\"DOM\",\"DZA\",\"ECU\",\"ERI\",\"ESP\",\"ETH\",\"FIN\",\"FRA\",\"GAB\",\"GBR\",\"GHA\",\"GIN\",\"GNB\",\"GNQ\",\"GRC\",\"GTM\",\"HND\",\"HRV\",\"HTI\",\"HUN\",\"IDN\",\"IND\",\"IRL\",\"IRQ\",\"ISL\",\"ISR\",\"ITA\",\"JAM\",\"JOR\",\"JPN\",\"KEN\",\"KHM\",\"KOR\",\"KWT\",\"LBN\",\"LBR\",\"LBY\",\"LKA\",\"LSO\",\"MAR\",\"MDG\",\"MEX\",\"MLI\",\"MMR\",\"MNE\",\"MNG\",\"MOZ\",\"MRT\",\"MUS\",\"MWI\",\"MYS\",\"NAM\",\"NER\",\"NGA\",\"NIC\",\"NLD\",\"NOR\",\"NPL\",\"NZL\",\"OMN\",\"PAK\",\"PAN\",\"PER\",\"PHL\",\"POL\",\"PRT\",\"PRY\",\"ROU\",\"RWA\",\"SAU\",\"SDN\",\"SEN\",\"SGP\",\"SLE\",\"SLV\",\"SOM\",\"SRB\",\"STP\",\"SVK\",\"SVN\",\"SWE\",\"TCD\",\"TGO\",\"THA\",\"TTO\",\"TUN\",\"TUR\",\"TZA\",\"UGA\",\"URY\",\"USA\",\"VNM\",\"YEM\",\"ZAF\",\"ZMB\",\"ZWE\"],\"name\":\"\",\"type\":\"choropleth\",\"z\":[0.407073503097594,1.2163169789758,1.7348233079018798,4.29601548562594,17.2681103655036,8.13547478127942,0.0413019905550161,8.65806434779962,0.5263809334256011,0.13679962865119,0.364566607143118,6.759360768871501,20.3653240261534,6.48426064542703,1.6106999827963502,2.11184451477929,1.98471176527211,0.0656310687521655,15.950224768522,5.20575431114562,4.43726621229803,6.90279214064116,0.284849452071393,0.381223120660896,0.0377498958844389,1.10584180273147,1.53100732200803,0.212290787428989,1.60368272896294,2.53989816022913,10.5734631798057,9.29779081983736,0.562277505034141,7.73529181563401,2.12672314762363,3.22245952272794,2.32880266415025,0.180462225989112,5.87043576026433,0.0836477260110525,10.2296246366182,5.10431227537594,3.34791814696292,7.0254246009370105,0.480941312043349,0.251428463947701,0.159949225717788,9.839278277285253,7.61375677527549,0.8084555915825591,1.03529556037436,4.44795172290382,0.277218939597953,4.704300468715201,1.96013325740302,1.40831559281322,7.93871902786062,4.26456303688442,5.92450488066354,8.990702825207961,6.68059415640586,2.68937822990787,2.70917195646846,9.48244975866952,0.301772164563332,0.356911473782377,11.9609574036602,25.6182501939677,4.07149373839634,0.211577206015961,6.09049661637298,0.7559380848470401,1.10290833434392,1.76286519434834,0.100717578252729,4.1571204846157,0.201100989242837,0.16826626830837,4.09625225172922,5.67796857950076,0.1322997416020669,0.608562220346208,2.906410391535,0.0761924214205502,7.03885614730842,1.5393903087034,0.0823849809258319,0.6270688850741021,0.8080589052919391,9.51712069328873,8.108073185859,0.192299016094688,6.92290145985401,16.1114600526222,0.772553017405329,2.6952803455786496,1.66004233005428,0.883854312976234,8.15983814311204,4.72362932344216,0.8241262485631071,4.16676427996526,0.0631476704387199,16.155250017590802,0.434233117157849,0.580796994647921,8.63670807347973,0.117320139845607,1.09168776377423,0.0509037228801326,7.023680488751951,0.5419437354013911,6.32226236592284,7.662544091291929,4.71891151146662,0.0663377500791603,0.3805371759805539,3.47490569938002,17.3554461225284,2.39436850485651,4.32606104299246,0.178659319448118,0.1242652666750549,2.25888012975055,16.599403740534,1.67680521325065,0.869050730300838,7.867123605430139,0.2182098392813219,0.891089823017463]}],\"name\":\"2011.0\"},{\"data\":[{\"coloraxis\":\"coloraxis\",\"geo\":\"geo\",\"hovertemplate\":\"<b>%{hovertext}</b><br><br>Year=2012.0<br>iso_alpha=%{location}<br>CO2=%{z}<extra></extra>\",\"hovertext\":[\"Afghanistan\",\"Angola\",\"Albania\",\"Argentina\",\"Australia\",\"Austria\",\"Burundi\",\"Belgium\",\"Benin\",\"Burkina Faso\",\"Bangladesh\",\"Bulgaria\",\"Bahrain\",\"Bosnia and Herzegovina\",\"Bolivia\",\"Brazil\",\"Botswana\",\"Central African Republic\",\"Canada\",\"Switzerland\",\"Chile\",\"China\",\"Cote d'Ivoire\",\"Cameroon\",\"Congo, Dem. Rep.\",\"Congo, Rep.\",\"Colombia\",\"Comoros\",\"Costa Rica\",\"Cuba\",\"Czech Republic\",\"Germany\",\"Djibouti\",\"Denmark\",\"Dominican Republic\",\"Algeria\",\"Ecuador\",\"Eritrea\",\"Spain\",\"Ethiopia\",\"Finland\",\"France\",\"Gabon\",\"United Kingdom\",\"Ghana\",\"Guinea\",\"Guinea-Bissau\",\"Equatorial Guinea\",\"Greece\",\"Guatemala\",\"Honduras\",\"Croatia\",\"Haiti\",\"Hungary\",\"Indonesia\",\"India\",\"Ireland\",\"Iraq\",\"Iceland\",\"Israel\",\"Italy\",\"Jamaica\",\"Jordan\",\"Japan\",\"Kenya\",\"Cambodia\",\"Korea, Rep.\",\"Kuwait\",\"Lebanon\",\"Liberia\",\"Libya\",\"Sri Lanka\",\"Lesotho\",\"Morocco\",\"Madagascar\",\"Mexico\",\"Mali\",\"Myanmar\",\"Montenegro\",\"Mongolia\",\"Mozambique\",\"Mauritania\",\"Mauritius\",\"Malawi\",\"Malaysia\",\"Namibia\",\"Niger\",\"Nigeria\",\"Nicaragua\",\"Netherlands\",\"Norway\",\"Nepal\",\"New Zealand\",\"Oman\",\"Pakistan\",\"Panama\",\"Peru\",\"Philippines\",\"Poland\",\"Portugal\",\"Paraguay\",\"Romania\",\"Rwanda\",\"Saudi Arabia\",\"Sudan\",\"Senegal\",\"Singapore\",\"Sierra Leone\",\"El Salvador\",\"Somalia\",\"Serbia\",\"Sao Tome and Principe\",\"Slovak Republic\",\"Slovenia\",\"Sweden\",\"Chad\",\"Togo\",\"Thailand\",\"Trinidad and Tobago\",\"Tunisia\",\"Turkey\",\"Tanzania\",\"Uganda\",\"Uruguay\",\"United States\",\"Vietnam\",\"Yemen, Rep.\",\"South Africa\",\"Zambia\",\"Zimbabwe\"],\"locations\":[\"AFG\",\"AGO\",\"ALB\",\"ARG\",\"AUS\",\"AUT\",\"BDI\",\"BEL\",\"BEN\",\"BFA\",\"BGD\",\"BGR\",\"BHR\",\"BIH\",\"BOL\",\"BRA\",\"BWA\",\"CAF\",\"CAN\",\"CHE\",\"CHL\",\"CHN\",\"CIV\",\"CMR\",\"COD\",\"COG\",\"COL\",\"COM\",\"CRI\",\"CUB\",\"CZE\",\"DEU\",\"DJI\",\"DNK\",\"DOM\",\"DZA\",\"ECU\",\"ERI\",\"ESP\",\"ETH\",\"FIN\",\"FRA\",\"GAB\",\"GBR\",\"GHA\",\"GIN\",\"GNB\",\"GNQ\",\"GRC\",\"GTM\",\"HND\",\"HRV\",\"HTI\",\"HUN\",\"IDN\",\"IND\",\"IRL\",\"IRQ\",\"ISL\",\"ISR\",\"ITA\",\"JAM\",\"JOR\",\"JPN\",\"KEN\",\"KHM\",\"KOR\",\"KWT\",\"LBN\",\"LBR\",\"LBY\",\"LKA\",\"LSO\",\"MAR\",\"MDG\",\"MEX\",\"MLI\",\"MMR\",\"MNE\",\"MNG\",\"MOZ\",\"MRT\",\"MUS\",\"MWI\",\"MYS\",\"NAM\",\"NER\",\"NGA\",\"NIC\",\"NLD\",\"NOR\",\"NPL\",\"NZL\",\"OMN\",\"PAK\",\"PAN\",\"PER\",\"PHL\",\"POL\",\"PRT\",\"PRY\",\"ROU\",\"RWA\",\"SAU\",\"SDN\",\"SEN\",\"SGP\",\"SLE\",\"SLV\",\"SOM\",\"SRB\",\"STP\",\"SVK\",\"SVN\",\"SWE\",\"TCD\",\"TGO\",\"THA\",\"TTO\",\"TUN\",\"TUR\",\"TZA\",\"UGA\",\"URY\",\"USA\",\"VNM\",\"YEM\",\"ZAF\",\"ZMB\",\"ZWE\"],\"name\":\"\",\"type\":\"choropleth\",\"z\":[0.335351023308404,1.2047988832211298,1.57909199452076,4.277881788849,16.9692565563587,7.723614414297709,0.042180438832307,8.54961568145011,0.487190487574895,0.1635362252652969,0.3840251548595179,6.175840637031389,20.4393734489693,6.091586841728589,1.66222170915514,2.26687811082304,2.51525948603394,0.0676222288692369,15.7612634959816,5.3108338384273495,4.51082647202854,7.05800347228649,0.366173070936217,0.328597266210376,0.035206804261136,1.05316907443289,1.5255322862988898,0.207220959709338,1.58916280556988,2.56282428388382,10.196193719118,9.449949924665368,0.587465558391773,6.83349870125968,2.1790537750999,3.3875546261239395,2.36718144300356,0.193839950967723,5.75694702858302,0.0912355801680249,9.126388006141893,5.122311190220549,3.33204357147062,7.33247132682362,0.546997678991142,0.233758216272726,0.155765083823422,9.7072220374305,7.251237685503439,0.8219488345983229,1.05778564957529,4.09133279500829,0.243880501675849,4.3778644368018,1.95913319398553,1.50782097489256,8.0660362693343,4.76199256369047,5.79952356602103,9.615068579735787,6.327708947625671,2.50164665349344,2.98147222675802,9.81140649852306,0.273546483248751,0.366700508658259,11.9315090424667,24.960792534277395,4.24008870236672,0.229709294424931,8.32040594671981,0.8239902080783349,1.13152038622563,1.8094634668574,0.122613505985083,4.09902758114925,0.1946244599014789,0.229316297252505,3.7544251459472298,6.06790531235552,0.1234782760485969,0.647501520954094,2.97002425387098,0.0727461205857881,6.993211720207269,1.61292012810413,0.10620836203722,0.602049396957054,0.783949265611706,9.401394046730749,7.79305192930341,0.222311476163022,7.26163199564438,16.7665752533354,0.767566766628333,2.77406855874408,1.63928370385257,0.905849289823312,7.96964750486849,4.58589780314382,0.8066638532058659,4.07467630802319,0.0682485932258721,16.763902445783902,0.4202379408771911,0.556633753644048,8.22409752812127,0.132586755685514,1.08529731535598,0.049545880547084,6.31330933118232,0.636962960603841,5.98604292235028,7.37424768819522,4.427812164959589,0.069614199669794,0.329209261498003,3.71587527554888,16.4483712989306,2.45966785449202,4.40556452484269,0.209763311113228,0.1131408299502009,2.52147470756664,15.7711446187591,1.63994255535232,0.804145730819735,8.07663305380863,0.277909358410989,0.9233596964853392]}],\"name\":\"2012.0\"},{\"data\":[{\"coloraxis\":\"coloraxis\",\"geo\":\"geo\",\"hovertemplate\":\"<b>%{hovertext}</b><br><br>Year=2013.0<br>iso_alpha=%{location}<br>CO2=%{z}<extra></extra>\",\"hovertext\":[\"Afghanistan\",\"Angola\",\"Albania\",\"Argentina\",\"Australia\",\"Austria\",\"Burundi\",\"Belgium\",\"Benin\",\"Burkina Faso\",\"Bangladesh\",\"Bulgaria\",\"Bahrain\",\"Bosnia and Herzegovina\",\"Bolivia\",\"Brazil\",\"Botswana\",\"Central African Republic\",\"Canada\",\"Switzerland\",\"Chile\",\"China\",\"Cote d'Ivoire\",\"Cameroon\",\"Congo, Dem. Rep.\",\"Congo, Rep.\",\"Colombia\",\"Comoros\",\"Costa Rica\",\"Cuba\",\"Czech Republic\",\"Germany\",\"Djibouti\",\"Denmark\",\"Dominican Republic\",\"Algeria\",\"Ecuador\",\"Eritrea\",\"Spain\",\"Ethiopia\",\"Finland\",\"France\",\"Gabon\",\"United Kingdom\",\"Ghana\",\"Guinea\",\"Guinea-Bissau\",\"Equatorial Guinea\",\"Greece\",\"Guatemala\",\"Honduras\",\"Croatia\",\"Haiti\",\"Hungary\",\"Indonesia\",\"India\",\"Ireland\",\"Iraq\",\"Iceland\",\"Israel\",\"Italy\",\"Jamaica\",\"Jordan\",\"Japan\",\"Kenya\",\"Cambodia\",\"Korea, Rep.\",\"Kuwait\",\"Lebanon\",\"Liberia\",\"Libya\",\"Sri Lanka\",\"Lesotho\",\"Morocco\",\"Madagascar\",\"Mexico\",\"Mali\",\"Myanmar\",\"Montenegro\",\"Mongolia\",\"Mozambique\",\"Mauritania\",\"Mauritius\",\"Malawi\",\"Malaysia\",\"Namibia\",\"Niger\",\"Nigeria\",\"Nicaragua\",\"Netherlands\",\"Norway\",\"Nepal\",\"New Zealand\",\"Oman\",\"Pakistan\",\"Panama\",\"Peru\",\"Philippines\",\"Poland\",\"Portugal\",\"Paraguay\",\"Romania\",\"Rwanda\",\"Saudi Arabia\",\"Sudan\",\"Senegal\",\"Singapore\",\"Sierra Leone\",\"El Salvador\",\"Somalia\",\"Serbia\",\"Sao Tome and Principe\",\"Slovak Republic\",\"Slovenia\",\"Sweden\",\"Chad\",\"Togo\",\"Thailand\",\"Trinidad and Tobago\",\"Tunisia\",\"Turkey\",\"Tanzania\",\"Uganda\",\"Uruguay\",\"United States\",\"Vietnam\",\"Yemen, Rep.\",\"South Africa\",\"Zambia\",\"Zimbabwe\"],\"locations\":[\"AFG\",\"AGO\",\"ALB\",\"ARG\",\"AUS\",\"AUT\",\"BDI\",\"BEL\",\"BEN\",\"BFA\",\"BGD\",\"BGR\",\"BHR\",\"BIH\",\"BOL\",\"BRA\",\"BWA\",\"CAF\",\"CAN\",\"CHE\",\"CHL\",\"CHN\",\"CIV\",\"CMR\",\"COD\",\"COG\",\"COL\",\"COM\",\"CRI\",\"CUB\",\"CZE\",\"DEU\",\"DJI\",\"DNK\",\"DOM\",\"DZA\",\"ECU\",\"ERI\",\"ESP\",\"ETH\",\"FIN\",\"FRA\",\"GAB\",\"GBR\",\"GHA\",\"GIN\",\"GNB\",\"GNQ\",\"GRC\",\"GTM\",\"HND\",\"HRV\",\"HTI\",\"HUN\",\"IDN\",\"IND\",\"IRL\",\"IRQ\",\"ISL\",\"ISR\",\"ITA\",\"JAM\",\"JOR\",\"JPN\",\"KEN\",\"KHM\",\"KOR\",\"KWT\",\"LBN\",\"LBR\",\"LBY\",\"LKA\",\"LSO\",\"MAR\",\"MDG\",\"MEX\",\"MLI\",\"MMR\",\"MNE\",\"MNG\",\"MOZ\",\"MRT\",\"MUS\",\"MWI\",\"MYS\",\"NAM\",\"NER\",\"NGA\",\"NIC\",\"NLD\",\"NOR\",\"NPL\",\"NZL\",\"OMN\",\"PAK\",\"PAN\",\"PER\",\"PHL\",\"POL\",\"PRT\",\"PRY\",\"ROU\",\"RWA\",\"SAU\",\"SDN\",\"SEN\",\"SGP\",\"SLE\",\"SLV\",\"SOM\",\"SRB\",\"STP\",\"SVK\",\"SVN\",\"SWE\",\"TCD\",\"TGO\",\"THA\",\"TTO\",\"TUN\",\"TUR\",\"TZA\",\"UGA\",\"URY\",\"USA\",\"VNM\",\"YEM\",\"ZAF\",\"ZMB\",\"ZWE\"],\"name\":\"\",\"type\":\"choropleth\",\"z\":[0.263715760645502,1.26154174238672,1.65452427763954,4.3598863443976095,16.3986459950997,7.753699576040679,0.0429755787605046,8.65727005028135,0.501769487097627,0.173961011998565,0.39656611450694,5.480986880455441,21.8702401239821,6.16778985366107,1.76051411565231,2.4018595205759903,2.69569091867304,0.0674468771533821,15.858128708318,5.37497098034872,4.7201404591785,7.320485052085639,0.383021967260586,0.333827053126968,0.0511499604169375,0.8652845044634621,1.67306542320275,0.2427475789300499,1.64061954686426,2.42406043506168,9.76957796031908,9.64255894664068,0.633989059160236,7.120299943080339,2.11480115992614,3.40612323474996,2.51027011155773,0.1980829833613339,5.20806018098009,0.1077728629880969,9.22784673280171,5.10055617017218,3.1369182254948904,7.06490255865771,0.5641236665813399,0.200131811584896,0.15774219949656,8.686265110385241,6.60999592255908,0.864797688856427,1.06154168585549,4.00405198782148,0.2624830395574439,4.12005075870189,1.8042510413422,1.5355600591395,7.72522089979359,4.902424856051019,6.26999913517253,8.31317079223277,5.75173986603037,2.65154562722347,2.7937577591339395,9.893679626505552,0.309754049572862,0.371348160196136,11.8511425582949,24.1777549908093,3.93031238203989,0.214201462831221,8.70046753739904,0.703424823900899,1.1288974073811202,1.77128136576115,0.127606243194243,3.95414657649222,0.185411979948272,0.262089762985998,3.6541764661377,6.3779958449335,0.135363779594591,0.5762938386068149,3.0349905812007005,0.0763923275081763,7.459383568242379,1.7103155308291105,0.0967343405341692,0.644598562418289,0.740623198957783,9.34991435592706,7.522211786189639,0.2262527912405619,7.1475203169672,16.200042233263098,0.7586499730140729,2.76630077276521,1.66319685916424,0.9891621208194168,7.84249376633075,4.45239423770679,0.81409796486261,3.6034380632248495,0.0721451471566765,16.6171647878491,0.391124917071402,0.581174769701335,8.134595702073769,0.155886348653659,1.03094823618481,0.0497561527501642,6.44181318825505,0.624752702055436,6.084908300579691,7.08754034679432,4.22379158156152,0.0695892487031249,0.251627635386092,3.85152032550116,16.7909179823123,2.4440906280126,4.19055775418873,0.22296414348809,0.119626209278797,2.17145271366682,16.1029578354008,1.6928441923417,1.04783404153924,8.13733274039167,0.2840575830277199,0.925816482499597]}],\"name\":\"2013.0\"},{\"data\":[{\"coloraxis\":\"coloraxis\",\"geo\":\"geo\",\"hovertemplate\":\"<b>%{hovertext}</b><br><br>Year=2014.0<br>iso_alpha=%{location}<br>CO2=%{z}<extra></extra>\",\"hovertext\":[\"Afghanistan\",\"Angola\",\"Albania\",\"Argentina\",\"Australia\",\"Austria\",\"Burundi\",\"Belgium\",\"Benin\",\"Burkina Faso\",\"Bangladesh\",\"Bulgaria\",\"Bahrain\",\"Bosnia and Herzegovina\",\"Bolivia\",\"Brazil\",\"Botswana\",\"Central African Republic\",\"Canada\",\"Switzerland\",\"Chile\",\"China\",\"Cote d'Ivoire\",\"Cameroon\",\"Congo, Dem. Rep.\",\"Congo, Rep.\",\"Colombia\",\"Comoros\",\"Costa Rica\",\"Cuba\",\"Czech Republic\",\"Germany\",\"Djibouti\",\"Denmark\",\"Dominican Republic\",\"Algeria\",\"Ecuador\",\"Eritrea\",\"Spain\",\"Ethiopia\",\"Finland\",\"France\",\"Gabon\",\"United Kingdom\",\"Ghana\",\"Guinea\",\"Guinea-Bissau\",\"Equatorial Guinea\",\"Greece\",\"Guatemala\",\"Honduras\",\"Croatia\",\"Haiti\",\"Hungary\",\"Indonesia\",\"India\",\"Ireland\",\"Iraq\",\"Iceland\",\"Israel\",\"Italy\",\"Jamaica\",\"Jordan\",\"Japan\",\"Kenya\",\"Cambodia\",\"Korea, Rep.\",\"Kuwait\",\"Lebanon\",\"Liberia\",\"Libya\",\"Sri Lanka\",\"Lesotho\",\"Morocco\",\"Madagascar\",\"Mexico\",\"Mali\",\"Myanmar\",\"Montenegro\",\"Mongolia\",\"Mozambique\",\"Mauritania\",\"Mauritius\",\"Malawi\",\"Malaysia\",\"Namibia\",\"Niger\",\"Nigeria\",\"Nicaragua\",\"Netherlands\",\"Norway\",\"Nepal\",\"New Zealand\",\"Oman\",\"Pakistan\",\"Panama\",\"Peru\",\"Philippines\",\"Poland\",\"Portugal\",\"Paraguay\",\"Romania\",\"Rwanda\",\"Saudi Arabia\",\"Sudan\",\"Senegal\",\"Singapore\",\"Sierra Leone\",\"El Salvador\",\"Somalia\",\"Serbia\",\"Sao Tome and Principe\",\"Slovak Republic\",\"Slovenia\",\"Sweden\",\"Chad\",\"Togo\",\"Thailand\",\"Trinidad and Tobago\",\"Tunisia\",\"Turkey\",\"Tanzania\",\"Uganda\",\"Uruguay\",\"United States\",\"Vietnam\",\"Yemen, Rep.\",\"South Africa\",\"Zambia\",\"Zimbabwe\"],\"locations\":[\"AFG\",\"AGO\",\"ALB\",\"ARG\",\"AUS\",\"AUT\",\"BDI\",\"BEL\",\"BEN\",\"BFA\",\"BGD\",\"BGR\",\"BHR\",\"BIH\",\"BOL\",\"BRA\",\"BWA\",\"CAF\",\"CAN\",\"CHE\",\"CHL\",\"CHN\",\"CIV\",\"CMR\",\"COD\",\"COG\",\"COL\",\"COM\",\"CRI\",\"CUB\",\"CZE\",\"DEU\",\"DJI\",\"DNK\",\"DOM\",\"DZA\",\"ECU\",\"ERI\",\"ESP\",\"ETH\",\"FIN\",\"FRA\",\"GAB\",\"GBR\",\"GHA\",\"GIN\",\"GNB\",\"GNQ\",\"GRC\",\"GTM\",\"HND\",\"HRV\",\"HTI\",\"HUN\",\"IDN\",\"IND\",\"IRL\",\"IRQ\",\"ISL\",\"ISR\",\"ITA\",\"JAM\",\"JOR\",\"JPN\",\"KEN\",\"KHM\",\"KOR\",\"KWT\",\"LBN\",\"LBR\",\"LBY\",\"LKA\",\"LSO\",\"MAR\",\"MDG\",\"MEX\",\"MLI\",\"MMR\",\"MNE\",\"MNG\",\"MOZ\",\"MRT\",\"MUS\",\"MWI\",\"MYS\",\"NAM\",\"NER\",\"NGA\",\"NIC\",\"NLD\",\"NOR\",\"NPL\",\"NZL\",\"OMN\",\"PAK\",\"PAN\",\"PER\",\"PHL\",\"POL\",\"PRT\",\"PRY\",\"ROU\",\"RWA\",\"SAU\",\"SDN\",\"SEN\",\"SGP\",\"SLE\",\"SLV\",\"SOM\",\"SRB\",\"STP\",\"SVK\",\"SVN\",\"SWE\",\"TCD\",\"TGO\",\"THA\",\"TTO\",\"TUN\",\"TUR\",\"TZA\",\"UGA\",\"URY\",\"USA\",\"VNM\",\"YEM\",\"ZAF\",\"ZMB\",\"ZWE\"],\"name\":\"\",\"type\":\"choropleth\",\"z\":[0.2340369144237579,1.28536455265954,1.80678854066866,4.216360632301759,15.755876100915598,7.253383781344941,0.0396168300827047,8.04349554115034,0.535635874149484,0.171727227334835,0.4128985227131559,5.84584197704908,22.6185245866057,5.59718744920459,1.88389931104579,2.49936201612059,3.4137389346740603,0.0672017268155723,15.8541384273439,4.85183819699684,4.30148844789357,7.252919143571289,0.395625651943387,0.341682842226338,0.0649337929489086,0.861310987098279,1.69946558599221,0.210695426592397,1.63281818579928,2.3773075382494,9.47712222694416,9.10678232951564,0.511846463864196,6.33652138088678,2.09735546299122,3.56620883406526,2.58277544547861,0.205348482414318,5.184066860004941,0.125695422925035,8.45187193583022,4.59237682939366,2.91962898416552,6.421598191445139,0.527833773133592,0.200879385380823,0.165442295204596,7.20858472047354,6.385178380584719,0.9113884751889352,1.05632477810759,3.85523839364438,0.290074696130167,4.11798832165675,1.92079996715062,1.6493275187685,7.63245694263742,4.90643526177491,6.26172163745548,7.876383022749129,5.38731095718742,2.57379039677066,2.86921299696305,9.58405355290864,0.321841107580519,0.43405659076634,11.5475582343263,22.6446440865048,3.98335996892532,0.279848092949938,9.38378403527548,0.8470497641736451,1.13044227208131,1.7887037799498895,0.12929263743712,3.80806346471111,0.184242397329005,0.32593217366768,3.5702224152072204,6.16303262019699,0.170051257329323,0.641075541594355,3.1325985341025,0.0675279550386598,7.757158613871289,1.75945907190293,0.1029096294411349,0.658711745421674,0.774899254957158,8.88763290239767,7.45148360050704,0.2649968323029429,7.038636112033651,16.0084226104381,0.786820565567462,2.89133575867189,1.75504643146319,1.03876968838412,7.51715226889801,4.415895223007031,0.8530918290470649,3.58682381452108,0.0730807572140857,17.3631624405825,0.4036583931441579,0.604596627521916,8.12838088356926,0.1681593660562909,1.04684196848227,0.0484222864392791,5.43013635925064,0.613098857081547,5.619481904068709,6.387064859988941,4.03254501031857,0.0687961162689495,0.222751564619598,3.779437928934641,16.0899982897036,2.6059379772299,4.410763371013441,0.214569239341838,0.128415159165713,1.91151789518942,16.0263790723251,1.83789035134824,1.03432967692048,8.21315797849318,0.311692501321284,0.894256225384953]}],\"name\":\"2014.0\"},{\"data\":[{\"coloraxis\":\"coloraxis\",\"geo\":\"geo\",\"hovertemplate\":\"<b>%{hovertext}</b><br><br>Year=2015.0<br>iso_alpha=%{location}<br>CO2=%{z}<extra></extra>\",\"hovertext\":[\"Afghanistan\",\"Angola\",\"Albania\",\"Argentina\",\"Australia\",\"Austria\",\"Burundi\",\"Belgium\",\"Benin\",\"Burkina Faso\",\"Bangladesh\",\"Bulgaria\",\"Bahrain\",\"Bosnia and Herzegovina\",\"Bolivia\",\"Brazil\",\"Botswana\",\"Central African Republic\",\"Canada\",\"Switzerland\",\"Chile\",\"China\",\"Cote d'Ivoire\",\"Cameroon\",\"Congo, Dem. Rep.\",\"Congo, Rep.\",\"Colombia\",\"Comoros\",\"Costa Rica\",\"Cuba\",\"Czech Republic\",\"Germany\",\"Djibouti\",\"Denmark\",\"Dominican Republic\",\"Algeria\",\"Ecuador\",\"Eritrea\",\"Spain\",\"Ethiopia\",\"Finland\",\"France\",\"Gabon\",\"United Kingdom\",\"Ghana\",\"Guinea\",\"Guinea-Bissau\",\"Equatorial Guinea\",\"Greece\",\"Guatemala\",\"Honduras\",\"Croatia\",\"Haiti\",\"Hungary\",\"Indonesia\",\"India\",\"Ireland\",\"Iraq\",\"Iceland\",\"Israel\",\"Italy\",\"Jamaica\",\"Jordan\",\"Japan\",\"Kenya\",\"Cambodia\",\"Korea, Rep.\",\"Kuwait\",\"Lebanon\",\"Liberia\",\"Libya\",\"Sri Lanka\",\"Lesotho\",\"Morocco\",\"Madagascar\",\"Mexico\",\"Mali\",\"Myanmar\",\"Montenegro\",\"Mongolia\",\"Mozambique\",\"Mauritania\",\"Mauritius\",\"Malawi\",\"Malaysia\",\"Namibia\",\"Niger\",\"Nigeria\",\"Nicaragua\",\"Netherlands\",\"Norway\",\"Nepal\",\"New Zealand\",\"Oman\",\"Pakistan\",\"Panama\",\"Peru\",\"Philippines\",\"Poland\",\"Portugal\",\"Paraguay\",\"Romania\",\"Rwanda\",\"Saudi Arabia\",\"Sudan\",\"Senegal\",\"Singapore\",\"Sierra Leone\",\"El Salvador\",\"Somalia\",\"Serbia\",\"Sao Tome and Principe\",\"Slovak Republic\",\"Slovenia\",\"Sweden\",\"Chad\",\"Togo\",\"Thailand\",\"Trinidad and Tobago\",\"Tunisia\",\"Turkey\",\"Tanzania\",\"Uganda\",\"Uruguay\",\"United States\",\"Vietnam\",\"Yemen, Rep.\",\"South Africa\",\"Zambia\",\"Zimbabwe\"],\"locations\":[\"AFG\",\"AGO\",\"ALB\",\"ARG\",\"AUS\",\"AUT\",\"BDI\",\"BEL\",\"BEN\",\"BFA\",\"BGD\",\"BGR\",\"BHR\",\"BIH\",\"BOL\",\"BRA\",\"BWA\",\"CAF\",\"CAN\",\"CHE\",\"CHL\",\"CHN\",\"CIV\",\"CMR\",\"COD\",\"COG\",\"COL\",\"COM\",\"CRI\",\"CUB\",\"CZE\",\"DEU\",\"DJI\",\"DNK\",\"DOM\",\"DZA\",\"ECU\",\"ERI\",\"ESP\",\"ETH\",\"FIN\",\"FRA\",\"GAB\",\"GBR\",\"GHA\",\"GIN\",\"GNB\",\"GNQ\",\"GRC\",\"GTM\",\"HND\",\"HRV\",\"HTI\",\"HUN\",\"IDN\",\"IND\",\"IRL\",\"IRQ\",\"ISL\",\"ISR\",\"ITA\",\"JAM\",\"JOR\",\"JPN\",\"KEN\",\"KHM\",\"KOR\",\"KWT\",\"LBN\",\"LBR\",\"LBY\",\"LKA\",\"LSO\",\"MAR\",\"MDG\",\"MEX\",\"MLI\",\"MMR\",\"MNE\",\"MNG\",\"MOZ\",\"MRT\",\"MUS\",\"MWI\",\"MYS\",\"NAM\",\"NER\",\"NGA\",\"NIC\",\"NLD\",\"NOR\",\"NPL\",\"NZL\",\"OMN\",\"PAK\",\"PAN\",\"PER\",\"PHL\",\"POL\",\"PRT\",\"PRY\",\"ROU\",\"RWA\",\"SAU\",\"SDN\",\"SEN\",\"SGP\",\"SLE\",\"SLV\",\"SOM\",\"SRB\",\"STP\",\"SVK\",\"SVN\",\"SWE\",\"TCD\",\"TGO\",\"THA\",\"TTO\",\"TUN\",\"TUR\",\"TZA\",\"UGA\",\"URY\",\"USA\",\"VNM\",\"YEM\",\"ZAF\",\"ZMB\",\"ZWE\"],\"name\":\"\",\"type\":\"choropleth\",\"z\":[0.2321756312467489,1.26092098873993,1.75998705871449,4.31443352245988,15.7864494009173,7.306745265570401,0.0403541956650932,8.44406111087655,0.5663787369886539,0.1877351935461499,0.458797539455164,6.22597604260022,22.3055968824648,5.71826479677561,1.8776911887064,2.34736573083425,3.39979516352025,0.0689935904954429,15.651386155996,4.7124044781244505,4.5616548528506,7.169112177476991,0.4116050582300599,0.343800786801621,0.0379043575216646,0.7083884101890141,1.7051528338186002,0.2315306102761,1.55534308826366,2.42742086665371,9.57514081800604,9.08729093927033,0.5908109208116429,5.91186777544685,2.28075678330622,3.6742329469226,2.5117163053442697,0.194446721299215,5.51794438614828,0.127732852055517,7.81453741205224,4.666086596508469,2.81358943158305,6.14854495774701,0.543283051942276,0.2221814792318049,0.1611782591251359,6.11000577626596,6.28506934230783,1.04962807257902,1.08307955400386,3.96802362924766,0.310409759582031,4.40718039205009,1.89965869189427,1.6411983927439198,7.8669371072512995,4.55945050904681,6.227045327448879,7.8925072493168305,5.56325970991024,2.52159788365645,2.73671830999443,9.29283236721435,0.356946384459996,0.552783940402418,11.8888685702251,22.9534558977659,4.14071956062144,0.281738703451903,8.38849448803931,0.970910824988078,1.08304423822894,1.82179535379006,0.136997154420552,3.87819450978334,0.195541291554245,0.3608530512982321,3.79324256339617,5.76968036304296,0.208564447579157,0.729060396846109,3.1363728165182296,0.0716618777621548,7.682279041979669,1.8445713229205,0.0984918104059647,0.5970603959134809,0.8468265856626959,9.33357253158707,7.44708550869241,0.23912611915003,6.98355534342865,16.0052829150518,0.8203003532827379,2.6962396276669502,1.76628469693498,1.1131762918108798,7.60929987280715,4.81266984331839,0.95234592552924,3.6789166685507,0.0818009148684685,17.691712343615603,0.457548872645847,0.636556012470462,8.22041256714993,0.1310669167720899,1.10669819597127,0.047110994372483,6.3647022296048,0.601687734094134,5.669455793086799,6.382264186968841,4.00033227249692,0.068740840017317,0.24852652447126,3.8285940704904,15.5144884597309,2.65385778524432,4.477175959535059,0.227066841446625,0.127140436055594,1.93141116402546,15.535342110601,2.25730024603062,0.536269296401475,7.671201555025211,0.319282188147263,0.8975983597692941]}],\"name\":\"2015.0\"},{\"data\":[{\"coloraxis\":\"coloraxis\",\"geo\":\"geo\",\"hovertemplate\":\"<b>%{hovertext}</b><br><br>Year=2016.0<br>iso_alpha=%{location}<br>CO2=%{z}<extra></extra>\",\"hovertext\":[\"Afghanistan\",\"Angola\",\"Albania\",\"Argentina\",\"Australia\",\"Austria\",\"Burundi\",\"Belgium\",\"Benin\",\"Burkina Faso\",\"Bangladesh\",\"Bulgaria\",\"Bahrain\",\"Bosnia and Herzegovina\",\"Bolivia\",\"Brazil\",\"Botswana\",\"Central African Republic\",\"Canada\",\"Switzerland\",\"Chile\",\"China\",\"Cote d'Ivoire\",\"Cameroon\",\"Congo, Dem. Rep.\",\"Congo, Rep.\",\"Colombia\",\"Comoros\",\"Costa Rica\",\"Cuba\",\"Czech Republic\",\"Germany\",\"Djibouti\",\"Denmark\",\"Dominican Republic\",\"Algeria\",\"Ecuador\",\"Eritrea\",\"Spain\",\"Ethiopia\",\"Finland\",\"France\",\"Gabon\",\"United Kingdom\",\"Ghana\",\"Guinea\",\"Guinea-Bissau\",\"Equatorial Guinea\",\"Greece\",\"Guatemala\",\"Honduras\",\"Croatia\",\"Haiti\",\"Hungary\",\"Indonesia\",\"India\",\"Ireland\",\"Iraq\",\"Iceland\",\"Israel\",\"Italy\",\"Jamaica\",\"Jordan\",\"Japan\",\"Kenya\",\"Cambodia\",\"Korea, Rep.\",\"Kuwait\",\"Lebanon\",\"Liberia\",\"Libya\",\"Sri Lanka\",\"Lesotho\",\"Morocco\",\"Madagascar\",\"Mexico\",\"Mali\",\"Myanmar\",\"Montenegro\",\"Mongolia\",\"Mozambique\",\"Mauritania\",\"Mauritius\",\"Malawi\",\"Malaysia\",\"Namibia\",\"Niger\",\"Nigeria\",\"Nicaragua\",\"Netherlands\",\"Norway\",\"Nepal\",\"New Zealand\",\"Oman\",\"Pakistan\",\"Panama\",\"Peru\",\"Philippines\",\"Poland\",\"Portugal\",\"Paraguay\",\"Romania\",\"Rwanda\",\"Saudi Arabia\",\"Sudan\",\"Senegal\",\"Singapore\",\"Sierra Leone\",\"El Salvador\",\"Somalia\",\"Serbia\",\"Sao Tome and Principe\",\"Slovak Republic\",\"Slovenia\",\"Sweden\",\"Chad\",\"Togo\",\"Thailand\",\"Trinidad and Tobago\",\"Tunisia\",\"Turkey\",\"Tanzania\",\"Uganda\",\"Uruguay\",\"United States\",\"Vietnam\",\"Yemen, Rep.\",\"South Africa\",\"Zambia\",\"Zimbabwe\"],\"locations\":[\"AFG\",\"AGO\",\"ALB\",\"ARG\",\"AUS\",\"AUT\",\"BDI\",\"BEL\",\"BEN\",\"BFA\",\"BGD\",\"BGR\",\"BHR\",\"BIH\",\"BOL\",\"BRA\",\"BWA\",\"CAF\",\"CAN\",\"CHE\",\"CHL\",\"CHN\",\"CIV\",\"CMR\",\"COD\",\"COG\",\"COL\",\"COM\",\"CRI\",\"CUB\",\"CZE\",\"DEU\",\"DJI\",\"DNK\",\"DOM\",\"DZA\",\"ECU\",\"ERI\",\"ESP\",\"ETH\",\"FIN\",\"FRA\",\"GAB\",\"GBR\",\"GHA\",\"GIN\",\"GNB\",\"GNQ\",\"GRC\",\"GTM\",\"HND\",\"HRV\",\"HTI\",\"HUN\",\"IDN\",\"IND\",\"IRL\",\"IRQ\",\"ISL\",\"ISR\",\"ITA\",\"JAM\",\"JOR\",\"JPN\",\"KEN\",\"KHM\",\"KOR\",\"KWT\",\"LBN\",\"LBR\",\"LBY\",\"LKA\",\"LSO\",\"MAR\",\"MDG\",\"MEX\",\"MLI\",\"MMR\",\"MNE\",\"MNG\",\"MOZ\",\"MRT\",\"MUS\",\"MWI\",\"MYS\",\"NAM\",\"NER\",\"NGA\",\"NIC\",\"NLD\",\"NOR\",\"NPL\",\"NZL\",\"OMN\",\"PAK\",\"PAN\",\"PER\",\"PHL\",\"POL\",\"PRT\",\"PRY\",\"ROU\",\"RWA\",\"SAU\",\"SDN\",\"SEN\",\"SGP\",\"SLE\",\"SLV\",\"SOM\",\"SRB\",\"STP\",\"SVK\",\"SVN\",\"SWE\",\"TCD\",\"TGO\",\"THA\",\"TTO\",\"TUN\",\"TUR\",\"TZA\",\"UGA\",\"URY\",\"USA\",\"VNM\",\"YEM\",\"ZAF\",\"ZMB\",\"ZWE\"],\"name\":\"\",\"type\":\"choropleth\",\"z\":[0.208857195602366,1.2277029417926002,1.71412617289866,4.22753944174089,15.8720795379851,7.25562651573804,0.0438596407590311,8.32375671826537,0.6650066335101529,0.187704296015038,0.466776363121019,5.855926256295401,21.1811953067521,6.5972430375313404,1.95887859684466,2.14349752363003,3.2964107550030697,0.0683168039724238,15.2447471768292,4.730490994153111,4.73170735993575,7.11870541429571,0.3912230699375039,0.3573436353065379,0.0261457386317123,0.672556251801849,1.7386593989486,0.2513835522255609,1.64920307568209,2.5099010966635698,9.734693174509369,9.0730063894536,0.527382450218864,6.17666519436942,2.35243473147717,3.53501992705652,2.3655160754432902,0.195465322970907,5.31429460704187,0.144300198619813,8.31801267373246,4.686612202390911,2.8437926133109395,5.774741667985411,0.4954015257454129,0.2410883768652619,0.1683091772261969,4.60836698401308,6.2036172888735495,1.10313002086849,1.01393688609627,4.05811780471638,0.313653830967891,4.53229017294946,1.89244089035547,1.64835905308142,8.14033080739843,4.707648860036071,6.17101768130718,7.636321085888129,5.49816520549801,2.6666740071886603,2.60197360640031,9.22394197021634,0.38265880019117,0.627921977840063,12.003248167439,22.7149695895384,4.14191780177207,0.307404658772108,7.88335469242902,1.03428760081121,1.09395428813214,1.79580675137932,0.129346514894733,3.88580937201112,0.246027819623535,0.41266694088564,3.39063125197854,5.94498419360559,0.208049391428581,0.674907746595919,3.19753568141147,0.0790456263560902,7.45128215891124,1.84899009518058,0.0947626145996287,0.583027843306121,0.853430457314994,9.2934281775427,7.249949804365981,0.342583453365919,6.61419995333149,15.5250348442596,0.886749484691346,2.66777439991796,1.82790966161974,1.20504926058478,7.894108854688691,4.722311430046839,1.05490243406565,3.61075200127985,0.089983322233962,17.160324198637,0.51396033465945,0.66161941756949,8.232150936558758,0.130989244418562,1.12804365292944,0.0465259397975487,6.55113212460412,0.5904901560370239,5.80025255956859,6.74562551270144,3.90906658564348,0.0700469685526195,0.306260279692866,3.78012232419006,13.2335145470661,2.56459206885527,4.69247155642438,0.205846527728178,0.143004243745513,1.90704875006534,15.1317468158119,2.3907407093954705,0.4004680470299659,7.56445088105357,0.34161502260312,0.783302583301985]}],\"name\":\"2016.0\"},{\"data\":[{\"coloraxis\":\"coloraxis\",\"geo\":\"geo\",\"hovertemplate\":\"<b>%{hovertext}</b><br><br>Year=2017.0<br>iso_alpha=%{location}<br>CO2=%{z}<extra></extra>\",\"hovertext\":[\"Afghanistan\",\"Angola\",\"Albania\",\"Argentina\",\"Australia\",\"Austria\",\"Burundi\",\"Belgium\",\"Benin\",\"Burkina Faso\",\"Bangladesh\",\"Bulgaria\",\"Bahrain\",\"Bosnia and Herzegovina\",\"Bolivia\",\"Brazil\",\"Botswana\",\"Central African Republic\",\"Canada\",\"Switzerland\",\"Chile\",\"China\",\"Cote d'Ivoire\",\"Cameroon\",\"Congo, Dem. Rep.\",\"Congo, Rep.\",\"Colombia\",\"Comoros\",\"Costa Rica\",\"Cuba\",\"Czech Republic\",\"Germany\",\"Djibouti\",\"Denmark\",\"Dominican Republic\",\"Algeria\",\"Ecuador\",\"Eritrea\",\"Spain\",\"Ethiopia\",\"Finland\",\"France\",\"Gabon\",\"United Kingdom\",\"Ghana\",\"Guinea\",\"Guinea-Bissau\",\"Equatorial Guinea\",\"Greece\",\"Guatemala\",\"Honduras\",\"Croatia\",\"Haiti\",\"Hungary\",\"Indonesia\",\"India\",\"Ireland\",\"Iraq\",\"Iceland\",\"Israel\",\"Italy\",\"Jamaica\",\"Jordan\",\"Japan\",\"Kenya\",\"Cambodia\",\"Korea, Rep.\",\"Kuwait\",\"Lebanon\",\"Liberia\",\"Libya\",\"Sri Lanka\",\"Lesotho\",\"Morocco\",\"Madagascar\",\"Mexico\",\"Mali\",\"Myanmar\",\"Montenegro\",\"Mongolia\",\"Mozambique\",\"Mauritania\",\"Mauritius\",\"Malawi\",\"Malaysia\",\"Namibia\",\"Niger\",\"Nigeria\",\"Nicaragua\",\"Netherlands\",\"Norway\",\"Nepal\",\"New Zealand\",\"Oman\",\"Pakistan\",\"Panama\",\"Peru\",\"Philippines\",\"Poland\",\"Portugal\",\"Paraguay\",\"Romania\",\"Rwanda\",\"Saudi Arabia\",\"Sudan\",\"Senegal\",\"Singapore\",\"Sierra Leone\",\"El Salvador\",\"Somalia\",\"Serbia\",\"Sao Tome and Principe\",\"Slovak Republic\",\"Slovenia\",\"Sweden\",\"Chad\",\"Togo\",\"Thailand\",\"Trinidad and Tobago\",\"Tunisia\",\"Turkey\",\"Tanzania\",\"Uganda\",\"Uruguay\",\"United States\",\"Vietnam\",\"Yemen, Rep.\",\"South Africa\",\"Zambia\",\"Zimbabwe\"],\"locations\":[\"AFG\",\"AGO\",\"ALB\",\"ARG\",\"AUS\",\"AUT\",\"BDI\",\"BEL\",\"BEN\",\"BFA\",\"BGD\",\"BGR\",\"BHR\",\"BIH\",\"BOL\",\"BRA\",\"BWA\",\"CAF\",\"CAN\",\"CHE\",\"CHL\",\"CHN\",\"CIV\",\"CMR\",\"COD\",\"COG\",\"COL\",\"COM\",\"CRI\",\"CUB\",\"CZE\",\"DEU\",\"DJI\",\"DNK\",\"DOM\",\"DZA\",\"ECU\",\"ERI\",\"ESP\",\"ETH\",\"FIN\",\"FRA\",\"GAB\",\"GBR\",\"GHA\",\"GIN\",\"GNB\",\"GNQ\",\"GRC\",\"GTM\",\"HND\",\"HRV\",\"HTI\",\"HUN\",\"IDN\",\"IND\",\"IRL\",\"IRQ\",\"ISL\",\"ISR\",\"ITA\",\"JAM\",\"JOR\",\"JPN\",\"KEN\",\"KHM\",\"KOR\",\"KWT\",\"LBN\",\"LBR\",\"LBY\",\"LKA\",\"LSO\",\"MAR\",\"MDG\",\"MEX\",\"MLI\",\"MMR\",\"MNE\",\"MNG\",\"MOZ\",\"MRT\",\"MUS\",\"MWI\",\"MYS\",\"NAM\",\"NER\",\"NGA\",\"NIC\",\"NLD\",\"NOR\",\"NPL\",\"NZL\",\"OMN\",\"PAK\",\"PAN\",\"PER\",\"PHL\",\"POL\",\"PRT\",\"PRY\",\"ROU\",\"RWA\",\"SAU\",\"SDN\",\"SEN\",\"SGP\",\"SLE\",\"SLV\",\"SOM\",\"SRB\",\"STP\",\"SVK\",\"SVN\",\"SWE\",\"TCD\",\"TGO\",\"THA\",\"TTO\",\"TUN\",\"TUR\",\"TZA\",\"UGA\",\"URY\",\"USA\",\"VNM\",\"YEM\",\"ZAF\",\"ZMB\",\"ZWE\"],\"name\":\"\",\"type\":\"choropleth\",\"z\":[0.20332756862023,1.03431729977182,1.94887203810602,4.0894715157252,15.7386474030825,7.482751479215961,0.0526461137470086,8.1554911149366,0.658601659819357,0.212053871478473,0.492906612933688,6.223901903165751,20.3336240367799,6.75809942551679,1.9878756560101296,2.16442150357383,3.56903798327132,0.0674496189422899,15.3852910477258,4.5694192033924,4.71239578277393,7.22576899079988,0.424757467782576,0.3386785106449669,0.028010252981111,0.63005055470864,1.55510616635784,0.3071668161545169,1.65254027561867,2.2620533712311803,9.76172591693868,8.85829369906254,0.4978286198495921,5.78145977956558,2.22484096287008,3.50574766242013,2.2495799314593,0.210964653458326,5.65403956917695,0.145300852934804,7.80833860122355,4.727575621633751,2.27623628688714,5.54626594443601,0.507529429152326,0.24611527343324,0.16410067904861,4.46114446184176,6.2112500056952,1.02626785727828,0.9545004484031,4.23805761188363,0.306855525771448,4.7558399773763,2.01367107029183,1.71919020043,7.8067341350438095,4.64119988531345,6.3191613278975,7.57921797711544,5.43785754854959,2.4616138874737703,2.6671190209527205,9.08563914300274,0.376136378887093,0.7102071762406279,12.175364736721,22.1197593157174,4.29364987074325,0.267958310790809,8.632790044498151,1.08701734750979,1.16660897370922,1.85294184519676,0.136876419872876,3.78121582762561,0.272789702529041,0.588207514590778,3.58306031913338,6.25283416854327,0.210129447069492,0.8873151757514509,3.3053590307864904,0.0848887162692564,7.165808461788111,1.8021970155118,0.0958227395971223,0.59159678883652,0.845752980926861,9.10088763862349,6.992651840981411,0.399165017713445,6.838956290510219,14.9809491192102,0.950909547146283,2.49588240278721,1.71700440833488,1.29871832693512,8.237562431490801,5.177519101385401,1.16498215101722,3.7827902442809513,0.0876390539656255,16.3347636246112,0.498365757244717,0.6206485693239809,8.45115143597411,0.129533211714556,0.998728265136995,0.0452390524063577,6.680095224828651,0.627758515785712,6.17366569398033,6.84285816603658,3.8110112274200296,0.0679241016088623,0.268884386987762,3.76622871290066,13.142493822522098,2.61426178197669,5.12719670144346,0.2078289114347889,0.141862619267839,1.76916731288801,14.8058824221278,2.34808129158276,0.3614179381350929,7.632729355369401,0.414747987493242,0.718570495664028]}],\"name\":\"2017.0\"},{\"data\":[{\"coloraxis\":\"coloraxis\",\"geo\":\"geo\",\"hovertemplate\":\"<b>%{hovertext}</b><br><br>Year=2018.0<br>iso_alpha=%{location}<br>CO2=%{z}<extra></extra>\",\"hovertext\":[\"Afghanistan\",\"Angola\",\"Albania\",\"Argentina\",\"Australia\",\"Austria\",\"Burundi\",\"Belgium\",\"Benin\",\"Burkina Faso\",\"Bangladesh\",\"Bulgaria\",\"Bahrain\",\"Bosnia and Herzegovina\",\"Bolivia\",\"Brazil\",\"Botswana\",\"Central African Republic\",\"Canada\",\"Switzerland\",\"Chile\",\"China\",\"Cote d'Ivoire\",\"Cameroon\",\"Congo, Dem. Rep.\",\"Congo, Rep.\",\"Colombia\",\"Comoros\",\"Costa Rica\",\"Cuba\",\"Czech Republic\",\"Germany\",\"Djibouti\",\"Denmark\",\"Dominican Republic\",\"Algeria\",\"Ecuador\",\"Eritrea\",\"Spain\",\"Ethiopia\",\"Finland\",\"France\",\"Gabon\",\"United Kingdom\",\"Ghana\",\"Guinea\",\"Guinea-Bissau\",\"Equatorial Guinea\",\"Greece\",\"Guatemala\",\"Honduras\",\"Croatia\",\"Haiti\",\"Hungary\",\"Indonesia\",\"India\",\"Ireland\",\"Iraq\",\"Iceland\",\"Israel\",\"Italy\",\"Jamaica\",\"Jordan\",\"Japan\",\"Kenya\",\"Cambodia\",\"Korea, Rep.\",\"Kuwait\",\"Lebanon\",\"Liberia\",\"Libya\",\"Sri Lanka\",\"Lesotho\",\"Morocco\",\"Madagascar\",\"Mexico\",\"Mali\",\"Myanmar\",\"Montenegro\",\"Mongolia\",\"Mozambique\",\"Mauritania\",\"Mauritius\",\"Malawi\",\"Malaysia\",\"Namibia\",\"Niger\",\"Nigeria\",\"Nicaragua\",\"Netherlands\",\"Norway\",\"Nepal\",\"New Zealand\",\"Oman\",\"Pakistan\",\"Panama\",\"Peru\",\"Philippines\",\"Poland\",\"Portugal\",\"Paraguay\",\"Romania\",\"Rwanda\",\"Saudi Arabia\",\"Sudan\",\"Senegal\",\"Singapore\",\"Sierra Leone\",\"El Salvador\",\"Somalia\",\"Serbia\",\"Sao Tome and Principe\",\"Slovak Republic\",\"Slovenia\",\"Sweden\",\"Chad\",\"Togo\",\"Thailand\",\"Trinidad and Tobago\",\"Tunisia\",\"Turkey\",\"Tanzania\",\"Uganda\",\"Uruguay\",\"United States\",\"Vietnam\",\"Yemen, Rep.\",\"South Africa\",\"Zambia\",\"Zimbabwe\"],\"locations\":[\"AFG\",\"AGO\",\"ALB\",\"ARG\",\"AUS\",\"AUT\",\"BDI\",\"BEL\",\"BEN\",\"BFA\",\"BGD\",\"BGR\",\"BHR\",\"BIH\",\"BOL\",\"BRA\",\"BWA\",\"CAF\",\"CAN\",\"CHE\",\"CHL\",\"CHN\",\"CIV\",\"CMR\",\"COD\",\"COG\",\"COL\",\"COM\",\"CRI\",\"CUB\",\"CZE\",\"DEU\",\"DJI\",\"DNK\",\"DOM\",\"DZA\",\"ECU\",\"ERI\",\"ESP\",\"ETH\",\"FIN\",\"FRA\",\"GAB\",\"GBR\",\"GHA\",\"GIN\",\"GNB\",\"GNQ\",\"GRC\",\"GTM\",\"HND\",\"HRV\",\"HTI\",\"HUN\",\"IDN\",\"IND\",\"IRL\",\"IRQ\",\"ISL\",\"ISR\",\"ITA\",\"JAM\",\"JOR\",\"JPN\",\"KEN\",\"KHM\",\"KOR\",\"KWT\",\"LBN\",\"LBR\",\"LBY\",\"LKA\",\"LSO\",\"MAR\",\"MDG\",\"MEX\",\"MLI\",\"MMR\",\"MNE\",\"MNG\",\"MOZ\",\"MRT\",\"MUS\",\"MWI\",\"MYS\",\"NAM\",\"NER\",\"NGA\",\"NIC\",\"NLD\",\"NOR\",\"NPL\",\"NZL\",\"OMN\",\"PAK\",\"PAN\",\"PER\",\"PHL\",\"POL\",\"PRT\",\"PRY\",\"ROU\",\"RWA\",\"SAU\",\"SDN\",\"SEN\",\"SGP\",\"SLE\",\"SLV\",\"SOM\",\"SRB\",\"STP\",\"SVK\",\"SVN\",\"SWE\",\"TCD\",\"TGO\",\"THA\",\"TTO\",\"TUN\",\"TUR\",\"TZA\",\"UGA\",\"URY\",\"USA\",\"VNM\",\"YEM\",\"ZAF\",\"ZMB\",\"ZWE\"],\"name\":\"\",\"type\":\"choropleth\",\"z\":[0.200151071015376,0.8873803639083899,1.93973156347946,3.987234198058899,15.475516485656,7.14663762463773,0.0527946300523678,8.179711061136139,0.688722324311593,0.2161864845880299,0.5128373137702961,5.854773433933519,19.592975838515603,6.78113160660171,2.00032766265544,2.04187419904738,3.64230521985371,0.0707187056333878,15.4970252672198,4.401991043569019,4.6248722447118,7.405211347497361,0.39530538358065,0.34184290843119,0.0261692628875174,0.613992585944184,1.6006506184645,0.31237910327974,1.65218405330354,2.2023000938601403,9.64070499819002,8.55838981170216,0.51098993349831,5.761494163596059,2.36375764821923,3.59165741835207,2.3138123004790496,0.231696216140132,5.5203503997221794,0.149050931014413,8.042752049895519,4.61924120513374,2.17527220393767,5.39870813789348,0.541201382411755,0.25132323293185,0.1653947278563139,5.09562509645018,6.08317505028006,1.11396927255543,1.01903275747031,4.05592876243046,0.299374738328049,4.7455062439364095,2.17846155349724,1.79982544579379,7.62432519277565,4.8951953608097805,6.237224321772731,6.97640383662809,5.37637433931087,2.8996341554415204,2.4785952726866203,8.7422577098865,0.358028407608337,0.686777894736518,12.224591362122,21.622724308573105,4.039707216716081,0.273917114341304,8.82524913660345,0.998154130133826,1.21897599376188,1.85072678357202,0.128320761389143,3.74147772536983,0.294583927721055,0.605492802809427,4.0499689020245,6.72509805331754,0.225115201178573,0.9084071262722242,3.26404031287368,0.0865337262442186,7.6002204133699,1.73589837846669,0.102037038018956,0.6671101985435229,0.805815232908442,8.772823733851201,7.0313611886935,0.428179218238,6.5726645716851,15.1921243629744,0.9818201049616908,2.42765632047745,1.69681922982601,1.3336909595387,8.235472254590219,4.840612760508691,1.21045377784493,3.84513275926788,0.0877908243794144,15.2687805332958,0.4832358775750129,0.6219123565280991,8.39913483236136,0.133330736434022,1.0606254107781998,0.0459747904898814,6.521922194069719,0.663406497592782,6.05863547411852,6.7746953315839695,3.53800912688421,0.0691315979407054,0.286471388670057,3.7140392035807097,12.7784401237264,2.59225886480332,5.015418370322401,0.20563473262264,0.143462178127508,1.8902440792163,15.2408745833286,2.6988059222891896,0.326681762802864,7.4966448945296,0.446065443448411,0.849792905399696]}],\"name\":\"2018.0\"}],\"layout\":{\"coloraxis\":{\"colorbar\":{\"title\":{\"text\":\"CO2\"}},\"colorscale\":[[0.0,\"#0d0887\"],[0.1111111111111111,\"#46039f\"],[0.2222222222222222,\"#7201a8\"],[0.3333333333333333,\"#9c179e\"],[0.4444444444444444,\"#bd3786\"],[0.5555555555555556,\"#d8576b\"],[0.6666666666666666,\"#ed7953\"],[0.7777777777777778,\"#fb9f3a\"],[0.8888888888888888,\"#fdca26\"],[1.0,\"#f0f921\"]]},\"geo\":{\"center\":{},\"domain\":{\"x\":[0.0,1.0],\"y\":[0.0,1.0]},\"projection\":{\"type\":\"natural earth\"}},\"legend\":{\"tracegroupgap\":0},\"sliders\":[{\"active\":0,\"currentvalue\":{\"prefix\":\"Year=\"},\"len\":0.9,\"pad\":{\"b\":10,\"t\":60},\"steps\":[{\"args\":[[\"2000.0\"],{\"frame\":{\"duration\":0,\"redraw\":true},\"fromcurrent\":true,\"mode\":\"immediate\",\"transition\":{\"duration\":0,\"easing\":\"linear\"}}],\"label\":\"2000.0\",\"method\":\"animate\"},{\"args\":[[\"2001.0\"],{\"frame\":{\"duration\":0,\"redraw\":true},\"fromcurrent\":true,\"mode\":\"immediate\",\"transition\":{\"duration\":0,\"easing\":\"linear\"}}],\"label\":\"2001.0\",\"method\":\"animate\"},{\"args\":[[\"2002.0\"],{\"frame\":{\"duration\":0,\"redraw\":true},\"fromcurrent\":true,\"mode\":\"immediate\",\"transition\":{\"duration\":0,\"easing\":\"linear\"}}],\"label\":\"2002.0\",\"method\":\"animate\"},{\"args\":[[\"2003.0\"],{\"frame\":{\"duration\":0,\"redraw\":true},\"fromcurrent\":true,\"mode\":\"immediate\",\"transition\":{\"duration\":0,\"easing\":\"linear\"}}],\"label\":\"2003.0\",\"method\":\"animate\"},{\"args\":[[\"2004.0\"],{\"frame\":{\"duration\":0,\"redraw\":true},\"fromcurrent\":true,\"mode\":\"immediate\",\"transition\":{\"duration\":0,\"easing\":\"linear\"}}],\"label\":\"2004.0\",\"method\":\"animate\"},{\"args\":[[\"2005.0\"],{\"frame\":{\"duration\":0,\"redraw\":true},\"fromcurrent\":true,\"mode\":\"immediate\",\"transition\":{\"duration\":0,\"easing\":\"linear\"}}],\"label\":\"2005.0\",\"method\":\"animate\"},{\"args\":[[\"2006.0\"],{\"frame\":{\"duration\":0,\"redraw\":true},\"fromcurrent\":true,\"mode\":\"immediate\",\"transition\":{\"duration\":0,\"easing\":\"linear\"}}],\"label\":\"2006.0\",\"method\":\"animate\"},{\"args\":[[\"2007.0\"],{\"frame\":{\"duration\":0,\"redraw\":true},\"fromcurrent\":true,\"mode\":\"immediate\",\"transition\":{\"duration\":0,\"easing\":\"linear\"}}],\"label\":\"2007.0\",\"method\":\"animate\"},{\"args\":[[\"2008.0\"],{\"frame\":{\"duration\":0,\"redraw\":true},\"fromcurrent\":true,\"mode\":\"immediate\",\"transition\":{\"duration\":0,\"easing\":\"linear\"}}],\"label\":\"2008.0\",\"method\":\"animate\"},{\"args\":[[\"2009.0\"],{\"frame\":{\"duration\":0,\"redraw\":true},\"fromcurrent\":true,\"mode\":\"immediate\",\"transition\":{\"duration\":0,\"easing\":\"linear\"}}],\"label\":\"2009.0\",\"method\":\"animate\"},{\"args\":[[\"2010.0\"],{\"frame\":{\"duration\":0,\"redraw\":true},\"fromcurrent\":true,\"mode\":\"immediate\",\"transition\":{\"duration\":0,\"easing\":\"linear\"}}],\"label\":\"2010.0\",\"method\":\"animate\"},{\"args\":[[\"2011.0\"],{\"frame\":{\"duration\":0,\"redraw\":true},\"fromcurrent\":true,\"mode\":\"immediate\",\"transition\":{\"duration\":0,\"easing\":\"linear\"}}],\"label\":\"2011.0\",\"method\":\"animate\"},{\"args\":[[\"2012.0\"],{\"frame\":{\"duration\":0,\"redraw\":true},\"fromcurrent\":true,\"mode\":\"immediate\",\"transition\":{\"duration\":0,\"easing\":\"linear\"}}],\"label\":\"2012.0\",\"method\":\"animate\"},{\"args\":[[\"2013.0\"],{\"frame\":{\"duration\":0,\"redraw\":true},\"fromcurrent\":true,\"mode\":\"immediate\",\"transition\":{\"duration\":0,\"easing\":\"linear\"}}],\"label\":\"2013.0\",\"method\":\"animate\"},{\"args\":[[\"2014.0\"],{\"frame\":{\"duration\":0,\"redraw\":true},\"fromcurrent\":true,\"mode\":\"immediate\",\"transition\":{\"duration\":0,\"easing\":\"linear\"}}],\"label\":\"2014.0\",\"method\":\"animate\"},{\"args\":[[\"2015.0\"],{\"frame\":{\"duration\":0,\"redraw\":true},\"fromcurrent\":true,\"mode\":\"immediate\",\"transition\":{\"duration\":0,\"easing\":\"linear\"}}],\"label\":\"2015.0\",\"method\":\"animate\"},{\"args\":[[\"2016.0\"],{\"frame\":{\"duration\":0,\"redraw\":true},\"fromcurrent\":true,\"mode\":\"immediate\",\"transition\":{\"duration\":0,\"easing\":\"linear\"}}],\"label\":\"2016.0\",\"method\":\"animate\"},{\"args\":[[\"2017.0\"],{\"frame\":{\"duration\":0,\"redraw\":true},\"fromcurrent\":true,\"mode\":\"immediate\",\"transition\":{\"duration\":0,\"easing\":\"linear\"}}],\"label\":\"2017.0\",\"method\":\"animate\"},{\"args\":[[\"2018.0\"],{\"frame\":{\"duration\":0,\"redraw\":true},\"fromcurrent\":true,\"mode\":\"immediate\",\"transition\":{\"duration\":0,\"easing\":\"linear\"}}],\"label\":\"2018.0\",\"method\":\"animate\"}],\"x\":0.1,\"xanchor\":\"left\",\"y\":0,\"yanchor\":\"top\"}],\"template\":{\"data\":{\"bar\":[{\"error_x\":{\"color\":\"#2a3f5f\"},\"error_y\":{\"color\":\"#2a3f5f\"},\"marker\":{\"line\":{\"color\":\"#E5ECF6\",\"width\":0.5},\"pattern\":{\"fillmode\":\"overlay\",\"size\":10,\"solidity\":0.2}},\"type\":\"bar\"}],\"barpolar\":[{\"marker\":{\"line\":{\"color\":\"#E5ECF6\",\"width\":0.5},\"pattern\":{\"fillmode\":\"overlay\",\"size\":10,\"solidity\":0.2}},\"type\":\"barpolar\"}],\"carpet\":[{\"aaxis\":{\"endlinecolor\":\"#2a3f5f\",\"gridcolor\":\"white\",\"linecolor\":\"white\",\"minorgridcolor\":\"white\",\"startlinecolor\":\"#2a3f5f\"},\"baxis\":{\"endlinecolor\":\"#2a3f5f\",\"gridcolor\":\"white\",\"linecolor\":\"white\",\"minorgridcolor\":\"white\",\"startlinecolor\":\"#2a3f5f\"},\"type\":\"carpet\"}],\"choropleth\":[{\"colorbar\":{\"outlinewidth\":0,\"ticks\":\"\"},\"type\":\"choropleth\"}],\"contour\":[{\"colorbar\":{\"outlinewidth\":0,\"ticks\":\"\"},\"colorscale\":[[0.0,\"#0d0887\"],[0.1111111111111111,\"#46039f\"],[0.2222222222222222,\"#7201a8\"],[0.3333333333333333,\"#9c179e\"],[0.4444444444444444,\"#bd3786\"],[0.5555555555555556,\"#d8576b\"],[0.6666666666666666,\"#ed7953\"],[0.7777777777777778,\"#fb9f3a\"],[0.8888888888888888,\"#fdca26\"],[1.0,\"#f0f921\"]],\"type\":\"contour\"}],\"contourcarpet\":[{\"colorbar\":{\"outlinewidth\":0,\"ticks\":\"\"},\"type\":\"contourcarpet\"}],\"heatmap\":[{\"colorbar\":{\"outlinewidth\":0,\"ticks\":\"\"},\"colorscale\":[[0.0,\"#0d0887\"],[0.1111111111111111,\"#46039f\"],[0.2222222222222222,\"#7201a8\"],[0.3333333333333333,\"#9c179e\"],[0.4444444444444444,\"#bd3786\"],[0.5555555555555556,\"#d8576b\"],[0.6666666666666666,\"#ed7953\"],[0.7777777777777778,\"#fb9f3a\"],[0.8888888888888888,\"#fdca26\"],[1.0,\"#f0f921\"]],\"type\":\"heatmap\"}],\"heatmapgl\":[{\"colorbar\":{\"outlinewidth\":0,\"ticks\":\"\"},\"colorscale\":[[0.0,\"#0d0887\"],[0.1111111111111111,\"#46039f\"],[0.2222222222222222,\"#7201a8\"],[0.3333333333333333,\"#9c179e\"],[0.4444444444444444,\"#bd3786\"],[0.5555555555555556,\"#d8576b\"],[0.6666666666666666,\"#ed7953\"],[0.7777777777777778,\"#fb9f3a\"],[0.8888888888888888,\"#fdca26\"],[1.0,\"#f0f921\"]],\"type\":\"heatmapgl\"}],\"histogram\":[{\"marker\":{\"pattern\":{\"fillmode\":\"overlay\",\"size\":10,\"solidity\":0.2}},\"type\":\"histogram\"}],\"histogram2d\":[{\"colorbar\":{\"outlinewidth\":0,\"ticks\":\"\"},\"colorscale\":[[0.0,\"#0d0887\"],[0.1111111111111111,\"#46039f\"],[0.2222222222222222,\"#7201a8\"],[0.3333333333333333,\"#9c179e\"],[0.4444444444444444,\"#bd3786\"],[0.5555555555555556,\"#d8576b\"],[0.6666666666666666,\"#ed7953\"],[0.7777777777777778,\"#fb9f3a\"],[0.8888888888888888,\"#fdca26\"],[1.0,\"#f0f921\"]],\"type\":\"histogram2d\"}],\"histogram2dcontour\":[{\"colorbar\":{\"outlinewidth\":0,\"ticks\":\"\"},\"colorscale\":[[0.0,\"#0d0887\"],[0.1111111111111111,\"#46039f\"],[0.2222222222222222,\"#7201a8\"],[0.3333333333333333,\"#9c179e\"],[0.4444444444444444,\"#bd3786\"],[0.5555555555555556,\"#d8576b\"],[0.6666666666666666,\"#ed7953\"],[0.7777777777777778,\"#fb9f3a\"],[0.8888888888888888,\"#fdca26\"],[1.0,\"#f0f921\"]],\"type\":\"histogram2dcontour\"}],\"mesh3d\":[{\"colorbar\":{\"outlinewidth\":0,\"ticks\":\"\"},\"type\":\"mesh3d\"}],\"parcoords\":[{\"line\":{\"colorbar\":{\"outlinewidth\":0,\"ticks\":\"\"}},\"type\":\"parcoords\"}],\"pie\":[{\"automargin\":true,\"type\":\"pie\"}],\"scatter\":[{\"fillpattern\":{\"fillmode\":\"overlay\",\"size\":10,\"solidity\":0.2},\"type\":\"scatter\"}],\"scatter3d\":[{\"line\":{\"colorbar\":{\"outlinewidth\":0,\"ticks\":\"\"}},\"marker\":{\"colorbar\":{\"outlinewidth\":0,\"ticks\":\"\"}},\"type\":\"scatter3d\"}],\"scattercarpet\":[{\"marker\":{\"colorbar\":{\"outlinewidth\":0,\"ticks\":\"\"}},\"type\":\"scattercarpet\"}],\"scattergeo\":[{\"marker\":{\"colorbar\":{\"outlinewidth\":0,\"ticks\":\"\"}},\"type\":\"scattergeo\"}],\"scattergl\":[{\"marker\":{\"colorbar\":{\"outlinewidth\":0,\"ticks\":\"\"}},\"type\":\"scattergl\"}],\"scattermapbox\":[{\"marker\":{\"colorbar\":{\"outlinewidth\":0,\"ticks\":\"\"}},\"type\":\"scattermapbox\"}],\"scatterpolar\":[{\"marker\":{\"colorbar\":{\"outlinewidth\":0,\"ticks\":\"\"}},\"type\":\"scatterpolar\"}],\"scatterpolargl\":[{\"marker\":{\"colorbar\":{\"outlinewidth\":0,\"ticks\":\"\"}},\"type\":\"scatterpolargl\"}],\"scatterternary\":[{\"marker\":{\"colorbar\":{\"outlinewidth\":0,\"ticks\":\"\"}},\"type\":\"scatterternary\"}],\"surface\":[{\"colorbar\":{\"outlinewidth\":0,\"ticks\":\"\"},\"colorscale\":[[0.0,\"#0d0887\"],[0.1111111111111111,\"#46039f\"],[0.2222222222222222,\"#7201a8\"],[0.3333333333333333,\"#9c179e\"],[0.4444444444444444,\"#bd3786\"],[0.5555555555555556,\"#d8576b\"],[0.6666666666666666,\"#ed7953\"],[0.7777777777777778,\"#fb9f3a\"],[0.8888888888888888,\"#fdca26\"],[1.0,\"#f0f921\"]],\"type\":\"surface\"}],\"table\":[{\"cells\":{\"fill\":{\"color\":\"#EBF0F8\"},\"line\":{\"color\":\"white\"}},\"header\":{\"fill\":{\"color\":\"#C8D4E3\"},\"line\":{\"color\":\"white\"}},\"type\":\"table\"}]},\"layout\":{\"annotationdefaults\":{\"arrowcolor\":\"#2a3f5f\",\"arrowhead\":0,\"arrowwidth\":1},\"autotypenumbers\":\"strict\",\"coloraxis\":{\"colorbar\":{\"outlinewidth\":0,\"ticks\":\"\"}},\"colorscale\":{\"diverging\":[[0,\"#8e0152\"],[0.1,\"#c51b7d\"],[0.2,\"#de77ae\"],[0.3,\"#f1b6da\"],[0.4,\"#fde0ef\"],[0.5,\"#f7f7f7\"],[0.6,\"#e6f5d0\"],[0.7,\"#b8e186\"],[0.8,\"#7fbc41\"],[0.9,\"#4d9221\"],[1,\"#276419\"]],\"sequential\":[[0.0,\"#0d0887\"],[0.1111111111111111,\"#46039f\"],[0.2222222222222222,\"#7201a8\"],[0.3333333333333333,\"#9c179e\"],[0.4444444444444444,\"#bd3786\"],[0.5555555555555556,\"#d8576b\"],[0.6666666666666666,\"#ed7953\"],[0.7777777777777778,\"#fb9f3a\"],[0.8888888888888888,\"#fdca26\"],[1.0,\"#f0f921\"]],\"sequentialminus\":[[0.0,\"#0d0887\"],[0.1111111111111111,\"#46039f\"],[0.2222222222222222,\"#7201a8\"],[0.3333333333333333,\"#9c179e\"],[0.4444444444444444,\"#bd3786\"],[0.5555555555555556,\"#d8576b\"],[0.6666666666666666,\"#ed7953\"],[0.7777777777777778,\"#fb9f3a\"],[0.8888888888888888,\"#fdca26\"],[1.0,\"#f0f921\"]]},\"colorway\":[\"#636efa\",\"#EF553B\",\"#00cc96\",\"#ab63fa\",\"#FFA15A\",\"#19d3f3\",\"#FF6692\",\"#B6E880\",\"#FF97FF\",\"#FECB52\"],\"font\":{\"color\":\"#2a3f5f\"},\"geo\":{\"bgcolor\":\"white\",\"lakecolor\":\"white\",\"landcolor\":\"#E5ECF6\",\"showlakes\":true,\"showland\":true,\"subunitcolor\":\"white\"},\"hoverlabel\":{\"align\":\"left\"},\"hovermode\":\"closest\",\"mapbox\":{\"style\":\"light\"},\"paper_bgcolor\":\"white\",\"plot_bgcolor\":\"#E5ECF6\",\"polar\":{\"angularaxis\":{\"gridcolor\":\"white\",\"linecolor\":\"white\",\"ticks\":\"\"},\"bgcolor\":\"#E5ECF6\",\"radialaxis\":{\"gridcolor\":\"white\",\"linecolor\":\"white\",\"ticks\":\"\"}},\"scene\":{\"xaxis\":{\"backgroundcolor\":\"#E5ECF6\",\"gridcolor\":\"white\",\"gridwidth\":2,\"linecolor\":\"white\",\"showbackground\":true,\"ticks\":\"\",\"zerolinecolor\":\"white\"},\"yaxis\":{\"backgroundcolor\":\"#E5ECF6\",\"gridcolor\":\"white\",\"gridwidth\":2,\"linecolor\":\"white\",\"showbackground\":true,\"ticks\":\"\",\"zerolinecolor\":\"white\"},\"zaxis\":{\"backgroundcolor\":\"#E5ECF6\",\"gridcolor\":\"white\",\"gridwidth\":2,\"linecolor\":\"white\",\"showbackground\":true,\"ticks\":\"\",\"zerolinecolor\":\"white\"}},\"shapedefaults\":{\"line\":{\"color\":\"#2a3f5f\"}},\"ternary\":{\"aaxis\":{\"gridcolor\":\"white\",\"linecolor\":\"white\",\"ticks\":\"\"},\"baxis\":{\"gridcolor\":\"white\",\"linecolor\":\"white\",\"ticks\":\"\"},\"bgcolor\":\"#E5ECF6\",\"caxis\":{\"gridcolor\":\"white\",\"linecolor\":\"white\",\"ticks\":\"\"}},\"title\":{\"x\":0.05},\"xaxis\":{\"automargin\":true,\"gridcolor\":\"white\",\"linecolor\":\"white\",\"ticks\":\"\",\"title\":{\"standoff\":15},\"zerolinecolor\":\"white\",\"zerolinewidth\":2},\"yaxis\":{\"automargin\":true,\"gridcolor\":\"white\",\"linecolor\":\"white\",\"ticks\":\"\",\"title\":{\"standoff\":15},\"zerolinecolor\":\"white\",\"zerolinewidth\":2}}},\"title\":{\"text\":\"CO2 emissions in the world since 2000 to 2018\"},\"updatemenus\":[{\"buttons\":[{\"args\":[null,{\"frame\":{\"duration\":500,\"redraw\":true},\"fromcurrent\":true,\"mode\":\"immediate\",\"transition\":{\"duration\":500,\"easing\":\"linear\"}}],\"label\":\"&#9654;\",\"method\":\"animate\"},{\"args\":[[null],{\"frame\":{\"duration\":0,\"redraw\":true},\"fromcurrent\":true,\"mode\":\"immediate\",\"transition\":{\"duration\":0,\"easing\":\"linear\"}}],\"label\":\"&#9724;\",\"method\":\"animate\"}],\"direction\":\"left\",\"pad\":{\"r\":10,\"t\":70},\"showactive\":false,\"type\":\"buttons\",\"x\":0.1,\"xanchor\":\"right\",\"y\":0,\"yanchor\":\"top\"}]},\"margin\":[5,5,5,5],\"name\":\"Plotly04215\",\"viewport_update_throttle\":200},\"id\":\"2222\",\"type\":\"panel.models.plotly.PlotlyPlot\"},{\"attributes\":{},\"id\":\"2224\",\"type\":\"Selection\"},{\"attributes\":{\"client_comm_id\":\"fe3b3344bb62454a84d5343c123c85f4\",\"comm_id\":\"aa37df0756704a4eaba83938ae29e754\",\"plot_id\":\"2222\"},\"id\":\"2229\",\"type\":\"panel.models.comm_manager.CommManager\"},{\"attributes\":{\"data\":{\"hovertext\":[[\"Afghanistan\",\"Angola\",\"Albania\",\"Argentina\",\"Australia\",\"Austria\",\"Burundi\",\"Belgium\",\"Benin\",\"Burkina Faso\",\"Bangladesh\",\"Bulgaria\",\"Bahrain\",\"Bosnia and Herzegovina\",\"Bolivia\",\"Brazil\",\"Botswana\",\"Central African Republic\",\"Canada\",\"Switzerland\",\"Chile\",\"China\",\"Cote d'Ivoire\",\"Cameroon\",\"Congo, Dem. Rep.\",\"Congo, Rep.\",\"Colombia\",\"Comoros\",\"Costa Rica\",\"Cuba\",\"Czech Republic\",\"Germany\",\"Djibouti\",\"Denmark\",\"Dominican Republic\",\"Algeria\",\"Ecuador\",\"Eritrea\",\"Spain\",\"Ethiopia\",\"Finland\",\"France\",\"Gabon\",\"United Kingdom\",\"Ghana\",\"Guinea\",\"Guinea-Bissau\",\"Equatorial Guinea\",\"Greece\",\"Guatemala\",\"Honduras\",\"Croatia\",\"Haiti\",\"Hungary\",\"Indonesia\",\"India\",\"Ireland\",\"Iraq\",\"Iceland\",\"Israel\",\"Italy\",\"Jamaica\",\"Jordan\",\"Japan\",\"Kenya\",\"Cambodia\",\"Korea, Rep.\",\"Kuwait\",\"Lebanon\",\"Liberia\",\"Libya\",\"Sri Lanka\",\"Lesotho\",\"Morocco\",\"Madagascar\",\"Mexico\",\"Mali\",\"Myanmar\",\"Montenegro\",\"Mongolia\",\"Mozambique\",\"Mauritania\",\"Mauritius\",\"Malawi\",\"Malaysia\",\"Namibia\",\"Niger\",\"Nigeria\",\"Nicaragua\",\"Netherlands\",\"Norway\",\"Nepal\",\"New Zealand\",\"Oman\",\"Pakistan\",\"Panama\",\"Peru\",\"Philippines\",\"Poland\",\"Portugal\",\"Paraguay\",\"Romania\",\"Rwanda\",\"Saudi Arabia\",\"Sudan\",\"Senegal\",\"Singapore\",\"Sierra Leone\",\"El Salvador\",\"Somalia\",\"Serbia\",\"Sao Tome and Principe\",\"Slovak Republic\",\"Slovenia\",\"Sweden\",\"Chad\",\"Togo\",\"Thailand\",\"Trinidad and Tobago\",\"Tunisia\",\"Turkey\",\"Tanzania\",\"Uganda\",\"Uruguay\",\"United States\",\"Vietnam\",\"Yemen, Rep.\",\"South Africa\",\"Zambia\",\"Zimbabwe\"]],\"locations\":[[\"AFG\",\"AGO\",\"ALB\",\"ARG\",\"AUS\",\"AUT\",\"BDI\",\"BEL\",\"BEN\",\"BFA\",\"BGD\",\"BGR\",\"BHR\",\"BIH\",\"BOL\",\"BRA\",\"BWA\",\"CAF\",\"CAN\",\"CHE\",\"CHL\",\"CHN\",\"CIV\",\"CMR\",\"COD\",\"COG\",\"COL\",\"COM\",\"CRI\",\"CUB\",\"CZE\",\"DEU\",\"DJI\",\"DNK\",\"DOM\",\"DZA\",\"ECU\",\"ERI\",\"ESP\",\"ETH\",\"FIN\",\"FRA\",\"GAB\",\"GBR\",\"GHA\",\"GIN\",\"GNB\",\"GNQ\",\"GRC\",\"GTM\",\"HND\",\"HRV\",\"HTI\",\"HUN\",\"IDN\",\"IND\",\"IRL\",\"IRQ\",\"ISL\",\"ISR\",\"ITA\",\"JAM\",\"JOR\",\"JPN\",\"KEN\",\"KHM\",\"KOR\",\"KWT\",\"LBN\",\"LBR\",\"LBY\",\"LKA\",\"LSO\",\"MAR\",\"MDG\",\"MEX\",\"MLI\",\"MMR\",\"MNE\",\"MNG\",\"MOZ\",\"MRT\",\"MUS\",\"MWI\",\"MYS\",\"NAM\",\"NER\",\"NGA\",\"NIC\",\"NLD\",\"NOR\",\"NPL\",\"NZL\",\"OMN\",\"PAK\",\"PAN\",\"PER\",\"PHL\",\"POL\",\"PRT\",\"PRY\",\"ROU\",\"RWA\",\"SAU\",\"SDN\",\"SEN\",\"SGP\",\"SLE\",\"SLV\",\"SOM\",\"SRB\",\"STP\",\"SVK\",\"SVN\",\"SWE\",\"TCD\",\"TGO\",\"THA\",\"TTO\",\"TUN\",\"TUR\",\"TZA\",\"UGA\",\"URY\",\"USA\",\"VNM\",\"YEM\",\"ZAF\",\"ZMB\",\"ZWE\"]],\"z\":[{\"__ndarray__\":\"PdEsXt34oj93FMihqyToP6O8vW9ea/A/PqdbivueDEAyoP9bjbAxQDuQg7EZuB9AsPC3A3DepD9or1ePkOEmQD+ohVv8hcw/6DnqGxMotz8PwIEYQbXFP8naH264NhVA1Wr5UMrkN0A7ZevrK8ANQGqQRvL4aO4/owdc/gqf/D81T1DYYJ4DQMpWtyOO4LA/liz3qXXIMEDg3odsKVYYQIulOvdO+glA9GMbRRYwBUAhC6VL0Z7YP4+zYC3Ao9s/94yKFM3/kz967BhYhEPtPw3Hv+dkgfc/X5uQCcSZxz8qK45a8PzzPwC+lr+rRgRALmjwRHQFKEAE6zSvmjEkQArRsyD+f+A/uuTtxTS+I0DPJDxqL58BQB0zshzyQARAthD4YYH2+j+ftu1cHd7RPxLkiC+h6xxACxQbwvGFqz/5rH2UKkolQKNVt5OJghhAbGAOryBqDkCHevZ1wgAiQLEVxZ8ZDtM/tslFycAkxz9AkCDTGfe/P/T480+OAw9AtXy+X7J7IUBvo0SaWALqPxfguIv2h+g/f0W+8IMoEEBPGrw+LDvGPwvVJeiHZhVAmEUjx4kx9T8JY2eQd3nsP4zyGQ6tZiZA3tcS7FxjCUDLH4lDe7gfQO+BCL97ICJAb5jiYA+mHkB4b/S06VAOQF9rvoXUaAlAmTFmD/amIkDA19GrbnrQP6emw4jAo8Q/fxu2fEFjI0Cx3v5rixA3QNZMI3OmTxBAsFYPrKNSwz8U48Na88MdQEKehYpeoOI/VN8kAlOM6z8KCc1Inn/yP6iknqVbyro/EbFD7b0ZD0DdpwZtz3zAP784p7cxTco/AAAAAAAAAAAzAP1FRggOQMcYI84mq7Q/SVWHHqRA2z8EmtKUEWEAQMzp4mztNLQ/lRJJv7X6FECKCx0/50vxP7F7dlPhRa4/9RRmfw7o4z8z4sb5UMznP6w0zj3kYSRAE6peE7FaHkDdcraCMDfBP7gQSpeSlh5ANuW6pHTgI0B14fH3Rx3mP8hnz8DM4Ps/gD/M9/Yw8T9foo+bowfuP949pge96h5A0Sq+hRn4F0D00z6iAinlPxZEgMmcrg9AiA/L53HHsD90KY6NJ6YnQLP0QUu6C8o/xml+ozqF2j8+yaVfgSQlQAKz2m/2VbY/oipt+CKZ7j9V0DDx5EasP7X0+ikKaRdAaMam+U5+1j/R0tHJT0IcQM2FavDuPR1AuShh7nYFGEBSGNmWLUCvP5/rM1VrgdA/m2VBqVW7BEC3F/w6NaomQG5fEFU8PwFAJzGugx9nC0C8St7tOIu2P3Aswb0Ey6w/U8GEhrtQ+j+WNHqb0Hg0QJzo5wuFJeQ/P+MKhxGI6T/tRSNn11MZQF5lju8pPsY/6nlkmuly8j8=\",\"dtype\":\"float64\",\"order\":\"little\",\"shape\":[130]}]},\"selected\":{\"id\":\"2224\"},\"selection_policy\":{\"id\":\"2223\"}},\"id\":\"2221\",\"type\":\"ColumnDataSource\"}],\"root_ids\":[\"2222\",\"2229\"]},\"title\":\"Bokeh Application\",\"version\":\"2.4.3\"}};\n",
       "    var render_items = [{\"docid\":\"c8a02dc8-9ea5-4b07-9dd1-20a31eea33a5\",\"root_ids\":[\"2222\"],\"roots\":{\"2222\":\"9cf271ba-c35c-433f-a6ac-844f6836f08e\"}}];\n",
       "    root.Bokeh.embed.embed_items_notebook(docs_json, render_items);\n",
       "    for (const render_item of render_items) {\n",
       "      for (const root_id of render_item.root_ids) {\n",
       "\tconst id_el = document.getElementById(root_id)\n",
       "\tif (id_el.children.length && (id_el.children[0].className === 'bk-root')) {\n",
       "\t  const root_el = id_el.children[0]\n",
       "\t  root_el.id = root_el.id + '-rendered'\n",
       "\t}\n",
       "      }\n",
       "    }\n",
       "  }\n",
       "  if (root.Bokeh !== undefined && root.Bokeh.Panel !== undefined && ( root['Tabulator'] !== undefined) && ( root['Plotly'] !== undefined) && ( root['Tabulator'] !== undefined) && ( root['Plotly'] !== undefined) && ( root['Tabulator'] !== undefined) && ( root['Plotly'] !== undefined)) {\n",
       "    embed_document(root);\n",
       "  } else {\n",
       "    var attempts = 0;\n",
       "    var timer = setInterval(function(root) {\n",
       "      if (root.Bokeh !== undefined && root.Bokeh.Panel !== undefined && (root['Tabulator'] !== undefined) && (root['Plotly'] !== undefined) && (root['Tabulator'] !== undefined) && (root['Plotly'] !== undefined) && (root['Tabulator'] !== undefined) && (root['Plotly'] !== undefined)) {\n",
       "        clearInterval(timer);\n",
       "        embed_document(root);\n",
       "      } else if (document.readyState == \"complete\") {\n",
       "        attempts++;\n",
       "        if (attempts > 200) {\n",
       "          clearInterval(timer);\n",
       "          console.log(\"Bokeh: ERROR: Unable to run BokehJS code because BokehJS library is missing\");\n",
       "        }\n",
       "      }\n",
       "    }, 25, root)\n",
       "  }\n",
       "})(window);</script>"
      ],
      "text/plain": [
       "Plotly(Figure)"
      ]
     },
     "execution_count": 44,
     "metadata": {
      "application/vnd.holoviews_exec.v0+json": {
       "id": "2222"
      }
     },
     "output_type": "execute_result"
    }
   ],
   "source": [
    "import plotly.express as px\n",
    "pn.extension('plotly')\n",
    "\n",
    "fig = px.choropleth(new_df, locations=\"iso_alpha\", color=\"CO2\", hover_name=\"Country\", \n",
    "                    animation_frame=\"Year\", projection=\"natural earth\", title='CO2 emissions in the world since 2000 to 2018')\n",
    "\n",
    "geo_pane = pn.pane.Plotly(fig)\n",
    "geo_pane"
   ]
  }
 ],
 "metadata": {
  "kernelspec": {
   "display_name": "Python 3 (ipykernel)",
   "language": "python",
   "name": "python3"
  },
  "language_info": {
   "codemirror_mode": {
    "name": "ipython",
    "version": 3
   },
   "file_extension": ".py",
   "mimetype": "text/x-python",
   "name": "python",
   "nbconvert_exporter": "python",
   "pygments_lexer": "ipython3",
   "version": "3.11.1"
  }
 },
 "nbformat": 4,
 "nbformat_minor": 5
}
