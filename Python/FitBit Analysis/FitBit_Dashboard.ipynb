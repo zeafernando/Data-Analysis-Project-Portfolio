{
 "cells": [
  {
   "cell_type": "markdown",
   "id": "7ab0250e-0073-4bc4-a832-24d8c303b522",
   "metadata": {},
   "source": [
    "# **FitBit Interactive Dashboard** #"
   ]
  },
  {
   "cell_type": "markdown",
   "id": "d269f739-a96b-41d0-a452-4729c022198b",
   "metadata": {
    "jp-MarkdownHeadingCollapsed": true,
    "tags": []
   },
   "source": [
    "The FitBit Activity Performance Dashboard shows the user it's progress over time\n",
    "\n",
    "Four main perfomance indexes are displayed: \n",
    "\n",
    "    Mean steps\n",
    "    Mean calories\n",
    "    Mean activity (in terms of distance traveled)\n",
    "    Mean sleep\n",
    "\n",
    "Three main graphs are displayed:\n",
    "\n",
    "    Calories over time\n",
    "    Calories vs Totals (Steps, distance and sleep time)\n",
    "    Activity minutes per category"
   ]
  },
  {
   "cell_type": "markdown",
   "id": "a0b85834-5be4-44e0-ba67-b59dae477049",
   "metadata": {},
   "source": [
    "**0) Data transforming and cleaning** "
   ]
  },
  {
   "cell_type": "code",
   "execution_count": 141,
   "id": "c4ccd934-f52e-425f-bb26-a29a596b5352",
   "metadata": {},
   "outputs": [],
   "source": [
    "#Importing libraries\n",
    "\n",
    "import warnings\n",
    "warnings.simplefilter(action='ignore', category=FutureWarning)\n",
    "import pandas as pd\n",
    "import numpy as np\n",
    "import panel as pn\n",
    "pn.extension('tabulator')\n",
    "import hvplot.pandas\n",
    "import matplotlib.pyplot as plt"
   ]
  },
  {
   "cell_type": "markdown",
   "id": "3ccbe61b-716a-4423-bd03-9f364f46c5a4",
   "metadata": {},
   "source": [
    "Importing the databases"
   ]
  },
  {
   "cell_type": "code",
   "execution_count": 142,
   "id": "9ba14985-a51f-41e8-b0da-d19182f747db",
   "metadata": {},
   "outputs": [],
   "source": [
    "#Reading the main database that will be used (Activity Summary)\n",
    "\n",
    "act_sum = pd.read_csv('dailyActivity_merged.csv')\n",
    "\n",
    "#Reading the second database to complement the main database (Sleep data summary)\n",
    "\n",
    "sleep_dat = pd.read_csv('sleepDay_merged.csv')"
   ]
  },
  {
   "cell_type": "markdown",
   "id": "f5666854-e688-43ae-98bf-563841eb2166",
   "metadata": {},
   "source": [
    "_The date column for both of the datasets is not in datetime format, so they will be transformed_ \n",
    "\n",
    "_Also, the column SleepDay will be change to ActivityDate to match the act_sum dataset for a futher join_"
   ]
  },
  {
   "cell_type": "code",
   "execution_count": 143,
   "id": "ca807c2a-9e76-4f9f-924a-fa147ec3cb1e",
   "metadata": {},
   "outputs": [],
   "source": [
    "#Transforming the ActivityDate column to datetime format\n",
    "\n",
    "act_sum['ActivityDate'] = pd.to_datetime(act_sum['ActivityDate'])\n",
    "\n",
    "#Transforming the SleepDay column to datetime format\n",
    "\n",
    "sleep_dat['SleepDay'] = pd.to_datetime(sleep_dat['SleepDay'])\n",
    "\n",
    "#Renaming the SleepDay column to ActivityDate to match the main database\n",
    "\n",
    "sleep_dat = sleep_dat.rename(columns={'SleepDay': 'ActivityDate'})"
   ]
  },
  {
   "cell_type": "markdown",
   "id": "3360ae1e-5c1f-4f3a-9b40-83e452d6fb94",
   "metadata": {},
   "source": [
    "Performing an outer join using the columns ActivityDate and Id"
   ]
  },
  {
   "cell_type": "code",
   "execution_count": 144,
   "id": "c3e40bc5-693f-4d98-be8d-699579a23d89",
   "metadata": {},
   "outputs": [],
   "source": [
    "#Merging the two datasets to have the data on only one dataset\n",
    "\n",
    "tracker = pd.merge(act_sum, sleep_dat, on = ['ActivityDate', 'Id'], how = 'outer')"
   ]
  },
  {
   "cell_type": "markdown",
   "id": "8782817b-e6bb-4cf6-90b3-5c13b1d0f345",
   "metadata": {},
   "source": [
    "Cheking for nan values"
   ]
  },
  {
   "cell_type": "code",
   "execution_count": 145,
   "id": "7d56b09b-1f50-4531-b7c5-faf195aeb419",
   "metadata": {},
   "outputs": [
    {
     "name": "stdout",
     "output_type": "stream",
     "text": [
      "<class 'pandas.core.frame.DataFrame'>\n",
      "Int64Index: 943 entries, 0 to 942\n",
      "Data columns (total 18 columns):\n",
      " #   Column                    Non-Null Count  Dtype         \n",
      "---  ------                    --------------  -----         \n",
      " 0   Id                        943 non-null    int64         \n",
      " 1   ActivityDate              943 non-null    datetime64[ns]\n",
      " 2   TotalSteps                943 non-null    int64         \n",
      " 3   TotalDistance             943 non-null    float64       \n",
      " 4   TrackerDistance           943 non-null    float64       \n",
      " 5   LoggedActivitiesDistance  943 non-null    float64       \n",
      " 6   VeryActiveDistance        943 non-null    float64       \n",
      " 7   ModeratelyActiveDistance  943 non-null    float64       \n",
      " 8   LightActiveDistance       943 non-null    float64       \n",
      " 9   SedentaryActiveDistance   943 non-null    float64       \n",
      " 10  VeryActiveMinutes         943 non-null    int64         \n",
      " 11  FairlyActiveMinutes       943 non-null    int64         \n",
      " 12  LightlyActiveMinutes      943 non-null    int64         \n",
      " 13  SedentaryMinutes          943 non-null    int64         \n",
      " 14  Calories                  943 non-null    int64         \n",
      " 15  TotalSleepRecords         413 non-null    float64       \n",
      " 16  TotalMinutesAsleep        413 non-null    float64       \n",
      " 17  TotalTimeInBed            413 non-null    float64       \n",
      "dtypes: datetime64[ns](1), float64(10), int64(7)\n",
      "memory usage: 140.0 KB\n"
     ]
    }
   ],
   "source": [
    "tracker.info()"
   ]
  },
  {
   "cell_type": "markdown",
   "id": "72041355-be52-49bd-b70d-1195e548db11",
   "metadata": {},
   "source": [
    "_We can see there are rows with nan values_\n",
    "\n",
    "_This is because some sleep data wasn't logged at the same date that the activity data was logged_"
   ]
  },
  {
   "cell_type": "markdown",
   "id": "0d05b7a8-a1c3-452e-860f-4d2401b04b87",
   "metadata": {},
   "source": [
    "Dropping the rows with nan values and changing the Id type to str"
   ]
  },
  {
   "cell_type": "code",
   "execution_count": 146,
   "id": "1cb2734c-3a28-4c68-8ed8-cb3e74a5ecbc",
   "metadata": {},
   "outputs": [
    {
     "name": "stdout",
     "output_type": "stream",
     "text": [
      "<class 'pandas.core.frame.DataFrame'>\n",
      "Int64Index: 413 entries, 0 to 905\n",
      "Data columns (total 18 columns):\n",
      " #   Column                    Non-Null Count  Dtype         \n",
      "---  ------                    --------------  -----         \n",
      " 0   Id                        413 non-null    object        \n",
      " 1   ActivityDate              413 non-null    datetime64[ns]\n",
      " 2   TotalSteps                413 non-null    int64         \n",
      " 3   TotalDistance             413 non-null    float64       \n",
      " 4   TrackerDistance           413 non-null    float64       \n",
      " 5   LoggedActivitiesDistance  413 non-null    float64       \n",
      " 6   VeryActiveDistance        413 non-null    float64       \n",
      " 7   ModeratelyActiveDistance  413 non-null    float64       \n",
      " 8   LightActiveDistance       413 non-null    float64       \n",
      " 9   SedentaryActiveDistance   413 non-null    float64       \n",
      " 10  VeryActiveMinutes         413 non-null    int64         \n",
      " 11  FairlyActiveMinutes       413 non-null    int64         \n",
      " 12  LightlyActiveMinutes      413 non-null    int64         \n",
      " 13  SedentaryMinutes          413 non-null    int64         \n",
      " 14  Calories                  413 non-null    int64         \n",
      " 15  TotalSleepRecords         413 non-null    float64       \n",
      " 16  TotalMinutesAsleep        413 non-null    float64       \n",
      " 17  TotalTimeInBed            413 non-null    float64       \n",
      "dtypes: datetime64[ns](1), float64(10), int64(6), object(1)\n",
      "memory usage: 61.3+ KB\n"
     ]
    }
   ],
   "source": [
    "#Dropping the nan values\n",
    "\n",
    "tracker = tracker.dropna()\n",
    "\n",
    "#Changing the Dtype of Id so it doesn't show as a integer in the visuals (not a quantity but a dimension)\n",
    "\n",
    "tracker['Id'] = tracker['Id'].astype(str)\n",
    "\n",
    "tracker.info()"
   ]
  },
  {
   "cell_type": "markdown",
   "id": "6ab5164a-b34d-47a9-9628-c27d9ff38ece",
   "metadata": {},
   "source": [
    "Creation of the TotalActiveMinutes column"
   ]
  },
  {
   "cell_type": "code",
   "execution_count": 147,
   "id": "876e9010-4e62-430f-8c40-80e11a384f34",
   "metadata": {},
   "outputs": [
    {
     "data": {
      "text/html": [
       "<div>\n",
       "<style scoped>\n",
       "    .dataframe tbody tr th:only-of-type {\n",
       "        vertical-align: middle;\n",
       "    }\n",
       "\n",
       "    .dataframe tbody tr th {\n",
       "        vertical-align: top;\n",
       "    }\n",
       "\n",
       "    .dataframe thead th {\n",
       "        text-align: right;\n",
       "    }\n",
       "</style>\n",
       "<table border=\"1\" class=\"dataframe\">\n",
       "  <thead>\n",
       "    <tr style=\"text-align: right;\">\n",
       "      <th></th>\n",
       "      <th>Id</th>\n",
       "      <th>ActivityDate</th>\n",
       "      <th>TotalSteps</th>\n",
       "      <th>TotalDistance</th>\n",
       "      <th>TrackerDistance</th>\n",
       "      <th>LoggedActivitiesDistance</th>\n",
       "      <th>VeryActiveDistance</th>\n",
       "      <th>ModeratelyActiveDistance</th>\n",
       "      <th>LightActiveDistance</th>\n",
       "      <th>SedentaryActiveDistance</th>\n",
       "      <th>VeryActiveMinutes</th>\n",
       "      <th>FairlyActiveMinutes</th>\n",
       "      <th>LightlyActiveMinutes</th>\n",
       "      <th>SedentaryMinutes</th>\n",
       "      <th>Calories</th>\n",
       "      <th>TotalSleepRecords</th>\n",
       "      <th>TotalMinutesAsleep</th>\n",
       "      <th>TotalTimeInBed</th>\n",
       "      <th>TotalActiveMinutes</th>\n",
       "    </tr>\n",
       "  </thead>\n",
       "  <tbody>\n",
       "    <tr>\n",
       "      <th>0</th>\n",
       "      <td>1503960366</td>\n",
       "      <td>2016-04-12</td>\n",
       "      <td>13162</td>\n",
       "      <td>8.50</td>\n",
       "      <td>8.50</td>\n",
       "      <td>0.0</td>\n",
       "      <td>1.88</td>\n",
       "      <td>0.55</td>\n",
       "      <td>6.06</td>\n",
       "      <td>0.0</td>\n",
       "      <td>25</td>\n",
       "      <td>13</td>\n",
       "      <td>328</td>\n",
       "      <td>728</td>\n",
       "      <td>1985</td>\n",
       "      <td>1.0</td>\n",
       "      <td>327.0</td>\n",
       "      <td>346.0</td>\n",
       "      <td>1094</td>\n",
       "    </tr>\n",
       "    <tr>\n",
       "      <th>1</th>\n",
       "      <td>1503960366</td>\n",
       "      <td>2016-04-13</td>\n",
       "      <td>10735</td>\n",
       "      <td>6.97</td>\n",
       "      <td>6.97</td>\n",
       "      <td>0.0</td>\n",
       "      <td>1.57</td>\n",
       "      <td>0.69</td>\n",
       "      <td>4.71</td>\n",
       "      <td>0.0</td>\n",
       "      <td>21</td>\n",
       "      <td>19</td>\n",
       "      <td>217</td>\n",
       "      <td>776</td>\n",
       "      <td>1797</td>\n",
       "      <td>2.0</td>\n",
       "      <td>384.0</td>\n",
       "      <td>407.0</td>\n",
       "      <td>1033</td>\n",
       "    </tr>\n",
       "    <tr>\n",
       "      <th>3</th>\n",
       "      <td>1503960366</td>\n",
       "      <td>2016-04-15</td>\n",
       "      <td>9762</td>\n",
       "      <td>6.28</td>\n",
       "      <td>6.28</td>\n",
       "      <td>0.0</td>\n",
       "      <td>2.14</td>\n",
       "      <td>1.26</td>\n",
       "      <td>2.83</td>\n",
       "      <td>0.0</td>\n",
       "      <td>29</td>\n",
       "      <td>34</td>\n",
       "      <td>209</td>\n",
       "      <td>726</td>\n",
       "      <td>1745</td>\n",
       "      <td>1.0</td>\n",
       "      <td>412.0</td>\n",
       "      <td>442.0</td>\n",
       "      <td>998</td>\n",
       "    </tr>\n",
       "    <tr>\n",
       "      <th>4</th>\n",
       "      <td>1503960366</td>\n",
       "      <td>2016-04-16</td>\n",
       "      <td>12669</td>\n",
       "      <td>8.16</td>\n",
       "      <td>8.16</td>\n",
       "      <td>0.0</td>\n",
       "      <td>2.71</td>\n",
       "      <td>0.41</td>\n",
       "      <td>5.04</td>\n",
       "      <td>0.0</td>\n",
       "      <td>36</td>\n",
       "      <td>10</td>\n",
       "      <td>221</td>\n",
       "      <td>773</td>\n",
       "      <td>1863</td>\n",
       "      <td>2.0</td>\n",
       "      <td>340.0</td>\n",
       "      <td>367.0</td>\n",
       "      <td>1040</td>\n",
       "    </tr>\n",
       "    <tr>\n",
       "      <th>5</th>\n",
       "      <td>1503960366</td>\n",
       "      <td>2016-04-17</td>\n",
       "      <td>9705</td>\n",
       "      <td>6.48</td>\n",
       "      <td>6.48</td>\n",
       "      <td>0.0</td>\n",
       "      <td>3.19</td>\n",
       "      <td>0.78</td>\n",
       "      <td>2.51</td>\n",
       "      <td>0.0</td>\n",
       "      <td>38</td>\n",
       "      <td>20</td>\n",
       "      <td>164</td>\n",
       "      <td>539</td>\n",
       "      <td>1728</td>\n",
       "      <td>1.0</td>\n",
       "      <td>700.0</td>\n",
       "      <td>712.0</td>\n",
       "      <td>761</td>\n",
       "    </tr>\n",
       "  </tbody>\n",
       "</table>\n",
       "</div>"
      ],
      "text/plain": [
       "           Id ActivityDate  TotalSteps  TotalDistance  TrackerDistance  \\\n",
       "0  1503960366   2016-04-12       13162           8.50             8.50   \n",
       "1  1503960366   2016-04-13       10735           6.97             6.97   \n",
       "3  1503960366   2016-04-15        9762           6.28             6.28   \n",
       "4  1503960366   2016-04-16       12669           8.16             8.16   \n",
       "5  1503960366   2016-04-17        9705           6.48             6.48   \n",
       "\n",
       "   LoggedActivitiesDistance  VeryActiveDistance  ModeratelyActiveDistance  \\\n",
       "0                       0.0                1.88                      0.55   \n",
       "1                       0.0                1.57                      0.69   \n",
       "3                       0.0                2.14                      1.26   \n",
       "4                       0.0                2.71                      0.41   \n",
       "5                       0.0                3.19                      0.78   \n",
       "\n",
       "   LightActiveDistance  SedentaryActiveDistance  VeryActiveMinutes  \\\n",
       "0                 6.06                      0.0                 25   \n",
       "1                 4.71                      0.0                 21   \n",
       "3                 2.83                      0.0                 29   \n",
       "4                 5.04                      0.0                 36   \n",
       "5                 2.51                      0.0                 38   \n",
       "\n",
       "   FairlyActiveMinutes  LightlyActiveMinutes  SedentaryMinutes  Calories  \\\n",
       "0                   13                   328               728      1985   \n",
       "1                   19                   217               776      1797   \n",
       "3                   34                   209               726      1745   \n",
       "4                   10                   221               773      1863   \n",
       "5                   20                   164               539      1728   \n",
       "\n",
       "   TotalSleepRecords  TotalMinutesAsleep  TotalTimeInBed  TotalActiveMinutes  \n",
       "0                1.0               327.0           346.0                1094  \n",
       "1                2.0               384.0           407.0                1033  \n",
       "3                1.0               412.0           442.0                 998  \n",
       "4                2.0               340.0           367.0                1040  \n",
       "5                1.0               700.0           712.0                 761  "
      ]
     },
     "execution_count": 147,
     "metadata": {},
     "output_type": "execute_result"
    }
   ],
   "source": [
    "tracker['TotalActiveMinutes'] = tracker['VeryActiveMinutes']+tracker['FairlyActiveMinutes']+tracker['LightlyActiveMinutes']+tracker['SedentaryMinutes']\n",
    "\n",
    "tracker.head()"
   ]
  },
  {
   "cell_type": "markdown",
   "id": "f5daf872-bbb7-490b-bbb3-55f0d312ab0c",
   "metadata": {},
   "source": [
    "**1) Exploratory Analysis**"
   ]
  },
  {
   "cell_type": "markdown",
   "id": "bb83d384-3e28-48ac-907d-7a7a5df450fa",
   "metadata": {},
   "source": [
    "_**1.1) Mean performance indicators**_"
   ]
  },
  {
   "cell_type": "markdown",
   "id": "d20e4916-cecc-456c-a193-f9023ae4ff09",
   "metadata": {},
   "source": [
    "_We will create a table with the mean perfomance indicators for each user_"
   ]
  },
  {
   "cell_type": "code",
   "execution_count": 148,
   "id": "1596652f-6410-461e-bf86-272809ec0477",
   "metadata": {},
   "outputs": [
    {
     "data": {},
     "metadata": {},
     "output_type": "display_data"
    },
    {
     "data": {
      "application/vnd.holoviews_exec.v0+json": "",
      "text/html": [
       "<div id='45903'>\n",
       "  <div class=\"bk-root\" id=\"01755f72-b42c-41ba-afc8-3266ebc819b4\" data-root-id=\"45903\"></div>\n",
       "</div>\n",
       "<script type=\"application/javascript\">(function(root) {\n",
       "  function embed_document(root) {\n",
       "    var docs_json = {\"f9c39778-fd2e-4e61-b5a9-940c73d43a2d\":{\"defs\":[{\"extends\":null,\"module\":null,\"name\":\"ReactiveHTML1\",\"overrides\":[],\"properties\":[]},{\"extends\":null,\"module\":null,\"name\":\"FlexBox1\",\"overrides\":[],\"properties\":[{\"default\":\"flex-start\",\"kind\":null,\"name\":\"align_content\"},{\"default\":\"flex-start\",\"kind\":null,\"name\":\"align_items\"},{\"default\":\"row\",\"kind\":null,\"name\":\"flex_direction\"},{\"default\":\"wrap\",\"kind\":null,\"name\":\"flex_wrap\"},{\"default\":\"flex-start\",\"kind\":null,\"name\":\"justify_content\"}]},{\"extends\":null,\"module\":null,\"name\":\"GridStack1\",\"overrides\":[],\"properties\":[{\"default\":\"warn\",\"kind\":null,\"name\":\"mode\"},{\"default\":null,\"kind\":null,\"name\":\"ncols\"},{\"default\":null,\"kind\":null,\"name\":\"nrows\"},{\"default\":true,\"kind\":null,\"name\":\"allow_resize\"},{\"default\":true,\"kind\":null,\"name\":\"allow_drag\"},{\"default\":[],\"kind\":null,\"name\":\"state\"}]},{\"extends\":null,\"module\":null,\"name\":\"click1\",\"overrides\":[],\"properties\":[{\"default\":\"\",\"kind\":null,\"name\":\"terminal_output\"},{\"default\":\"\",\"kind\":null,\"name\":\"debug_name\"},{\"default\":0,\"kind\":null,\"name\":\"clears\"}]},{\"extends\":null,\"module\":null,\"name\":\"NotificationAreaBase1\",\"overrides\":[],\"properties\":[{\"default\":\"bottom-right\",\"kind\":null,\"name\":\"position\"},{\"default\":0,\"kind\":null,\"name\":\"_clear\"}]},{\"extends\":null,\"module\":null,\"name\":\"NotificationArea1\",\"overrides\":[],\"properties\":[{\"default\":[],\"kind\":null,\"name\":\"notifications\"},{\"default\":\"bottom-right\",\"kind\":null,\"name\":\"position\"},{\"default\":0,\"kind\":null,\"name\":\"_clear\"},{\"default\":[{\"background\":\"#ffc107\",\"icon\":{\"className\":\"fas fa-exclamation-triangle\",\"color\":\"white\",\"tagName\":\"i\"},\"type\":\"warning\"},{\"background\":\"#007bff\",\"icon\":{\"className\":\"fas fa-info-circle\",\"color\":\"white\",\"tagName\":\"i\"},\"type\":\"info\"}],\"kind\":null,\"name\":\"types\"}]},{\"extends\":null,\"module\":null,\"name\":\"Notification\",\"overrides\":[],\"properties\":[{\"default\":null,\"kind\":null,\"name\":\"background\"},{\"default\":3000,\"kind\":null,\"name\":\"duration\"},{\"default\":null,\"kind\":null,\"name\":\"icon\"},{\"default\":\"\",\"kind\":null,\"name\":\"message\"},{\"default\":null,\"kind\":null,\"name\":\"notification_type\"},{\"default\":false,\"kind\":null,\"name\":\"_destroyed\"}]},{\"extends\":null,\"module\":null,\"name\":\"TemplateActions1\",\"overrides\":[],\"properties\":[{\"default\":0,\"kind\":null,\"name\":\"open_modal\"},{\"default\":0,\"kind\":null,\"name\":\"close_modal\"}]},{\"extends\":null,\"module\":null,\"name\":\"MaterialTemplateActions1\",\"overrides\":[],\"properties\":[{\"default\":0,\"kind\":null,\"name\":\"open_modal\"},{\"default\":0,\"kind\":null,\"name\":\"close_modal\"}]}],\"roots\":{\"references\":[{\"attributes\":{\"margin\":[5,10,5,10],\"options\":[\"1503960366\",\"1644430081\",\"1844505072\",\"1927972279\",\"2026352035\",\"2320127002\",\"2347167796\",\"3977333714\",\"4020332650\",\"4319703577\",\"4388161847\",\"4445114986\",\"4558609924\",\"4702921684\",\"5553957443\",\"5577150313\",\"6117666160\",\"6775888955\",\"6962181067\",\"7007744171\",\"7086361926\",\"8053475328\",\"8378563200\",\"8792009665\"],\"title\":\"Select User\",\"value\":\"1503960366\"},\"id\":\"45903\",\"type\":\"panel.models.widgets.CustomSelect\"},{\"attributes\":{\"client_comm_id\":\"7a7c9824b8214ba6afc3a4d434fe759b\",\"comm_id\":\"122e3f3adebf429785761b57b475f7fb\",\"plot_id\":\"45903\"},\"id\":\"45904\",\"type\":\"panel.models.comm_manager.CommManager\"}],\"root_ids\":[\"45903\",\"45904\"]},\"title\":\"Bokeh Application\",\"version\":\"2.4.3\"}};\n",
       "    var render_items = [{\"docid\":\"f9c39778-fd2e-4e61-b5a9-940c73d43a2d\",\"root_ids\":[\"45903\"],\"roots\":{\"45903\":\"01755f72-b42c-41ba-afc8-3266ebc819b4\"}}];\n",
       "    root.Bokeh.embed.embed_items_notebook(docs_json, render_items);\n",
       "    for (const render_item of render_items) {\n",
       "      for (const root_id of render_item.root_ids) {\n",
       "\tconst id_el = document.getElementById(root_id)\n",
       "\tif (id_el.children.length && (id_el.children[0].className === 'bk-root')) {\n",
       "\t  const root_el = id_el.children[0]\n",
       "\t  root_el.id = root_el.id + '-rendered'\n",
       "\t}\n",
       "      }\n",
       "    }\n",
       "  }\n",
       "  if (root.Bokeh !== undefined && root.Bokeh.Panel !== undefined && ( root['Tabulator'] !== undefined) && ( root['Tabulator'] !== undefined) && ( root['Tabulator'] !== undefined)) {\n",
       "    embed_document(root);\n",
       "  } else {\n",
       "    var attempts = 0;\n",
       "    var timer = setInterval(function(root) {\n",
       "      if (root.Bokeh !== undefined && root.Bokeh.Panel !== undefined && (root['Tabulator'] !== undefined) && (root['Tabulator'] !== undefined) && (root['Tabulator'] !== undefined)) {\n",
       "        clearInterval(timer);\n",
       "        embed_document(root);\n",
       "      } else if (document.readyState == \"complete\") {\n",
       "        attempts++;\n",
       "        if (attempts > 200) {\n",
       "          clearInterval(timer);\n",
       "          console.log(\"Bokeh: ERROR: Unable to run BokehJS code because BokehJS library is missing\");\n",
       "        }\n",
       "      }\n",
       "    }, 25, root)\n",
       "  }\n",
       "})(window);</script>"
      ],
      "text/plain": [
       "Select(options=['1503960366', ...], value='1503960366')"
      ]
     },
     "execution_count": 148,
     "metadata": {
      "application/vnd.holoviews_exec.v0+json": {
       "id": "45903"
      }
     },
     "output_type": "execute_result"
    }
   ],
   "source": [
    "#Creating the Id button to select different users\n",
    "\n",
    "Id_button = pn.widgets.Select(name='Select User', options=tracker['Id'].unique().tolist())\n",
    "\n",
    "Id_button"
   ]
  },
  {
   "cell_type": "code",
   "execution_count": 149,
   "id": "c7e10085-67ce-48ee-a851-26a7ad8f4b8c",
   "metadata": {},
   "outputs": [],
   "source": [
    "#Makign the dataframe interactive\n",
    "\n",
    "idf = tracker.interactive()"
   ]
  },
  {
   "cell_type": "code",
   "execution_count": 150,
   "id": "d938e88e-1db3-425d-82ce-3d4b18231f4f",
   "metadata": {},
   "outputs": [
    {
     "data": {},
     "metadata": {},
     "output_type": "display_data"
    },
    {
     "data": {
      "application/vnd.holoviews_exec.v0+json": "",
      "text/html": [
       "<div id='45905'>\n",
       "  <div class=\"bk-root\" id=\"527cfc9e-42e2-409c-b966-02b73a2b9d45\" data-root-id=\"45905\"></div>\n",
       "</div>\n",
       "<script type=\"application/javascript\">(function(root) {\n",
       "  function embed_document(root) {\n",
       "    var docs_json = {\"7a6124e4-6ef8-43fb-96e3-d99a332a49a9\":{\"defs\":[{\"extends\":null,\"module\":null,\"name\":\"ReactiveHTML1\",\"overrides\":[],\"properties\":[]},{\"extends\":null,\"module\":null,\"name\":\"FlexBox1\",\"overrides\":[],\"properties\":[{\"default\":\"flex-start\",\"kind\":null,\"name\":\"align_content\"},{\"default\":\"flex-start\",\"kind\":null,\"name\":\"align_items\"},{\"default\":\"row\",\"kind\":null,\"name\":\"flex_direction\"},{\"default\":\"wrap\",\"kind\":null,\"name\":\"flex_wrap\"},{\"default\":\"flex-start\",\"kind\":null,\"name\":\"justify_content\"}]},{\"extends\":null,\"module\":null,\"name\":\"GridStack1\",\"overrides\":[],\"properties\":[{\"default\":\"warn\",\"kind\":null,\"name\":\"mode\"},{\"default\":null,\"kind\":null,\"name\":\"ncols\"},{\"default\":null,\"kind\":null,\"name\":\"nrows\"},{\"default\":true,\"kind\":null,\"name\":\"allow_resize\"},{\"default\":true,\"kind\":null,\"name\":\"allow_drag\"},{\"default\":[],\"kind\":null,\"name\":\"state\"}]},{\"extends\":null,\"module\":null,\"name\":\"click1\",\"overrides\":[],\"properties\":[{\"default\":\"\",\"kind\":null,\"name\":\"terminal_output\"},{\"default\":\"\",\"kind\":null,\"name\":\"debug_name\"},{\"default\":0,\"kind\":null,\"name\":\"clears\"}]},{\"extends\":null,\"module\":null,\"name\":\"NotificationAreaBase1\",\"overrides\":[],\"properties\":[{\"default\":\"bottom-right\",\"kind\":null,\"name\":\"position\"},{\"default\":0,\"kind\":null,\"name\":\"_clear\"}]},{\"extends\":null,\"module\":null,\"name\":\"NotificationArea1\",\"overrides\":[],\"properties\":[{\"default\":[],\"kind\":null,\"name\":\"notifications\"},{\"default\":\"bottom-right\",\"kind\":null,\"name\":\"position\"},{\"default\":0,\"kind\":null,\"name\":\"_clear\"},{\"default\":[{\"background\":\"#ffc107\",\"icon\":{\"className\":\"fas fa-exclamation-triangle\",\"color\":\"white\",\"tagName\":\"i\"},\"type\":\"warning\"},{\"background\":\"#007bff\",\"icon\":{\"className\":\"fas fa-info-circle\",\"color\":\"white\",\"tagName\":\"i\"},\"type\":\"info\"}],\"kind\":null,\"name\":\"types\"}]},{\"extends\":null,\"module\":null,\"name\":\"Notification\",\"overrides\":[],\"properties\":[{\"default\":null,\"kind\":null,\"name\":\"background\"},{\"default\":3000,\"kind\":null,\"name\":\"duration\"},{\"default\":null,\"kind\":null,\"name\":\"icon\"},{\"default\":\"\",\"kind\":null,\"name\":\"message\"},{\"default\":null,\"kind\":null,\"name\":\"notification_type\"},{\"default\":false,\"kind\":null,\"name\":\"_destroyed\"}]},{\"extends\":null,\"module\":null,\"name\":\"TemplateActions1\",\"overrides\":[],\"properties\":[{\"default\":0,\"kind\":null,\"name\":\"open_modal\"},{\"default\":0,\"kind\":null,\"name\":\"close_modal\"}]},{\"extends\":null,\"module\":null,\"name\":\"MaterialTemplateActions1\",\"overrides\":[],\"properties\":[{\"default\":0,\"kind\":null,\"name\":\"open_modal\"},{\"default\":0,\"kind\":null,\"name\":\"close_modal\"}]}],\"roots\":{\"references\":[{\"attributes\":{\"children\":[{\"id\":\"45909\"}],\"margin\":[0,0,0,0],\"name\":\"Column132183\"},\"id\":\"45908\",\"type\":\"Column\"},{\"attributes\":{\"client_comm_id\":\"c766598ca9664819ad8d02889727c544\",\"comm_id\":\"6cec8abaf5dd4a308d8c366c6de5b2ee\",\"plot_id\":\"45905\"},\"id\":\"45913\",\"type\":\"panel.models.comm_manager.CommManager\"},{\"attributes\":{\"children\":[{\"id\":\"45906\"}],\"margin\":[0,0,0,0],\"name\":\"Row132223\"},\"id\":\"45905\",\"type\":\"Row\"},{\"attributes\":{\"margin\":[5,5,5,5],\"name\":\"HSpacer132220\",\"sizing_mode\":\"stretch_width\"},\"id\":\"45910\",\"type\":\"Spacer\"},{\"attributes\":{\"margin\":[5,5,5,5],\"name\":\"DataFrame132218\",\"text\":\"&lt;table class=&quot;dataframe panel-df&quot;&gt;\\n  &lt;thead&gt;\\n    &lt;tr style=&quot;text-align: right;&quot;&gt;\\n      &lt;th&gt;&lt;/th&gt;\\n      &lt;th&gt;Id&lt;/th&gt;\\n      &lt;th&gt;TotalSteps&lt;/th&gt;\\n    &lt;/tr&gt;\\n  &lt;/thead&gt;\\n  &lt;tbody&gt;\\n    &lt;tr&gt;\\n      &lt;th&gt;0&lt;/th&gt;\\n      &lt;td&gt;1503960366&lt;/td&gt;\\n      &lt;td&gt;12406.0&lt;/td&gt;\\n    &lt;/tr&gt;\\n  &lt;/tbody&gt;\\n&lt;/table&gt;\"},\"id\":\"45912\",\"type\":\"panel.models.markup.HTML\"},{\"attributes\":{\"children\":[{\"id\":\"45912\"}],\"margin\":[0,0,0,0],\"name\":\"Row132188\"},\"id\":\"45911\",\"type\":\"Row\"},{\"attributes\":{\"children\":[{\"id\":\"45907\"},{\"id\":\"45911\"}],\"margin\":[0,0,0,0],\"name\":\"Column132222\"},\"id\":\"45906\",\"type\":\"Column\"},{\"attributes\":{\"children\":[{\"id\":\"45908\"},{\"id\":\"45910\"}],\"margin\":[0,0,0,0],\"name\":\"Row132221\"},\"id\":\"45907\",\"type\":\"Row\"},{\"attributes\":{\"margin\":[5,10,5,10],\"options\":[\"1503960366\",\"1644430081\",\"1844505072\",\"1927972279\",\"2026352035\",\"2320127002\",\"2347167796\",\"3977333714\",\"4020332650\",\"4319703577\",\"4388161847\",\"4445114986\",\"4558609924\",\"4702921684\",\"5553957443\",\"5577150313\",\"6117666160\",\"6775888955\",\"6962181067\",\"7007744171\",\"7086361926\",\"8053475328\",\"8378563200\",\"8792009665\"],\"title\":\"Select User\",\"value\":\"1503960366\"},\"id\":\"45909\",\"type\":\"panel.models.widgets.CustomSelect\"}],\"root_ids\":[\"45905\",\"45913\"]},\"title\":\"Bokeh Application\",\"version\":\"2.4.3\"}};\n",
       "    var render_items = [{\"docid\":\"7a6124e4-6ef8-43fb-96e3-d99a332a49a9\",\"root_ids\":[\"45905\"],\"roots\":{\"45905\":\"527cfc9e-42e2-409c-b966-02b73a2b9d45\"}}];\n",
       "    root.Bokeh.embed.embed_items_notebook(docs_json, render_items);\n",
       "    for (const render_item of render_items) {\n",
       "      for (const root_id of render_item.root_ids) {\n",
       "\tconst id_el = document.getElementById(root_id)\n",
       "\tif (id_el.children.length && (id_el.children[0].className === 'bk-root')) {\n",
       "\t  const root_el = id_el.children[0]\n",
       "\t  root_el.id = root_el.id + '-rendered'\n",
       "\t}\n",
       "      }\n",
       "    }\n",
       "  }\n",
       "  if (root.Bokeh !== undefined && root.Bokeh.Panel !== undefined && ( root['Tabulator'] !== undefined) && ( root['Tabulator'] !== undefined) && ( root['Tabulator'] !== undefined)) {\n",
       "    embed_document(root);\n",
       "  } else {\n",
       "    var attempts = 0;\n",
       "    var timer = setInterval(function(root) {\n",
       "      if (root.Bokeh !== undefined && root.Bokeh.Panel !== undefined && (root['Tabulator'] !== undefined) && (root['Tabulator'] !== undefined) && (root['Tabulator'] !== undefined)) {\n",
       "        clearInterval(timer);\n",
       "        embed_document(root);\n",
       "      } else if (document.readyState == \"complete\") {\n",
       "        attempts++;\n",
       "        if (attempts > 200) {\n",
       "          clearInterval(timer);\n",
       "          console.log(\"Bokeh: ERROR: Unable to run BokehJS code because BokehJS library is missing\");\n",
       "        }\n",
       "      }\n",
       "    }, 25, root)\n",
       "  }\n",
       "})(window);</script>"
      ],
      "text/plain": [
       "<hvplot.interactive.Interactive at 0x1c829dd3c50>"
      ]
     },
     "execution_count": 150,
     "metadata": {
      "application/vnd.holoviews_exec.v0+json": {
       "id": "45905"
      }
     },
     "output_type": "execute_result"
    }
   ],
   "source": [
    "#Pipeline to calculate the mean steps\n",
    "\n",
    "meansteps_pl = (\n",
    "    idf[\n",
    "        idf.Id == Id_button]\n",
    "    .groupby(['Id'])['TotalSteps'].mean().round()\n",
    "    .to_frame()\n",
    "    .reset_index()\n",
    "    .reset_index(drop=True)\n",
    ")\n",
    "\n",
    "meansteps_pl"
   ]
  },
  {
   "cell_type": "code",
   "execution_count": 151,
   "id": "554c8ec9-ea14-4b35-bc41-8f7b8975614a",
   "metadata": {},
   "outputs": [
    {
     "data": {},
     "metadata": {},
     "output_type": "display_data"
    },
    {
     "data": {
      "application/vnd.holoviews_exec.v0+json": "",
      "text/html": [
       "<div id='45914'>\n",
       "  <div class=\"bk-root\" id=\"8ddb00a7-965c-45d4-9578-7cf8e88d6990\" data-root-id=\"45914\"></div>\n",
       "</div>\n",
       "<script type=\"application/javascript\">(function(root) {\n",
       "  function embed_document(root) {\n",
       "    var docs_json = {\"441efb48-9313-495b-b87d-0d4cbc8e212e\":{\"defs\":[{\"extends\":null,\"module\":null,\"name\":\"ReactiveHTML1\",\"overrides\":[],\"properties\":[]},{\"extends\":null,\"module\":null,\"name\":\"FlexBox1\",\"overrides\":[],\"properties\":[{\"default\":\"flex-start\",\"kind\":null,\"name\":\"align_content\"},{\"default\":\"flex-start\",\"kind\":null,\"name\":\"align_items\"},{\"default\":\"row\",\"kind\":null,\"name\":\"flex_direction\"},{\"default\":\"wrap\",\"kind\":null,\"name\":\"flex_wrap\"},{\"default\":\"flex-start\",\"kind\":null,\"name\":\"justify_content\"}]},{\"extends\":null,\"module\":null,\"name\":\"GridStack1\",\"overrides\":[],\"properties\":[{\"default\":\"warn\",\"kind\":null,\"name\":\"mode\"},{\"default\":null,\"kind\":null,\"name\":\"ncols\"},{\"default\":null,\"kind\":null,\"name\":\"nrows\"},{\"default\":true,\"kind\":null,\"name\":\"allow_resize\"},{\"default\":true,\"kind\":null,\"name\":\"allow_drag\"},{\"default\":[],\"kind\":null,\"name\":\"state\"}]},{\"extends\":null,\"module\":null,\"name\":\"click1\",\"overrides\":[],\"properties\":[{\"default\":\"\",\"kind\":null,\"name\":\"terminal_output\"},{\"default\":\"\",\"kind\":null,\"name\":\"debug_name\"},{\"default\":0,\"kind\":null,\"name\":\"clears\"}]},{\"extends\":null,\"module\":null,\"name\":\"NotificationAreaBase1\",\"overrides\":[],\"properties\":[{\"default\":\"bottom-right\",\"kind\":null,\"name\":\"position\"},{\"default\":0,\"kind\":null,\"name\":\"_clear\"}]},{\"extends\":null,\"module\":null,\"name\":\"NotificationArea1\",\"overrides\":[],\"properties\":[{\"default\":[],\"kind\":null,\"name\":\"notifications\"},{\"default\":\"bottom-right\",\"kind\":null,\"name\":\"position\"},{\"default\":0,\"kind\":null,\"name\":\"_clear\"},{\"default\":[{\"background\":\"#ffc107\",\"icon\":{\"className\":\"fas fa-exclamation-triangle\",\"color\":\"white\",\"tagName\":\"i\"},\"type\":\"warning\"},{\"background\":\"#007bff\",\"icon\":{\"className\":\"fas fa-info-circle\",\"color\":\"white\",\"tagName\":\"i\"},\"type\":\"info\"}],\"kind\":null,\"name\":\"types\"}]},{\"extends\":null,\"module\":null,\"name\":\"Notification\",\"overrides\":[],\"properties\":[{\"default\":null,\"kind\":null,\"name\":\"background\"},{\"default\":3000,\"kind\":null,\"name\":\"duration\"},{\"default\":null,\"kind\":null,\"name\":\"icon\"},{\"default\":\"\",\"kind\":null,\"name\":\"message\"},{\"default\":null,\"kind\":null,\"name\":\"notification_type\"},{\"default\":false,\"kind\":null,\"name\":\"_destroyed\"}]},{\"extends\":null,\"module\":null,\"name\":\"TemplateActions1\",\"overrides\":[],\"properties\":[{\"default\":0,\"kind\":null,\"name\":\"open_modal\"},{\"default\":0,\"kind\":null,\"name\":\"close_modal\"}]},{\"extends\":null,\"module\":null,\"name\":\"MaterialTemplateActions1\",\"overrides\":[],\"properties\":[{\"default\":0,\"kind\":null,\"name\":\"open_modal\"},{\"default\":0,\"kind\":null,\"name\":\"close_modal\"}]}],\"roots\":{\"references\":[{\"attributes\":{\"margin\":[5,5,5,5],\"name\":\"DataFrame132890\",\"text\":\"&lt;table class=&quot;dataframe panel-df&quot;&gt;\\n  &lt;thead&gt;\\n    &lt;tr style=&quot;text-align: right;&quot;&gt;\\n      &lt;th&gt;&lt;/th&gt;\\n      &lt;th&gt;Id&lt;/th&gt;\\n      &lt;th&gt;TotalDistance&lt;/th&gt;\\n    &lt;/tr&gt;\\n  &lt;/thead&gt;\\n  &lt;tbody&gt;\\n    &lt;tr&gt;\\n      &lt;th&gt;0&lt;/th&gt;\\n      &lt;td&gt;1503960366&lt;/td&gt;\\n      &lt;td&gt;8.0&lt;/td&gt;\\n    &lt;/tr&gt;\\n  &lt;/tbody&gt;\\n&lt;/table&gt;\"},\"id\":\"45921\",\"type\":\"panel.models.markup.HTML\"},{\"attributes\":{\"children\":[{\"id\":\"45921\"}],\"margin\":[0,0,0,0],\"name\":\"Row132860\"},\"id\":\"45920\",\"type\":\"Row\"},{\"attributes\":{\"margin\":[5,10,5,10],\"options\":[\"1503960366\",\"1644430081\",\"1844505072\",\"1927972279\",\"2026352035\",\"2320127002\",\"2347167796\",\"3977333714\",\"4020332650\",\"4319703577\",\"4388161847\",\"4445114986\",\"4558609924\",\"4702921684\",\"5553957443\",\"5577150313\",\"6117666160\",\"6775888955\",\"6962181067\",\"7007744171\",\"7086361926\",\"8053475328\",\"8378563200\",\"8792009665\"],\"title\":\"Select User\",\"value\":\"1503960366\"},\"id\":\"45918\",\"type\":\"panel.models.widgets.CustomSelect\"},{\"attributes\":{\"children\":[{\"id\":\"45916\"},{\"id\":\"45920\"}],\"margin\":[0,0,0,0],\"name\":\"Column132894\"},\"id\":\"45915\",\"type\":\"Column\"},{\"attributes\":{\"children\":[{\"id\":\"45915\"}],\"margin\":[0,0,0,0],\"name\":\"Row132895\"},\"id\":\"45914\",\"type\":\"Row\"},{\"attributes\":{\"margin\":[5,5,5,5],\"name\":\"HSpacer132892\",\"sizing_mode\":\"stretch_width\"},\"id\":\"45919\",\"type\":\"Spacer\"},{\"attributes\":{\"client_comm_id\":\"8d6bb6f42f62491a9078a13c8b9a99d5\",\"comm_id\":\"a9f7adb0029f450fa723110e3787a4fc\",\"plot_id\":\"45914\"},\"id\":\"45922\",\"type\":\"panel.models.comm_manager.CommManager\"},{\"attributes\":{\"children\":[{\"id\":\"45918\"}],\"margin\":[0,0,0,0],\"name\":\"Column132855\"},\"id\":\"45917\",\"type\":\"Column\"},{\"attributes\":{\"children\":[{\"id\":\"45917\"},{\"id\":\"45919\"}],\"margin\":[0,0,0,0],\"name\":\"Row132893\"},\"id\":\"45916\",\"type\":\"Row\"}],\"root_ids\":[\"45914\",\"45922\"]},\"title\":\"Bokeh Application\",\"version\":\"2.4.3\"}};\n",
       "    var render_items = [{\"docid\":\"441efb48-9313-495b-b87d-0d4cbc8e212e\",\"root_ids\":[\"45914\"],\"roots\":{\"45914\":\"8ddb00a7-965c-45d4-9578-7cf8e88d6990\"}}];\n",
       "    root.Bokeh.embed.embed_items_notebook(docs_json, render_items);\n",
       "    for (const render_item of render_items) {\n",
       "      for (const root_id of render_item.root_ids) {\n",
       "\tconst id_el = document.getElementById(root_id)\n",
       "\tif (id_el.children.length && (id_el.children[0].className === 'bk-root')) {\n",
       "\t  const root_el = id_el.children[0]\n",
       "\t  root_el.id = root_el.id + '-rendered'\n",
       "\t}\n",
       "      }\n",
       "    }\n",
       "  }\n",
       "  if (root.Bokeh !== undefined && root.Bokeh.Panel !== undefined && ( root['Tabulator'] !== undefined) && ( root['Tabulator'] !== undefined) && ( root['Tabulator'] !== undefined)) {\n",
       "    embed_document(root);\n",
       "  } else {\n",
       "    var attempts = 0;\n",
       "    var timer = setInterval(function(root) {\n",
       "      if (root.Bokeh !== undefined && root.Bokeh.Panel !== undefined && (root['Tabulator'] !== undefined) && (root['Tabulator'] !== undefined) && (root['Tabulator'] !== undefined)) {\n",
       "        clearInterval(timer);\n",
       "        embed_document(root);\n",
       "      } else if (document.readyState == \"complete\") {\n",
       "        attempts++;\n",
       "        if (attempts > 200) {\n",
       "          clearInterval(timer);\n",
       "          console.log(\"Bokeh: ERROR: Unable to run BokehJS code because BokehJS library is missing\");\n",
       "        }\n",
       "      }\n",
       "    }, 25, root)\n",
       "  }\n",
       "})(window);</script>"
      ],
      "text/plain": [
       "<hvplot.interactive.Interactive at 0x1c82fff1210>"
      ]
     },
     "execution_count": 151,
     "metadata": {
      "application/vnd.holoviews_exec.v0+json": {
       "id": "45914"
      }
     },
     "output_type": "execute_result"
    }
   ],
   "source": [
    "#Pipeline to calculate the mean distance\n",
    "\n",
    "meandist_pl = (\n",
    "    idf[\n",
    "        idf.Id == Id_button]\n",
    "    .groupby(['Id'])['TotalDistance'].mean().round()\n",
    "    .to_frame()\n",
    "    .reset_index()\n",
    "    .reset_index(drop=True)\n",
    ")\n",
    "\n",
    "meandist_pl"
   ]
  },
  {
   "cell_type": "code",
   "execution_count": 152,
   "id": "16dadeaf-8d89-4d70-a36e-e30ac7e27227",
   "metadata": {},
   "outputs": [
    {
     "data": {},
     "metadata": {},
     "output_type": "display_data"
    },
    {
     "data": {
      "application/vnd.holoviews_exec.v0+json": "",
      "text/html": [
       "<div id='45923'>\n",
       "  <div class=\"bk-root\" id=\"59a711ac-5b59-46eb-98dd-739039de62c2\" data-root-id=\"45923\"></div>\n",
       "</div>\n",
       "<script type=\"application/javascript\">(function(root) {\n",
       "  function embed_document(root) {\n",
       "    var docs_json = {\"eaecb958-14e0-4f7a-b8ac-70980858df2e\":{\"defs\":[{\"extends\":null,\"module\":null,\"name\":\"ReactiveHTML1\",\"overrides\":[],\"properties\":[]},{\"extends\":null,\"module\":null,\"name\":\"FlexBox1\",\"overrides\":[],\"properties\":[{\"default\":\"flex-start\",\"kind\":null,\"name\":\"align_content\"},{\"default\":\"flex-start\",\"kind\":null,\"name\":\"align_items\"},{\"default\":\"row\",\"kind\":null,\"name\":\"flex_direction\"},{\"default\":\"wrap\",\"kind\":null,\"name\":\"flex_wrap\"},{\"default\":\"flex-start\",\"kind\":null,\"name\":\"justify_content\"}]},{\"extends\":null,\"module\":null,\"name\":\"GridStack1\",\"overrides\":[],\"properties\":[{\"default\":\"warn\",\"kind\":null,\"name\":\"mode\"},{\"default\":null,\"kind\":null,\"name\":\"ncols\"},{\"default\":null,\"kind\":null,\"name\":\"nrows\"},{\"default\":true,\"kind\":null,\"name\":\"allow_resize\"},{\"default\":true,\"kind\":null,\"name\":\"allow_drag\"},{\"default\":[],\"kind\":null,\"name\":\"state\"}]},{\"extends\":null,\"module\":null,\"name\":\"click1\",\"overrides\":[],\"properties\":[{\"default\":\"\",\"kind\":null,\"name\":\"terminal_output\"},{\"default\":\"\",\"kind\":null,\"name\":\"debug_name\"},{\"default\":0,\"kind\":null,\"name\":\"clears\"}]},{\"extends\":null,\"module\":null,\"name\":\"NotificationAreaBase1\",\"overrides\":[],\"properties\":[{\"default\":\"bottom-right\",\"kind\":null,\"name\":\"position\"},{\"default\":0,\"kind\":null,\"name\":\"_clear\"}]},{\"extends\":null,\"module\":null,\"name\":\"NotificationArea1\",\"overrides\":[],\"properties\":[{\"default\":[],\"kind\":null,\"name\":\"notifications\"},{\"default\":\"bottom-right\",\"kind\":null,\"name\":\"position\"},{\"default\":0,\"kind\":null,\"name\":\"_clear\"},{\"default\":[{\"background\":\"#ffc107\",\"icon\":{\"className\":\"fas fa-exclamation-triangle\",\"color\":\"white\",\"tagName\":\"i\"},\"type\":\"warning\"},{\"background\":\"#007bff\",\"icon\":{\"className\":\"fas fa-info-circle\",\"color\":\"white\",\"tagName\":\"i\"},\"type\":\"info\"}],\"kind\":null,\"name\":\"types\"}]},{\"extends\":null,\"module\":null,\"name\":\"Notification\",\"overrides\":[],\"properties\":[{\"default\":null,\"kind\":null,\"name\":\"background\"},{\"default\":3000,\"kind\":null,\"name\":\"duration\"},{\"default\":null,\"kind\":null,\"name\":\"icon\"},{\"default\":\"\",\"kind\":null,\"name\":\"message\"},{\"default\":null,\"kind\":null,\"name\":\"notification_type\"},{\"default\":false,\"kind\":null,\"name\":\"_destroyed\"}]},{\"extends\":null,\"module\":null,\"name\":\"TemplateActions1\",\"overrides\":[],\"properties\":[{\"default\":0,\"kind\":null,\"name\":\"open_modal\"},{\"default\":0,\"kind\":null,\"name\":\"close_modal\"}]},{\"extends\":null,\"module\":null,\"name\":\"MaterialTemplateActions1\",\"overrides\":[],\"properties\":[{\"default\":0,\"kind\":null,\"name\":\"open_modal\"},{\"default\":0,\"kind\":null,\"name\":\"close_modal\"}]}],\"roots\":{\"references\":[{\"attributes\":{\"children\":[{\"id\":\"45926\"},{\"id\":\"45928\"}],\"margin\":[0,0,0,0],\"name\":\"Row133565\"},\"id\":\"45925\",\"type\":\"Row\"},{\"attributes\":{\"margin\":[5,5,5,5],\"name\":\"HSpacer133564\",\"sizing_mode\":\"stretch_width\"},\"id\":\"45928\",\"type\":\"Spacer\"},{\"attributes\":{\"children\":[{\"id\":\"45925\"},{\"id\":\"45929\"}],\"margin\":[0,0,0,0],\"name\":\"Column133566\"},\"id\":\"45924\",\"type\":\"Column\"},{\"attributes\":{\"margin\":[5,5,5,5],\"name\":\"DataFrame133562\",\"text\":\"&lt;table class=&quot;dataframe panel-df&quot;&gt;\\n  &lt;thead&gt;\\n    &lt;tr style=&quot;text-align: right;&quot;&gt;\\n      &lt;th&gt;&lt;/th&gt;\\n      &lt;th&gt;Id&lt;/th&gt;\\n      &lt;th&gt;Calories&lt;/th&gt;\\n    &lt;/tr&gt;\\n  &lt;/thead&gt;\\n  &lt;tbody&gt;\\n    &lt;tr&gt;\\n      &lt;th&gt;0&lt;/th&gt;\\n      &lt;td&gt;1503960366&lt;/td&gt;\\n      &lt;td&gt;1872.0&lt;/td&gt;\\n    &lt;/tr&gt;\\n  &lt;/tbody&gt;\\n&lt;/table&gt;\"},\"id\":\"45930\",\"type\":\"panel.models.markup.HTML\"},{\"attributes\":{\"children\":[{\"id\":\"45930\"}],\"margin\":[0,0,0,0],\"name\":\"Row133532\"},\"id\":\"45929\",\"type\":\"Row\"},{\"attributes\":{\"client_comm_id\":\"245b21a425104343aadf743e5b049d00\",\"comm_id\":\"a823a715d63b44afb19243269a9ac011\",\"plot_id\":\"45923\"},\"id\":\"45931\",\"type\":\"panel.models.comm_manager.CommManager\"},{\"attributes\":{\"children\":[{\"id\":\"45924\"}],\"margin\":[0,0,0,0],\"name\":\"Row133567\"},\"id\":\"45923\",\"type\":\"Row\"},{\"attributes\":{\"margin\":[5,10,5,10],\"options\":[\"1503960366\",\"1644430081\",\"1844505072\",\"1927972279\",\"2026352035\",\"2320127002\",\"2347167796\",\"3977333714\",\"4020332650\",\"4319703577\",\"4388161847\",\"4445114986\",\"4558609924\",\"4702921684\",\"5553957443\",\"5577150313\",\"6117666160\",\"6775888955\",\"6962181067\",\"7007744171\",\"7086361926\",\"8053475328\",\"8378563200\",\"8792009665\"],\"title\":\"Select User\",\"value\":\"1503960366\"},\"id\":\"45927\",\"type\":\"panel.models.widgets.CustomSelect\"},{\"attributes\":{\"children\":[{\"id\":\"45927\"}],\"margin\":[0,0,0,0],\"name\":\"Column133527\"},\"id\":\"45926\",\"type\":\"Column\"}],\"root_ids\":[\"45923\",\"45931\"]},\"title\":\"Bokeh Application\",\"version\":\"2.4.3\"}};\n",
       "    var render_items = [{\"docid\":\"eaecb958-14e0-4f7a-b8ac-70980858df2e\",\"root_ids\":[\"45923\"],\"roots\":{\"45923\":\"59a711ac-5b59-46eb-98dd-739039de62c2\"}}];\n",
       "    root.Bokeh.embed.embed_items_notebook(docs_json, render_items);\n",
       "    for (const render_item of render_items) {\n",
       "      for (const root_id of render_item.root_ids) {\n",
       "\tconst id_el = document.getElementById(root_id)\n",
       "\tif (id_el.children.length && (id_el.children[0].className === 'bk-root')) {\n",
       "\t  const root_el = id_el.children[0]\n",
       "\t  root_el.id = root_el.id + '-rendered'\n",
       "\t}\n",
       "      }\n",
       "    }\n",
       "  }\n",
       "  if (root.Bokeh !== undefined && root.Bokeh.Panel !== undefined && ( root['Tabulator'] !== undefined) && ( root['Tabulator'] !== undefined) && ( root['Tabulator'] !== undefined)) {\n",
       "    embed_document(root);\n",
       "  } else {\n",
       "    var attempts = 0;\n",
       "    var timer = setInterval(function(root) {\n",
       "      if (root.Bokeh !== undefined && root.Bokeh.Panel !== undefined && (root['Tabulator'] !== undefined) && (root['Tabulator'] !== undefined) && (root['Tabulator'] !== undefined)) {\n",
       "        clearInterval(timer);\n",
       "        embed_document(root);\n",
       "      } else if (document.readyState == \"complete\") {\n",
       "        attempts++;\n",
       "        if (attempts > 200) {\n",
       "          clearInterval(timer);\n",
       "          console.log(\"Bokeh: ERROR: Unable to run BokehJS code because BokehJS library is missing\");\n",
       "        }\n",
       "      }\n",
       "    }, 25, root)\n",
       "  }\n",
       "})(window);</script>"
      ],
      "text/plain": [
       "<hvplot.interactive.Interactive at 0x1c830234210>"
      ]
     },
     "execution_count": 152,
     "metadata": {
      "application/vnd.holoviews_exec.v0+json": {
       "id": "45923"
      }
     },
     "output_type": "execute_result"
    }
   ],
   "source": [
    "#Pipeline to calculate the mean calories\n",
    "\n",
    "meancal_pl = (\n",
    "    idf[\n",
    "        idf.Id == Id_button]\n",
    "    .groupby(['Id'])['Calories'].mean().round()\n",
    "    .to_frame()\n",
    "    .reset_index()\n",
    "    .reset_index(drop=True)\n",
    ")\n",
    "\n",
    "meancal_pl"
   ]
  },
  {
   "cell_type": "code",
   "execution_count": 153,
   "id": "1e33d298-7ed0-44a3-9ab6-07fd46148f0a",
   "metadata": {},
   "outputs": [
    {
     "data": {},
     "metadata": {},
     "output_type": "display_data"
    },
    {
     "data": {
      "application/vnd.holoviews_exec.v0+json": "",
      "text/html": [
       "<div id='45932'>\n",
       "  <div class=\"bk-root\" id=\"6a78403e-1f88-4d69-bc6f-2a0fd6eab5f9\" data-root-id=\"45932\"></div>\n",
       "</div>\n",
       "<script type=\"application/javascript\">(function(root) {\n",
       "  function embed_document(root) {\n",
       "    var docs_json = {\"41afeeed-34d2-4ddc-9ee0-e48ea6a4c766\":{\"defs\":[{\"extends\":null,\"module\":null,\"name\":\"ReactiveHTML1\",\"overrides\":[],\"properties\":[]},{\"extends\":null,\"module\":null,\"name\":\"FlexBox1\",\"overrides\":[],\"properties\":[{\"default\":\"flex-start\",\"kind\":null,\"name\":\"align_content\"},{\"default\":\"flex-start\",\"kind\":null,\"name\":\"align_items\"},{\"default\":\"row\",\"kind\":null,\"name\":\"flex_direction\"},{\"default\":\"wrap\",\"kind\":null,\"name\":\"flex_wrap\"},{\"default\":\"flex-start\",\"kind\":null,\"name\":\"justify_content\"}]},{\"extends\":null,\"module\":null,\"name\":\"GridStack1\",\"overrides\":[],\"properties\":[{\"default\":\"warn\",\"kind\":null,\"name\":\"mode\"},{\"default\":null,\"kind\":null,\"name\":\"ncols\"},{\"default\":null,\"kind\":null,\"name\":\"nrows\"},{\"default\":true,\"kind\":null,\"name\":\"allow_resize\"},{\"default\":true,\"kind\":null,\"name\":\"allow_drag\"},{\"default\":[],\"kind\":null,\"name\":\"state\"}]},{\"extends\":null,\"module\":null,\"name\":\"click1\",\"overrides\":[],\"properties\":[{\"default\":\"\",\"kind\":null,\"name\":\"terminal_output\"},{\"default\":\"\",\"kind\":null,\"name\":\"debug_name\"},{\"default\":0,\"kind\":null,\"name\":\"clears\"}]},{\"extends\":null,\"module\":null,\"name\":\"NotificationAreaBase1\",\"overrides\":[],\"properties\":[{\"default\":\"bottom-right\",\"kind\":null,\"name\":\"position\"},{\"default\":0,\"kind\":null,\"name\":\"_clear\"}]},{\"extends\":null,\"module\":null,\"name\":\"NotificationArea1\",\"overrides\":[],\"properties\":[{\"default\":[],\"kind\":null,\"name\":\"notifications\"},{\"default\":\"bottom-right\",\"kind\":null,\"name\":\"position\"},{\"default\":0,\"kind\":null,\"name\":\"_clear\"},{\"default\":[{\"background\":\"#ffc107\",\"icon\":{\"className\":\"fas fa-exclamation-triangle\",\"color\":\"white\",\"tagName\":\"i\"},\"type\":\"warning\"},{\"background\":\"#007bff\",\"icon\":{\"className\":\"fas fa-info-circle\",\"color\":\"white\",\"tagName\":\"i\"},\"type\":\"info\"}],\"kind\":null,\"name\":\"types\"}]},{\"extends\":null,\"module\":null,\"name\":\"Notification\",\"overrides\":[],\"properties\":[{\"default\":null,\"kind\":null,\"name\":\"background\"},{\"default\":3000,\"kind\":null,\"name\":\"duration\"},{\"default\":null,\"kind\":null,\"name\":\"icon\"},{\"default\":\"\",\"kind\":null,\"name\":\"message\"},{\"default\":null,\"kind\":null,\"name\":\"notification_type\"},{\"default\":false,\"kind\":null,\"name\":\"_destroyed\"}]},{\"extends\":null,\"module\":null,\"name\":\"TemplateActions1\",\"overrides\":[],\"properties\":[{\"default\":0,\"kind\":null,\"name\":\"open_modal\"},{\"default\":0,\"kind\":null,\"name\":\"close_modal\"}]},{\"extends\":null,\"module\":null,\"name\":\"MaterialTemplateActions1\",\"overrides\":[],\"properties\":[{\"default\":0,\"kind\":null,\"name\":\"open_modal\"},{\"default\":0,\"kind\":null,\"name\":\"close_modal\"}]}],\"roots\":{\"references\":[{\"attributes\":{\"children\":[{\"id\":\"45933\"}],\"margin\":[0,0,0,0],\"name\":\"Row134239\"},\"id\":\"45932\",\"type\":\"Row\"},{\"attributes\":{\"children\":[{\"id\":\"45939\"}],\"margin\":[0,0,0,0],\"name\":\"Row134204\"},\"id\":\"45938\",\"type\":\"Row\"},{\"attributes\":{\"children\":[{\"id\":\"45934\"},{\"id\":\"45938\"}],\"margin\":[0,0,0,0],\"name\":\"Column134238\"},\"id\":\"45933\",\"type\":\"Column\"},{\"attributes\":{\"margin\":[5,5,5,5],\"name\":\"HSpacer134236\",\"sizing_mode\":\"stretch_width\"},\"id\":\"45937\",\"type\":\"Spacer\"},{\"attributes\":{\"margin\":[5,10,5,10],\"options\":[\"1503960366\",\"1644430081\",\"1844505072\",\"1927972279\",\"2026352035\",\"2320127002\",\"2347167796\",\"3977333714\",\"4020332650\",\"4319703577\",\"4388161847\",\"4445114986\",\"4558609924\",\"4702921684\",\"5553957443\",\"5577150313\",\"6117666160\",\"6775888955\",\"6962181067\",\"7007744171\",\"7086361926\",\"8053475328\",\"8378563200\",\"8792009665\"],\"title\":\"Select User\",\"value\":\"1503960366\"},\"id\":\"45936\",\"type\":\"panel.models.widgets.CustomSelect\"},{\"attributes\":{\"margin\":[5,5,5,5],\"name\":\"DataFrame134234\",\"text\":\"&lt;table class=&quot;dataframe panel-df&quot;&gt;\\n  &lt;thead&gt;\\n    &lt;tr style=&quot;text-align: right;&quot;&gt;\\n      &lt;th&gt;&lt;/th&gt;\\n      &lt;th&gt;Id&lt;/th&gt;\\n      &lt;th&gt;TotalMinutesAsleep&lt;/th&gt;\\n    &lt;/tr&gt;\\n  &lt;/thead&gt;\\n  &lt;tbody&gt;\\n    &lt;tr&gt;\\n      &lt;th&gt;0&lt;/th&gt;\\n      &lt;td&gt;1503960366&lt;/td&gt;\\n      &lt;td&gt;360.0&lt;/td&gt;\\n    &lt;/tr&gt;\\n  &lt;/tbody&gt;\\n&lt;/table&gt;\"},\"id\":\"45939\",\"type\":\"panel.models.markup.HTML\"},{\"attributes\":{\"children\":[{\"id\":\"45936\"}],\"margin\":[0,0,0,0],\"name\":\"Column134199\"},\"id\":\"45935\",\"type\":\"Column\"},{\"attributes\":{\"children\":[{\"id\":\"45935\"},{\"id\":\"45937\"}],\"margin\":[0,0,0,0],\"name\":\"Row134237\"},\"id\":\"45934\",\"type\":\"Row\"},{\"attributes\":{\"client_comm_id\":\"80f48e51e6e84324a0b93e96cebdfc3e\",\"comm_id\":\"6f37db3e499c43769089ec86fa9c692e\",\"plot_id\":\"45932\"},\"id\":\"45940\",\"type\":\"panel.models.comm_manager.CommManager\"}],\"root_ids\":[\"45932\",\"45940\"]},\"title\":\"Bokeh Application\",\"version\":\"2.4.3\"}};\n",
       "    var render_items = [{\"docid\":\"41afeeed-34d2-4ddc-9ee0-e48ea6a4c766\",\"root_ids\":[\"45932\"],\"roots\":{\"45932\":\"6a78403e-1f88-4d69-bc6f-2a0fd6eab5f9\"}}];\n",
       "    root.Bokeh.embed.embed_items_notebook(docs_json, render_items);\n",
       "    for (const render_item of render_items) {\n",
       "      for (const root_id of render_item.root_ids) {\n",
       "\tconst id_el = document.getElementById(root_id)\n",
       "\tif (id_el.children.length && (id_el.children[0].className === 'bk-root')) {\n",
       "\t  const root_el = id_el.children[0]\n",
       "\t  root_el.id = root_el.id + '-rendered'\n",
       "\t}\n",
       "      }\n",
       "    }\n",
       "  }\n",
       "  if (root.Bokeh !== undefined && root.Bokeh.Panel !== undefined && ( root['Tabulator'] !== undefined) && ( root['Tabulator'] !== undefined) && ( root['Tabulator'] !== undefined)) {\n",
       "    embed_document(root);\n",
       "  } else {\n",
       "    var attempts = 0;\n",
       "    var timer = setInterval(function(root) {\n",
       "      if (root.Bokeh !== undefined && root.Bokeh.Panel !== undefined && (root['Tabulator'] !== undefined) && (root['Tabulator'] !== undefined) && (root['Tabulator'] !== undefined)) {\n",
       "        clearInterval(timer);\n",
       "        embed_document(root);\n",
       "      } else if (document.readyState == \"complete\") {\n",
       "        attempts++;\n",
       "        if (attempts > 200) {\n",
       "          clearInterval(timer);\n",
       "          console.log(\"Bokeh: ERROR: Unable to run BokehJS code because BokehJS library is missing\");\n",
       "        }\n",
       "      }\n",
       "    }, 25, root)\n",
       "  }\n",
       "})(window);</script>"
      ],
      "text/plain": [
       "<hvplot.interactive.Interactive at 0x1c83011f150>"
      ]
     },
     "execution_count": 153,
     "metadata": {
      "application/vnd.holoviews_exec.v0+json": {
       "id": "45932"
      }
     },
     "output_type": "execute_result"
    }
   ],
   "source": [
    "#Pipeline to calculate the mean time asleep\n",
    "\n",
    "meanasp_pl = (\n",
    "    idf[\n",
    "        idf.Id == Id_button]\n",
    "    .groupby(['Id'])['TotalMinutesAsleep'].mean().round()\n",
    "    .to_frame()\n",
    "    .reset_index()\n",
    "    .reset_index(drop=True)\n",
    ")\n",
    "\n",
    "meanasp_pl"
   ]
  },
  {
   "cell_type": "code",
   "execution_count": 154,
   "id": "e583c4ec-9a79-40f3-8a8e-5ee519476885",
   "metadata": {},
   "outputs": [],
   "source": [
    "#Tables showcasing the mean performance indicators\n",
    "\n",
    "mean_clr = meancal_pl.pipe(pn.widgets.Tabulator, show_index=False, hidden_columns=['Id'], sizing_mode='stretch_both',\n",
    "                          text_align='center', titles={'Calories': 'Mean Calories'}, header_align='center')\n",
    "\n",
    "mean_stps = meansteps_pl.pipe(pn.widgets.Tabulator, show_index=False, hidden_columns=['Id'], sizing_mode='stretch_both',\n",
    "                             text_align='center', titles={'TotalSteps': 'Mean Steps'}, header_align='center')\n",
    "\n",
    "mean_dstnc = meandist_pl.pipe(pn.widgets.Tabulator, show_index=False, hidden_columns=['Id'], sizing_mode='stretch_both',\n",
    "                             text_align='center', titles={'TotalDistance': 'Mean Distance'}, header_align='center')\n",
    "\n",
    "mean_slp = meanasp_pl.pipe(pn.widgets.Tabulator, show_index=False, hidden_columns=['Id'], sizing_mode='stretch_both',\n",
    "                          text_align='center', titles={'TotalMinutesAsleep': 'Mean Minutes Asleep'}, header_align='center')\n"
   ]
  },
  {
   "cell_type": "markdown",
   "id": "673541c5-230d-4522-9373-e574f2ca4fe0",
   "metadata": {},
   "source": [
    "_**1.2) Calories over time**_"
   ]
  },
  {
   "cell_type": "markdown",
   "id": "c8680d10-4b59-415e-a72d-17672d4a58b2",
   "metadata": {},
   "source": [
    "_A plot of calories over time will be created for each user_"
   ]
  },
  {
   "cell_type": "code",
   "execution_count": 155,
   "id": "bc0c0cc4-7909-407a-90e1-bc8442fd1cfe",
   "metadata": {},
   "outputs": [
    {
     "data": {},
     "metadata": {},
     "output_type": "display_data"
    },
    {
     "data": {
      "application/vnd.holoviews_exec.v0+json": "",
      "text/html": [
       "<div id='45941'>\n",
       "  <div class=\"bk-root\" id=\"5d2a5329-ac48-4fed-8b62-43987e2863d6\" data-root-id=\"45941\"></div>\n",
       "</div>\n",
       "<script type=\"application/javascript\">(function(root) {\n",
       "  function embed_document(root) {\n",
       "    var docs_json = {\"532e6b71-9a08-4151-8ff1-a8c5503a602c\":{\"defs\":[{\"extends\":null,\"module\":null,\"name\":\"ReactiveHTML1\",\"overrides\":[],\"properties\":[]},{\"extends\":null,\"module\":null,\"name\":\"FlexBox1\",\"overrides\":[],\"properties\":[{\"default\":\"flex-start\",\"kind\":null,\"name\":\"align_content\"},{\"default\":\"flex-start\",\"kind\":null,\"name\":\"align_items\"},{\"default\":\"row\",\"kind\":null,\"name\":\"flex_direction\"},{\"default\":\"wrap\",\"kind\":null,\"name\":\"flex_wrap\"},{\"default\":\"flex-start\",\"kind\":null,\"name\":\"justify_content\"}]},{\"extends\":null,\"module\":null,\"name\":\"GridStack1\",\"overrides\":[],\"properties\":[{\"default\":\"warn\",\"kind\":null,\"name\":\"mode\"},{\"default\":null,\"kind\":null,\"name\":\"ncols\"},{\"default\":null,\"kind\":null,\"name\":\"nrows\"},{\"default\":true,\"kind\":null,\"name\":\"allow_resize\"},{\"default\":true,\"kind\":null,\"name\":\"allow_drag\"},{\"default\":[],\"kind\":null,\"name\":\"state\"}]},{\"extends\":null,\"module\":null,\"name\":\"click1\",\"overrides\":[],\"properties\":[{\"default\":\"\",\"kind\":null,\"name\":\"terminal_output\"},{\"default\":\"\",\"kind\":null,\"name\":\"debug_name\"},{\"default\":0,\"kind\":null,\"name\":\"clears\"}]},{\"extends\":null,\"module\":null,\"name\":\"NotificationAreaBase1\",\"overrides\":[],\"properties\":[{\"default\":\"bottom-right\",\"kind\":null,\"name\":\"position\"},{\"default\":0,\"kind\":null,\"name\":\"_clear\"}]},{\"extends\":null,\"module\":null,\"name\":\"NotificationArea1\",\"overrides\":[],\"properties\":[{\"default\":[],\"kind\":null,\"name\":\"notifications\"},{\"default\":\"bottom-right\",\"kind\":null,\"name\":\"position\"},{\"default\":0,\"kind\":null,\"name\":\"_clear\"},{\"default\":[{\"background\":\"#ffc107\",\"icon\":{\"className\":\"fas fa-exclamation-triangle\",\"color\":\"white\",\"tagName\":\"i\"},\"type\":\"warning\"},{\"background\":\"#007bff\",\"icon\":{\"className\":\"fas fa-info-circle\",\"color\":\"white\",\"tagName\":\"i\"},\"type\":\"info\"}],\"kind\":null,\"name\":\"types\"}]},{\"extends\":null,\"module\":null,\"name\":\"Notification\",\"overrides\":[],\"properties\":[{\"default\":null,\"kind\":null,\"name\":\"background\"},{\"default\":3000,\"kind\":null,\"name\":\"duration\"},{\"default\":null,\"kind\":null,\"name\":\"icon\"},{\"default\":\"\",\"kind\":null,\"name\":\"message\"},{\"default\":null,\"kind\":null,\"name\":\"notification_type\"},{\"default\":false,\"kind\":null,\"name\":\"_destroyed\"}]},{\"extends\":null,\"module\":null,\"name\":\"TemplateActions1\",\"overrides\":[],\"properties\":[{\"default\":0,\"kind\":null,\"name\":\"open_modal\"},{\"default\":0,\"kind\":null,\"name\":\"close_modal\"}]},{\"extends\":null,\"module\":null,\"name\":\"MaterialTemplateActions1\",\"overrides\":[],\"properties\":[{\"default\":0,\"kind\":null,\"name\":\"open_modal\"},{\"default\":0,\"kind\":null,\"name\":\"close_modal\"}]}],\"roots\":{\"references\":[{\"attributes\":{\"margin\":[5,10,5,10],\"options\":[\"1503960366\",\"1644430081\",\"1844505072\",\"1927972279\",\"2026352035\",\"2320127002\",\"2347167796\",\"3977333714\",\"4020332650\",\"4319703577\",\"4388161847\",\"4445114986\",\"4558609924\",\"4702921684\",\"5553957443\",\"5577150313\",\"6117666160\",\"6775888955\",\"6962181067\",\"7007744171\",\"7086361926\",\"8053475328\",\"8378563200\",\"8792009665\"],\"title\":\"Select User\",\"value\":\"1503960366\"},\"id\":\"45945\",\"type\":\"panel.models.widgets.CustomSelect\"},{\"attributes\":{\"children\":[{\"id\":\"45945\"}],\"margin\":[0,0,0,0],\"name\":\"Column135100\"},\"id\":\"45944\",\"type\":\"Column\"},{\"attributes\":{\"margin\":[5,5,5,5],\"name\":\"HSpacer135137\",\"sizing_mode\":\"stretch_width\"},\"id\":\"45946\",\"type\":\"Spacer\"},{\"attributes\":{\"margin\":[5,5,5,5],\"name\":\"DataFrame135135\",\"text\":\"&lt;table class=&quot;dataframe panel-df&quot;&gt;\\n  &lt;thead&gt;\\n    &lt;tr style=&quot;text-align: right;&quot;&gt;\\n      &lt;th&gt;&lt;/th&gt;\\n      &lt;th&gt;ActivityDate&lt;/th&gt;\\n      &lt;th&gt;Calories&lt;/th&gt;\\n    &lt;/tr&gt;\\n  &lt;/thead&gt;\\n  &lt;tbody&gt;\\n    &lt;tr&gt;\\n      &lt;th&gt;0&lt;/th&gt;\\n      &lt;td&gt;2016-04-12&lt;/td&gt;\\n      &lt;td&gt;1985&lt;/td&gt;\\n    &lt;/tr&gt;\\n    &lt;tr&gt;\\n      &lt;th&gt;1&lt;/th&gt;\\n      &lt;td&gt;2016-04-13&lt;/td&gt;\\n      &lt;td&gt;1797&lt;/td&gt;\\n    &lt;/tr&gt;\\n    &lt;tr&gt;\\n      &lt;th&gt;2&lt;/th&gt;\\n      &lt;td&gt;2016-04-15&lt;/td&gt;\\n      &lt;td&gt;1745&lt;/td&gt;\\n    &lt;/tr&gt;\\n    &lt;tr&gt;\\n      &lt;th&gt;3&lt;/th&gt;\\n      &lt;td&gt;2016-04-16&lt;/td&gt;\\n      &lt;td&gt;1863&lt;/td&gt;\\n    &lt;/tr&gt;\\n    &lt;tr&gt;\\n      &lt;th&gt;4&lt;/th&gt;\\n      &lt;td&gt;2016-04-17&lt;/td&gt;\\n      &lt;td&gt;1728&lt;/td&gt;\\n    &lt;/tr&gt;\\n    &lt;tr&gt;\\n      &lt;th&gt;5&lt;/th&gt;\\n      &lt;td&gt;2016-04-19&lt;/td&gt;\\n      &lt;td&gt;2035&lt;/td&gt;\\n    &lt;/tr&gt;\\n    &lt;tr&gt;\\n      &lt;th&gt;6&lt;/th&gt;\\n      &lt;td&gt;2016-04-20&lt;/td&gt;\\n      &lt;td&gt;1786&lt;/td&gt;\\n    &lt;/tr&gt;\\n    &lt;tr&gt;\\n      &lt;th&gt;7&lt;/th&gt;\\n      &lt;td&gt;2016-04-21&lt;/td&gt;\\n      &lt;td&gt;1775&lt;/td&gt;\\n    &lt;/tr&gt;\\n    &lt;tr&gt;\\n      &lt;th&gt;8&lt;/th&gt;\\n      &lt;td&gt;2016-04-23&lt;/td&gt;\\n      &lt;td&gt;1949&lt;/td&gt;\\n    &lt;/tr&gt;\\n    &lt;tr&gt;\\n      &lt;th&gt;9&lt;/th&gt;\\n      &lt;td&gt;2016-04-24&lt;/td&gt;\\n      &lt;td&gt;1788&lt;/td&gt;\\n    &lt;/tr&gt;\\n    &lt;tr&gt;\\n      &lt;th&gt;10&lt;/th&gt;\\n      &lt;td&gt;2016-04-25&lt;/td&gt;\\n      &lt;td&gt;2013&lt;/td&gt;\\n    &lt;/tr&gt;\\n    &lt;tr&gt;\\n      &lt;th&gt;11&lt;/th&gt;\\n      &lt;td&gt;2016-04-26&lt;/td&gt;\\n      &lt;td&gt;1970&lt;/td&gt;\\n    &lt;/tr&gt;\\n    &lt;tr&gt;\\n      &lt;th&gt;12&lt;/th&gt;\\n      &lt;td&gt;2016-04-28&lt;/td&gt;\\n      &lt;td&gt;1898&lt;/td&gt;\\n    &lt;/tr&gt;\\n    &lt;tr&gt;\\n      &lt;th&gt;13&lt;/th&gt;\\n      &lt;td&gt;2016-04-29&lt;/td&gt;\\n      &lt;td&gt;1837&lt;/td&gt;\\n    &lt;/tr&gt;\\n    &lt;tr&gt;\\n      &lt;th&gt;14&lt;/th&gt;\\n      &lt;td&gt;2016-04-30&lt;/td&gt;\\n      &lt;td&gt;1947&lt;/td&gt;\\n    &lt;/tr&gt;\\n    &lt;tr&gt;\\n      &lt;th&gt;15&lt;/th&gt;\\n      &lt;td&gt;2016-05-01&lt;/td&gt;\\n      &lt;td&gt;1820&lt;/td&gt;\\n    &lt;/tr&gt;\\n    &lt;tr&gt;\\n      &lt;th&gt;16&lt;/th&gt;\\n      &lt;td&gt;2016-05-02&lt;/td&gt;\\n      &lt;td&gt;2004&lt;/td&gt;\\n    &lt;/tr&gt;\\n    &lt;tr&gt;\\n      &lt;th&gt;17&lt;/th&gt;\\n      &lt;td&gt;2016-05-03&lt;/td&gt;\\n      &lt;td&gt;1990&lt;/td&gt;\\n    &lt;/tr&gt;\\n    &lt;tr&gt;\\n      &lt;th&gt;18&lt;/th&gt;\\n      &lt;td&gt;2016-05-05&lt;/td&gt;\\n      &lt;td&gt;1959&lt;/td&gt;\\n    &lt;/tr&gt;\\n    &lt;tr&gt;\\n      &lt;th&gt;19&lt;/th&gt;\\n      &lt;td&gt;2016-05-06&lt;/td&gt;\\n      &lt;td&gt;1896&lt;/td&gt;\\n    &lt;/tr&gt;\\n    &lt;tr&gt;\\n      &lt;th&gt;20&lt;/th&gt;\\n      &lt;td&gt;2016-05-07&lt;/td&gt;\\n      &lt;td&gt;1821&lt;/td&gt;\\n    &lt;/tr&gt;\\n    &lt;tr&gt;\\n      &lt;th&gt;21&lt;/th&gt;\\n      &lt;td&gt;2016-05-08&lt;/td&gt;\\n      &lt;td&gt;1740&lt;/td&gt;\\n    &lt;/tr&gt;\\n    &lt;tr&gt;\\n      &lt;th&gt;22&lt;/th&gt;\\n      &lt;td&gt;2016-05-09&lt;/td&gt;\\n      &lt;td&gt;1819&lt;/td&gt;\\n    &lt;/tr&gt;\\n    &lt;tr&gt;\\n      &lt;th&gt;23&lt;/th&gt;\\n      &lt;td&gt;2016-05-10&lt;/td&gt;\\n      &lt;td&gt;1859&lt;/td&gt;\\n    &lt;/tr&gt;\\n    &lt;tr&gt;\\n      &lt;th&gt;24&lt;/th&gt;\\n      &lt;td&gt;2016-05-11&lt;/td&gt;\\n      &lt;td&gt;1783&lt;/td&gt;\\n    &lt;/tr&gt;\\n  &lt;/tbody&gt;\\n&lt;/table&gt;\"},\"id\":\"45948\",\"type\":\"panel.models.markup.HTML\"},{\"attributes\":{\"children\":[{\"id\":\"45948\"}],\"margin\":[0,0,0,0],\"name\":\"Row135105\"},\"id\":\"45947\",\"type\":\"Row\"},{\"attributes\":{\"client_comm_id\":\"f4313ede43f046e5a12766af1e1abb35\",\"comm_id\":\"b99e0e9257444a3d854338749d47ac43\",\"plot_id\":\"45941\"},\"id\":\"45949\",\"type\":\"panel.models.comm_manager.CommManager\"},{\"attributes\":{\"children\":[{\"id\":\"45944\"},{\"id\":\"45946\"}],\"margin\":[0,0,0,0],\"name\":\"Row135138\"},\"id\":\"45943\",\"type\":\"Row\"},{\"attributes\":{\"children\":[{\"id\":\"45943\"},{\"id\":\"45947\"}],\"margin\":[0,0,0,0],\"name\":\"Column135139\"},\"id\":\"45942\",\"type\":\"Column\"},{\"attributes\":{\"children\":[{\"id\":\"45942\"}],\"margin\":[0,0,0,0],\"name\":\"Row135140\"},\"id\":\"45941\",\"type\":\"Row\"}],\"root_ids\":[\"45941\",\"45949\"]},\"title\":\"Bokeh Application\",\"version\":\"2.4.3\"}};\n",
       "    var render_items = [{\"docid\":\"532e6b71-9a08-4151-8ff1-a8c5503a602c\",\"root_ids\":[\"45941\"],\"roots\":{\"45941\":\"5d2a5329-ac48-4fed-8b62-43987e2863d6\"}}];\n",
       "    root.Bokeh.embed.embed_items_notebook(docs_json, render_items);\n",
       "    for (const render_item of render_items) {\n",
       "      for (const root_id of render_item.root_ids) {\n",
       "\tconst id_el = document.getElementById(root_id)\n",
       "\tif (id_el.children.length && (id_el.children[0].className === 'bk-root')) {\n",
       "\t  const root_el = id_el.children[0]\n",
       "\t  root_el.id = root_el.id + '-rendered'\n",
       "\t}\n",
       "      }\n",
       "    }\n",
       "  }\n",
       "  if (root.Bokeh !== undefined && root.Bokeh.Panel !== undefined && ( root['Tabulator'] !== undefined) && ( root['Tabulator'] !== undefined) && ( root['Tabulator'] !== undefined)) {\n",
       "    embed_document(root);\n",
       "  } else {\n",
       "    var attempts = 0;\n",
       "    var timer = setInterval(function(root) {\n",
       "      if (root.Bokeh !== undefined && root.Bokeh.Panel !== undefined && (root['Tabulator'] !== undefined) && (root['Tabulator'] !== undefined) && (root['Tabulator'] !== undefined)) {\n",
       "        clearInterval(timer);\n",
       "        embed_document(root);\n",
       "      } else if (document.readyState == \"complete\") {\n",
       "        attempts++;\n",
       "        if (attempts > 200) {\n",
       "          clearInterval(timer);\n",
       "          console.log(\"Bokeh: ERROR: Unable to run BokehJS code because BokehJS library is missing\");\n",
       "        }\n",
       "      }\n",
       "    }, 25, root)\n",
       "  }\n",
       "})(window);</script>"
      ],
      "text/plain": [
       "<hvplot.interactive.Interactive at 0x1c830185610>"
      ]
     },
     "execution_count": 155,
     "metadata": {
      "application/vnd.holoviews_exec.v0+json": {
       "id": "45941"
      }
     },
     "output_type": "execute_result"
    }
   ],
   "source": [
    "#Pipeline to get the calories over time\n",
    "\n",
    "caltim_pl = (\n",
    "    idf[\n",
    "        idf.Id == Id_button]\n",
    "    .groupby(['ActivityDate'])['Calories'].sum()\n",
    "    .to_frame()\n",
    "    .reset_index()\n",
    "    .reset_index(drop=True)\n",
    ")\n",
    "\n",
    "caltim_pl"
   ]
  },
  {
   "cell_type": "code",
   "execution_count": 156,
   "id": "4509fe74-9937-42c9-a96f-3247734d6cf7",
   "metadata": {},
   "outputs": [
    {
     "data": {},
     "metadata": {},
     "output_type": "display_data"
    },
    {
     "data": {},
     "metadata": {},
     "output_type": "display_data"
    },
    {
     "data": {
      "application/vnd.holoviews_exec.v0+json": "",
      "text/html": [
       "<div id='45950'>\n",
       "  <div class=\"bk-root\" id=\"6964a15d-9309-464c-8397-5a4104b7c5a6\" data-root-id=\"45950\"></div>\n",
       "</div>\n",
       "<script type=\"application/javascript\">(function(root) {\n",
       "  function embed_document(root) {\n",
       "    var docs_json = {\"2aa8455b-2a06-4d2c-98ee-75af76b34839\":{\"defs\":[{\"extends\":null,\"module\":null,\"name\":\"ReactiveHTML1\",\"overrides\":[],\"properties\":[]},{\"extends\":null,\"module\":null,\"name\":\"FlexBox1\",\"overrides\":[],\"properties\":[{\"default\":\"flex-start\",\"kind\":null,\"name\":\"align_content\"},{\"default\":\"flex-start\",\"kind\":null,\"name\":\"align_items\"},{\"default\":\"row\",\"kind\":null,\"name\":\"flex_direction\"},{\"default\":\"wrap\",\"kind\":null,\"name\":\"flex_wrap\"},{\"default\":\"flex-start\",\"kind\":null,\"name\":\"justify_content\"}]},{\"extends\":null,\"module\":null,\"name\":\"GridStack1\",\"overrides\":[],\"properties\":[{\"default\":\"warn\",\"kind\":null,\"name\":\"mode\"},{\"default\":null,\"kind\":null,\"name\":\"ncols\"},{\"default\":null,\"kind\":null,\"name\":\"nrows\"},{\"default\":true,\"kind\":null,\"name\":\"allow_resize\"},{\"default\":true,\"kind\":null,\"name\":\"allow_drag\"},{\"default\":[],\"kind\":null,\"name\":\"state\"}]},{\"extends\":null,\"module\":null,\"name\":\"click1\",\"overrides\":[],\"properties\":[{\"default\":\"\",\"kind\":null,\"name\":\"terminal_output\"},{\"default\":\"\",\"kind\":null,\"name\":\"debug_name\"},{\"default\":0,\"kind\":null,\"name\":\"clears\"}]},{\"extends\":null,\"module\":null,\"name\":\"NotificationAreaBase1\",\"overrides\":[],\"properties\":[{\"default\":\"bottom-right\",\"kind\":null,\"name\":\"position\"},{\"default\":0,\"kind\":null,\"name\":\"_clear\"}]},{\"extends\":null,\"module\":null,\"name\":\"NotificationArea1\",\"overrides\":[],\"properties\":[{\"default\":[],\"kind\":null,\"name\":\"notifications\"},{\"default\":\"bottom-right\",\"kind\":null,\"name\":\"position\"},{\"default\":0,\"kind\":null,\"name\":\"_clear\"},{\"default\":[{\"background\":\"#ffc107\",\"icon\":{\"className\":\"fas fa-exclamation-triangle\",\"color\":\"white\",\"tagName\":\"i\"},\"type\":\"warning\"},{\"background\":\"#007bff\",\"icon\":{\"className\":\"fas fa-info-circle\",\"color\":\"white\",\"tagName\":\"i\"},\"type\":\"info\"}],\"kind\":null,\"name\":\"types\"}]},{\"extends\":null,\"module\":null,\"name\":\"Notification\",\"overrides\":[],\"properties\":[{\"default\":null,\"kind\":null,\"name\":\"background\"},{\"default\":3000,\"kind\":null,\"name\":\"duration\"},{\"default\":null,\"kind\":null,\"name\":\"icon\"},{\"default\":\"\",\"kind\":null,\"name\":\"message\"},{\"default\":null,\"kind\":null,\"name\":\"notification_type\"},{\"default\":false,\"kind\":null,\"name\":\"_destroyed\"}]},{\"extends\":null,\"module\":null,\"name\":\"TemplateActions1\",\"overrides\":[],\"properties\":[{\"default\":0,\"kind\":null,\"name\":\"open_modal\"},{\"default\":0,\"kind\":null,\"name\":\"close_modal\"}]},{\"extends\":null,\"module\":null,\"name\":\"MaterialTemplateActions1\",\"overrides\":[],\"properties\":[{\"default\":0,\"kind\":null,\"name\":\"open_modal\"},{\"default\":0,\"kind\":null,\"name\":\"close_modal\"}]}],\"roots\":{\"references\":[{\"attributes\":{\"axis\":{\"id\":\"45972\"},\"coordinates\":null,\"dimension\":1,\"grid_line_color\":null,\"group\":null,\"ticker\":null},\"id\":\"45975\",\"type\":\"Grid\"},{\"attributes\":{},\"id\":\"46002\",\"type\":\"BasicTickFormatter\"},{\"attributes\":{},\"id\":\"46003\",\"type\":\"AllLabels\"},{\"attributes\":{},\"id\":\"45990\",\"type\":\"Selection\"},{\"attributes\":{\"active_drag\":{\"id\":\"45977\"},\"active_scroll\":{\"id\":\"45978\"},\"tools\":[{\"id\":\"45958\"},{\"id\":\"45976\"},{\"id\":\"45977\"},{\"id\":\"45978\"},{\"id\":\"45979\"},{\"id\":\"45980\"}]},\"id\":\"45982\",\"type\":\"Toolbar\"},{\"attributes\":{\"overlay\":{\"id\":\"45981\"}},\"id\":\"45979\",\"type\":\"BoxZoomTool\"},{\"attributes\":{\"mantissas\":[1,2,5],\"max_interval\":500.0,\"num_minor_ticks\":0},\"id\":\"46018\",\"type\":\"AdaptiveTicker\"},{\"attributes\":{},\"id\":\"45999\",\"type\":\"DatetimeTickFormatter\"},{\"attributes\":{\"bottom_units\":\"screen\",\"coordinates\":null,\"fill_alpha\":0.5,\"fill_color\":\"lightgrey\",\"group\":null,\"left_units\":\"screen\",\"level\":\"overlay\",\"line_alpha\":1.0,\"line_color\":\"black\",\"line_dash\":[4,4],\"line_width\":2,\"right_units\":\"screen\",\"syncable\":false,\"top_units\":\"screen\"},\"id\":\"45981\",\"type\":\"BoxAnnotation\"},{\"attributes\":{\"base\":24,\"mantissas\":[1,2,4,6,8,12],\"max_interval\":43200000.0,\"min_interval\":3600000.0,\"num_minor_ticks\":0},\"id\":\"46020\",\"type\":\"AdaptiveTicker\"},{\"attributes\":{\"coordinates\":null,\"data_source\":{\"id\":\"45989\"},\"glyph\":{\"id\":\"45992\"},\"group\":null,\"hover_glyph\":null,\"muted_glyph\":{\"id\":\"45994\"},\"nonselection_glyph\":{\"id\":\"45993\"},\"selection_glyph\":{\"id\":\"45997\"},\"view\":{\"id\":\"45996\"}},\"id\":\"45995\",\"type\":\"GlyphRenderer\"},{\"attributes\":{\"months\":[0,2,4,6,8,10]},\"id\":\"46026\",\"type\":\"MonthsTicker\"},{\"attributes\":{},\"id\":\"46029\",\"type\":\"YearsTicker\"},{\"attributes\":{\"children\":[{\"id\":\"45952\"},{\"id\":\"45959\"}],\"margin\":[0,0,0,0],\"name\":\"Column135286\"},\"id\":\"45951\",\"type\":\"Column\"},{\"attributes\":{\"line_alpha\":0.2,\"line_color\":\"#30a2da\",\"line_width\":2,\"x\":{\"field\":\"ActivityDate\"},\"y\":{\"field\":\"Calories\"}},\"id\":\"45994\",\"type\":\"Line\"},{\"attributes\":{},\"id\":\"46000\",\"type\":\"AllLabels\"},{\"attributes\":{\"source\":{\"id\":\"45989\"}},\"id\":\"45996\",\"type\":\"CDSView\"},{\"attributes\":{\"days\":[1,15]},\"id\":\"46024\",\"type\":\"DaysTicker\"},{\"attributes\":{\"margin\":[5,10,5,10],\"options\":[\"1503960366\",\"1644430081\",\"1844505072\",\"1927972279\",\"2026352035\",\"2320127002\",\"2347167796\",\"3977333714\",\"4020332650\",\"4319703577\",\"4388161847\",\"4445114986\",\"4558609924\",\"4702921684\",\"5553957443\",\"5577150313\",\"6117666160\",\"6775888955\",\"6962181067\",\"7007744171\",\"7086361926\",\"8053475328\",\"8378563200\",\"8792009665\"],\"title\":\"Select User\",\"value\":\"1503960366\"},\"id\":\"45954\",\"type\":\"panel.models.widgets.CustomSelect\"},{\"attributes\":{\"months\":[0,4,8]},\"id\":\"46027\",\"type\":\"MonthsTicker\"},{\"attributes\":{\"children\":[{\"id\":\"45951\"}],\"margin\":[0,0,0,0],\"name\":\"Row135287\"},\"id\":\"45950\",\"type\":\"Row\"},{\"attributes\":{},\"id\":\"45966\",\"type\":\"LinearScale\"},{\"attributes\":{\"below\":[{\"id\":\"45968\"}],\"center\":[{\"id\":\"45971\"},{\"id\":\"45975\"}],\"height\":300,\"left\":[{\"id\":\"45972\"}],\"margin\":[5,5,5,5],\"min_border_bottom\":10,\"min_border_left\":10,\"min_border_right\":10,\"min_border_top\":10,\"renderers\":[{\"id\":\"45995\"}],\"sizing_mode\":\"fixed\",\"title\":{\"id\":\"45960\"},\"toolbar\":{\"id\":\"45982\"},\"width\":1200,\"x_range\":{\"id\":\"45956\"},\"x_scale\":{\"id\":\"45964\"},\"y_range\":{\"id\":\"45957\"},\"y_scale\":{\"id\":\"45966\"}},\"id\":\"45959\",\"subtype\":\"Figure\",\"type\":\"Plot\"},{\"attributes\":{\"end\":1462924800000.0,\"reset_end\":1462924800000.0,\"reset_start\":1460419200000.0,\"start\":1460419200000.0,\"tags\":[[[\"ActivityDate\",\"ActivityDate\",null]]]},\"id\":\"45956\",\"type\":\"Range1d\"},{\"attributes\":{\"coordinates\":null,\"group\":null,\"text\":\"Calories Over Time\",\"text_color\":\"black\",\"text_font_size\":\"12pt\"},\"id\":\"45960\",\"type\":\"Title\"},{\"attributes\":{},\"id\":\"45978\",\"type\":\"WheelZoomTool\"},{\"attributes\":{},\"id\":\"45964\",\"type\":\"LinearScale\"},{\"attributes\":{},\"id\":\"45977\",\"type\":\"PanTool\"},{\"attributes\":{\"days\":[1,4,7,10,13,16,19,22,25,28]},\"id\":\"46022\",\"type\":\"DaysTicker\"},{\"attributes\":{\"callback\":null,\"formatters\":{\"@{ActivityDate}\":\"datetime\"},\"renderers\":[{\"id\":\"45995\"}],\"tags\":[\"hv_created\"],\"tooltips\":[[\"ActivityDate\",\"@{ActivityDate}{%F %T}\"],[\"Calories\",\"@{Calories}\"]]},\"id\":\"45958\",\"type\":\"HoverTool\"},{\"attributes\":{\"data\":{\"ActivityDate\":{\"__ndarray__\":\"AABASHxAdUIAAACuzkB1QgAAgHlzQXVCAABA38VBdUIAAABFGEJ1QgAAgBC9QnVCAABAdg9DdUIAAADcYUN1QgAAgKcGRHVCAABADVlEdUIAAABzq0R1QgAAwNj9RHVCAABApKJFdUIAAAAK9UV1QgAAwG9HRnVCAACA1ZlGdUIAAEA77EZ1QgAAAKE+R3VCAACAbONHdUIAAEDSNUh1QgAAADiISHVCAADAndpIdUIAAIADLUl1QgAAQGl/SXVCAAAAz9FJdUI=\",\"dtype\":\"float64\",\"order\":\"little\",\"shape\":[25]},\"Calories\":[1985,1797,1745,1863,1728,2035,1786,1775,1949,1788,2013,1970,1898,1837,1947,1820,2004,1990,1959,1896,1821,1740,1819,1859,1783]},\"selected\":{\"id\":\"45990\"},\"selection_policy\":{\"id\":\"46015\"}},\"id\":\"45989\",\"type\":\"ColumnDataSource\"},{\"attributes\":{\"end\":2065.7,\"reset_end\":2065.7,\"reset_start\":1697.3,\"start\":1697.3,\"tags\":[[[\"Calories\",\"Calories\",null]]]},\"id\":\"45957\",\"type\":\"Range1d\"},{\"attributes\":{},\"id\":\"45976\",\"type\":\"SaveTool\"},{\"attributes\":{\"children\":[{\"id\":\"45953\"},{\"id\":\"45955\"}],\"margin\":[0,0,0,0],\"name\":\"Row135280\"},\"id\":\"45952\",\"type\":\"Row\"},{\"attributes\":{\"margin\":[5,5,5,5],\"name\":\"HSpacer135279\",\"sizing_mode\":\"stretch_width\"},\"id\":\"45955\",\"type\":\"Spacer\"},{\"attributes\":{\"days\":[1,8,15,22]},\"id\":\"46023\",\"type\":\"DaysTicker\"},{\"attributes\":{\"months\":[0,6]},\"id\":\"46028\",\"type\":\"MonthsTicker\"},{\"attributes\":{\"line_color\":\"#30a2da\",\"line_width\":2,\"x\":{\"field\":\"ActivityDate\"},\"y\":{\"field\":\"Calories\"}},\"id\":\"45997\",\"type\":\"Line\"},{\"attributes\":{},\"id\":\"45973\",\"type\":\"BasicTicker\"},{\"attributes\":{\"line_color\":\"#30a2da\",\"line_width\":2,\"x\":{\"field\":\"ActivityDate\"},\"y\":{\"field\":\"Calories\"}},\"id\":\"45992\",\"type\":\"Line\"},{\"attributes\":{\"num_minor_ticks\":5,\"tickers\":[{\"id\":\"46018\"},{\"id\":\"46019\"},{\"id\":\"46020\"},{\"id\":\"46021\"},{\"id\":\"46022\"},{\"id\":\"46023\"},{\"id\":\"46024\"},{\"id\":\"46025\"},{\"id\":\"46026\"},{\"id\":\"46027\"},{\"id\":\"46028\"},{\"id\":\"46029\"}]},\"id\":\"45969\",\"type\":\"DatetimeTicker\"},{\"attributes\":{\"axis_label\":\"Calories\",\"coordinates\":null,\"formatter\":{\"id\":\"46002\"},\"group\":null,\"major_label_policy\":{\"id\":\"46003\"},\"ticker\":{\"id\":\"45973\"}},\"id\":\"45972\",\"type\":\"LinearAxis\"},{\"attributes\":{\"line_alpha\":0.1,\"line_color\":\"#30a2da\",\"line_width\":2,\"x\":{\"field\":\"ActivityDate\"},\"y\":{\"field\":\"Calories\"}},\"id\":\"45993\",\"type\":\"Line\"},{\"attributes\":{},\"id\":\"46015\",\"type\":\"UnionRenderers\"},{\"attributes\":{\"days\":[1,2,3,4,5,6,7,8,9,10,11,12,13,14,15,16,17,18,19,20,21,22,23,24,25,26,27,28,29,30,31]},\"id\":\"46021\",\"type\":\"DaysTicker\"},{\"attributes\":{\"client_comm_id\":\"e2641a2e2c8944ffaabe3dd5e026ac44\",\"comm_id\":\"8da278b4a1fc4b9aa1d3cce8a04ad3a1\",\"plot_id\":\"45950\"},\"id\":\"46096\",\"type\":\"panel.models.comm_manager.CommManager\"},{\"attributes\":{\"axis\":{\"id\":\"45968\"},\"coordinates\":null,\"grid_line_color\":null,\"group\":null,\"ticker\":null},\"id\":\"45971\",\"type\":\"Grid\"},{\"attributes\":{},\"id\":\"45980\",\"type\":\"ResetTool\"},{\"attributes\":{\"base\":60,\"mantissas\":[1,2,5,10,15,20,30],\"max_interval\":1800000.0,\"min_interval\":1000.0,\"num_minor_ticks\":0},\"id\":\"46019\",\"type\":\"AdaptiveTicker\"},{\"attributes\":{\"months\":[0,1,2,3,4,5,6,7,8,9,10,11]},\"id\":\"46025\",\"type\":\"MonthsTicker\"},{\"attributes\":{\"children\":[{\"id\":\"45954\"}],\"margin\":[0,0,0,0],\"name\":\"Column135275\"},\"id\":\"45953\",\"type\":\"Column\"},{\"attributes\":{\"axis_label\":\"Date\",\"coordinates\":null,\"formatter\":{\"id\":\"45999\"},\"group\":null,\"major_label_policy\":{\"id\":\"46000\"},\"ticker\":{\"id\":\"45969\"}},\"id\":\"45968\",\"type\":\"DatetimeAxis\"}],\"root_ids\":[\"45950\",\"46096\"]},\"title\":\"Bokeh Application\",\"version\":\"2.4.3\"}};\n",
       "    var render_items = [{\"docid\":\"2aa8455b-2a06-4d2c-98ee-75af76b34839\",\"root_ids\":[\"45950\"],\"roots\":{\"45950\":\"6964a15d-9309-464c-8397-5a4104b7c5a6\"}}];\n",
       "    root.Bokeh.embed.embed_items_notebook(docs_json, render_items);\n",
       "    for (const render_item of render_items) {\n",
       "      for (const root_id of render_item.root_ids) {\n",
       "\tconst id_el = document.getElementById(root_id)\n",
       "\tif (id_el.children.length && (id_el.children[0].className === 'bk-root')) {\n",
       "\t  const root_el = id_el.children[0]\n",
       "\t  root_el.id = root_el.id + '-rendered'\n",
       "\t}\n",
       "      }\n",
       "    }\n",
       "  }\n",
       "  if (root.Bokeh !== undefined && root.Bokeh.Panel !== undefined && ( root['Tabulator'] !== undefined) && ( root['Tabulator'] !== undefined) && ( root['Tabulator'] !== undefined)) {\n",
       "    embed_document(root);\n",
       "  } else {\n",
       "    var attempts = 0;\n",
       "    var timer = setInterval(function(root) {\n",
       "      if (root.Bokeh !== undefined && root.Bokeh.Panel !== undefined && (root['Tabulator'] !== undefined) && (root['Tabulator'] !== undefined) && (root['Tabulator'] !== undefined)) {\n",
       "        clearInterval(timer);\n",
       "        embed_document(root);\n",
       "      } else if (document.readyState == \"complete\") {\n",
       "        attempts++;\n",
       "        if (attempts > 200) {\n",
       "          clearInterval(timer);\n",
       "          console.log(\"Bokeh: ERROR: Unable to run BokehJS code because BokehJS library is missing\");\n",
       "        }\n",
       "      }\n",
       "    }, 25, root)\n",
       "  }\n",
       "})(window);</script>"
      ],
      "text/plain": [
       "<hvplot.interactive.Interactive at 0x1c82a47ea10>"
      ]
     },
     "execution_count": 156,
     "metadata": {
      "application/vnd.holoviews_exec.v0+json": {
       "id": "45950"
      }
     },
     "output_type": "execute_result"
    }
   ],
   "source": [
    "#Plot of calories over time\n",
    "\n",
    "cal_plot = caltim_pl.hvplot(x='ActivityDate',y='Calories',title='Calories Over Time',\n",
    "                               ylabel='Calories', xlabel='Date', width=1200)\n",
    "\n",
    "cal_plot"
   ]
  },
  {
   "cell_type": "markdown",
   "id": "82c1c77d-78df-40ed-95e2-d3ae489cf864",
   "metadata": {},
   "source": [
    "_**1.3) Scatter plots**_"
   ]
  },
  {
   "cell_type": "markdown",
   "id": "6665201a-4ec1-4878-bf6b-780dcd724ce3",
   "metadata": {},
   "source": [
    "_Scatter plots will be created to showcase how the user's activity correlates to the calories burned_"
   ]
  },
  {
   "cell_type": "code",
   "execution_count": 157,
   "id": "898c98c4-8f05-4f60-a5e3-cbca6a9940d8",
   "metadata": {},
   "outputs": [
    {
     "data": {},
     "metadata": {},
     "output_type": "display_data"
    },
    {
     "data": {
      "application/vnd.holoviews_exec.v0+json": "",
      "text/html": [
       "<div id='46207'>\n",
       "  <div class=\"bk-root\" id=\"a3a8f759-cca9-4468-924f-762b62931cc1\" data-root-id=\"46207\"></div>\n",
       "</div>\n",
       "<script type=\"application/javascript\">(function(root) {\n",
       "  function embed_document(root) {\n",
       "    var docs_json = {\"13d9af33-0fc7-4677-9e2b-621ed3baa3e3\":{\"defs\":[{\"extends\":null,\"module\":null,\"name\":\"ReactiveHTML1\",\"overrides\":[],\"properties\":[]},{\"extends\":null,\"module\":null,\"name\":\"FlexBox1\",\"overrides\":[],\"properties\":[{\"default\":\"flex-start\",\"kind\":null,\"name\":\"align_content\"},{\"default\":\"flex-start\",\"kind\":null,\"name\":\"align_items\"},{\"default\":\"row\",\"kind\":null,\"name\":\"flex_direction\"},{\"default\":\"wrap\",\"kind\":null,\"name\":\"flex_wrap\"},{\"default\":\"flex-start\",\"kind\":null,\"name\":\"justify_content\"}]},{\"extends\":null,\"module\":null,\"name\":\"GridStack1\",\"overrides\":[],\"properties\":[{\"default\":\"warn\",\"kind\":null,\"name\":\"mode\"},{\"default\":null,\"kind\":null,\"name\":\"ncols\"},{\"default\":null,\"kind\":null,\"name\":\"nrows\"},{\"default\":true,\"kind\":null,\"name\":\"allow_resize\"},{\"default\":true,\"kind\":null,\"name\":\"allow_drag\"},{\"default\":[],\"kind\":null,\"name\":\"state\"}]},{\"extends\":null,\"module\":null,\"name\":\"click1\",\"overrides\":[],\"properties\":[{\"default\":\"\",\"kind\":null,\"name\":\"terminal_output\"},{\"default\":\"\",\"kind\":null,\"name\":\"debug_name\"},{\"default\":0,\"kind\":null,\"name\":\"clears\"}]},{\"extends\":null,\"module\":null,\"name\":\"NotificationAreaBase1\",\"overrides\":[],\"properties\":[{\"default\":\"bottom-right\",\"kind\":null,\"name\":\"position\"},{\"default\":0,\"kind\":null,\"name\":\"_clear\"}]},{\"extends\":null,\"module\":null,\"name\":\"NotificationArea1\",\"overrides\":[],\"properties\":[{\"default\":[],\"kind\":null,\"name\":\"notifications\"},{\"default\":\"bottom-right\",\"kind\":null,\"name\":\"position\"},{\"default\":0,\"kind\":null,\"name\":\"_clear\"},{\"default\":[{\"background\":\"#ffc107\",\"icon\":{\"className\":\"fas fa-exclamation-triangle\",\"color\":\"white\",\"tagName\":\"i\"},\"type\":\"warning\"},{\"background\":\"#007bff\",\"icon\":{\"className\":\"fas fa-info-circle\",\"color\":\"white\",\"tagName\":\"i\"},\"type\":\"info\"}],\"kind\":null,\"name\":\"types\"}]},{\"extends\":null,\"module\":null,\"name\":\"Notification\",\"overrides\":[],\"properties\":[{\"default\":null,\"kind\":null,\"name\":\"background\"},{\"default\":3000,\"kind\":null,\"name\":\"duration\"},{\"default\":null,\"kind\":null,\"name\":\"icon\"},{\"default\":\"\",\"kind\":null,\"name\":\"message\"},{\"default\":null,\"kind\":null,\"name\":\"notification_type\"},{\"default\":false,\"kind\":null,\"name\":\"_destroyed\"}]},{\"extends\":null,\"module\":null,\"name\":\"TemplateActions1\",\"overrides\":[],\"properties\":[{\"default\":0,\"kind\":null,\"name\":\"open_modal\"},{\"default\":0,\"kind\":null,\"name\":\"close_modal\"}]},{\"extends\":null,\"module\":null,\"name\":\"MaterialTemplateActions1\",\"overrides\":[],\"properties\":[{\"default\":0,\"kind\":null,\"name\":\"open_modal\"},{\"default\":0,\"kind\":null,\"name\":\"close_modal\"}]}],\"roots\":{\"references\":[{\"attributes\":{\"margin\":[5,10,5,10],\"options\":[\"TotalSteps\",\"TotalDistance\",\"TotalMinutesAsleep\"],\"title\":\"Select Category\",\"value\":\"TotalSteps\"},\"id\":\"46207\",\"type\":\"panel.models.widgets.CustomSelect\"},{\"attributes\":{\"client_comm_id\":\"c2e359a55a314788a34fcab273305eca\",\"comm_id\":\"9ce86725c3bf43d4a3c7e6a0d7ea58cb\",\"plot_id\":\"46207\"},\"id\":\"46208\",\"type\":\"panel.models.comm_manager.CommManager\"}],\"root_ids\":[\"46207\",\"46208\"]},\"title\":\"Bokeh Application\",\"version\":\"2.4.3\"}};\n",
       "    var render_items = [{\"docid\":\"13d9af33-0fc7-4677-9e2b-621ed3baa3e3\",\"root_ids\":[\"46207\"],\"roots\":{\"46207\":\"a3a8f759-cca9-4468-924f-762b62931cc1\"}}];\n",
       "    root.Bokeh.embed.embed_items_notebook(docs_json, render_items);\n",
       "    for (const render_item of render_items) {\n",
       "      for (const root_id of render_item.root_ids) {\n",
       "\tconst id_el = document.getElementById(root_id)\n",
       "\tif (id_el.children.length && (id_el.children[0].className === 'bk-root')) {\n",
       "\t  const root_el = id_el.children[0]\n",
       "\t  root_el.id = root_el.id + '-rendered'\n",
       "\t}\n",
       "      }\n",
       "    }\n",
       "  }\n",
       "  if (root.Bokeh !== undefined && root.Bokeh.Panel !== undefined && ( root['Tabulator'] !== undefined) && ( root['Tabulator'] !== undefined) && ( root['Tabulator'] !== undefined)) {\n",
       "    embed_document(root);\n",
       "  } else {\n",
       "    var attempts = 0;\n",
       "    var timer = setInterval(function(root) {\n",
       "      if (root.Bokeh !== undefined && root.Bokeh.Panel !== undefined && (root['Tabulator'] !== undefined) && (root['Tabulator'] !== undefined) && (root['Tabulator'] !== undefined)) {\n",
       "        clearInterval(timer);\n",
       "        embed_document(root);\n",
       "      } else if (document.readyState == \"complete\") {\n",
       "        attempts++;\n",
       "        if (attempts > 200) {\n",
       "          clearInterval(timer);\n",
       "          console.log(\"Bokeh: ERROR: Unable to run BokehJS code because BokehJS library is missing\");\n",
       "        }\n",
       "      }\n",
       "    }, 25, root)\n",
       "  }\n",
       "})(window);</script>"
      ],
      "text/plain": [
       "Select(options=['TotalSteps', ...], value='TotalSteps')"
      ]
     },
     "execution_count": 157,
     "metadata": {
      "application/vnd.holoviews_exec.v0+json": {
       "id": "46207"
      }
     },
     "output_type": "execute_result"
    }
   ],
   "source": [
    "#Creating the Id button to select different users\n",
    "\n",
    "Cat_button = pn.widgets.Select(name='Select Category', options=['TotalSteps', 'TotalDistance','TotalMinutesAsleep'])\n",
    "\n",
    "Cat_button"
   ]
  },
  {
   "cell_type": "code",
   "execution_count": 158,
   "id": "c688b634-cd3c-4a45-a4e9-9c8f2eb31f34",
   "metadata": {},
   "outputs": [
    {
     "data": {},
     "metadata": {},
     "output_type": "display_data"
    },
    {
     "data": {
      "application/vnd.holoviews_exec.v0+json": "",
      "text/html": [
       "<div id='46209'>\n",
       "  <div class=\"bk-root\" id=\"28c96ccb-9984-408d-8c4a-1db8f978ae01\" data-root-id=\"46209\"></div>\n",
       "</div>\n",
       "<script type=\"application/javascript\">(function(root) {\n",
       "  function embed_document(root) {\n",
       "    var docs_json = {\"fae2396a-7ad3-418b-9fb9-b1be59c2335b\":{\"defs\":[{\"extends\":null,\"module\":null,\"name\":\"ReactiveHTML1\",\"overrides\":[],\"properties\":[]},{\"extends\":null,\"module\":null,\"name\":\"FlexBox1\",\"overrides\":[],\"properties\":[{\"default\":\"flex-start\",\"kind\":null,\"name\":\"align_content\"},{\"default\":\"flex-start\",\"kind\":null,\"name\":\"align_items\"},{\"default\":\"row\",\"kind\":null,\"name\":\"flex_direction\"},{\"default\":\"wrap\",\"kind\":null,\"name\":\"flex_wrap\"},{\"default\":\"flex-start\",\"kind\":null,\"name\":\"justify_content\"}]},{\"extends\":null,\"module\":null,\"name\":\"GridStack1\",\"overrides\":[],\"properties\":[{\"default\":\"warn\",\"kind\":null,\"name\":\"mode\"},{\"default\":null,\"kind\":null,\"name\":\"ncols\"},{\"default\":null,\"kind\":null,\"name\":\"nrows\"},{\"default\":true,\"kind\":null,\"name\":\"allow_resize\"},{\"default\":true,\"kind\":null,\"name\":\"allow_drag\"},{\"default\":[],\"kind\":null,\"name\":\"state\"}]},{\"extends\":null,\"module\":null,\"name\":\"click1\",\"overrides\":[],\"properties\":[{\"default\":\"\",\"kind\":null,\"name\":\"terminal_output\"},{\"default\":\"\",\"kind\":null,\"name\":\"debug_name\"},{\"default\":0,\"kind\":null,\"name\":\"clears\"}]},{\"extends\":null,\"module\":null,\"name\":\"NotificationAreaBase1\",\"overrides\":[],\"properties\":[{\"default\":\"bottom-right\",\"kind\":null,\"name\":\"position\"},{\"default\":0,\"kind\":null,\"name\":\"_clear\"}]},{\"extends\":null,\"module\":null,\"name\":\"NotificationArea1\",\"overrides\":[],\"properties\":[{\"default\":[],\"kind\":null,\"name\":\"notifications\"},{\"default\":\"bottom-right\",\"kind\":null,\"name\":\"position\"},{\"default\":0,\"kind\":null,\"name\":\"_clear\"},{\"default\":[{\"background\":\"#ffc107\",\"icon\":{\"className\":\"fas fa-exclamation-triangle\",\"color\":\"white\",\"tagName\":\"i\"},\"type\":\"warning\"},{\"background\":\"#007bff\",\"icon\":{\"className\":\"fas fa-info-circle\",\"color\":\"white\",\"tagName\":\"i\"},\"type\":\"info\"}],\"kind\":null,\"name\":\"types\"}]},{\"extends\":null,\"module\":null,\"name\":\"Notification\",\"overrides\":[],\"properties\":[{\"default\":null,\"kind\":null,\"name\":\"background\"},{\"default\":3000,\"kind\":null,\"name\":\"duration\"},{\"default\":null,\"kind\":null,\"name\":\"icon\"},{\"default\":\"\",\"kind\":null,\"name\":\"message\"},{\"default\":null,\"kind\":null,\"name\":\"notification_type\"},{\"default\":false,\"kind\":null,\"name\":\"_destroyed\"}]},{\"extends\":null,\"module\":null,\"name\":\"TemplateActions1\",\"overrides\":[],\"properties\":[{\"default\":0,\"kind\":null,\"name\":\"open_modal\"},{\"default\":0,\"kind\":null,\"name\":\"close_modal\"}]},{\"extends\":null,\"module\":null,\"name\":\"MaterialTemplateActions1\",\"overrides\":[],\"properties\":[{\"default\":0,\"kind\":null,\"name\":\"open_modal\"},{\"default\":0,\"kind\":null,\"name\":\"close_modal\"}]}],\"roots\":{\"references\":[{\"attributes\":{\"children\":[{\"id\":\"46211\"},{\"id\":\"46216\"}],\"margin\":[0,0,0,0],\"name\":\"Column136010\"},\"id\":\"46210\",\"type\":\"Column\"},{\"attributes\":{\"children\":[{\"id\":\"46210\"}],\"margin\":[0,0,0,0],\"name\":\"Row136011\"},\"id\":\"46209\",\"type\":\"Row\"},{\"attributes\":{\"children\":[{\"id\":\"46212\"},{\"id\":\"46215\"}],\"margin\":[0,0,0,0],\"name\":\"Row136009\"},\"id\":\"46211\",\"type\":\"Row\"},{\"attributes\":{\"margin\":[5,5,5,5],\"name\":\"DataFrame136006\",\"text\":\"&lt;table class=&quot;dataframe panel-df&quot;&gt;\\n  &lt;thead&gt;\\n    &lt;tr style=&quot;text-align: right;&quot;&gt;\\n      &lt;th&gt;&lt;/th&gt;\\n      &lt;th&gt;TotalSteps&lt;/th&gt;\\n      &lt;th&gt;Calories&lt;/th&gt;\\n    &lt;/tr&gt;\\n  &lt;/thead&gt;\\n  &lt;tbody&gt;\\n    &lt;tr&gt;\\n      &lt;th&gt;0&lt;/th&gt;\\n      &lt;td&gt;9705&lt;/td&gt;\\n      &lt;td&gt;1728&lt;/td&gt;\\n    &lt;/tr&gt;\\n    &lt;tr&gt;\\n      &lt;th&gt;1&lt;/th&gt;\\n      &lt;td&gt;9762&lt;/td&gt;\\n      &lt;td&gt;1745&lt;/td&gt;\\n    &lt;/tr&gt;\\n    &lt;tr&gt;\\n      &lt;th&gt;2&lt;/th&gt;\\n      &lt;td&gt;9819&lt;/td&gt;\\n      &lt;td&gt;1775&lt;/td&gt;\\n    &lt;/tr&gt;\\n    &lt;tr&gt;\\n      &lt;th&gt;3&lt;/th&gt;\\n      &lt;td&gt;10039&lt;/td&gt;\\n      &lt;td&gt;1788&lt;/td&gt;\\n    &lt;/tr&gt;\\n    &lt;tr&gt;\\n      &lt;th&gt;4&lt;/th&gt;\\n      &lt;td&gt;10060&lt;/td&gt;\\n      &lt;td&gt;1740&lt;/td&gt;\\n    &lt;/tr&gt;\\n    &lt;tr&gt;\\n      &lt;th&gt;5&lt;/th&gt;\\n      &lt;td&gt;10544&lt;/td&gt;\\n      &lt;td&gt;1786&lt;/td&gt;\\n    &lt;/tr&gt;\\n    &lt;tr&gt;\\n      &lt;th&gt;6&lt;/th&gt;\\n      &lt;td&gt;10602&lt;/td&gt;\\n      &lt;td&gt;1820&lt;/td&gt;\\n    &lt;/tr&gt;\\n    &lt;tr&gt;\\n      &lt;th&gt;7&lt;/th&gt;\\n      &lt;td&gt;10735&lt;/td&gt;\\n      &lt;td&gt;1797&lt;/td&gt;\\n    &lt;/tr&gt;\\n    &lt;tr&gt;\\n      &lt;th&gt;8&lt;/th&gt;\\n      &lt;td&gt;11181&lt;/td&gt;\\n      &lt;td&gt;1837&lt;/td&gt;\\n    &lt;/tr&gt;\\n    &lt;tr&gt;\\n      &lt;th&gt;9&lt;/th&gt;\\n      &lt;td&gt;11992&lt;/td&gt;\\n      &lt;td&gt;1821&lt;/td&gt;\\n    &lt;/tr&gt;\\n    &lt;tr&gt;\\n      &lt;th&gt;10&lt;/th&gt;\\n      &lt;td&gt;12022&lt;/td&gt;\\n      &lt;td&gt;1819&lt;/td&gt;\\n    &lt;/tr&gt;\\n    &lt;tr&gt;\\n      &lt;th&gt;11&lt;/th&gt;\\n      &lt;td&gt;12159&lt;/td&gt;\\n      &lt;td&gt;1896&lt;/td&gt;\\n    &lt;/tr&gt;\\n    &lt;tr&gt;\\n      &lt;th&gt;12&lt;/th&gt;\\n      &lt;td&gt;12207&lt;/td&gt;\\n      &lt;td&gt;1859&lt;/td&gt;\\n    &lt;/tr&gt;\\n    &lt;tr&gt;\\n      &lt;th&gt;13&lt;/th&gt;\\n      &lt;td&gt;12669&lt;/td&gt;\\n      &lt;td&gt;1863&lt;/td&gt;\\n    &lt;/tr&gt;\\n    &lt;tr&gt;\\n      &lt;th&gt;14&lt;/th&gt;\\n      &lt;td&gt;12770&lt;/td&gt;\\n      &lt;td&gt;1783&lt;/td&gt;\\n    &lt;/tr&gt;\\n    &lt;tr&gt;\\n      &lt;th&gt;15&lt;/th&gt;\\n      &lt;td&gt;13154&lt;/td&gt;\\n      &lt;td&gt;1898&lt;/td&gt;\\n    &lt;/tr&gt;\\n    &lt;tr&gt;\\n      &lt;th&gt;16&lt;/th&gt;\\n      &lt;td&gt;13162&lt;/td&gt;\\n      &lt;td&gt;1985&lt;/td&gt;\\n    &lt;/tr&gt;\\n    &lt;tr&gt;\\n      &lt;th&gt;17&lt;/th&gt;\\n      &lt;td&gt;13755&lt;/td&gt;\\n      &lt;td&gt;1970&lt;/td&gt;\\n    &lt;/tr&gt;\\n    &lt;tr&gt;\\n      &lt;th&gt;18&lt;/th&gt;\\n      &lt;td&gt;14070&lt;/td&gt;\\n      &lt;td&gt;1959&lt;/td&gt;\\n    &lt;/tr&gt;\\n    &lt;tr&gt;\\n      &lt;th&gt;19&lt;/th&gt;\\n      &lt;td&gt;14371&lt;/td&gt;\\n      &lt;td&gt;1949&lt;/td&gt;\\n    &lt;/tr&gt;\\n    &lt;tr&gt;\\n      &lt;th&gt;20&lt;/th&gt;\\n      &lt;td&gt;14673&lt;/td&gt;\\n      &lt;td&gt;1947&lt;/td&gt;\\n    &lt;/tr&gt;\\n    &lt;tr&gt;\\n      &lt;th&gt;21&lt;/th&gt;\\n      &lt;td&gt;14727&lt;/td&gt;\\n      &lt;td&gt;2004&lt;/td&gt;\\n    &lt;/tr&gt;\\n    &lt;tr&gt;\\n      &lt;th&gt;22&lt;/th&gt;\\n      &lt;td&gt;15103&lt;/td&gt;\\n      &lt;td&gt;1990&lt;/td&gt;\\n    &lt;/tr&gt;\\n    &lt;tr&gt;\\n      &lt;th&gt;23&lt;/th&gt;\\n      &lt;td&gt;15355&lt;/td&gt;\\n      &lt;td&gt;2013&lt;/td&gt;\\n    &lt;/tr&gt;\\n    &lt;tr&gt;\\n      &lt;th&gt;24&lt;/th&gt;\\n      &lt;td&gt;15506&lt;/td&gt;\\n      &lt;td&gt;2035&lt;/td&gt;\\n    &lt;/tr&gt;\\n  &lt;/tbody&gt;\\n&lt;/table&gt;\"},\"id\":\"46217\",\"type\":\"panel.models.markup.HTML\"},{\"attributes\":{\"margin\":[5,10,5,10],\"options\":[\"1503960366\",\"1644430081\",\"1844505072\",\"1927972279\",\"2026352035\",\"2320127002\",\"2347167796\",\"3977333714\",\"4020332650\",\"4319703577\",\"4388161847\",\"4445114986\",\"4558609924\",\"4702921684\",\"5553957443\",\"5577150313\",\"6117666160\",\"6775888955\",\"6962181067\",\"7007744171\",\"7086361926\",\"8053475328\",\"8378563200\",\"8792009665\"],\"title\":\"Select User\",\"value\":\"1503960366\"},\"id\":\"46213\",\"type\":\"panel.models.widgets.CustomSelect\"},{\"attributes\":{\"children\":[{\"id\":\"46217\"}],\"margin\":[0,0,0,0],\"name\":\"Row135976\"},\"id\":\"46216\",\"type\":\"Row\"},{\"attributes\":{\"client_comm_id\":\"e828a4bf857e40fb8d382fe1fb5713a5\",\"comm_id\":\"35377e4155344784ab0f5880ba1a86b3\",\"plot_id\":\"46209\"},\"id\":\"46218\",\"type\":\"panel.models.comm_manager.CommManager\"},{\"attributes\":{\"children\":[{\"id\":\"46213\"},{\"id\":\"46214\"}],\"margin\":[0,0,0,0],\"name\":\"Column135971\"},\"id\":\"46212\",\"type\":\"Column\"},{\"attributes\":{\"margin\":[5,10,5,10],\"options\":[\"TotalSteps\",\"TotalDistance\",\"TotalMinutesAsleep\"],\"title\":\"Select Category\",\"value\":\"TotalSteps\"},\"id\":\"46214\",\"type\":\"panel.models.widgets.CustomSelect\"},{\"attributes\":{\"margin\":[5,5,5,5],\"name\":\"HSpacer136008\",\"sizing_mode\":\"stretch_width\"},\"id\":\"46215\",\"type\":\"Spacer\"}],\"root_ids\":[\"46209\",\"46218\"]},\"title\":\"Bokeh Application\",\"version\":\"2.4.3\"}};\n",
       "    var render_items = [{\"docid\":\"fae2396a-7ad3-418b-9fb9-b1be59c2335b\",\"root_ids\":[\"46209\"],\"roots\":{\"46209\":\"28c96ccb-9984-408d-8c4a-1db8f978ae01\"}}];\n",
       "    root.Bokeh.embed.embed_items_notebook(docs_json, render_items);\n",
       "    for (const render_item of render_items) {\n",
       "      for (const root_id of render_item.root_ids) {\n",
       "\tconst id_el = document.getElementById(root_id)\n",
       "\tif (id_el.children.length && (id_el.children[0].className === 'bk-root')) {\n",
       "\t  const root_el = id_el.children[0]\n",
       "\t  root_el.id = root_el.id + '-rendered'\n",
       "\t}\n",
       "      }\n",
       "    }\n",
       "  }\n",
       "  if (root.Bokeh !== undefined && root.Bokeh.Panel !== undefined && ( root['Tabulator'] !== undefined) && ( root['Tabulator'] !== undefined) && ( root['Tabulator'] !== undefined)) {\n",
       "    embed_document(root);\n",
       "  } else {\n",
       "    var attempts = 0;\n",
       "    var timer = setInterval(function(root) {\n",
       "      if (root.Bokeh !== undefined && root.Bokeh.Panel !== undefined && (root['Tabulator'] !== undefined) && (root['Tabulator'] !== undefined) && (root['Tabulator'] !== undefined)) {\n",
       "        clearInterval(timer);\n",
       "        embed_document(root);\n",
       "      } else if (document.readyState == \"complete\") {\n",
       "        attempts++;\n",
       "        if (attempts > 200) {\n",
       "          clearInterval(timer);\n",
       "          console.log(\"Bokeh: ERROR: Unable to run BokehJS code because BokehJS library is missing\");\n",
       "        }\n",
       "      }\n",
       "    }, 25, root)\n",
       "  }\n",
       "})(window);</script>"
      ],
      "text/plain": [
       "<hvplot.interactive.Interactive at 0x1c82fe6f750>"
      ]
     },
     "execution_count": 158,
     "metadata": {
      "application/vnd.holoviews_exec.v0+json": {
       "id": "46209"
      }
     },
     "output_type": "execute_result"
    }
   ],
   "source": [
    "#Pipeline to get the calories for different categories\n",
    "\n",
    "cat_scat_pl = (\n",
    "    idf[\n",
    "        idf.Id == Id_button]\n",
    "    .groupby(Cat_button)['Calories'].sum()\n",
    "    .to_frame()\n",
    "    .reset_index()\n",
    "    .reset_index(drop=True)\n",
    ")\n",
    "\n",
    "cat_scat_pl"
   ]
  },
  {
   "cell_type": "code",
   "execution_count": 159,
   "id": "6f8fd594-adda-4522-807e-7d74824f9a60",
   "metadata": {},
   "outputs": [
    {
     "data": {},
     "metadata": {},
     "output_type": "display_data"
    },
    {
     "data": {},
     "metadata": {},
     "output_type": "display_data"
    },
    {
     "data": {
      "application/vnd.holoviews_exec.v0+json": "",
      "text/html": [
       "<div id='46219'>\n",
       "  <div class=\"bk-root\" id=\"a1aaaf9f-1316-49e2-90b0-80e9ba829419\" data-root-id=\"46219\"></div>\n",
       "</div>\n",
       "<script type=\"application/javascript\">(function(root) {\n",
       "  function embed_document(root) {\n",
       "    var docs_json = {\"3cdcf45f-3b40-478a-a04a-237c9ac4d178\":{\"defs\":[{\"extends\":null,\"module\":null,\"name\":\"ReactiveHTML1\",\"overrides\":[],\"properties\":[]},{\"extends\":null,\"module\":null,\"name\":\"FlexBox1\",\"overrides\":[],\"properties\":[{\"default\":\"flex-start\",\"kind\":null,\"name\":\"align_content\"},{\"default\":\"flex-start\",\"kind\":null,\"name\":\"align_items\"},{\"default\":\"row\",\"kind\":null,\"name\":\"flex_direction\"},{\"default\":\"wrap\",\"kind\":null,\"name\":\"flex_wrap\"},{\"default\":\"flex-start\",\"kind\":null,\"name\":\"justify_content\"}]},{\"extends\":null,\"module\":null,\"name\":\"GridStack1\",\"overrides\":[],\"properties\":[{\"default\":\"warn\",\"kind\":null,\"name\":\"mode\"},{\"default\":null,\"kind\":null,\"name\":\"ncols\"},{\"default\":null,\"kind\":null,\"name\":\"nrows\"},{\"default\":true,\"kind\":null,\"name\":\"allow_resize\"},{\"default\":true,\"kind\":null,\"name\":\"allow_drag\"},{\"default\":[],\"kind\":null,\"name\":\"state\"}]},{\"extends\":null,\"module\":null,\"name\":\"click1\",\"overrides\":[],\"properties\":[{\"default\":\"\",\"kind\":null,\"name\":\"terminal_output\"},{\"default\":\"\",\"kind\":null,\"name\":\"debug_name\"},{\"default\":0,\"kind\":null,\"name\":\"clears\"}]},{\"extends\":null,\"module\":null,\"name\":\"NotificationAreaBase1\",\"overrides\":[],\"properties\":[{\"default\":\"bottom-right\",\"kind\":null,\"name\":\"position\"},{\"default\":0,\"kind\":null,\"name\":\"_clear\"}]},{\"extends\":null,\"module\":null,\"name\":\"NotificationArea1\",\"overrides\":[],\"properties\":[{\"default\":[],\"kind\":null,\"name\":\"notifications\"},{\"default\":\"bottom-right\",\"kind\":null,\"name\":\"position\"},{\"default\":0,\"kind\":null,\"name\":\"_clear\"},{\"default\":[{\"background\":\"#ffc107\",\"icon\":{\"className\":\"fas fa-exclamation-triangle\",\"color\":\"white\",\"tagName\":\"i\"},\"type\":\"warning\"},{\"background\":\"#007bff\",\"icon\":{\"className\":\"fas fa-info-circle\",\"color\":\"white\",\"tagName\":\"i\"},\"type\":\"info\"}],\"kind\":null,\"name\":\"types\"}]},{\"extends\":null,\"module\":null,\"name\":\"Notification\",\"overrides\":[],\"properties\":[{\"default\":null,\"kind\":null,\"name\":\"background\"},{\"default\":3000,\"kind\":null,\"name\":\"duration\"},{\"default\":null,\"kind\":null,\"name\":\"icon\"},{\"default\":\"\",\"kind\":null,\"name\":\"message\"},{\"default\":null,\"kind\":null,\"name\":\"notification_type\"},{\"default\":false,\"kind\":null,\"name\":\"_destroyed\"}]},{\"extends\":null,\"module\":null,\"name\":\"TemplateActions1\",\"overrides\":[],\"properties\":[{\"default\":0,\"kind\":null,\"name\":\"open_modal\"},{\"default\":0,\"kind\":null,\"name\":\"close_modal\"}]},{\"extends\":null,\"module\":null,\"name\":\"MaterialTemplateActions1\",\"overrides\":[],\"properties\":[{\"default\":0,\"kind\":null,\"name\":\"open_modal\"},{\"default\":0,\"kind\":null,\"name\":\"close_modal\"}]}],\"roots\":{\"references\":[{\"attributes\":{},\"id\":\"46247\",\"type\":\"PanTool\"},{\"attributes\":{\"end\":2048.157142857143,\"reset_end\":2048.157142857143,\"reset_start\":1714.8428571428572,\"start\":1714.8428571428572,\"tags\":[[[\"Calories\",\"Calories\",null]]]},\"id\":\"46226\",\"type\":\"Range1d\"},{\"attributes\":{\"coordinates\":null,\"group\":null,\"text\":\"Activity Indicators vs Calories\",\"text_color\":\"black\",\"text_font_size\":\"12pt\"},\"id\":\"46230\",\"type\":\"Title\"},{\"attributes\":{},\"id\":\"46246\",\"type\":\"SaveTool\"},{\"attributes\":{\"margin\":[5,10,5,10],\"options\":[\"TotalSteps\",\"TotalDistance\",\"TotalMinutesAsleep\"],\"title\":\"Select Category\",\"value\":\"TotalSteps\"},\"id\":\"46224\",\"type\":\"panel.models.widgets.CustomSelect\"},{\"attributes\":{},\"id\":\"46243\",\"type\":\"BasicTicker\"},{\"attributes\":{\"axis\":{\"id\":\"46242\"},\"coordinates\":null,\"dimension\":1,\"grid_line_color\":null,\"group\":null,\"ticker\":null},\"id\":\"46245\",\"type\":\"Grid\"},{\"attributes\":{},\"id\":\"46272\",\"type\":\"BasicTickFormatter\"},{\"attributes\":{},\"id\":\"46269\",\"type\":\"BasicTickFormatter\"},{\"attributes\":{},\"id\":\"46234\",\"type\":\"LinearScale\"},{\"attributes\":{\"end\":16086.1,\"reset_end\":16086.1,\"reset_start\":9124.9,\"start\":9124.9,\"tags\":[[[\"TotalSteps\",\"TotalSteps\",null]]]},\"id\":\"46227\",\"type\":\"Range1d\"},{\"attributes\":{\"fill_alpha\":{\"value\":0.2},\"fill_color\":{\"value\":\"#30a2da\"},\"hatch_alpha\":{\"value\":0.2},\"hatch_color\":{\"value\":\"#30a2da\"},\"line_alpha\":{\"value\":0.2},\"line_color\":{\"value\":\"#30a2da\"},\"size\":{\"value\":5.477225575051661},\"x\":{\"field\":\"Calories\"},\"y\":{\"field\":\"TotalSteps\"}},\"id\":\"46264\",\"type\":\"Scatter\"},{\"attributes\":{},\"id\":\"46248\",\"type\":\"WheelZoomTool\"},{\"attributes\":{},\"id\":\"46270\",\"type\":\"AllLabels\"},{\"attributes\":{\"children\":[{\"id\":\"46223\"},{\"id\":\"46224\"}],\"margin\":[0,0,0,0],\"name\":\"Column136146\"},\"id\":\"46222\",\"type\":\"Column\"},{\"attributes\":{\"margin\":[5,5,5,5],\"name\":\"HSpacer136150\",\"sizing_mode\":\"stretch_width\"},\"id\":\"46225\",\"type\":\"Spacer\"},{\"attributes\":{\"axis_label\":\"TotalSteps\",\"coordinates\":null,\"formatter\":{\"id\":\"46272\"},\"group\":null,\"major_label_policy\":{\"id\":\"46273\"},\"ticker\":{\"id\":\"46243\"}},\"id\":\"46242\",\"type\":\"LinearAxis\"},{\"attributes\":{\"margin\":[5,10,5,10],\"options\":[\"1503960366\",\"1644430081\",\"1844505072\",\"1927972279\",\"2026352035\",\"2320127002\",\"2347167796\",\"3977333714\",\"4020332650\",\"4319703577\",\"4388161847\",\"4445114986\",\"4558609924\",\"4702921684\",\"5553957443\",\"5577150313\",\"6117666160\",\"6775888955\",\"6962181067\",\"7007744171\",\"7086361926\",\"8053475328\",\"8378563200\",\"8792009665\"],\"title\":\"Select User\",\"value\":\"1503960366\"},\"id\":\"46223\",\"type\":\"panel.models.widgets.CustomSelect\"},{\"attributes\":{\"active_drag\":{\"id\":\"46247\"},\"active_scroll\":{\"id\":\"46248\"},\"tools\":[{\"id\":\"46228\"},{\"id\":\"46246\"},{\"id\":\"46247\"},{\"id\":\"46248\"},{\"id\":\"46249\"},{\"id\":\"46250\"}]},\"id\":\"46252\",\"type\":\"Toolbar\"},{\"attributes\":{\"callback\":null,\"renderers\":[{\"id\":\"46265\"}],\"tags\":[\"hv_created\"],\"tooltips\":[[\"Calories\",\"@{Calories}\"],[\"TotalSteps\",\"@{TotalSteps}\"]]},\"id\":\"46228\",\"type\":\"HoverTool\"},{\"attributes\":{},\"id\":\"46285\",\"type\":\"UnionRenderers\"},{\"attributes\":{},\"id\":\"46260\",\"type\":\"Selection\"},{\"attributes\":{},\"id\":\"46273\",\"type\":\"AllLabels\"},{\"attributes\":{},\"id\":\"46239\",\"type\":\"BasicTicker\"},{\"attributes\":{\"children\":[{\"id\":\"46222\"},{\"id\":\"46225\"}],\"margin\":[0,0,0,0],\"name\":\"Row136151\"},\"id\":\"46221\",\"type\":\"Row\"},{\"attributes\":{\"overlay\":{\"id\":\"46251\"}},\"id\":\"46249\",\"type\":\"BoxZoomTool\"},{\"attributes\":{},\"id\":\"46236\",\"type\":\"LinearScale\"},{\"attributes\":{},\"id\":\"46250\",\"type\":\"ResetTool\"},{\"attributes\":{\"children\":[{\"id\":\"46220\"}],\"margin\":[0,0,0,0],\"name\":\"Row136158\"},\"id\":\"46219\",\"type\":\"Row\"},{\"attributes\":{\"below\":[{\"id\":\"46238\"}],\"center\":[{\"id\":\"46241\"},{\"id\":\"46245\"}],\"height\":300,\"left\":[{\"id\":\"46242\"}],\"margin\":[5,5,5,5],\"min_border_bottom\":10,\"min_border_left\":10,\"min_border_right\":10,\"min_border_top\":10,\"renderers\":[{\"id\":\"46265\"}],\"sizing_mode\":\"fixed\",\"title\":{\"id\":\"46230\"},\"toolbar\":{\"id\":\"46252\"},\"width\":700,\"x_range\":{\"id\":\"46226\"},\"x_scale\":{\"id\":\"46234\"},\"y_range\":{\"id\":\"46227\"},\"y_scale\":{\"id\":\"46236\"}},\"id\":\"46229\",\"subtype\":\"Figure\",\"type\":\"Plot\"},{\"attributes\":{\"client_comm_id\":\"98f3a8696b34471dbf32095c8cd7e2d1\",\"comm_id\":\"3d1db8802eb1456ca8f2e7ff2d1d39f3\",\"plot_id\":\"46219\"},\"id\":\"46318\",\"type\":\"panel.models.comm_manager.CommManager\"},{\"attributes\":{\"source\":{\"id\":\"46259\"}},\"id\":\"46266\",\"type\":\"CDSView\"},{\"attributes\":{\"fill_color\":{\"value\":\"#30a2da\"},\"hatch_color\":{\"value\":\"#30a2da\"},\"line_color\":{\"value\":\"#30a2da\"},\"size\":{\"value\":5.477225575051661},\"x\":{\"field\":\"Calories\"},\"y\":{\"field\":\"TotalSteps\"}},\"id\":\"46262\",\"type\":\"Scatter\"},{\"attributes\":{\"bottom_units\":\"screen\",\"coordinates\":null,\"fill_alpha\":0.5,\"fill_color\":\"lightgrey\",\"group\":null,\"left_units\":\"screen\",\"level\":\"overlay\",\"line_alpha\":1.0,\"line_color\":\"black\",\"line_dash\":[4,4],\"line_width\":2,\"right_units\":\"screen\",\"syncable\":false,\"top_units\":\"screen\"},\"id\":\"46251\",\"type\":\"BoxAnnotation\"},{\"attributes\":{\"coordinates\":null,\"data_source\":{\"id\":\"46259\"},\"glyph\":{\"id\":\"46262\"},\"group\":null,\"hover_glyph\":null,\"muted_glyph\":{\"id\":\"46264\"},\"nonselection_glyph\":{\"id\":\"46263\"},\"selection_glyph\":{\"id\":\"46267\"},\"view\":{\"id\":\"46266\"}},\"id\":\"46265\",\"type\":\"GlyphRenderer\"},{\"attributes\":{\"children\":[{\"id\":\"46221\"},{\"id\":\"46229\"}],\"margin\":[0,0,0,0],\"name\":\"Column136157\"},\"id\":\"46220\",\"type\":\"Column\"},{\"attributes\":{\"data\":{\"Calories\":[1728,1745,1775,1788,1740,1786,1820,1797,1837,1821,1819,1896,1859,1863,1783,1898,1985,1970,1959,1949,1947,2004,1990,2013,2035],\"TotalSteps\":[9705,9762,9819,10039,10060,10544,10602,10735,11181,11992,12022,12159,12207,12669,12770,13154,13162,13755,14070,14371,14673,14727,15103,15355,15506]},\"selected\":{\"id\":\"46260\"},\"selection_policy\":{\"id\":\"46285\"}},\"id\":\"46259\",\"type\":\"ColumnDataSource\"},{\"attributes\":{\"fill_alpha\":{\"value\":0.1},\"fill_color\":{\"value\":\"#30a2da\"},\"hatch_alpha\":{\"value\":0.1},\"hatch_color\":{\"value\":\"#30a2da\"},\"line_alpha\":{\"value\":0.1},\"line_color\":{\"value\":\"#30a2da\"},\"size\":{\"value\":5.477225575051661},\"x\":{\"field\":\"Calories\"},\"y\":{\"field\":\"TotalSteps\"}},\"id\":\"46263\",\"type\":\"Scatter\"},{\"attributes\":{\"axis\":{\"id\":\"46238\"},\"coordinates\":null,\"grid_line_color\":null,\"group\":null,\"ticker\":null},\"id\":\"46241\",\"type\":\"Grid\"},{\"attributes\":{\"angle\":{\"value\":0.0},\"fill_alpha\":{\"value\":1.0},\"fill_color\":{\"value\":\"#30a2da\"},\"hatch_alpha\":{\"value\":1.0},\"hatch_color\":{\"value\":\"#30a2da\"},\"hatch_scale\":{\"value\":12.0},\"hatch_weight\":{\"value\":1.0},\"line_alpha\":{\"value\":1.0},\"line_cap\":{\"value\":\"butt\"},\"line_color\":{\"value\":\"#30a2da\"},\"line_dash\":{\"value\":[]},\"line_dash_offset\":{\"value\":0},\"line_join\":{\"value\":\"bevel\"},\"line_width\":{\"value\":1},\"marker\":{\"value\":\"circle\"},\"size\":{\"value\":5.477225575051661},\"x\":{\"field\":\"Calories\"},\"y\":{\"field\":\"TotalSteps\"}},\"id\":\"46267\",\"type\":\"Scatter\"},{\"attributes\":{\"axis_label\":\"Calories\",\"coordinates\":null,\"formatter\":{\"id\":\"46269\"},\"group\":null,\"major_label_policy\":{\"id\":\"46270\"},\"ticker\":{\"id\":\"46239\"}},\"id\":\"46238\",\"type\":\"LinearAxis\"}],\"root_ids\":[\"46219\",\"46318\"]},\"title\":\"Bokeh Application\",\"version\":\"2.4.3\"}};\n",
       "    var render_items = [{\"docid\":\"3cdcf45f-3b40-478a-a04a-237c9ac4d178\",\"root_ids\":[\"46219\"],\"roots\":{\"46219\":\"a1aaaf9f-1316-49e2-90b0-80e9ba829419\"}}];\n",
       "    root.Bokeh.embed.embed_items_notebook(docs_json, render_items);\n",
       "    for (const render_item of render_items) {\n",
       "      for (const root_id of render_item.root_ids) {\n",
       "\tconst id_el = document.getElementById(root_id)\n",
       "\tif (id_el.children.length && (id_el.children[0].className === 'bk-root')) {\n",
       "\t  const root_el = id_el.children[0]\n",
       "\t  root_el.id = root_el.id + '-rendered'\n",
       "\t}\n",
       "      }\n",
       "    }\n",
       "  }\n",
       "  if (root.Bokeh !== undefined && root.Bokeh.Panel !== undefined && ( root['Tabulator'] !== undefined) && ( root['Tabulator'] !== undefined) && ( root['Tabulator'] !== undefined)) {\n",
       "    embed_document(root);\n",
       "  } else {\n",
       "    var attempts = 0;\n",
       "    var timer = setInterval(function(root) {\n",
       "      if (root.Bokeh !== undefined && root.Bokeh.Panel !== undefined && (root['Tabulator'] !== undefined) && (root['Tabulator'] !== undefined) && (root['Tabulator'] !== undefined)) {\n",
       "        clearInterval(timer);\n",
       "        embed_document(root);\n",
       "      } else if (document.readyState == \"complete\") {\n",
       "        attempts++;\n",
       "        if (attempts > 200) {\n",
       "          clearInterval(timer);\n",
       "          console.log(\"Bokeh: ERROR: Unable to run BokehJS code because BokehJS library is missing\");\n",
       "        }\n",
       "      }\n",
       "    }, 25, root)\n",
       "  }\n",
       "})(window);</script>"
      ],
      "text/plain": [
       "<hvplot.interactive.Interactive at 0x1c82ef18050>"
      ]
     },
     "execution_count": 159,
     "metadata": {
      "application/vnd.holoviews_exec.v0+json": {
       "id": "46219"
      }
     },
     "output_type": "execute_result"
    }
   ],
   "source": [
    "#Plot of scatter plot\n",
    "\n",
    "cat_plot = cat_scat_pl.hvplot.scatter(x='Calories', title='Activity Indicators vs Calories')\n",
    "\n",
    "cat_plot"
   ]
  },
  {
   "cell_type": "markdown",
   "id": "371c5b53-1531-465f-832e-0c5d2ca01bc8",
   "metadata": {},
   "source": [
    "_**1.4) Stacked bar plot for activity**_"
   ]
  },
  {
   "cell_type": "markdown",
   "id": "a2875372-8186-4c46-85e0-3a7d08b9dfe7",
   "metadata": {},
   "source": [
    "_A stacked bar plot will be created to showcase the different levels of activity_"
   ]
  },
  {
   "cell_type": "code",
   "execution_count": 160,
   "id": "da50b550-b386-4152-a49f-9f304b5e75c2",
   "metadata": {},
   "outputs": [
    {
     "data": {},
     "metadata": {},
     "output_type": "display_data"
    },
    {
     "data": {
      "application/vnd.holoviews_exec.v0+json": "",
      "text/html": [
       "<div id='46369'>\n",
       "  <div class=\"bk-root\" id=\"8a6b6b9f-6f9c-4273-abff-1a79d4793865\" data-root-id=\"46369\"></div>\n",
       "</div>\n",
       "<script type=\"application/javascript\">(function(root) {\n",
       "  function embed_document(root) {\n",
       "    var docs_json = {\"7465beb6-09ac-48db-abe5-2ecece792f09\":{\"defs\":[{\"extends\":null,\"module\":null,\"name\":\"ReactiveHTML1\",\"overrides\":[],\"properties\":[]},{\"extends\":null,\"module\":null,\"name\":\"FlexBox1\",\"overrides\":[],\"properties\":[{\"default\":\"flex-start\",\"kind\":null,\"name\":\"align_content\"},{\"default\":\"flex-start\",\"kind\":null,\"name\":\"align_items\"},{\"default\":\"row\",\"kind\":null,\"name\":\"flex_direction\"},{\"default\":\"wrap\",\"kind\":null,\"name\":\"flex_wrap\"},{\"default\":\"flex-start\",\"kind\":null,\"name\":\"justify_content\"}]},{\"extends\":null,\"module\":null,\"name\":\"GridStack1\",\"overrides\":[],\"properties\":[{\"default\":\"warn\",\"kind\":null,\"name\":\"mode\"},{\"default\":null,\"kind\":null,\"name\":\"ncols\"},{\"default\":null,\"kind\":null,\"name\":\"nrows\"},{\"default\":true,\"kind\":null,\"name\":\"allow_resize\"},{\"default\":true,\"kind\":null,\"name\":\"allow_drag\"},{\"default\":[],\"kind\":null,\"name\":\"state\"}]},{\"extends\":null,\"module\":null,\"name\":\"click1\",\"overrides\":[],\"properties\":[{\"default\":\"\",\"kind\":null,\"name\":\"terminal_output\"},{\"default\":\"\",\"kind\":null,\"name\":\"debug_name\"},{\"default\":0,\"kind\":null,\"name\":\"clears\"}]},{\"extends\":null,\"module\":null,\"name\":\"NotificationAreaBase1\",\"overrides\":[],\"properties\":[{\"default\":\"bottom-right\",\"kind\":null,\"name\":\"position\"},{\"default\":0,\"kind\":null,\"name\":\"_clear\"}]},{\"extends\":null,\"module\":null,\"name\":\"NotificationArea1\",\"overrides\":[],\"properties\":[{\"default\":[],\"kind\":null,\"name\":\"notifications\"},{\"default\":\"bottom-right\",\"kind\":null,\"name\":\"position\"},{\"default\":0,\"kind\":null,\"name\":\"_clear\"},{\"default\":[{\"background\":\"#ffc107\",\"icon\":{\"className\":\"fas fa-exclamation-triangle\",\"color\":\"white\",\"tagName\":\"i\"},\"type\":\"warning\"},{\"background\":\"#007bff\",\"icon\":{\"className\":\"fas fa-info-circle\",\"color\":\"white\",\"tagName\":\"i\"},\"type\":\"info\"}],\"kind\":null,\"name\":\"types\"}]},{\"extends\":null,\"module\":null,\"name\":\"Notification\",\"overrides\":[],\"properties\":[{\"default\":null,\"kind\":null,\"name\":\"background\"},{\"default\":3000,\"kind\":null,\"name\":\"duration\"},{\"default\":null,\"kind\":null,\"name\":\"icon\"},{\"default\":\"\",\"kind\":null,\"name\":\"message\"},{\"default\":null,\"kind\":null,\"name\":\"notification_type\"},{\"default\":false,\"kind\":null,\"name\":\"_destroyed\"}]},{\"extends\":null,\"module\":null,\"name\":\"TemplateActions1\",\"overrides\":[],\"properties\":[{\"default\":0,\"kind\":null,\"name\":\"open_modal\"},{\"default\":0,\"kind\":null,\"name\":\"close_modal\"}]},{\"extends\":null,\"module\":null,\"name\":\"MaterialTemplateActions1\",\"overrides\":[],\"properties\":[{\"default\":0,\"kind\":null,\"name\":\"open_modal\"},{\"default\":0,\"kind\":null,\"name\":\"close_modal\"}]}],\"roots\":{\"references\":[{\"attributes\":{\"children\":[{\"id\":\"46372\"},{\"id\":\"46374\"}],\"margin\":[0,0,0,0],\"name\":\"Row136877\"},\"id\":\"46371\",\"type\":\"Row\"},{\"attributes\":{\"client_comm_id\":\"d27b388a52824c3687ee42f75f01a496\",\"comm_id\":\"f02211f8377f4f1c9cbcbb4c367ece99\",\"plot_id\":\"46369\"},\"id\":\"46377\",\"type\":\"panel.models.comm_manager.CommManager\"},{\"attributes\":{\"margin\":[5,5,5,5],\"name\":\"DataFrame136874\",\"text\":\"&lt;table class=&quot;dataframe panel-df&quot;&gt;\\n  &lt;thead&gt;\\n    &lt;tr style=&quot;text-align: right;&quot;&gt;\\n      &lt;th&gt;&lt;/th&gt;\\n      &lt;th&gt;ActivityDate&lt;/th&gt;\\n      &lt;th&gt;VeryActiveMinutes&lt;/th&gt;\\n      &lt;th&gt;FairlyActiveMinutes&lt;/th&gt;\\n      &lt;th&gt;LightlyActiveMinutes&lt;/th&gt;\\n      &lt;th&gt;SedentaryMinutes&lt;/th&gt;\\n      &lt;th&gt;TotalActiveMinutes&lt;/th&gt;\\n    &lt;/tr&gt;\\n  &lt;/thead&gt;\\n  &lt;tbody&gt;\\n    &lt;tr&gt;\\n      &lt;th&gt;0&lt;/th&gt;\\n      &lt;td&gt;2016-04-12&lt;/td&gt;\\n      &lt;td&gt;25&lt;/td&gt;\\n      &lt;td&gt;13&lt;/td&gt;\\n      &lt;td&gt;328&lt;/td&gt;\\n      &lt;td&gt;728&lt;/td&gt;\\n      &lt;td&gt;1094.0&lt;/td&gt;\\n    &lt;/tr&gt;\\n    &lt;tr&gt;\\n      &lt;th&gt;1&lt;/th&gt;\\n      &lt;td&gt;2016-04-13&lt;/td&gt;\\n      &lt;td&gt;21&lt;/td&gt;\\n      &lt;td&gt;19&lt;/td&gt;\\n      &lt;td&gt;217&lt;/td&gt;\\n      &lt;td&gt;776&lt;/td&gt;\\n      &lt;td&gt;1033.0&lt;/td&gt;\\n    &lt;/tr&gt;\\n    &lt;tr&gt;\\n      &lt;th&gt;2&lt;/th&gt;\\n      &lt;td&gt;2016-04-15&lt;/td&gt;\\n      &lt;td&gt;29&lt;/td&gt;\\n      &lt;td&gt;34&lt;/td&gt;\\n      &lt;td&gt;209&lt;/td&gt;\\n      &lt;td&gt;726&lt;/td&gt;\\n      &lt;td&gt;998.0&lt;/td&gt;\\n    &lt;/tr&gt;\\n    &lt;tr&gt;\\n      &lt;th&gt;3&lt;/th&gt;\\n      &lt;td&gt;2016-04-16&lt;/td&gt;\\n      &lt;td&gt;36&lt;/td&gt;\\n      &lt;td&gt;10&lt;/td&gt;\\n      &lt;td&gt;221&lt;/td&gt;\\n      &lt;td&gt;773&lt;/td&gt;\\n      &lt;td&gt;1040.0&lt;/td&gt;\\n    &lt;/tr&gt;\\n    &lt;tr&gt;\\n      &lt;th&gt;4&lt;/th&gt;\\n      &lt;td&gt;2016-04-17&lt;/td&gt;\\n      &lt;td&gt;38&lt;/td&gt;\\n      &lt;td&gt;20&lt;/td&gt;\\n      &lt;td&gt;164&lt;/td&gt;\\n      &lt;td&gt;539&lt;/td&gt;\\n      &lt;td&gt;761.0&lt;/td&gt;\\n    &lt;/tr&gt;\\n    &lt;tr&gt;\\n      &lt;th&gt;5&lt;/th&gt;\\n      &lt;td&gt;2016-04-19&lt;/td&gt;\\n      &lt;td&gt;50&lt;/td&gt;\\n      &lt;td&gt;31&lt;/td&gt;\\n      &lt;td&gt;264&lt;/td&gt;\\n      &lt;td&gt;775&lt;/td&gt;\\n      &lt;td&gt;1120.0&lt;/td&gt;\\n    &lt;/tr&gt;\\n    &lt;tr&gt;\\n      &lt;th&gt;6&lt;/th&gt;\\n      &lt;td&gt;2016-04-20&lt;/td&gt;\\n      &lt;td&gt;28&lt;/td&gt;\\n      &lt;td&gt;12&lt;/td&gt;\\n      &lt;td&gt;205&lt;/td&gt;\\n      &lt;td&gt;818&lt;/td&gt;\\n      &lt;td&gt;1063.0&lt;/td&gt;\\n    &lt;/tr&gt;\\n    &lt;tr&gt;\\n      &lt;th&gt;7&lt;/th&gt;\\n      &lt;td&gt;2016-04-21&lt;/td&gt;\\n      &lt;td&gt;19&lt;/td&gt;\\n      &lt;td&gt;8&lt;/td&gt;\\n      &lt;td&gt;211&lt;/td&gt;\\n      &lt;td&gt;838&lt;/td&gt;\\n      &lt;td&gt;1076.0&lt;/td&gt;\\n    &lt;/tr&gt;\\n    &lt;tr&gt;\\n      &lt;th&gt;8&lt;/th&gt;\\n      &lt;td&gt;2016-04-23&lt;/td&gt;\\n      &lt;td&gt;41&lt;/td&gt;\\n      &lt;td&gt;21&lt;/td&gt;\\n      &lt;td&gt;262&lt;/td&gt;\\n      &lt;td&gt;732&lt;/td&gt;\\n      &lt;td&gt;1056.0&lt;/td&gt;\\n    &lt;/tr&gt;\\n    &lt;tr&gt;\\n      &lt;th&gt;9&lt;/th&gt;\\n      &lt;td&gt;2016-04-24&lt;/td&gt;\\n      &lt;td&gt;39&lt;/td&gt;\\n      &lt;td&gt;5&lt;/td&gt;\\n      &lt;td&gt;238&lt;/td&gt;\\n      &lt;td&gt;709&lt;/td&gt;\\n      &lt;td&gt;991.0&lt;/td&gt;\\n    &lt;/tr&gt;\\n    &lt;tr&gt;\\n      &lt;th&gt;10&lt;/th&gt;\\n      &lt;td&gt;2016-04-25&lt;/td&gt;\\n      &lt;td&gt;73&lt;/td&gt;\\n      &lt;td&gt;14&lt;/td&gt;\\n      &lt;td&gt;216&lt;/td&gt;\\n      &lt;td&gt;814&lt;/td&gt;\\n      &lt;td&gt;1117.0&lt;/td&gt;\\n    &lt;/tr&gt;\\n    &lt;tr&gt;\\n      &lt;th&gt;11&lt;/th&gt;\\n      &lt;td&gt;2016-04-26&lt;/td&gt;\\n      &lt;td&gt;31&lt;/td&gt;\\n      &lt;td&gt;23&lt;/td&gt;\\n      &lt;td&gt;279&lt;/td&gt;\\n      &lt;td&gt;833&lt;/td&gt;\\n      &lt;td&gt;1166.0&lt;/td&gt;\\n    &lt;/tr&gt;\\n    &lt;tr&gt;\\n      &lt;th&gt;12&lt;/th&gt;\\n      &lt;td&gt;2016-04-28&lt;/td&gt;\\n      &lt;td&gt;48&lt;/td&gt;\\n      &lt;td&gt;28&lt;/td&gt;\\n      &lt;td&gt;189&lt;/td&gt;\\n      &lt;td&gt;782&lt;/td&gt;\\n      &lt;td&gt;1047.0&lt;/td&gt;\\n    &lt;/tr&gt;\\n    &lt;tr&gt;\\n      &lt;th&gt;13&lt;/th&gt;\\n      &lt;td&gt;2016-04-29&lt;/td&gt;\\n      &lt;td&gt;16&lt;/td&gt;\\n      &lt;td&gt;12&lt;/td&gt;\\n      &lt;td&gt;243&lt;/td&gt;\\n      &lt;td&gt;815&lt;/td&gt;\\n      &lt;td&gt;1086.0&lt;/td&gt;\\n    &lt;/tr&gt;\\n    &lt;tr&gt;\\n      &lt;th&gt;14&lt;/th&gt;\\n      &lt;td&gt;2016-04-30&lt;/td&gt;\\n      &lt;td&gt;52&lt;/td&gt;\\n      &lt;td&gt;34&lt;/td&gt;\\n      &lt;td&gt;217&lt;/td&gt;\\n      &lt;td&gt;712&lt;/td&gt;\\n      &lt;td&gt;1015.0&lt;/td&gt;\\n    &lt;/tr&gt;\\n    &lt;tr&gt;\\n      &lt;th&gt;15&lt;/th&gt;\\n      &lt;td&gt;2016-05-01&lt;/td&gt;\\n      &lt;td&gt;33&lt;/td&gt;\\n      &lt;td&gt;35&lt;/td&gt;\\n      &lt;td&gt;246&lt;/td&gt;\\n      &lt;td&gt;730&lt;/td&gt;\\n      &lt;td&gt;1044.0&lt;/td&gt;\\n    &lt;/tr&gt;\\n    &lt;tr&gt;\\n      &lt;th&gt;16&lt;/th&gt;\\n      &lt;td&gt;2016-05-02&lt;/td&gt;\\n      &lt;td&gt;41&lt;/td&gt;\\n      &lt;td&gt;15&lt;/td&gt;\\n      &lt;td&gt;277&lt;/td&gt;\\n      &lt;td&gt;798&lt;/td&gt;\\n      &lt;td&gt;1131.0&lt;/td&gt;\\n    &lt;/tr&gt;\\n    &lt;tr&gt;\\n      &lt;th&gt;17&lt;/th&gt;\\n      &lt;td&gt;2016-05-03&lt;/td&gt;\\n      &lt;td&gt;50&lt;/td&gt;\\n      &lt;td&gt;24&lt;/td&gt;\\n      &lt;td&gt;254&lt;/td&gt;\\n      &lt;td&gt;816&lt;/td&gt;\\n      &lt;td&gt;1144.0&lt;/td&gt;\\n    &lt;/tr&gt;\\n    &lt;tr&gt;\\n      &lt;th&gt;18&lt;/th&gt;\\n      &lt;td&gt;2016-05-05&lt;/td&gt;\\n      &lt;td&gt;45&lt;/td&gt;\\n      &lt;td&gt;24&lt;/td&gt;\\n      &lt;td&gt;250&lt;/td&gt;\\n      &lt;td&gt;857&lt;/td&gt;\\n      &lt;td&gt;1176.0&lt;/td&gt;\\n    &lt;/tr&gt;\\n    &lt;tr&gt;\\n      &lt;th&gt;19&lt;/th&gt;\\n      &lt;td&gt;2016-05-06&lt;/td&gt;\\n      &lt;td&gt;24&lt;/td&gt;\\n      &lt;td&gt;6&lt;/td&gt;\\n      &lt;td&gt;289&lt;/td&gt;\\n      &lt;td&gt;754&lt;/td&gt;\\n      &lt;td&gt;1073.0&lt;/td&gt;\\n    &lt;/tr&gt;\\n    &lt;tr&gt;\\n      &lt;th&gt;20&lt;/th&gt;\\n      &lt;td&gt;2016-05-07&lt;/td&gt;\\n      &lt;td&gt;37&lt;/td&gt;\\n      &lt;td&gt;46&lt;/td&gt;\\n      &lt;td&gt;175&lt;/td&gt;\\n      &lt;td&gt;833&lt;/td&gt;\\n      &lt;td&gt;1091.0&lt;/td&gt;\\n    &lt;/tr&gt;\\n    &lt;tr&gt;\\n      &lt;th&gt;21&lt;/th&gt;\\n      &lt;td&gt;2016-05-08&lt;/td&gt;\\n      &lt;td&gt;44&lt;/td&gt;\\n      &lt;td&gt;8&lt;/td&gt;\\n      &lt;td&gt;203&lt;/td&gt;\\n      &lt;td&gt;574&lt;/td&gt;\\n      &lt;td&gt;829.0&lt;/td&gt;\\n    &lt;/tr&gt;\\n    &lt;tr&gt;\\n      &lt;th&gt;22&lt;/th&gt;\\n      &lt;td&gt;2016-05-09&lt;/td&gt;\\n      &lt;td&gt;46&lt;/td&gt;\\n      &lt;td&gt;11&lt;/td&gt;\\n      &lt;td&gt;206&lt;/td&gt;\\n      &lt;td&gt;835&lt;/td&gt;\\n      &lt;td&gt;1098.0&lt;/td&gt;\\n    &lt;/tr&gt;\\n    &lt;tr&gt;\\n      &lt;th&gt;23&lt;/th&gt;\\n      &lt;td&gt;2016-05-10&lt;/td&gt;\\n      &lt;td&gt;46&lt;/td&gt;\\n      &lt;td&gt;31&lt;/td&gt;\\n      &lt;td&gt;214&lt;/td&gt;\\n      &lt;td&gt;746&lt;/td&gt;\\n      &lt;td&gt;1037.0&lt;/td&gt;\\n    &lt;/tr&gt;\\n    &lt;tr&gt;\\n      &lt;th&gt;24&lt;/th&gt;\\n      &lt;td&gt;2016-05-11&lt;/td&gt;\\n      &lt;td&gt;36&lt;/td&gt;\\n      &lt;td&gt;23&lt;/td&gt;\\n      &lt;td&gt;251&lt;/td&gt;\\n      &lt;td&gt;669&lt;/td&gt;\\n      &lt;td&gt;979.0&lt;/td&gt;\\n    &lt;/tr&gt;\\n  &lt;/tbody&gt;\\n&lt;/table&gt;\"},\"id\":\"46376\",\"type\":\"panel.models.markup.HTML\"},{\"attributes\":{\"children\":[{\"id\":\"46370\"}],\"margin\":[0,0,0,0],\"name\":\"Row136879\"},\"id\":\"46369\",\"type\":\"Row\"},{\"attributes\":{\"children\":[{\"id\":\"46376\"}],\"margin\":[0,0,0,0],\"name\":\"Row136844\"},\"id\":\"46375\",\"type\":\"Row\"},{\"attributes\":{\"children\":[{\"id\":\"46373\"}],\"margin\":[0,0,0,0],\"name\":\"Column136839\"},\"id\":\"46372\",\"type\":\"Column\"},{\"attributes\":{\"margin\":[5,10,5,10],\"options\":[\"1503960366\",\"1644430081\",\"1844505072\",\"1927972279\",\"2026352035\",\"2320127002\",\"2347167796\",\"3977333714\",\"4020332650\",\"4319703577\",\"4388161847\",\"4445114986\",\"4558609924\",\"4702921684\",\"5553957443\",\"5577150313\",\"6117666160\",\"6775888955\",\"6962181067\",\"7007744171\",\"7086361926\",\"8053475328\",\"8378563200\",\"8792009665\"],\"title\":\"Select User\",\"value\":\"1503960366\"},\"id\":\"46373\",\"type\":\"panel.models.widgets.CustomSelect\"},{\"attributes\":{\"children\":[{\"id\":\"46371\"},{\"id\":\"46375\"}],\"margin\":[0,0,0,0],\"name\":\"Column136878\"},\"id\":\"46370\",\"type\":\"Column\"},{\"attributes\":{\"margin\":[5,5,5,5],\"name\":\"HSpacer136876\",\"sizing_mode\":\"stretch_width\"},\"id\":\"46374\",\"type\":\"Spacer\"}],\"root_ids\":[\"46369\",\"46377\"]},\"title\":\"Bokeh Application\",\"version\":\"2.4.3\"}};\n",
       "    var render_items = [{\"docid\":\"7465beb6-09ac-48db-abe5-2ecece792f09\",\"root_ids\":[\"46369\"],\"roots\":{\"46369\":\"8a6b6b9f-6f9c-4273-abff-1a79d4793865\"}}];\n",
       "    root.Bokeh.embed.embed_items_notebook(docs_json, render_items);\n",
       "    for (const render_item of render_items) {\n",
       "      for (const root_id of render_item.root_ids) {\n",
       "\tconst id_el = document.getElementById(root_id)\n",
       "\tif (id_el.children.length && (id_el.children[0].className === 'bk-root')) {\n",
       "\t  const root_el = id_el.children[0]\n",
       "\t  root_el.id = root_el.id + '-rendered'\n",
       "\t}\n",
       "      }\n",
       "    }\n",
       "  }\n",
       "  if (root.Bokeh !== undefined && root.Bokeh.Panel !== undefined && ( root['Tabulator'] !== undefined) && ( root['Tabulator'] !== undefined) && ( root['Tabulator'] !== undefined)) {\n",
       "    embed_document(root);\n",
       "  } else {\n",
       "    var attempts = 0;\n",
       "    var timer = setInterval(function(root) {\n",
       "      if (root.Bokeh !== undefined && root.Bokeh.Panel !== undefined && (root['Tabulator'] !== undefined) && (root['Tabulator'] !== undefined) && (root['Tabulator'] !== undefined)) {\n",
       "        clearInterval(timer);\n",
       "        embed_document(root);\n",
       "      } else if (document.readyState == \"complete\") {\n",
       "        attempts++;\n",
       "        if (attempts > 200) {\n",
       "          clearInterval(timer);\n",
       "          console.log(\"Bokeh: ERROR: Unable to run BokehJS code because BokehJS library is missing\");\n",
       "        }\n",
       "      }\n",
       "    }, 25, root)\n",
       "  }\n",
       "})(window);</script>"
      ],
      "text/plain": [
       "<hvplot.interactive.Interactive at 0x1c82ba07150>"
      ]
     },
     "execution_count": 160,
     "metadata": {
      "application/vnd.holoviews_exec.v0+json": {
       "id": "46369"
      }
     },
     "output_type": "execute_result"
    }
   ],
   "source": [
    "#Pipeline to get the stacked bar of active minutes\n",
    "\n",
    "actmin_pl = (\n",
    "    idf[\n",
    "        idf.Id == Id_button]\n",
    "    .groupby(['ActivityDate', 'VeryActiveMinutes', 'FairlyActiveMinutes', 'LightlyActiveMinutes', 'SedentaryMinutes'])['TotalActiveMinutes'].mean()\n",
    "    .to_frame()\n",
    "    .reset_index()\n",
    "    .reset_index(drop=True)\n",
    ")\n",
    "\n",
    "actmin_pl"
   ]
  },
  {
   "cell_type": "code",
   "execution_count": 161,
   "id": "1296fa89-49fe-4ebd-9cdd-dab410d4a61f",
   "metadata": {},
   "outputs": [
    {
     "data": {},
     "metadata": {},
     "output_type": "display_data"
    },
    {
     "data": {},
     "metadata": {},
     "output_type": "display_data"
    },
    {
     "data": {
      "application/vnd.holoviews_exec.v0+json": "",
      "text/html": [
       "<div id='46378'>\n",
       "  <div class=\"bk-root\" id=\"8b5447e1-4aeb-4541-b420-3c30c7f497f2\" data-root-id=\"46378\"></div>\n",
       "</div>\n",
       "<script type=\"application/javascript\">(function(root) {\n",
       "  function embed_document(root) {\n",
       "    var docs_json = {\"b27d2e30-6c14-43fa-936a-c7c132f71c7d\":{\"defs\":[{\"extends\":null,\"module\":null,\"name\":\"ReactiveHTML1\",\"overrides\":[],\"properties\":[]},{\"extends\":null,\"module\":null,\"name\":\"FlexBox1\",\"overrides\":[],\"properties\":[{\"default\":\"flex-start\",\"kind\":null,\"name\":\"align_content\"},{\"default\":\"flex-start\",\"kind\":null,\"name\":\"align_items\"},{\"default\":\"row\",\"kind\":null,\"name\":\"flex_direction\"},{\"default\":\"wrap\",\"kind\":null,\"name\":\"flex_wrap\"},{\"default\":\"flex-start\",\"kind\":null,\"name\":\"justify_content\"}]},{\"extends\":null,\"module\":null,\"name\":\"GridStack1\",\"overrides\":[],\"properties\":[{\"default\":\"warn\",\"kind\":null,\"name\":\"mode\"},{\"default\":null,\"kind\":null,\"name\":\"ncols\"},{\"default\":null,\"kind\":null,\"name\":\"nrows\"},{\"default\":true,\"kind\":null,\"name\":\"allow_resize\"},{\"default\":true,\"kind\":null,\"name\":\"allow_drag\"},{\"default\":[],\"kind\":null,\"name\":\"state\"}]},{\"extends\":null,\"module\":null,\"name\":\"click1\",\"overrides\":[],\"properties\":[{\"default\":\"\",\"kind\":null,\"name\":\"terminal_output\"},{\"default\":\"\",\"kind\":null,\"name\":\"debug_name\"},{\"default\":0,\"kind\":null,\"name\":\"clears\"}]},{\"extends\":null,\"module\":null,\"name\":\"NotificationAreaBase1\",\"overrides\":[],\"properties\":[{\"default\":\"bottom-right\",\"kind\":null,\"name\":\"position\"},{\"default\":0,\"kind\":null,\"name\":\"_clear\"}]},{\"extends\":null,\"module\":null,\"name\":\"NotificationArea1\",\"overrides\":[],\"properties\":[{\"default\":[],\"kind\":null,\"name\":\"notifications\"},{\"default\":\"bottom-right\",\"kind\":null,\"name\":\"position\"},{\"default\":0,\"kind\":null,\"name\":\"_clear\"},{\"default\":[{\"background\":\"#ffc107\",\"icon\":{\"className\":\"fas fa-exclamation-triangle\",\"color\":\"white\",\"tagName\":\"i\"},\"type\":\"warning\"},{\"background\":\"#007bff\",\"icon\":{\"className\":\"fas fa-info-circle\",\"color\":\"white\",\"tagName\":\"i\"},\"type\":\"info\"}],\"kind\":null,\"name\":\"types\"}]},{\"extends\":null,\"module\":null,\"name\":\"Notification\",\"overrides\":[],\"properties\":[{\"default\":null,\"kind\":null,\"name\":\"background\"},{\"default\":3000,\"kind\":null,\"name\":\"duration\"},{\"default\":null,\"kind\":null,\"name\":\"icon\"},{\"default\":\"\",\"kind\":null,\"name\":\"message\"},{\"default\":null,\"kind\":null,\"name\":\"notification_type\"},{\"default\":false,\"kind\":null,\"name\":\"_destroyed\"}]},{\"extends\":null,\"module\":null,\"name\":\"TemplateActions1\",\"overrides\":[],\"properties\":[{\"default\":0,\"kind\":null,\"name\":\"open_modal\"},{\"default\":0,\"kind\":null,\"name\":\"close_modal\"}]},{\"extends\":null,\"module\":null,\"name\":\"MaterialTemplateActions1\",\"overrides\":[],\"properties\":[{\"default\":0,\"kind\":null,\"name\":\"open_modal\"},{\"default\":0,\"kind\":null,\"name\":\"close_modal\"}]}],\"roots\":{\"references\":[{\"attributes\":{\"axis_label\":\"Records\",\"coordinates\":null,\"formatter\":{\"id\":\"46430\"},\"group\":null,\"major_label_policy\":{\"id\":\"46431\"},\"ticker\":{\"id\":\"46397\"}},\"id\":\"46396\",\"type\":\"CategoricalAxis\"},{\"attributes\":{\"overlay\":{\"id\":\"46408\"}},\"id\":\"46406\",\"type\":\"BoxZoomTool\"},{\"attributes\":{\"source\":{\"id\":\"46417\"}},\"id\":\"46424\",\"type\":\"CDSView\"},{\"attributes\":{\"margin\":[5,5,5,5],\"name\":\"HSpacer136989\",\"sizing_mode\":\"stretch_width\"},\"id\":\"46383\",\"type\":\"Spacer\"},{\"attributes\":{\"children\":[{\"id\":\"46381\"},{\"id\":\"46383\"}],\"margin\":[0,0,0,0],\"name\":\"Row136990\"},\"id\":\"46380\",\"type\":\"Row\"},{\"attributes\":{\"children\":[{\"id\":\"46380\"},{\"id\":\"46387\"}],\"margin\":[0,0,0,0],\"name\":\"Column136996\"},\"id\":\"46379\",\"type\":\"Column\"},{\"attributes\":{\"coordinates\":null,\"data_source\":{\"id\":\"46417\"},\"glyph\":{\"id\":\"46420\"},\"group\":null,\"hover_glyph\":null,\"muted_glyph\":{\"id\":\"46422\"},\"nonselection_glyph\":{\"id\":\"46421\"},\"selection_glyph\":{\"id\":\"46437\"},\"view\":{\"id\":\"46424\"}},\"id\":\"46423\",\"type\":\"GlyphRenderer\"},{\"attributes\":{\"bottom\":{\"field\":\"bottom\"},\"fill_color\":{\"field\":\"Variable\",\"transform\":{\"id\":\"46416\"}},\"hatch_color\":{\"field\":\"Variable\",\"transform\":{\"id\":\"46416\"}},\"top\":{\"field\":\"top\"},\"width\":{\"value\":0.8},\"x\":{\"field\":\"index\"}},\"id\":\"46420\",\"type\":\"VBar\"},{\"attributes\":{\"children\":[{\"id\":\"46382\"}],\"margin\":[0,0,0,0],\"name\":\"Column136985\"},\"id\":\"46381\",\"type\":\"Column\"},{\"attributes\":{\"bottom\":{\"field\":\"bottom\"},\"fill_alpha\":{\"value\":0.1},\"fill_color\":{\"field\":\"Variable\",\"transform\":{\"id\":\"46416\"}},\"hatch_alpha\":{\"value\":0.1},\"hatch_color\":{\"field\":\"Variable\",\"transform\":{\"id\":\"46416\"}},\"line_alpha\":{\"value\":0.1},\"top\":{\"field\":\"top\"},\"width\":{\"value\":0.8},\"x\":{\"field\":\"index\"}},\"id\":\"46421\",\"type\":\"VBar\"},{\"attributes\":{},\"id\":\"46397\",\"type\":\"CategoricalTicker\"},{\"attributes\":{\"bottom\":{\"field\":\"bottom\"},\"fill_alpha\":{\"value\":0.2},\"fill_color\":{\"field\":\"Variable\",\"transform\":{\"id\":\"46416\"}},\"hatch_alpha\":{\"value\":0.2},\"hatch_color\":{\"field\":\"Variable\",\"transform\":{\"id\":\"46416\"}},\"line_alpha\":{\"value\":0.2},\"top\":{\"field\":\"top\"},\"width\":{\"value\":0.8},\"x\":{\"field\":\"index\"}},\"id\":\"46422\",\"type\":\"VBar\"},{\"attributes\":{\"callback\":null,\"renderers\":[{\"id\":\"46423\"}],\"tags\":[\"hv_created\"],\"tooltips\":[[\"index\",\"@{index}\"],[\"Variable\",\"@{Variable}\"],[\"value\",\"@{value}\"]]},\"id\":\"46386\",\"type\":\"HoverTool\"},{\"attributes\":{\"factors\":[\"VeryActiveMinutes\",\"FairlyActiveMinutes\",\"LightlyActiveMinutes\",\"SedentaryMinutes\"],\"palette\":[\"#30a2da\",\"#fc4f30\",\"#e5ae38\",\"#6d904f\"]},\"id\":\"46416\",\"type\":\"CategoricalColorMapper\"},{\"attributes\":{},\"id\":\"46407\",\"type\":\"ResetTool\"},{\"attributes\":{\"below\":[{\"id\":\"46396\"}],\"center\":[{\"id\":\"46398\"},{\"id\":\"46402\"},{\"id\":\"46435\"}],\"height\":300,\"left\":[{\"id\":\"46399\"}],\"margin\":[5,5,5,5],\"min_border_bottom\":10,\"min_border_left\":10,\"min_border_right\":10,\"min_border_top\":10,\"renderers\":[{\"id\":\"46423\"}],\"right\":[{\"id\":\"46435\"}],\"sizing_mode\":\"fixed\",\"title\":{\"id\":\"46388\"},\"toolbar\":{\"id\":\"46409\"},\"width\":700,\"x_range\":{\"id\":\"46384\"},\"x_scale\":{\"id\":\"46392\"},\"y_range\":{\"id\":\"46385\"},\"y_scale\":{\"id\":\"46394\"}},\"id\":\"46387\",\"subtype\":\"Figure\",\"type\":\"Plot\"},{\"attributes\":{\"data\":{\"Variable\":[\"VeryActiveMinutes\",\"VeryActiveMinutes\",\"VeryActiveMinutes\",\"VeryActiveMinutes\",\"VeryActiveMinutes\",\"VeryActiveMinutes\",\"VeryActiveMinutes\",\"VeryActiveMinutes\",\"VeryActiveMinutes\",\"VeryActiveMinutes\",\"VeryActiveMinutes\",\"VeryActiveMinutes\",\"VeryActiveMinutes\",\"VeryActiveMinutes\",\"VeryActiveMinutes\",\"VeryActiveMinutes\",\"VeryActiveMinutes\",\"VeryActiveMinutes\",\"VeryActiveMinutes\",\"VeryActiveMinutes\",\"VeryActiveMinutes\",\"VeryActiveMinutes\",\"VeryActiveMinutes\",\"VeryActiveMinutes\",\"VeryActiveMinutes\",\"FairlyActiveMinutes\",\"FairlyActiveMinutes\",\"FairlyActiveMinutes\",\"FairlyActiveMinutes\",\"FairlyActiveMinutes\",\"FairlyActiveMinutes\",\"FairlyActiveMinutes\",\"FairlyActiveMinutes\",\"FairlyActiveMinutes\",\"FairlyActiveMinutes\",\"FairlyActiveMinutes\",\"FairlyActiveMinutes\",\"FairlyActiveMinutes\",\"FairlyActiveMinutes\",\"FairlyActiveMinutes\",\"FairlyActiveMinutes\",\"FairlyActiveMinutes\",\"FairlyActiveMinutes\",\"FairlyActiveMinutes\",\"FairlyActiveMinutes\",\"FairlyActiveMinutes\",\"FairlyActiveMinutes\",\"FairlyActiveMinutes\",\"FairlyActiveMinutes\",\"FairlyActiveMinutes\",\"LightlyActiveMinutes\",\"LightlyActiveMinutes\",\"LightlyActiveMinutes\",\"LightlyActiveMinutes\",\"LightlyActiveMinutes\",\"LightlyActiveMinutes\",\"LightlyActiveMinutes\",\"LightlyActiveMinutes\",\"LightlyActiveMinutes\",\"LightlyActiveMinutes\",\"LightlyActiveMinutes\",\"LightlyActiveMinutes\",\"LightlyActiveMinutes\",\"LightlyActiveMinutes\",\"LightlyActiveMinutes\",\"LightlyActiveMinutes\",\"LightlyActiveMinutes\",\"LightlyActiveMinutes\",\"LightlyActiveMinutes\",\"LightlyActiveMinutes\",\"LightlyActiveMinutes\",\"LightlyActiveMinutes\",\"LightlyActiveMinutes\",\"LightlyActiveMinutes\",\"LightlyActiveMinutes\",\"SedentaryMinutes\",\"SedentaryMinutes\",\"SedentaryMinutes\",\"SedentaryMinutes\",\"SedentaryMinutes\",\"SedentaryMinutes\",\"SedentaryMinutes\",\"SedentaryMinutes\",\"SedentaryMinutes\",\"SedentaryMinutes\",\"SedentaryMinutes\",\"SedentaryMinutes\",\"SedentaryMinutes\",\"SedentaryMinutes\",\"SedentaryMinutes\",\"SedentaryMinutes\",\"SedentaryMinutes\",\"SedentaryMinutes\",\"SedentaryMinutes\",\"SedentaryMinutes\",\"SedentaryMinutes\",\"SedentaryMinutes\",\"SedentaryMinutes\",\"SedentaryMinutes\",\"SedentaryMinutes\"],\"bottom\":{\"__ndarray__\":\"AAAAAAAAAAAAAAAAAAAAAAAAAAAAAAAAAAAAAAAAAAAAAAAAAAAAAAAAAAAAAAAAAAAAAAAAAAAAAAAAAAAAAAAAAAAAAAAAAAAAAAAAAAAAAAAAAAAAAAAAAAAAAAAAAAAAAAAAAAAAAAAAAAAAAAAAAAAAAAAAAAAAAAAAAAAAAAAAAAAAAAAAAAAAAAAAAAAAAAAAAAAAAAAAAAAAAAAAAAAAAAAAAAAAAAAAAAAAAAAAAAAAAAAAAAAAAAAAAAAAAAAAAAAAAAAAAAAwQAAAAAAAAEpAAAAAAACAQEAAAAAAAIBEQAAAAAAAAElAAAAAAACAQkAAAAAAAAA4QAAAAAAAAEZAAAAAAAAAR0AAAAAAAABHQAAAAAAAgEZAAAAAAAAASEAAAAAAAABCQAAAAAAAQFJAAAAAAACAQ0AAAAAAAIBEQAAAAAAAADNAAAAAAAAAPEAAAAAAAABJQAAAAAAAAENAAAAAAAAAQkAAAAAAAAA9QAAAAAAAADVAAAAAAAAAOUAAAAAAAAA/QAAAAAAAgFVAAAAAAAAAUUAAAAAAAABMQAAAAAAAgFJAAAAAAACATUAAAAAAAMBUQAAAAAAAAEpAAAAAAACATEAAAAAAAEBTQAAAAAAAADxAAAAAAAAAPkAAAAAAAABTQAAAAAAAQFFAAAAAAADAVUAAAAAAAABGQAAAAAAAAE9AAAAAAAAAO0AAAAAAAABEQAAAAAAAQFRAAAAAAAAATUAAAAAAAABHQAAAAAAAgE9AAAAAAAAAREAAAAAAAABDQAAAAAAAAEtAAAAAAADwckAAAAAAAKBzQAAAAAAA0HRAAAAAAACAdEAAAAAAAHBwQAAAAAAA8HNAAAAAAAAgcEAAAAAAAOBvQAAAAAAA8HBAAAAAAADwc0AAAAAAAJBwQAAAAAAAoG5AAAAAAADwckAAAAAAAKBxQAAAAAAAQHRAAAAAAADAbUAAAAAAAJB1QAAAAAAAwGtAAAAAAACwcEAAAAAAAABxQAAAAAAAEHBAAAAAAADgdkAAAAAAADByQAAAAAAA0HRAAAAAAABgc0A=\",\"dtype\":\"float64\",\"order\":\"little\",\"shape\":[100]},\"index\":[\"0\",\"24\",\"23\",\"22\",\"21\",\"20\",\"19\",\"17\",\"16\",\"15\",\"14\",\"13\",\"18\",\"11\",\"12\",\"2\",\"3\",\"4\",\"5\",\"1\",\"7\",\"8\",\"9\",\"10\",\"6\",\"13\",\"14\",\"15\",\"16\",\"17\",\"20\",\"19\",\"21\",\"22\",\"23\",\"18\",\"12\",\"24\",\"10\",\"9\",\"8\",\"7\",\"6\",\"5\",\"4\",\"3\",\"2\",\"1\",\"0\",\"11\",\"14\",\"15\",\"16\",\"17\",\"24\",\"20\",\"21\",\"22\",\"23\",\"13\",\"19\",\"12\",\"18\",\"10\",\"9\",\"8\",\"7\",\"6\",\"5\",\"4\",\"3\",\"2\",\"1\",\"0\",\"11\",\"14\",\"15\",\"16\",\"17\",\"22\",\"19\",\"20\",\"21\",\"13\",\"18\",\"12\",\"6\",\"10\",\"9\",\"8\",\"7\",\"5\",\"4\",\"3\",\"2\",\"1\",\"0\",\"23\",\"11\",\"24\"],\"top\":{\"__ndarray__\":\"AAAAAAAAOUAAAAAAAABCQAAAAAAAAEdAAAAAAAAAR0AAAAAAAABGQAAAAAAAgEJAAAAAAAAAOEAAAAAAAABJQAAAAAAAgERAAAAAAACAQEAAAAAAAABKQAAAAAAAADBAAAAAAACARkAAAAAAAAA/QAAAAAAAAEhAAAAAAAAAPUAAAAAAAABCQAAAAAAAAENAAAAAAAAASUAAAAAAAAA1QAAAAAAAADNAAAAAAACAREAAAAAAAIBDQAAAAAAAQFJAAAAAAAAAPEAAAAAAAAA8QAAAAAAAgFVAAAAAAAAAUUAAAAAAAABMQAAAAAAAgFJAAAAAAADAVEAAAAAAAAA+QAAAAAAAAEpAAAAAAACATEAAAAAAAEBTQAAAAAAAQFFAAAAAAAAAU0AAAAAAAIBNQAAAAAAAwFVAAAAAAAAARkAAAAAAAABPQAAAAAAAADtAAAAAAAAAREAAAAAAAEBUQAAAAAAAAE1AAAAAAAAAR0AAAAAAAIBPQAAAAAAAAERAAAAAAAAAQ0AAAAAAAABLQAAAAAAA8HJAAAAAAACgc0AAAAAAANB0QAAAAAAAgHRAAAAAAABgc0AAAAAAACBwQAAAAAAA4G9AAAAAAABwcEAAAAAAADByQAAAAAAA8HBAAAAAAADwc0AAAAAAAJBwQAAAAAAA8HNAAAAAAADwckAAAAAAAKBxQAAAAAAAQHRAAAAAAADAbUAAAAAAAKBuQAAAAAAAkHVAAAAAAADAa0AAAAAAALBwQAAAAAAAAHFAAAAAAAAQcEAAAAAAAOB2QAAAAAAA0HRAAAAAAAC4j0AAAAAAAFCQQAAAAAAArJFAAAAAAADgkUAAAAAAACiRQAAAAAAAxJBAAAAAAAAMkUAAAAAAAOiJQAAAAAAA+JBAAAAAAABgkkAAAAAAAFyQQAAAAAAAnJBAAAAAAAB0kUAAAAAAAPiOQAAAAAAAgJBAAAAAAADQkEAAAAAAAICRQAAAAAAAyIdAAAAAAABAkEAAAAAAADCPQAAAAAAAJJBAAAAAAAAYkUAAAAAAADSQQAAAAAAAOJJAAAAAAACYjkA=\",\"dtype\":\"float64\",\"order\":\"little\",\"shape\":[100]},\"value\":[25,36,46,46,44,37,24,50,41,33,52,16,45,31,48,29,36,38,50,21,19,41,39,73,28,12,34,35,15,24,46,6,8,11,31,24,28,23,14,5,21,8,12,31,20,10,34,19,13,23,217,246,277,254,251,175,203,206,214,243,289,189,250,216,238,262,211,205,264,164,221,209,217,328,279,712,730,798,816,835,754,833,574,815,857,782,818,814,709,732,838,775,539,773,726,776,728,746,833,669]},\"selected\":{\"id\":\"46418\"},\"selection_policy\":{\"id\":\"46432\"}},\"id\":\"46417\",\"type\":\"ColumnDataSource\"},{\"attributes\":{},\"id\":\"46428\",\"type\":\"AllLabels\"},{\"attributes\":{\"axis\":{\"id\":\"46396\"},\"coordinates\":null,\"grid_line_color\":null,\"group\":null,\"ticker\":null},\"id\":\"46398\",\"type\":\"Grid\"},{\"attributes\":{\"active_drag\":{\"id\":\"46404\"},\"active_scroll\":{\"id\":\"46405\"},\"tools\":[{\"id\":\"46386\"},{\"id\":\"46403\"},{\"id\":\"46404\"},{\"id\":\"46405\"},{\"id\":\"46406\"},{\"id\":\"46407\"}]},\"id\":\"46409\",\"type\":\"Toolbar\"},{\"attributes\":{\"bottom\":{\"field\":\"bottom\"},\"fill_alpha\":{\"value\":1.0},\"fill_color\":{\"field\":\"Variable\",\"transform\":{\"id\":\"46416\"}},\"hatch_alpha\":{\"value\":1.0},\"hatch_color\":{\"field\":\"Variable\",\"transform\":{\"id\":\"46416\"}},\"hatch_scale\":{\"value\":12.0},\"hatch_weight\":{\"value\":1.0},\"line_alpha\":{\"value\":1.0},\"line_cap\":{\"value\":\"butt\"},\"line_color\":{\"value\":\"black\"},\"line_dash\":{\"value\":[]},\"line_dash_offset\":{\"value\":0},\"line_join\":{\"value\":\"bevel\"},\"line_width\":{\"value\":1},\"top\":{\"field\":\"top\"},\"width\":{\"value\":0.8},\"x\":{\"field\":\"index\"}},\"id\":\"46437\",\"type\":\"VBar\"},{\"attributes\":{},\"id\":\"46427\",\"type\":\"BasicTickFormatter\"},{\"attributes\":{},\"id\":\"46432\",\"type\":\"UnionRenderers\"},{\"attributes\":{\"axis\":{\"id\":\"46399\"},\"coordinates\":null,\"dimension\":1,\"grid_line_color\":null,\"group\":null,\"ticker\":null},\"id\":\"46402\",\"type\":\"Grid\"},{\"attributes\":{\"bottom_units\":\"screen\",\"coordinates\":null,\"fill_alpha\":0.5,\"fill_color\":\"lightgrey\",\"group\":null,\"left_units\":\"screen\",\"level\":\"overlay\",\"line_alpha\":1.0,\"line_color\":\"black\",\"line_dash\":[4,4],\"line_width\":2,\"right_units\":\"screen\",\"syncable\":false,\"top_units\":\"screen\"},\"id\":\"46408\",\"type\":\"BoxAnnotation\"},{\"attributes\":{\"client_comm_id\":\"ae7c6f486e964cc1a7869a705e9f2229\",\"comm_id\":\"1f5832cc71f248e8bd59e80f1f2d86d2\",\"plot_id\":\"46378\"},\"id\":\"46488\",\"type\":\"panel.models.comm_manager.CommManager\"},{\"attributes\":{\"axis_label\":\"Minutes\",\"coordinates\":null,\"formatter\":{\"id\":\"46427\"},\"group\":null,\"major_label_policy\":{\"id\":\"46428\"},\"ticker\":{\"id\":\"46400\"}},\"id\":\"46399\",\"type\":\"LinearAxis\"},{\"attributes\":{\"label\":{\"field\":\"Variable\"},\"renderers\":[{\"id\":\"46423\"}]},\"id\":\"46436\",\"type\":\"LegendItem\"},{\"attributes\":{\"coordinates\":null,\"group\":null,\"text\":\"Active Minutes\",\"text_color\":\"black\",\"text_font_size\":\"12pt\"},\"id\":\"46388\",\"type\":\"Title\"},{\"attributes\":{},\"id\":\"46403\",\"type\":\"SaveTool\"},{\"attributes\":{\"children\":[{\"id\":\"46379\"}],\"margin\":[0,0,0,0],\"name\":\"Row136997\"},\"id\":\"46378\",\"type\":\"Row\"},{\"attributes\":{\"factors\":[\"0\",\"1\",\"2\",\"3\",\"4\",\"5\",\"6\",\"7\",\"8\",\"9\",\"10\",\"11\",\"12\",\"13\",\"14\",\"15\",\"16\",\"17\",\"18\",\"19\",\"20\",\"21\",\"22\",\"23\",\"24\"],\"tags\":[[[\"index\",\"index\",null]]]},\"id\":\"46384\",\"type\":\"FactorRange\"},{\"attributes\":{},\"id\":\"46405\",\"type\":\"WheelZoomTool\"},{\"attributes\":{},\"id\":\"46394\",\"type\":\"LinearScale\"},{\"attributes\":{},\"id\":\"46392\",\"type\":\"CategoricalScale\"},{\"attributes\":{},\"id\":\"46430\",\"type\":\"CategoricalTickFormatter\"},{\"attributes\":{\"margin\":[5,10,5,10],\"options\":[\"1503960366\",\"1644430081\",\"1844505072\",\"1927972279\",\"2026352035\",\"2320127002\",\"2347167796\",\"3977333714\",\"4020332650\",\"4319703577\",\"4388161847\",\"4445114986\",\"4558609924\",\"4702921684\",\"5553957443\",\"5577150313\",\"6117666160\",\"6775888955\",\"6962181067\",\"7007744171\",\"7086361926\",\"8053475328\",\"8378563200\",\"8792009665\"],\"title\":\"Select User\",\"value\":\"1503960366\"},\"id\":\"46382\",\"type\":\"panel.models.widgets.CustomSelect\"},{\"attributes\":{},\"id\":\"46418\",\"type\":\"Selection\"},{\"attributes\":{\"end\":1217.5,\"reset_end\":1217.5,\"reset_start\":0.0,\"tags\":[[[\"value\",\"value\",null]]]},\"id\":\"46385\",\"type\":\"Range1d\"},{\"attributes\":{\"coordinates\":null,\"group\":null,\"items\":[{\"id\":\"46436\"}],\"location\":[0,0]},\"id\":\"46435\",\"type\":\"Legend\"},{\"attributes\":{},\"id\":\"46404\",\"type\":\"PanTool\"},{\"attributes\":{},\"id\":\"46400\",\"type\":\"BasicTicker\"},{\"attributes\":{},\"id\":\"46431\",\"type\":\"AllLabels\"}],\"root_ids\":[\"46378\",\"46488\"]},\"title\":\"Bokeh Application\",\"version\":\"2.4.3\"}};\n",
       "    var render_items = [{\"docid\":\"b27d2e30-6c14-43fa-936a-c7c132f71c7d\",\"root_ids\":[\"46378\"],\"roots\":{\"46378\":\"8b5447e1-4aeb-4541-b420-3c30c7f497f2\"}}];\n",
       "    root.Bokeh.embed.embed_items_notebook(docs_json, render_items);\n",
       "    for (const render_item of render_items) {\n",
       "      for (const root_id of render_item.root_ids) {\n",
       "\tconst id_el = document.getElementById(root_id)\n",
       "\tif (id_el.children.length && (id_el.children[0].className === 'bk-root')) {\n",
       "\t  const root_el = id_el.children[0]\n",
       "\t  root_el.id = root_el.id + '-rendered'\n",
       "\t}\n",
       "      }\n",
       "    }\n",
       "  }\n",
       "  if (root.Bokeh !== undefined && root.Bokeh.Panel !== undefined && ( root['Tabulator'] !== undefined) && ( root['Tabulator'] !== undefined) && ( root['Tabulator'] !== undefined)) {\n",
       "    embed_document(root);\n",
       "  } else {\n",
       "    var attempts = 0;\n",
       "    var timer = setInterval(function(root) {\n",
       "      if (root.Bokeh !== undefined && root.Bokeh.Panel !== undefined && (root['Tabulator'] !== undefined) && (root['Tabulator'] !== undefined) && (root['Tabulator'] !== undefined)) {\n",
       "        clearInterval(timer);\n",
       "        embed_document(root);\n",
       "      } else if (document.readyState == \"complete\") {\n",
       "        attempts++;\n",
       "        if (attempts > 200) {\n",
       "          clearInterval(timer);\n",
       "          console.log(\"Bokeh: ERROR: Unable to run BokehJS code because BokehJS library is missing\");\n",
       "        }\n",
       "      }\n",
       "    }, 25, root)\n",
       "  }\n",
       "})(window);</script>"
      ],
      "text/plain": [
       "<hvplot.interactive.Interactive at 0x1c829f977d0>"
      ]
     },
     "execution_count": 161,
     "metadata": {
      "application/vnd.holoviews_exec.v0+json": {
       "id": "46378"
      }
     },
     "output_type": "execute_result"
    }
   ],
   "source": [
    "#Plot for the stacked bar chart\n",
    "\n",
    "activity_plot = actmin_pl.hvplot.bar(y=['VeryActiveMinutes', 'FairlyActiveMinutes', 'LightlyActiveMinutes', 'SedentaryMinutes'],\n",
    "                                    stacked=True, ylabel='Minutes', xlabel='Records', legend='right', title='Active Minutes')\n",
    "\n",
    "activity_plot"
   ]
  },
  {
   "cell_type": "markdown",
   "id": "4f8b831d-44ee-451b-aaab-ae83f30f1985",
   "metadata": {},
   "source": [
    "**2) Interactive dashboard**"
   ]
  },
  {
   "cell_type": "code",
   "execution_count": 162,
   "id": "cb5858c8-a781-4016-b71d-711583759a0e",
   "metadata": {},
   "outputs": [],
   "source": [
    "#Layout using template\n",
    "template = pn.template.FastListTemplate(\n",
    "    title = 'FitBit Performance Indicators',\n",
    "    sidebar=[pn.pane.Markdown('#  Improve Your Overall Health'),\n",
    "            pn.pane.Markdown('Tracking your health with a Fitbit watch is important because it provides valuable insights into your daily activities, helps you make informed decisions about your health, and can motivate you to be more active and make healthier choices.'),\n",
    "            pn.pane.PNG('Fitbit_image.png', sizing_mode='scale_both'),\n",
    "            pn.pane.Markdown('## Settings'),\n",
    "            Id_button, \n",
    "            pn.pane.Markdown(''),\n",
    "            Cat_button],\n",
    "    main = [pn.Row(\n",
    "        pn.Column(mean_clr.panel(width=150), margin=(25)),\n",
    "        pn.Column(mean_stps.panel(width=150), margin=(25)),\n",
    "        pn.Column(mean_dstnc.panel(width=150), margin=(25)), \n",
    "        pn.Column(mean_slp.panel(width=150), margin=(25))),\n",
    "            pn.Row(cal_plot.panel(width=900)),\n",
    "            pn.Row(\n",
    "        pn.Column(cat_plot.panel(width=900))),\n",
    "            pn.Row(\n",
    "        pn.Column(activity_plot.panel(width=900)))],\n",
    "    accent_base_color = '#759EB8',\n",
    "    header_background = '#759EB8',\n",
    "    sidebar_width=320\n",
    ")\n",
    "\n",
    "#template.show()\n",
    "#template.servable();"
   ]
  }
 ],
 "metadata": {
  "kernelspec": {
   "display_name": "Python 3 (ipykernel)",
   "language": "python",
   "name": "python3"
  },
  "language_info": {
   "codemirror_mode": {
    "name": "ipython",
    "version": 3
   },
   "file_extension": ".py",
   "mimetype": "text/x-python",
   "name": "python",
   "nbconvert_exporter": "python",
   "pygments_lexer": "ipython3",
   "version": "3.11.1"
  }
 },
 "nbformat": 4,
 "nbformat_minor": 5
}
