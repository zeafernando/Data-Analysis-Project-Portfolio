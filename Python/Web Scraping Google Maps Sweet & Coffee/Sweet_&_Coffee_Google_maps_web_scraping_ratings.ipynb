{
 "cells": [
  {
   "cell_type": "markdown",
   "id": "df71c2ba-b15d-42cb-b26e-7488df0cf798",
   "metadata": {},
   "source": [
    "**Importación de librerías requeridas**"
   ]
  },
  {
   "cell_type": "code",
   "execution_count": 1,
   "id": "abbc0449-88c0-4cff-9113-4e9841cca7bf",
   "metadata": {
    "tags": []
   },
   "outputs": [],
   "source": [
    "import pandas as pd\n",
    "import time\n",
    "from selenium import webdriver\n",
    "from webdriver_manager.chrome import ChromeDriverManager\n",
    "from bs4 import BeautifulSoup\n",
    "import pandas as pd\n",
    "from selenium.webdriver.common.by import By"
   ]
  },
  {
   "cell_type": "markdown",
   "id": "7e92bafb-3f5d-4a72-b53c-6abc55ecd82f",
   "metadata": {},
   "source": [
    "**Obtención de la información a través de Google Maps**"
   ]
  },
  {
   "cell_type": "code",
   "execution_count": 2,
   "id": "f8a4105a-b614-4c0e-9456-535f012f46b3",
   "metadata": {
    "tags": []
   },
   "outputs": [
    {
     "name": "stderr",
     "output_type": "stream",
     "text": [
      "C:\\Users\\PC\\AppData\\Local\\Temp\\ipykernel_13820\\2630589973.py:3: DeprecationWarning: executable_path has been deprecated, please pass in a Service object\n",
      "  driver = webdriver.Chrome(ChromeDriverManager().install())\n"
     ]
    },
    {
     "ename": "NoSuchElementException",
     "evalue": "Message: no such element: Unable to locate element: {\"method\":\"xpath\",\"selector\":\"//*[@id='QA0Szd']/div/div/div[1]/div[2]/div/div[1]/div/div/div[2]/div[1]/div[1]/div[2]/div/div[1]/div[2]/span[1]/span/span[1]\"}\n  (Session info: chrome=110.0.5481.178)\nStacktrace:\nBacktrace:\n\t(No symbol) [0x009037D3]\n\t(No symbol) [0x00898B81]\n\t(No symbol) [0x0079B36D]\n\t(No symbol) [0x007CD382]\n\t(No symbol) [0x007CD4BB]\n\t(No symbol) [0x00803302]\n\t(No symbol) [0x007EB464]\n\t(No symbol) [0x00801215]\n\t(No symbol) [0x007EB216]\n\t(No symbol) [0x007C0D97]\n\t(No symbol) [0x007C253D]\n\tGetHandleVerifier [0x00B7ABF2+2510930]\n\tGetHandleVerifier [0x00BA8EC1+2700065]\n\tGetHandleVerifier [0x00BAC86C+2714828]\n\tGetHandleVerifier [0x009B3480+645344]\n\t(No symbol) [0x008A0FD2]\n\t(No symbol) [0x008A6C68]\n\t(No symbol) [0x008A6D4B]\n\t(No symbol) [0x008B0D6B]\n\tBaseThreadInitThunk [0x7737F989+25]\n\tRtlGetAppContainerNamedObjectPath [0x77AF74B4+228]\n\tRtlGetAppContainerNamedObjectPath [0x77AF7484+180]\n",
     "output_type": "error",
     "traceback": [
      "\u001b[1;31m---------------------------------------------------------------------------\u001b[0m",
      "\u001b[1;31mNoSuchElementException\u001b[0m                    Traceback (most recent call last)",
      "Cell \u001b[1;32mIn[2], line 59\u001b[0m\n\u001b[0;32m     57\u001b[0m data_address \u001b[38;5;241m=\u001b[39m driver\u001b[38;5;241m.\u001b[39mfind_element(By\u001b[38;5;241m.\u001b[39mXPATH, \u001b[38;5;124m\"\u001b[39m\u001b[38;5;124m//*[@id=\u001b[39m\u001b[38;5;124m'\u001b[39m\u001b[38;5;124mQA0Szd\u001b[39m\u001b[38;5;124m'\u001b[39m\u001b[38;5;124m]/div/div/div[1]/div[2]/div/div[1]/div/div/div[9]/div[3]/button/div[1]/div[2]/div[1]\u001b[39m\u001b[38;5;124m\"\u001b[39m)\n\u001b[0;32m     58\u001b[0m info_address \u001b[38;5;241m=\u001b[39m data_address\u001b[38;5;241m.\u001b[39mtext\n\u001b[1;32m---> 59\u001b[0m data_rating \u001b[38;5;241m=\u001b[39m \u001b[43mdriver\u001b[49m\u001b[38;5;241;43m.\u001b[39;49m\u001b[43mfind_element\u001b[49m\u001b[43m(\u001b[49m\u001b[43mBy\u001b[49m\u001b[38;5;241;43m.\u001b[39;49m\u001b[43mXPATH\u001b[49m\u001b[43m,\u001b[49m\u001b[43m \u001b[49m\u001b[38;5;124;43m\"\u001b[39;49m\u001b[38;5;124;43m//*[@id=\u001b[39;49m\u001b[38;5;124;43m'\u001b[39;49m\u001b[38;5;124;43mQA0Szd\u001b[39;49m\u001b[38;5;124;43m'\u001b[39;49m\u001b[38;5;124;43m]/div/div/div[1]/div[2]/div/div[1]/div/div/div[2]/div[1]/div[1]/div[2]/div/div[1]/div[2]/span[1]/span/span[1]\u001b[39;49m\u001b[38;5;124;43m\"\u001b[39;49m\u001b[43m)\u001b[49m\n\u001b[0;32m     60\u001b[0m info_rating \u001b[38;5;241m=\u001b[39m data_rating\u001b[38;5;241m.\u001b[39mtext\n\u001b[0;32m     61\u001b[0m full_info\u001b[38;5;241m.\u001b[39mappend({\u001b[38;5;124m\"\u001b[39m\u001b[38;5;124msweet_name\u001b[39m\u001b[38;5;124m\"\u001b[39m: sweet[\u001b[38;5;124m\"\u001b[39m\u001b[38;5;124msweet_name\u001b[39m\u001b[38;5;124m\"\u001b[39m], \u001b[38;5;124m\"\u001b[39m\u001b[38;5;124maddress\u001b[39m\u001b[38;5;124m\"\u001b[39m: info_address ,\u001b[38;5;124m\"\u001b[39m\u001b[38;5;124mrating\u001b[39m\u001b[38;5;124m\"\u001b[39m: info_rating})\n",
      "File \u001b[1;32m~\\AppData\\Local\\Programs\\Python\\Python311\\Lib\\site-packages\\selenium\\webdriver\\remote\\webdriver.py:830\u001b[0m, in \u001b[0;36mWebDriver.find_element\u001b[1;34m(self, by, value)\u001b[0m\n\u001b[0;32m    827\u001b[0m     by \u001b[38;5;241m=\u001b[39m By\u001b[38;5;241m.\u001b[39mCSS_SELECTOR\n\u001b[0;32m    828\u001b[0m     value \u001b[38;5;241m=\u001b[39m \u001b[38;5;124mf\u001b[39m\u001b[38;5;124m'\u001b[39m\u001b[38;5;124m[name=\u001b[39m\u001b[38;5;124m\"\u001b[39m\u001b[38;5;132;01m{\u001b[39;00mvalue\u001b[38;5;132;01m}\u001b[39;00m\u001b[38;5;124m\"\u001b[39m\u001b[38;5;124m]\u001b[39m\u001b[38;5;124m'\u001b[39m\n\u001b[1;32m--> 830\u001b[0m \u001b[38;5;28;01mreturn\u001b[39;00m \u001b[38;5;28;43mself\u001b[39;49m\u001b[38;5;241;43m.\u001b[39;49m\u001b[43mexecute\u001b[49m\u001b[43m(\u001b[49m\u001b[43mCommand\u001b[49m\u001b[38;5;241;43m.\u001b[39;49m\u001b[43mFIND_ELEMENT\u001b[49m\u001b[43m,\u001b[49m\u001b[43m \u001b[49m\u001b[43m{\u001b[49m\u001b[38;5;124;43m\"\u001b[39;49m\u001b[38;5;124;43musing\u001b[39;49m\u001b[38;5;124;43m\"\u001b[39;49m\u001b[43m:\u001b[49m\u001b[43m \u001b[49m\u001b[43mby\u001b[49m\u001b[43m,\u001b[49m\u001b[43m \u001b[49m\u001b[38;5;124;43m\"\u001b[39;49m\u001b[38;5;124;43mvalue\u001b[39;49m\u001b[38;5;124;43m\"\u001b[39;49m\u001b[43m:\u001b[49m\u001b[43m \u001b[49m\u001b[43mvalue\u001b[49m\u001b[43m}\u001b[49m\u001b[43m)\u001b[49m[\u001b[38;5;124m\"\u001b[39m\u001b[38;5;124mvalue\u001b[39m\u001b[38;5;124m\"\u001b[39m]\n",
      "File \u001b[1;32m~\\AppData\\Local\\Programs\\Python\\Python311\\Lib\\site-packages\\selenium\\webdriver\\remote\\webdriver.py:440\u001b[0m, in \u001b[0;36mWebDriver.execute\u001b[1;34m(self, driver_command, params)\u001b[0m\n\u001b[0;32m    438\u001b[0m response \u001b[38;5;241m=\u001b[39m \u001b[38;5;28mself\u001b[39m\u001b[38;5;241m.\u001b[39mcommand_executor\u001b[38;5;241m.\u001b[39mexecute(driver_command, params)\n\u001b[0;32m    439\u001b[0m \u001b[38;5;28;01mif\u001b[39;00m response:\n\u001b[1;32m--> 440\u001b[0m     \u001b[38;5;28;43mself\u001b[39;49m\u001b[38;5;241;43m.\u001b[39;49m\u001b[43merror_handler\u001b[49m\u001b[38;5;241;43m.\u001b[39;49m\u001b[43mcheck_response\u001b[49m\u001b[43m(\u001b[49m\u001b[43mresponse\u001b[49m\u001b[43m)\u001b[49m\n\u001b[0;32m    441\u001b[0m     response[\u001b[38;5;124m\"\u001b[39m\u001b[38;5;124mvalue\u001b[39m\u001b[38;5;124m\"\u001b[39m] \u001b[38;5;241m=\u001b[39m \u001b[38;5;28mself\u001b[39m\u001b[38;5;241m.\u001b[39m_unwrap_value(response\u001b[38;5;241m.\u001b[39mget(\u001b[38;5;124m\"\u001b[39m\u001b[38;5;124mvalue\u001b[39m\u001b[38;5;124m\"\u001b[39m, \u001b[38;5;28;01mNone\u001b[39;00m))\n\u001b[0;32m    442\u001b[0m     \u001b[38;5;28;01mreturn\u001b[39;00m response\n",
      "File \u001b[1;32m~\\AppData\\Local\\Programs\\Python\\Python311\\Lib\\site-packages\\selenium\\webdriver\\remote\\errorhandler.py:245\u001b[0m, in \u001b[0;36mErrorHandler.check_response\u001b[1;34m(self, response)\u001b[0m\n\u001b[0;32m    243\u001b[0m         alert_text \u001b[38;5;241m=\u001b[39m value[\u001b[38;5;124m\"\u001b[39m\u001b[38;5;124malert\u001b[39m\u001b[38;5;124m\"\u001b[39m]\u001b[38;5;241m.\u001b[39mget(\u001b[38;5;124m\"\u001b[39m\u001b[38;5;124mtext\u001b[39m\u001b[38;5;124m\"\u001b[39m)\n\u001b[0;32m    244\u001b[0m     \u001b[38;5;28;01mraise\u001b[39;00m exception_class(message, screen, stacktrace, alert_text)  \u001b[38;5;66;03m# type: ignore[call-arg]  # mypy is not smart enough here\u001b[39;00m\n\u001b[1;32m--> 245\u001b[0m \u001b[38;5;28;01mraise\u001b[39;00m exception_class(message, screen, stacktrace)\n",
      "\u001b[1;31mNoSuchElementException\u001b[0m: Message: no such element: Unable to locate element: {\"method\":\"xpath\",\"selector\":\"//*[@id='QA0Szd']/div/div/div[1]/div[2]/div/div[1]/div/div/div[2]/div[1]/div[1]/div[2]/div/div[1]/div[2]/span[1]/span/span[1]\"}\n  (Session info: chrome=110.0.5481.178)\nStacktrace:\nBacktrace:\n\t(No symbol) [0x009037D3]\n\t(No symbol) [0x00898B81]\n\t(No symbol) [0x0079B36D]\n\t(No symbol) [0x007CD382]\n\t(No symbol) [0x007CD4BB]\n\t(No symbol) [0x00803302]\n\t(No symbol) [0x007EB464]\n\t(No symbol) [0x00801215]\n\t(No symbol) [0x007EB216]\n\t(No symbol) [0x007C0D97]\n\t(No symbol) [0x007C253D]\n\tGetHandleVerifier [0x00B7ABF2+2510930]\n\tGetHandleVerifier [0x00BA8EC1+2700065]\n\tGetHandleVerifier [0x00BAC86C+2714828]\n\tGetHandleVerifier [0x009B3480+645344]\n\t(No symbol) [0x008A0FD2]\n\t(No symbol) [0x008A6C68]\n\t(No symbol) [0x008A6D4B]\n\t(No symbol) [0x008B0D6B]\n\tBaseThreadInitThunk [0x7737F989+25]\n\tRtlGetAppContainerNamedObjectPath [0x77AF74B4+228]\n\tRtlGetAppContainerNamedObjectPath [0x77AF7484+180]\n"
     ]
    }
   ],
   "source": [
    "# Creación del driver\n",
    "\n",
    "driver = webdriver.Chrome(ChromeDriverManager().install())\n",
    "\n",
    "# Link de Google Maps con la busqueda especificada\n",
    "\n",
    "page_url = \"https://www.google.com.ec/maps/search/Sweet+%26+Coffee+en+Guayaquil/@-2.1832438,-79.9698488,13z/data=!3m1!4b1?hl=es\"\n",
    "\n",
    "# Obtención del link\n",
    "\n",
    "driver.get(page_url)\n",
    "\n",
    "# Agrandado de pantalla\n",
    "\n",
    "driver.maximize_window()\n",
    "\n",
    "# Obtención de cada Sweet & Coffee de Guayaquil\n",
    "\n",
    "time.sleep(2)\n",
    "\n",
    "map_div = driver.find_element(By.XPATH,'//*[@id=\"QA0Szd\"]/div/div/div[1]/div[2]/div/div[1]/div/div/div[2]/div[1]')\n",
    "\n",
    "# Scroll down hasta cargar toda la información disponible\n",
    "\n",
    "for i in range(23):\n",
    "    driver.execute_script(\"arguments[0].scrollBy(0, 1000);\", map_div)\n",
    "    time.sleep(3)\n",
    "\n",
    "time.sleep(2)\n",
    "\n",
    "# Extracción del HTML de los resultados de la búsqueda\n",
    "\n",
    "soup = BeautifulSoup(driver.page_source, \"html.parser\")\n",
    "\n",
    "# Encontrar todos los elementos de los resultados de la búsqueda\n",
    "\n",
    "items = driver.find_elements(By.CLASS_NAME, \"hfpxzc\")\n",
    "\n",
    "# Obtención de cada uno de los Sweet & Coffee disponibles en GYE (nombre y url que contiene la dirección)\n",
    "\n",
    "sweets = []\n",
    "\n",
    "for item in items:\n",
    "    sweet_url = item.get_attribute(\"href\")\n",
    "    sweet_name = item.get_attribute(\"aria-label\")\n",
    "    sweets.append({\"sweet_name\": sweet_name, \"url\": sweet_url })\n",
    "\n",
    "# Obtención de las direcciones\n",
    "    \n",
    "full_info = []\n",
    "\n",
    "for sweet in sweets:\n",
    "    if sweet == sweets[-1]:\n",
    "        break\n",
    "    else:\n",
    "        driver.get(sweet[\"url\"])\n",
    "        data_address = driver.find_element(By.XPATH, \"//*[@id='QA0Szd']/div/div/div[1]/div[2]/div/div[1]/div/div/div[9]/div[3]/button/div[1]/div[2]/div[1]\")\n",
    "        info_address = data_address.text\n",
    "        data_rating = driver.find_element(By.XPATH, \"//*[@id='QA0Szd']/div/div/div[1]/div[2]/div/div[1]/div/div/div[2]/div[1]/div[1]/div[2]/div/div[1]/div[2]/span[1]/span/span[1]\")\n",
    "        info_rating = data_rating.text\n",
    "        full_info.append({\"sweet_name\": sweet[\"sweet_name\"], \"address\": info_address ,\"rating\": info_rating})"
   ]
  },
  {
   "cell_type": "markdown",
   "id": "81d1f25c-7a04-4905-92f2-b4019445c04f",
   "metadata": {},
   "source": [
    "**Extracción de información para limpieza posterior**"
   ]
  },
  {
   "cell_type": "code",
   "execution_count": 3,
   "id": "bcbfa2a9-b6e5-4088-b70e-17b14a3acbc4",
   "metadata": {
    "tags": []
   },
   "outputs": [],
   "source": [
    "# Creación del dataframe con la información requerida\n",
    "\n",
    "list_of_dicts = []\n",
    "\n",
    "for inf in full_info:\n",
    "    name = inf[\"sweet_name\"]\n",
    "    zip_code = inf[\"address\"][-6:]\n",
    "    location = inf[\"address\"][:-6]\n",
    "    list_of_dicts.append({\"name\": name, \"location\": location, \"zip_code\": zip_code , \"rating\": inf[\"rating\"]})\n",
    "    \n",
    "df = pd.DataFrame(list_of_dicts)"
   ]
  },
  {
   "cell_type": "code",
   "execution_count": 4,
   "id": "feb9125f-49b2-43d6-a170-182a27429859",
   "metadata": {
    "tags": []
   },
   "outputs": [
    {
     "data": {
      "text/html": [
       "<div>\n",
       "<style scoped>\n",
       "    .dataframe tbody tr th:only-of-type {\n",
       "        vertical-align: middle;\n",
       "    }\n",
       "\n",
       "    .dataframe tbody tr th {\n",
       "        vertical-align: top;\n",
       "    }\n",
       "\n",
       "    .dataframe thead th {\n",
       "        text-align: right;\n",
       "    }\n",
       "</style>\n",
       "<table border=\"1\" class=\"dataframe\">\n",
       "  <thead>\n",
       "    <tr style=\"text-align: right;\">\n",
       "      <th></th>\n",
       "      <th>name</th>\n",
       "      <th>location</th>\n",
       "      <th>zip_code</th>\n",
       "      <th>rating</th>\n",
       "    </tr>\n",
       "  </thead>\n",
       "  <tbody>\n",
       "    <tr>\n",
       "      <th>0</th>\n",
       "      <td>Sweet &amp; Coffee - Primax 25 Julio</td>\n",
       "      <td>Av. 25 de Julio y Ernesto Albán Mosquera Prima...</td>\n",
       "      <td>090102</td>\n",
       "      <td>4,7</td>\n",
       "    </tr>\n",
       "    <tr>\n",
       "      <th>1</th>\n",
       "      <td>Sweet &amp; Coffee - Urdesa</td>\n",
       "      <td>C. 9 NO, Guayaquil</td>\n",
       "      <td>090511</td>\n",
       "      <td>4,7</td>\n",
       "    </tr>\n",
       "    <tr>\n",
       "      <th>2</th>\n",
       "      <td>Sweet &amp; Coffee - 9 de Octubre</td>\n",
       "      <td>Av. 9 de Octubre y, Av. José de Antepara, Guay...</td>\n",
       "      <td>090311</td>\n",
       "      <td>4,6</td>\n",
       "    </tr>\n",
       "    <tr>\n",
       "      <th>3</th>\n",
       "      <td>Sweet &amp; Coffee - Bahía Malecón</td>\n",
       "      <td>Malecón Simón Bolívar entre Sucre y Cristobal ...</td>\n",
       "      <td>090313</td>\n",
       "      <td>4,6</td>\n",
       "    </tr>\n",
       "    <tr>\n",
       "      <th>4</th>\n",
       "      <td>Sweet &amp; Coffee</td>\n",
       "      <td>Guayaquil</td>\n",
       "      <td>090513</td>\n",
       "      <td>4,6</td>\n",
       "    </tr>\n",
       "    <tr>\n",
       "      <th>...</th>\n",
       "      <td>...</td>\n",
       "      <td>...</td>\n",
       "      <td>...</td>\n",
       "      <td>...</td>\n",
       "    </tr>\n",
       "    <tr>\n",
       "      <th>62</th>\n",
       "      <td>Sweet and coffee</td>\n",
       "      <td>R4G2+HF2, Av del Periodista, Guayaquil</td>\n",
       "      <td>090512</td>\n",
       "      <td>5,0</td>\n",
       "    </tr>\n",
       "    <tr>\n",
       "      <th>63</th>\n",
       "      <td>Sweet &amp; Coffee - Primax Nexus</td>\n",
       "      <td>Autop. Narcisa de Jesús, Guayaquil</td>\n",
       "      <td>090703</td>\n",
       "      <td>4,8</td>\n",
       "    </tr>\n",
       "    <tr>\n",
       "      <th>64</th>\n",
       "      <td>Sweet &amp; Coffee • Plaza Lagos</td>\n",
       "      <td>Km. 6.5 Vía a La Aurora Plaza Lagos Town Cente...</td>\n",
       "      <td>092302</td>\n",
       "      <td>4,7</td>\n",
       "    </tr>\n",
       "    <tr>\n",
       "      <th>65</th>\n",
       "      <td>Sweet &amp; Coffee - Primax Equitransa</td>\n",
       "      <td>Av León Febres Cordero Ribadeneyra, Guayaquil</td>\n",
       "      <td>091910</td>\n",
       "      <td>5,0</td>\n",
       "    </tr>\n",
       "    <tr>\n",
       "      <th>66</th>\n",
       "      <td>Sweet &amp; Coffee - Village Plaza Isla</td>\n",
       "      <td>Av. Samborondón Km 2.5 C.C. Village Plaza, pla...</td>\n",
       "      <td>092301</td>\n",
       "      <td>4,6</td>\n",
       "    </tr>\n",
       "  </tbody>\n",
       "</table>\n",
       "<p>67 rows × 4 columns</p>\n",
       "</div>"
      ],
      "text/plain": [
       "                                   name  \\\n",
       "0      Sweet & Coffee - Primax 25 Julio   \n",
       "1               Sweet & Coffee - Urdesa   \n",
       "2         Sweet & Coffee - 9 de Octubre   \n",
       "3        Sweet & Coffee - Bahía Malecón   \n",
       "4                        Sweet & Coffee   \n",
       "..                                  ...   \n",
       "62                     Sweet and coffee   \n",
       "63        Sweet & Coffee - Primax Nexus   \n",
       "64         Sweet & Coffee • Plaza Lagos   \n",
       "65   Sweet & Coffee - Primax Equitransa   \n",
       "66  Sweet & Coffee - Village Plaza Isla   \n",
       "\n",
       "                                             location zip_code rating  \n",
       "0   Av. 25 de Julio y Ernesto Albán Mosquera Prima...   090102    4,7  \n",
       "1                                 C. 9 NO, Guayaquil    090511    4,7  \n",
       "2   Av. 9 de Octubre y, Av. José de Antepara, Guay...   090311    4,6  \n",
       "3   Malecón Simón Bolívar entre Sucre y Cristobal ...   090313    4,6  \n",
       "4                                          Guayaquil    090513    4,6  \n",
       "..                                                ...      ...    ...  \n",
       "62            R4G2+HF2, Av del Periodista, Guayaquil    090512    5,0  \n",
       "63                Autop. Narcisa de Jesús, Guayaquil    090703    4,8  \n",
       "64  Km. 6.5 Vía a La Aurora Plaza Lagos Town Cente...   092302    4,7  \n",
       "65     Av León Febres Cordero Ribadeneyra, Guayaquil    091910    5,0  \n",
       "66  Av. Samborondón Km 2.5 C.C. Village Plaza, pla...   092301    4,6  \n",
       "\n",
       "[67 rows x 4 columns]"
      ]
     },
     "execution_count": 4,
     "metadata": {},
     "output_type": "execute_result"
    }
   ],
   "source": [
    "df"
   ]
  },
  {
   "cell_type": "markdown",
   "id": "3643ec1f-53f3-46fa-9941-a5ff99cfbbbf",
   "metadata": {},
   "source": [
    "**Guardado de información**"
   ]
  },
  {
   "cell_type": "code",
   "execution_count": 5,
   "id": "136f031a-43fd-4c6f-b647-9f2199728fe5",
   "metadata": {
    "tags": []
   },
   "outputs": [],
   "source": [
    "# Creación del csv que será utilizado para la visualización de la data\n",
    "\n",
    "df.to_csv(\"sweet_&_coffee_data_set_new.csv\",index=False)"
   ]
  },
  {
   "cell_type": "markdown",
   "id": "48d8e069-2d68-4b04-999b-438a3e2470ea",
   "metadata": {},
   "source": [
    "**Finalización del código**"
   ]
  },
  {
   "cell_type": "code",
   "execution_count": 6,
   "id": "1a7ac108-a8f1-4b80-9ea2-89fc0a1560bd",
   "metadata": {
    "tags": []
   },
   "outputs": [
    {
     "data": {
      "text/plain": [
       "<bound method ChromiumDriver.quit of <selenium.webdriver.chrome.webdriver.WebDriver (session=\"ff20ebd90561ac31727cf3b311bb162a\")>>"
      ]
     },
     "execution_count": 6,
     "metadata": {},
     "output_type": "execute_result"
    }
   ],
   "source": [
    "# Finalización del driver\n",
    "\n",
    "driver.quit"
   ]
  }
 ],
 "metadata": {
  "kernelspec": {
   "display_name": "Python 3 (ipykernel)",
   "language": "python",
   "name": "python3"
  },
  "language_info": {
   "codemirror_mode": {
    "name": "ipython",
    "version": 3
   },
   "file_extension": ".py",
   "mimetype": "text/x-python",
   "name": "python",
   "nbconvert_exporter": "python",
   "pygments_lexer": "ipython3",
   "version": "3.11.2"
  }
 },
 "nbformat": 4,
 "nbformat_minor": 5
}
